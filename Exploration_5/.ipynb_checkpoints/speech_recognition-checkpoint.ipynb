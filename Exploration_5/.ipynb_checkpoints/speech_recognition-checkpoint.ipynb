{
 "cells": [
  {
   "cell_type": "code",
   "execution_count": 1,
   "id": "virgin-adolescent",
   "metadata": {},
   "outputs": [],
   "source": [
    "import numpy as np\n",
    "import os\n",
    "\n",
    "data_path = os.getenv(\"HOME\")+'/aiffel/speech_recognition/data/speech_wav_8000.npz'\n",
    "speech_data = np.load(data_path)"
   ]
  },
  {
   "cell_type": "code",
   "execution_count": 3,
   "id": "flush-bandwidth",
   "metadata": {},
   "outputs": [
    {
     "name": "stdout",
     "output_type": "stream",
     "text": [
      "Wave data shape :  (50620, 8000)\n",
      "Label data shape :  (50620, 1)\n",
      "✅\n"
     ]
    }
   ],
   "source": [
    "print(\"Wave data shape : \", speech_data[\"wav_vals\"].shape)\n",
    "print(\"Label data shape : \", speech_data[\"label_vals\"].shape)\n",
    "print(\"✅\")"
   ]
  },
  {
   "cell_type": "code",
   "execution_count": 3,
   "id": "discrete-maker",
   "metadata": {},
   "outputs": [
    {
     "name": "stdout",
     "output_type": "stream",
     "text": [
      "rand num :  33406\n",
      "Wave data shape :  (8000,)\n",
      "label :  ['on']\n"
     ]
    },
    {
     "data": {
      "text/html": [
       "\n",
       "                <audio  controls=\"controls\" >\n",
       "                    <source src=\"data:audio/wav;base64,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\" type=\"audio/wav\" />\n",
       "                    Your browser does not support the audio element.\n",
       "                </audio>\n",
       "              "
      ],
      "text/plain": [
       "<IPython.lib.display.Audio object>"
      ]
     },
     "execution_count": 3,
     "metadata": {},
     "output_type": "execute_result"
    }
   ],
   "source": [
    "import IPython.display as ipd\n",
    "import random\n",
    "\n",
    "# 데이터 선택 (랜덤하게 선택하고 있으니, 여러번 실행해 보세요)\n",
    "rand = random.randint(0, len(speech_data[\"wav_vals\"]))\n",
    "print(\"rand num : \", rand)\n",
    "\n",
    "sr = 8000 # 1초동안 재생되는 샘플의 갯수\n",
    "data = speech_data[\"wav_vals\"][rand]\n",
    "print(\"Wave data shape : \", data.shape)\n",
    "print(\"label : \", speech_data[\"label_vals\"][rand])\n",
    "\n",
    "ipd.Audio(data, rate=sr)"
   ]
  },
  {
   "cell_type": "markdown",
   "id": "pressed-clause",
   "metadata": {},
   "source": [
    "# 1. Label Data 구성하기"
   ]
  },
  {
   "cell_type": "code",
   "execution_count": 4,
   "id": "helpful-strike",
   "metadata": {},
   "outputs": [
    {
     "name": "stdout",
     "output_type": "stream",
     "text": [
      "LABEL :  ['yes', 'no', 'up', 'down', 'left', 'right', 'on', 'off', 'stop', 'go', 'unknown', 'silence']\n",
      "Indexed LABEL :  {'yes': 0, 'no': 1, 'up': 2, 'down': 3, 'left': 4, 'right': 5, 'on': 6, 'off': 7, 'stop': 8, 'go': 9, 'unknown': 10, 'silence': 11}\n"
     ]
    }
   ],
   "source": [
    "target_list = ['yes', 'no', 'up', 'down', 'left', 'right', 'on', 'off', 'stop', 'go']\n",
    "\n",
    "label_value = target_list\n",
    "label_value.append('unknown')\n",
    "label_value.append('silence')\n",
    "\n",
    "print('LABEL : ', label_value)\n",
    "\n",
    "new_label_value = dict()\n",
    "for i, l in enumerate(label_value):\n",
    "    new_label_value[l] = i\n",
    "label_value = new_label_value\n",
    "\n",
    "print('Indexed LABEL : ', new_label_value)"
   ]
  },
  {
   "cell_type": "code",
   "execution_count": 5,
   "id": "considerable-leonard",
   "metadata": {},
   "outputs": [
    {
     "data": {
      "text/plain": [
       "array([ 3,  3,  3, ..., 11, 11, 11])"
      ]
     },
     "execution_count": 5,
     "metadata": {},
     "output_type": "execute_result"
    }
   ],
   "source": [
    "temp = []\n",
    "for v in speech_data[\"label_vals\"]:\n",
    "    temp.append(label_value[v[0]])\n",
    "label_data = np.array(temp)\n",
    "\n",
    "label_data"
   ]
  },
  {
   "cell_type": "markdown",
   "id": "statewide-welcome",
   "metadata": {},
   "source": [
    "# 2. 데이터 분리"
   ]
  },
  {
   "cell_type": "code",
   "execution_count": 6,
   "id": "minor-reasoning",
   "metadata": {},
   "outputs": [
    {
     "name": "stdout",
     "output_type": "stream",
     "text": [
      "[[ 2.8551822e-03  4.2691887e-03 -3.6907918e-04 ...  2.9391185e-03\n",
      "   2.6625530e-03 -8.3414081e-04]\n",
      " [ 1.5371372e-03  1.8624262e-03  1.9701379e-03 ...  3.1180053e-03\n",
      "   3.2218434e-03  2.9762813e-03]\n",
      " [ 3.1822510e-05 -1.2303161e-04 -1.5143055e-04 ...  2.5141822e-05\n",
      "   2.0216922e-04 -5.7577363e-05]\n",
      " ...\n",
      " [ 3.4661440e-04  4.2785956e-03  5.6895204e-03 ... -3.5363794e-03\n",
      "  -3.2879750e-03 -2.0483469e-03]\n",
      " [-2.4129637e-04 -5.3547334e-04 -8.6718955e-04 ...  1.9496352e-03\n",
      "   1.5004550e-03  1.0852311e-03]\n",
      " [ 6.4011314e-04  1.3815425e-04 -4.9119629e-03 ...  2.2897872e-03\n",
      "  -1.0285743e-03 -7.1329963e-03]]\n",
      "✅\n"
     ]
    }
   ],
   "source": [
    "from sklearn.model_selection import train_test_split\n",
    "\n",
    "sr = 8000\n",
    "train_wav, test_wav, train_label, test_label = train_test_split(speech_data[\"wav_vals\"], \n",
    "                                                                label_data, \n",
    "                                                                test_size=0.1,\n",
    "                                                                shuffle=True)\n",
    "print(train_wav)\n",
    "\n",
    "train_wav = train_wav.reshape([-1, sr, 1]) # add channel for CNN\n",
    "test_wav = test_wav.reshape([-1, sr, 1])\n",
    "print(\"✅\")"
   ]
  },
  {
   "cell_type": "code",
   "execution_count": 7,
   "id": "certified-rover",
   "metadata": {},
   "outputs": [
    {
     "name": "stdout",
     "output_type": "stream",
     "text": [
      "train data :  (45558, 8000, 1)\n",
      "train labels :  (45558,)\n",
      "test data :  (5062, 8000, 1)\n",
      "test labels :  (5062,)\n",
      "✅\n"
     ]
    }
   ],
   "source": [
    "print(\"train data : \", train_wav.shape)\n",
    "print(\"train labels : \", train_label.shape)\n",
    "print(\"test data : \", test_wav.shape)\n",
    "print(\"test labels : \", test_label.shape)\n",
    "print(\"✅\")"
   ]
  },
  {
   "cell_type": "markdown",
   "id": "obvious-luxembourg",
   "metadata": {},
   "source": [
    "# 3. Hyper-parameters setting"
   ]
  },
  {
   "cell_type": "code",
   "execution_count": 8,
   "id": "silent-appointment",
   "metadata": {},
   "outputs": [
    {
     "data": {
      "text/plain": [
       "'/home/aiffel-dj53/aiffel/speech_recognition/models/wav'"
      ]
     },
     "execution_count": 8,
     "metadata": {},
     "output_type": "execute_result"
    }
   ],
   "source": [
    "batch_size = 32\n",
    "max_epochs = 10\n",
    "\n",
    "# the save point\n",
    "checkpoint_dir = os.getenv('HOME')+'/aiffel/speech_recognition/models/wav'\n",
    "\n",
    "checkpoint_dir"
   ]
  },
  {
   "cell_type": "markdown",
   "id": "infrared-trance",
   "metadata": {},
   "source": [
    "# 4. tf.data.Dataset을 이용한 데이터셋 구성"
   ]
  },
  {
   "cell_type": "code",
   "execution_count": 9,
   "id": "clean-jamaica",
   "metadata": {},
   "outputs": [
    {
     "name": "stdout",
     "output_type": "stream",
     "text": [
      "✅\n"
     ]
    }
   ],
   "source": [
    "def one_hot_label(wav, label):\n",
    "    label = tf.one_hot(label, depth=12)\n",
    "    return wav, label\n",
    "print(\"✅\")"
   ]
  },
  {
   "cell_type": "code",
   "execution_count": 10,
   "id": "frozen-backing",
   "metadata": {},
   "outputs": [
    {
     "name": "stdout",
     "output_type": "stream",
     "text": [
      "<BatchDataset shapes: ((None, 8000, 1), (None, 12)), types: (tf.float32, tf.float32)>\n",
      "<BatchDataset shapes: ((None, 8000, 1), (None, 12)), types: (tf.float32, tf.float32)>\n",
      "✅\n"
     ]
    }
   ],
   "source": [
    "import tensorflow as tf\n",
    "\n",
    "# for train\n",
    "train_dataset = tf.data.Dataset.from_tensor_slices((train_wav, train_label))\n",
    "train_dataset = train_dataset.map(one_hot_label)\n",
    "train_dataset = train_dataset.repeat().batch(batch_size=batch_size)\n",
    "print(train_dataset)\n",
    "\n",
    "# for test\n",
    "test_dataset = tf.data.Dataset.from_tensor_slices((test_wav, test_label))\n",
    "test_dataset = test_dataset.map(one_hot_label)\n",
    "test_dataset = test_dataset.batch(batch_size=batch_size)\n",
    "print(test_dataset)\n",
    "print(\"✅\")"
   ]
  },
  {
   "cell_type": "markdown",
   "id": "specific-token",
   "metadata": {},
   "source": [
    "# 5. Wave Classification Model 구현"
   ]
  },
  {
   "cell_type": "code",
   "execution_count": 11,
   "id": "mysterious-battlefield",
   "metadata": {},
   "outputs": [
    {
     "name": "stdout",
     "output_type": "stream",
     "text": [
      "Model: \"model\"\n",
      "_________________________________________________________________\n",
      "Layer (type)                 Output Shape              Param #   \n",
      "=================================================================\n",
      "input_1 (InputLayer)         [(None, 8000, 1)]         0         \n",
      "_________________________________________________________________\n",
      "conv1d (Conv1D)              (None, 8000, 32)          320       \n",
      "_________________________________________________________________\n",
      "conv1d_1 (Conv1D)            (None, 8000, 32)          9248      \n",
      "_________________________________________________________________\n",
      "max_pooling1d (MaxPooling1D) (None, 4000, 32)          0         \n",
      "_________________________________________________________________\n",
      "conv1d_2 (Conv1D)            (None, 4000, 64)          18496     \n",
      "_________________________________________________________________\n",
      "conv1d_3 (Conv1D)            (None, 4000, 64)          36928     \n",
      "_________________________________________________________________\n",
      "max_pooling1d_1 (MaxPooling1 (None, 2000, 64)          0         \n",
      "_________________________________________________________________\n",
      "conv1d_4 (Conv1D)            (None, 2000, 128)         73856     \n",
      "_________________________________________________________________\n",
      "conv1d_5 (Conv1D)            (None, 2000, 128)         147584    \n",
      "_________________________________________________________________\n",
      "conv1d_6 (Conv1D)            (None, 2000, 128)         147584    \n",
      "_________________________________________________________________\n",
      "max_pooling1d_2 (MaxPooling1 (None, 1000, 128)         0         \n",
      "_________________________________________________________________\n",
      "conv1d_7 (Conv1D)            (None, 1000, 256)         295168    \n",
      "_________________________________________________________________\n",
      "conv1d_8 (Conv1D)            (None, 1000, 256)         590080    \n",
      "_________________________________________________________________\n",
      "conv1d_9 (Conv1D)            (None, 1000, 256)         590080    \n",
      "_________________________________________________________________\n",
      "max_pooling1d_3 (MaxPooling1 (None, 500, 256)          0         \n",
      "_________________________________________________________________\n",
      "dropout (Dropout)            (None, 500, 256)          0         \n",
      "_________________________________________________________________\n",
      "flatten (Flatten)            (None, 128000)            0         \n",
      "_________________________________________________________________\n",
      "dense (Dense)                (None, 256)               32768256  \n",
      "_________________________________________________________________\n",
      "batch_normalization (BatchNo (None, 256)               1024      \n",
      "_________________________________________________________________\n",
      "activation (Activation)      (None, 256)               0         \n",
      "_________________________________________________________________\n",
      "dense_1 (Dense)              (None, 12)                3084      \n",
      "=================================================================\n",
      "Total params: 34,681,708\n",
      "Trainable params: 34,681,196\n",
      "Non-trainable params: 512\n",
      "_________________________________________________________________\n"
     ]
    }
   ],
   "source": [
    "from tensorflow.keras import layers\n",
    "\n",
    "input_tensor = layers.Input(shape=(sr, 1))\n",
    "\n",
    "x = layers.Conv1D(32, 9, padding='same', activation='relu')(input_tensor)\n",
    "x = layers.Conv1D(32, 9, padding='same', activation='relu')(x)\n",
    "x = layers.MaxPool1D()(x)\n",
    "\n",
    "x = layers.Conv1D(64, 9, padding='same', activation='relu')(x)\n",
    "x = layers.Conv1D(64, 9, padding='same', activation='relu')(x)\n",
    "x = layers.MaxPool1D()(x)\n",
    "\n",
    "x = layers.Conv1D(128, 9, padding='same', activation='relu')(x)\n",
    "x = layers.Conv1D(128, 9, padding='same', activation='relu')(x)\n",
    "x = layers.Conv1D(128, 9, padding='same', activation='relu')(x)\n",
    "x = layers.MaxPool1D()(x)\n",
    "\n",
    "x = layers.Conv1D(256, 9, padding='same', activation='relu')(x)\n",
    "x = layers.Conv1D(256, 9, padding='same', activation='relu')(x)\n",
    "x = layers.Conv1D(256, 9, padding='same', activation='relu')(x)\n",
    "x = layers.MaxPool1D()(x)\n",
    "x = layers.Dropout(0.3)(x)\n",
    "\n",
    "x = layers.Flatten()(x)\n",
    "x = layers.Dense(256)(x)\n",
    "x = layers.BatchNormalization()(x)\n",
    "x = layers.Activation('relu')(x)\n",
    "\n",
    "output_tensor = layers.Dense(12)(x)\n",
    "\n",
    "model_wav = tf.keras.Model(input_tensor, output_tensor)\n",
    "\n",
    "model_wav.summary()"
   ]
  },
  {
   "cell_type": "markdown",
   "id": "stuck-payment",
   "metadata": {},
   "source": [
    "# 6. Loss"
   ]
  },
  {
   "cell_type": "code",
   "execution_count": 12,
   "id": "featured-scoop",
   "metadata": {},
   "outputs": [
    {
     "name": "stdout",
     "output_type": "stream",
     "text": [
      "✅\n"
     ]
    }
   ],
   "source": [
    "optimizer=tf.keras.optimizers.Adam(1e-4)\n",
    "model_wav.compile(loss=tf.keras.losses.CategoricalCrossentropy(from_logits=True),\n",
    "             optimizer=optimizer,\n",
    "             metrics=['accuracy'])\n",
    "print(\"✅\")"
   ]
  },
  {
   "cell_type": "markdown",
   "id": "literary-divide",
   "metadata": {},
   "source": [
    "# 7. Training"
   ]
  },
  {
   "cell_type": "code",
   "execution_count": 13,
   "id": "southern-champion",
   "metadata": {},
   "outputs": [
    {
     "name": "stdout",
     "output_type": "stream",
     "text": [
      "✅\n"
     ]
    }
   ],
   "source": [
    "cp_callback = tf.keras.callbacks.ModelCheckpoint(checkpoint_dir,\n",
    "                                                 save_weights_only=True,\n",
    "                                                 monitor='val_loss',\n",
    "                                                 mode='auto',\n",
    "                                                 save_best_only=True,\n",
    "                                                 verbose=1)\n",
    "print(\"✅\")"
   ]
  },
  {
   "cell_type": "code",
   "execution_count": 14,
   "id": "frequent-equity",
   "metadata": {},
   "outputs": [
    {
     "name": "stdout",
     "output_type": "stream",
     "text": [
      "Epoch 1/10\n",
      "1423/1423 [==============================] - ETA: 0s - loss: 1.3576 - accuracy: 0.5513\n",
      "Epoch 00001: val_loss improved from inf to 0.92984, saving model to /home/aiffel-dj53/aiffel/speech_recognition/models/wav\n",
      "1423/1423 [==============================] - 155s 109ms/step - loss: 1.3576 - accuracy: 0.5513 - val_loss: 0.9298 - val_accuracy: 0.7239\n",
      "Epoch 2/10\n",
      "1423/1423 [==============================] - ETA: 0s - loss: 0.7591 - accuracy: 0.7661\n",
      "Epoch 00002: val_loss improved from 0.92984 to 0.69226, saving model to /home/aiffel-dj53/aiffel/speech_recognition/models/wav\n",
      "1423/1423 [==============================] - 157s 110ms/step - loss: 0.7591 - accuracy: 0.7661 - val_loss: 0.6923 - val_accuracy: 0.7921\n",
      "Epoch 3/10\n",
      "1423/1423 [==============================] - ETA: 0s - loss: 0.5203 - accuracy: 0.8435\n",
      "Epoch 00003: val_loss improved from 0.69226 to 0.54644, saving model to /home/aiffel-dj53/aiffel/speech_recognition/models/wav\n",
      "1423/1423 [==============================] - 161s 113ms/step - loss: 0.5203 - accuracy: 0.8435 - val_loss: 0.5464 - val_accuracy: 0.8366\n",
      "Epoch 4/10\n",
      "1423/1423 [==============================] - ETA: 0s - loss: 0.3561 - accuracy: 0.8995\n",
      "Epoch 00004: val_loss improved from 0.54644 to 0.48897, saving model to /home/aiffel-dj53/aiffel/speech_recognition/models/wav\n",
      "1423/1423 [==============================] - 157s 110ms/step - loss: 0.3561 - accuracy: 0.8995 - val_loss: 0.4890 - val_accuracy: 0.8445\n",
      "Epoch 5/10\n",
      "1423/1423 [==============================] - ETA: 0s - loss: 0.2464 - accuracy: 0.9338\n",
      "Epoch 00005: val_loss improved from 0.48897 to 0.33479, saving model to /home/aiffel-dj53/aiffel/speech_recognition/models/wav\n",
      "1423/1423 [==============================] - 157s 110ms/step - loss: 0.2464 - accuracy: 0.9338 - val_loss: 0.3348 - val_accuracy: 0.8960\n",
      "Epoch 6/10\n",
      "1423/1423 [==============================] - ETA: 0s - loss: 0.1769 - accuracy: 0.9552\n",
      "Epoch 00006: val_loss did not improve from 0.33479\n",
      "1423/1423 [==============================] - 160s 112ms/step - loss: 0.1769 - accuracy: 0.9552 - val_loss: 0.3745 - val_accuracy: 0.8813\n",
      "Epoch 7/10\n",
      "1423/1423 [==============================] - ETA: 0s - loss: 0.1271 - accuracy: 0.9694\n",
      "Epoch 00007: val_loss improved from 0.33479 to 0.28406, saving model to /home/aiffel-dj53/aiffel/speech_recognition/models/wav\n",
      "1423/1423 [==============================] - 158s 111ms/step - loss: 0.1271 - accuracy: 0.9694 - val_loss: 0.2841 - val_accuracy: 0.9118\n",
      "Epoch 8/10\n",
      "1423/1423 [==============================] - ETA: 0s - loss: 0.1016 - accuracy: 0.9761\n",
      "Epoch 00008: val_loss did not improve from 0.28406\n",
      "1423/1423 [==============================] - 161s 113ms/step - loss: 0.1016 - accuracy: 0.9761 - val_loss: 0.3045 - val_accuracy: 0.9082\n",
      "Epoch 9/10\n",
      "1423/1423 [==============================] - ETA: 0s - loss: 0.0797 - accuracy: 0.9816\n",
      "Epoch 00009: val_loss improved from 0.28406 to 0.26984, saving model to /home/aiffel-dj53/aiffel/speech_recognition/models/wav\n",
      "1423/1423 [==============================] - 165s 116ms/step - loss: 0.0797 - accuracy: 0.9816 - val_loss: 0.2698 - val_accuracy: 0.9138\n",
      "Epoch 10/10\n",
      "1423/1423 [==============================] - ETA: 0s - loss: 0.0615 - accuracy: 0.9852\n",
      "Epoch 00010: val_loss improved from 0.26984 to 0.26933, saving model to /home/aiffel-dj53/aiffel/speech_recognition/models/wav\n",
      "1423/1423 [==============================] - 162s 114ms/step - loss: 0.0615 - accuracy: 0.9852 - val_loss: 0.2693 - val_accuracy: 0.9203\n",
      "✅\n"
     ]
    }
   ],
   "source": [
    "#30분 내외 소요 (메모리 사용량에 주의해 주세요.)\n",
    "history_wav = model_wav.fit(train_dataset, epochs=max_epochs,\n",
    "                    steps_per_epoch=len(train_wav) // batch_size,\n",
    "                    validation_data=test_dataset,\n",
    "                    validation_steps=len(test_wav) // batch_size,\n",
    "                    callbacks=[cp_callback]\n",
    "                    )\n",
    "print(\"✅\")"
   ]
  },
  {
   "cell_type": "markdown",
   "id": "authentic-comparison",
   "metadata": {},
   "source": [
    "# 8. 학습결과 Plotting"
   ]
  },
  {
   "cell_type": "code",
   "execution_count": 15,
   "id": "joint-facing",
   "metadata": {},
   "outputs": [
    {
     "data": {
      "image/png": "[encoded data removed]",
      "text/plain": [
       "<Figure size 576x576 with 2 Axes>"
      ]
     },
     "metadata": {
      "needs_background": "light"
     },
     "output_type": "display_data"
    },
    {
     "name": "stdout",
     "output_type": "stream",
     "text": [
      "✅\n"
     ]
    }
   ],
   "source": [
    "import matplotlib.pyplot as plt\n",
    "\n",
    "acc = history_wav.history['accuracy']\n",
    "val_acc = history_wav.history['val_accuracy']\n",
    "\n",
    "loss=history_wav.history['loss']\n",
    "val_loss=history_wav.history['val_loss']\n",
    "\n",
    "epochs_range = range(len(acc))\n",
    "\n",
    "plt.figure(figsize=(8, 8))\n",
    "plt.subplot(1, 2, 1)\n",
    "plt.plot(epochs_range, acc, label='Training Accuracy')\n",
    "plt.plot(epochs_range, val_acc, label='Validation Accuracy')\n",
    "plt.legend(loc='lower right')\n",
    "plt.title('Training and Validation Accuracy')\n",
    "\n",
    "plt.subplot(1, 2, 2)\n",
    "plt.plot(epochs_range, loss, label='Training Loss')\n",
    "plt.plot(epochs_range, val_loss, label='Validation Loss')\n",
    "plt.legend(loc='upper right')\n",
    "plt.title('Training and Validation Loss')\n",
    "plt.show()\n",
    "print(\"✅\")"
   ]
  },
  {
   "cell_type": "markdown",
   "id": "deadly-appointment",
   "metadata": {},
   "source": [
    "# 9. Evaluation"
   ]
  },
  {
   "cell_type": "code",
   "execution_count": 16,
   "id": "dying-brook",
   "metadata": {},
   "outputs": [
    {
     "name": "stdout",
     "output_type": "stream",
     "text": [
      "✅\n"
     ]
    }
   ],
   "source": [
    "model_wav.load_weights(checkpoint_dir)\n",
    "print(\"✅\")"
   ]
  },
  {
   "cell_type": "code",
   "execution_count": 17,
   "id": "particular-print",
   "metadata": {},
   "outputs": [
    {
     "name": "stdout",
     "output_type": "stream",
     "text": [
      "159/159 [==============================] - 16s 102ms/step - loss: 0.2690 - accuracy: 0.9204\n",
      "✅\n"
     ]
    }
   ],
   "source": [
    "results = model_wav.evaluate(test_dataset)\n",
    "print(\"✅\")"
   ]
  },
  {
   "cell_type": "code",
   "execution_count": 18,
   "id": "varied-distance",
   "metadata": {},
   "outputs": [
    {
     "name": "stdout",
     "output_type": "stream",
     "text": [
      "loss value: 0.269\n",
      "accuracy value: 92.0387%\n",
      "✅\n"
     ]
    }
   ],
   "source": [
    "# loss\n",
    "print(\"loss value: {:.3f}\".format(results[0]))\n",
    "# accuracy\n",
    "print(\"accuracy value: {:.4f}%\".format(results[1]*100))\n",
    "print(\"✅\")"
   ]
  },
  {
   "cell_type": "markdown",
   "id": "revised-norwegian",
   "metadata": {},
   "source": [
    "# 10. Model Test"
   ]
  },
  {
   "cell_type": "code",
   "execution_count": 19,
   "id": "decimal-shareware",
   "metadata": {},
   "outputs": [
    {
     "name": "stdout",
     "output_type": "stream",
     "text": [
      "label :  stop\n"
     ]
    },
    {
     "data": {
      "text/html": [
       "\n",
       "                <audio  controls=\"controls\" >\n",
       "                    <source src=\"data:audio/wav;base64,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\" type=\"audio/wav\" />\n",
       "                    Your browser does not support the audio element.\n",
       "                </audio>\n",
       "              "
      ],
      "text/plain": [
       "<IPython.lib.display.Audio object>"
      ]
     },
     "execution_count": 19,
     "metadata": {},
     "output_type": "execute_result"
    }
   ],
   "source": [
    "inv_label_value = {v: k for k, v in label_value.items()}\n",
    "batch_index = np.random.choice(len(test_wav), size=1, replace=False)\n",
    "\n",
    "batch_xs = test_wav[batch_index]\n",
    "batch_ys = test_label[batch_index]\n",
    "y_pred_ = model_wav(batch_xs, training=False)\n",
    "\n",
    "print(\"label : \", str(inv_label_value[batch_ys[0]]))\n",
    "\n",
    "ipd.Audio(batch_xs.reshape(8000,), rate=8000)"
   ]
  },
  {
   "cell_type": "code",
   "execution_count": 20,
   "id": "unlikely-poland",
   "metadata": {},
   "outputs": [
    {
     "name": "stdout",
     "output_type": "stream",
     "text": [
      "y_pred: stop(Correct!)\n",
      "✅\n"
     ]
    }
   ],
   "source": [
    "if np.argmax(y_pred_) == batch_ys[0]:\n",
    "    print(\"y_pred: \" + str(inv_label_value[np.argmax(y_pred_)]) + '(Correct!)')\n",
    "else:\n",
    "    print(\"y_pred: \" + str(inv_label_value[np.argmax(y_pred_)]) + '(Incorrect!)')\n",
    "print(\"✅\")"
   ]
  },
  {
   "cell_type": "markdown",
   "id": "stable-dimension",
   "metadata": {},
   "source": [
    "# 11. Skip-Connection Model"
   ]
  },
  {
   "cell_type": "code",
   "execution_count": 21,
   "id": "every-fault",
   "metadata": {},
   "outputs": [
    {
     "name": "stdout",
     "output_type": "stream",
     "text": [
      "Model: \"model_1\"\n",
      "__________________________________________________________________________________________________\n",
      "Layer (type)                    Output Shape         Param #     Connected to                     \n",
      "==================================================================================================\n",
      "input_2 (InputLayer)            [(None, 8000, 1)]    0                                            \n",
      "__________________________________________________________________________________________________\n",
      "conv1d_10 (Conv1D)              (None, 8000, 32)     320         input_2[0][0]                    \n",
      "__________________________________________________________________________________________________\n",
      "conv1d_11 (Conv1D)              (None, 8000, 32)     9248        conv1d_10[0][0]                  \n",
      "__________________________________________________________________________________________________\n",
      "max_pooling1d_4 (MaxPooling1D)  (None, 4000, 32)     0           conv1d_11[0][0]                  \n",
      "__________________________________________________________________________________________________\n",
      "conv1d_12 (Conv1D)              (None, 4000, 64)     18496       max_pooling1d_4[0][0]            \n",
      "__________________________________________________________________________________________________\n",
      "conv1d_13 (Conv1D)              (None, 4000, 64)     36928       conv1d_12[0][0]                  \n",
      "__________________________________________________________________________________________________\n",
      "tf_op_layer_concat (TensorFlowO [(None, 4000, 96)]   0           conv1d_13[0][0]                  \n",
      "                                                                 max_pooling1d_4[0][0]            \n",
      "__________________________________________________________________________________________________\n",
      "max_pooling1d_5 (MaxPooling1D)  (None, 2000, 96)     0           tf_op_layer_concat[0][0]         \n",
      "__________________________________________________________________________________________________\n",
      "conv1d_14 (Conv1D)              (None, 2000, 128)    110720      max_pooling1d_5[0][0]            \n",
      "__________________________________________________________________________________________________\n",
      "conv1d_15 (Conv1D)              (None, 2000, 128)    147584      conv1d_14[0][0]                  \n",
      "__________________________________________________________________________________________________\n",
      "conv1d_16 (Conv1D)              (None, 2000, 128)    147584      conv1d_15[0][0]                  \n",
      "__________________________________________________________________________________________________\n",
      "tf_op_layer_concat_1 (TensorFlo [(None, 2000, 224)]  0           conv1d_16[0][0]                  \n",
      "                                                                 max_pooling1d_5[0][0]            \n",
      "__________________________________________________________________________________________________\n",
      "max_pooling1d_6 (MaxPooling1D)  (None, 1000, 224)    0           tf_op_layer_concat_1[0][0]       \n",
      "__________________________________________________________________________________________________\n",
      "conv1d_17 (Conv1D)              (None, 1000, 256)    516352      max_pooling1d_6[0][0]            \n",
      "__________________________________________________________________________________________________\n",
      "conv1d_18 (Conv1D)              (None, 1000, 256)    590080      conv1d_17[0][0]                  \n",
      "__________________________________________________________________________________________________\n",
      "conv1d_19 (Conv1D)              (None, 1000, 256)    590080      conv1d_18[0][0]                  \n",
      "__________________________________________________________________________________________________\n",
      "tf_op_layer_concat_2 (TensorFlo [(None, 1000, 480)]  0           conv1d_19[0][0]                  \n",
      "                                                                 max_pooling1d_6[0][0]            \n",
      "__________________________________________________________________________________________________\n",
      "max_pooling1d_7 (MaxPooling1D)  (None, 500, 480)     0           tf_op_layer_concat_2[0][0]       \n",
      "__________________________________________________________________________________________________\n",
      "dropout_1 (Dropout)             (None, 500, 480)     0           max_pooling1d_7[0][0]            \n",
      "__________________________________________________________________________________________________\n",
      "flatten_1 (Flatten)             (None, 240000)       0           dropout_1[0][0]                  \n",
      "__________________________________________________________________________________________________\n",
      "dense_2 (Dense)                 (None, 256)          61440256    flatten_1[0][0]                  \n",
      "__________________________________________________________________________________________________\n",
      "batch_normalization_1 (BatchNor (None, 256)          1024        dense_2[0][0]                    \n",
      "__________________________________________________________________________________________________\n",
      "activation_1 (Activation)       (None, 256)          0           batch_normalization_1[0][0]      \n",
      "__________________________________________________________________________________________________\n",
      "dense_3 (Dense)                 (None, 12)           3084        activation_1[0][0]               \n",
      "==================================================================================================\n",
      "Total params: 63,611,756\n",
      "Trainable params: 63,611,244\n",
      "Non-trainable params: 512\n",
      "__________________________________________________________________________________________________\n"
     ]
    }
   ],
   "source": [
    "input_tensor = layers.Input(shape=(sr, 1))\n",
    "\n",
    "x = layers.Conv1D(32, 9, padding='same', activation='relu')(input_tensor)\n",
    "x = layers.Conv1D(32, 9, padding='same', activation='relu')(x)\n",
    "skip_1 = layers.MaxPool1D()(x)\n",
    "\n",
    "x = layers.Conv1D(64, 9, padding='same', activation='relu')(skip_1)\n",
    "x = layers.Conv1D(64, 9, padding='same', activation='relu')(x)\n",
    "x = tf.concat([x, skip_1], -1)\n",
    "skip_2 = layers.MaxPool1D()(x)\n",
    "\n",
    "x = layers.Conv1D(128, 9, padding='same', activation='relu')(skip_2)\n",
    "x = layers.Conv1D(128, 9, padding='same', activation='relu')(x)\n",
    "x = layers.Conv1D(128, 9, padding='same', activation='relu')(x)\n",
    "x = tf.concat([x, skip_2], -1)\n",
    "skip_3 = layers.MaxPool1D()(x)\n",
    "\n",
    "x = layers.Conv1D(256, 9, padding='same', activation='relu')(skip_3)\n",
    "x = layers.Conv1D(256, 9, padding='same', activation='relu')(x)\n",
    "x = layers.Conv1D(256, 9, padding='same', activation='relu')(x)\n",
    "x = tf.concat([x, skip_3], -1)\n",
    "x = layers.MaxPool1D()(x)\n",
    "x = layers.Dropout(0.3)(x)\n",
    "\n",
    "x = layers.Flatten()(x)\n",
    "x = layers.Dense(256)(x)\n",
    "x = layers.BatchNormalization()(x)\n",
    "x = layers.Activation('relu')(x)\n",
    "\n",
    "output_tensor = layers.Dense(12)(x)\n",
    "\n",
    "model_wav_skip = tf.keras.Model(input_tensor, output_tensor)\n",
    "\n",
    "model_wav_skip.summary()"
   ]
  },
  {
   "cell_type": "code",
   "execution_count": 22,
   "id": "boxed-genius",
   "metadata": {},
   "outputs": [
    {
     "name": "stdout",
     "output_type": "stream",
     "text": [
      "✅\n"
     ]
    }
   ],
   "source": [
    "optimizer=tf.keras.optimizers.Adam(1e-4)\n",
    "model_wav_skip.compile(loss=tf.keras.losses.CategoricalCrossentropy(from_logits=True),\n",
    "             optimizer=optimizer,\n",
    "             metrics=['accuracy'])\n",
    "print(\"✅\")"
   ]
  },
  {
   "cell_type": "code",
   "execution_count": 23,
   "id": "unusual-correlation",
   "metadata": {},
   "outputs": [
    {
     "name": "stdout",
     "output_type": "stream",
     "text": [
      "✅\n"
     ]
    }
   ],
   "source": [
    "# the save point\n",
    "checkpoint_dir = os.getenv('HOME')+'/aiffel/speech_recognition/models/wav_skip'\n",
    "\n",
    "cp_callback = tf.keras.callbacks.ModelCheckpoint(checkpoint_dir,\n",
    "                                                 save_weights_only=True,\n",
    "                                                 monitor='val_loss',\n",
    "                                                 mode='auto',\n",
    "                                                 save_best_only=True,\n",
    "                                                 verbose=1)\n",
    "print(\"✅\")"
   ]
  },
  {
   "cell_type": "code",
   "execution_count": 24,
   "id": "medieval-windsor",
   "metadata": {},
   "outputs": [
    {
     "name": "stdout",
     "output_type": "stream",
     "text": [
      "Epoch 1/10\n",
      "1423/1423 [==============================] - ETA: 0s - loss: 1.1967 - accuracy: 0.6167\n",
      "Epoch 00001: val_loss improved from inf to 0.85591, saving model to /home/aiffel-dj53/aiffel/speech_recognition/models/wav_skip\n",
      "1423/1423 [==============================] - 191s 134ms/step - loss: 1.1967 - accuracy: 0.6167 - val_loss: 0.8559 - val_accuracy: 0.7342\n",
      "Epoch 2/10\n",
      "1423/1423 [==============================] - ETA: 0s - loss: 0.6413 - accuracy: 0.8091\n",
      "Epoch 00002: val_loss improved from 0.85591 to 0.61087, saving model to /home/aiffel-dj53/aiffel/speech_recognition/models/wav_skip\n",
      "1423/1423 [==============================] - 191s 134ms/step - loss: 0.6413 - accuracy: 0.8091 - val_loss: 0.6109 - val_accuracy: 0.8214\n",
      "Epoch 3/10\n",
      "1423/1423 [==============================] - ETA: 0s - loss: 0.3453 - accuracy: 0.9086\n",
      "Epoch 00003: val_loss improved from 0.61087 to 0.46425, saving model to /home/aiffel-dj53/aiffel/speech_recognition/models/wav_skip\n",
      "1423/1423 [==============================] - 182s 128ms/step - loss: 0.3453 - accuracy: 0.9086 - val_loss: 0.4642 - val_accuracy: 0.8544\n",
      "Epoch 4/10\n",
      "1423/1423 [==============================] - ETA: 0s - loss: 0.1846 - accuracy: 0.9580\n",
      "Epoch 00004: val_loss improved from 0.46425 to 0.34639, saving model to /home/aiffel-dj53/aiffel/speech_recognition/models/wav_skip\n",
      "1423/1423 [==============================] - 189s 133ms/step - loss: 0.1846 - accuracy: 0.9580 - val_loss: 0.3464 - val_accuracy: 0.9027\n",
      "Epoch 5/10\n",
      "1423/1423 [==============================] - ETA: 0s - loss: 0.1093 - accuracy: 0.9776\n",
      "Epoch 00005: val_loss improved from 0.34639 to 0.26984, saving model to /home/aiffel-dj53/aiffel/speech_recognition/models/wav_skip\n",
      "1423/1423 [==============================] - 200s 141ms/step - loss: 0.1093 - accuracy: 0.9776 - val_loss: 0.2698 - val_accuracy: 0.9237\n",
      "Epoch 6/10\n",
      "1423/1423 [==============================] - ETA: 0s - loss: 0.0734 - accuracy: 0.9847\n",
      "Epoch 00006: val_loss did not improve from 0.26984\n",
      "1423/1423 [==============================] - 205s 144ms/step - loss: 0.0734 - accuracy: 0.9847 - val_loss: 0.3069 - val_accuracy: 0.9098\n",
      "Epoch 7/10\n",
      "1423/1423 [==============================] - ETA: 0s - loss: 0.0554 - accuracy: 0.9886\n",
      "Epoch 00007: val_loss improved from 0.26984 to 0.24643, saving model to /home/aiffel-dj53/aiffel/speech_recognition/models/wav_skip\n",
      "1423/1423 [==============================] - 193s 135ms/step - loss: 0.0554 - accuracy: 0.9886 - val_loss: 0.2464 - val_accuracy: 0.9264\n",
      "Epoch 8/10\n",
      "1423/1423 [==============================] - ETA: 0s - loss: 0.0369 - accuracy: 0.9926\n",
      "Epoch 00008: val_loss did not improve from 0.24643\n",
      "1423/1423 [==============================] - 192s 135ms/step - loss: 0.0369 - accuracy: 0.9926 - val_loss: 0.2611 - val_accuracy: 0.9284\n",
      "Epoch 9/10\n",
      "1423/1423 [==============================] - ETA: 0s - loss: 0.0334 - accuracy: 0.9930\n",
      "Epoch 00009: val_loss did not improve from 0.24643\n",
      "1423/1423 [==============================] - 212s 149ms/step - loss: 0.0334 - accuracy: 0.9930 - val_loss: 0.2866 - val_accuracy: 0.9183\n",
      "Epoch 10/10\n",
      "1423/1423 [==============================] - ETA: 0s - loss: 0.0253 - accuracy: 0.9952\n",
      "Epoch 00010: val_loss did not improve from 0.24643\n",
      "1423/1423 [==============================] - 188s 132ms/step - loss: 0.0253 - accuracy: 0.9952 - val_loss: 0.3202 - val_accuracy: 0.9183\n",
      "✅\n"
     ]
    }
   ],
   "source": [
    "#30분 내외 소요\n",
    "history_wav_skip = model_wav_skip.fit(train_dataset, epochs=max_epochs,\n",
    "                    steps_per_epoch=len(train_wav) // batch_size,\n",
    "                    validation_data=test_dataset,\n",
    "                    validation_steps=len(test_wav) // batch_size,\n",
    "                    callbacks=[cp_callback]\n",
    "                    )\n",
    "print(\"✅\")"
   ]
  },
  {
   "cell_type": "code",
   "execution_count": 25,
   "id": "crude-infrastructure",
   "metadata": {},
   "outputs": [
    {
     "data": {
      "image/png": "[encoded data removed]",
      "text/plain": [
       "<Figure size 576x576 with 2 Axes>"
      ]
     },
     "metadata": {
      "needs_background": "light"
     },
     "output_type": "display_data"
    },
    {
     "name": "stdout",
     "output_type": "stream",
     "text": [
      "✅\n"
     ]
    }
   ],
   "source": [
    "import matplotlib.pyplot as plt\n",
    "\n",
    "acc = history_wav_skip.history['accuracy']\n",
    "val_acc = history_wav_skip.history['val_accuracy']\n",
    "\n",
    "loss=history_wav_skip.history['loss']\n",
    "val_loss=history_wav_skip.history['val_loss']\n",
    "\n",
    "epochs_range = range(len(acc))\n",
    "\n",
    "plt.figure(figsize=(8, 8))\n",
    "plt.subplot(1, 2, 1)\n",
    "plt.plot(epochs_range, acc, label='Training Accuracy')\n",
    "plt.plot(epochs_range, val_acc, label='Validation Accuracy')\n",
    "plt.legend(loc='lower right')\n",
    "plt.title('Training and Validation Accuracy')\n",
    "\n",
    "plt.subplot(1, 2, 2)\n",
    "plt.plot(epochs_range, loss, label='Training Loss')\n",
    "plt.plot(epochs_range, val_loss, label='Validation Loss')\n",
    "plt.legend(loc='upper right')\n",
    "plt.title('Training and Validation Loss')\n",
    "plt.show()\n",
    "print(\"✅\")"
   ]
  },
  {
   "cell_type": "code",
   "execution_count": 26,
   "id": "mighty-richardson",
   "metadata": {},
   "outputs": [
    {
     "name": "stdout",
     "output_type": "stream",
     "text": [
      "159/159 [==============================] - 8s 52ms/step - loss: 0.2461 - accuracy: 0.9265\n",
      "loss value: 0.246\n",
      "accuracy value: 92.6511%\n",
      "✅\n"
     ]
    }
   ],
   "source": [
    "# Evaluation \n",
    "\n",
    "model_wav_skip.load_weights(checkpoint_dir)\n",
    "results = model_wav_skip.evaluate(test_dataset)\n",
    "\n",
    "# loss\n",
    "print(\"loss value: {:.3f}\".format(results[0]))\n",
    "# accuracy\n",
    "print(\"accuracy value: {:.4f}%\".format(results[1]*100))\n",
    "print(\"✅\")"
   ]
  },
  {
   "cell_type": "code",
   "execution_count": 27,
   "id": "injured-queens",
   "metadata": {},
   "outputs": [
    {
     "name": "stdout",
     "output_type": "stream",
     "text": [
      "label :  off\n"
     ]
    },
    {
     "data": {
      "text/html": [
       "\n",
       "                <audio  controls=\"controls\" >\n",
       "                    <source src=\"data:audio/wav;base64,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\" type=\"audio/wav\" />\n",
       "                    Your browser does not support the audio element.\n",
       "                </audio>\n",
       "              "
      ],
      "text/plain": [
       "<IPython.lib.display.Audio object>"
      ]
     },
     "execution_count": 27,
     "metadata": {},
     "output_type": "execute_result"
    }
   ],
   "source": [
    "# Test \n",
    "\n",
    "inv_label_value = {v: k for k, v in label_value.items()}\n",
    "batch_index = np.random.choice(len(test_wav), size=1, replace=False)\n",
    "\n",
    "batch_xs = test_wav[batch_index]\n",
    "batch_ys = test_label[batch_index]\n",
    "y_pred_ = model_wav_skip(batch_xs, training=False)\n",
    "\n",
    "print(\"label : \", str(inv_label_value[batch_ys[0]]))\n",
    "\n",
    "ipd.Audio(batch_xs.reshape(8000,), rate=8000)"
   ]
  },
  {
   "cell_type": "code",
   "execution_count": 28,
   "id": "collective-heritage",
   "metadata": {},
   "outputs": [
    {
     "name": "stdout",
     "output_type": "stream",
     "text": [
      "y_pred: off(Correct!)\n",
      "✅\n"
     ]
    }
   ],
   "source": [
    "if np.argmax(y_pred_) == batch_ys[0]:\n",
    "    print(\"y_pred: \" + str(inv_label_value[np.argmax(y_pred_)]) + '(Correct!)')\n",
    "else:\n",
    "    print(\"y_pred: \" + str(inv_label_value[np.argmax(y_pred_)]) + '(Incorrect!)')\n",
    "print(\"✅\")"
   ]
  },
  {
   "cell_type": "markdown",
   "id": "ahead-scope",
   "metadata": {},
   "source": [
    "# 12. Spectogram"
   ]
  },
  {
   "cell_type": "code",
   "execution_count": 5,
   "id": "excess-weekly",
   "metadata": {},
   "outputs": [
    {
     "name": "stdout",
     "output_type": "stream",
     "text": [
      "✅\n"
     ]
    }
   ],
   "source": [
    "import librosa\n",
    "\n",
    "def wav2spec(wav, fft_size=258): # spectrogram shape을 맞추기위해서 size 변형\n",
    "    D = np.abs(librosa.stft(wav, n_fft=fft_size))\n",
    "    return D\n",
    "print(\"✅\")"
   ]
  },
  {
   "cell_type": "code",
   "execution_count": 35,
   "id": "increased-germany",
   "metadata": {},
   "outputs": [
    {
     "data": {
      "text/plain": [
       "(8000,)"
      ]
     },
     "execution_count": 35,
     "metadata": {},
     "output_type": "execute_result"
    }
   ],
   "source": [
    "data.shape\n"
   ]
  },
  {
   "cell_type": "code",
   "execution_count": 30,
   "id": "arabic-polymer",
   "metadata": {},
   "outputs": [
    {
     "name": "stdout",
     "output_type": "stream",
     "text": [
      "Waveform shape :  (8000,)\n",
      "Spectrogram shape :  (130, 126)\n"
     ]
    }
   ],
   "source": [
    "# 위에서 뽑았던 sample data\n",
    "spec = wav2spec(data)\n",
    "print(\"Waveform shape : \",data.shape)\n",
    "print(\"Spectrogram shape : \",spec.shape)"
   ]
  },
  {
   "cell_type": "code",
   "execution_count": 2,
   "id": "national-europe",
   "metadata": {},
   "outputs": [
    {
     "ename": "NameError",
     "evalue": "name 'spec' is not defined",
     "output_type": "error",
     "traceback": [
      "\u001b[0;31m---------------------------------------------------------------------------\u001b[0m",
      "\u001b[0;31mNameError\u001b[0m                                 Traceback (most recent call last)",
      "\u001b[0;32m<ipython-input-2-42d06a3f50b3>\u001b[0m in \u001b[0;36m<module>\u001b[0;34m\u001b[0m\n\u001b[1;32m      1\u001b[0m \u001b[0;32mimport\u001b[0m \u001b[0mlibrosa\u001b[0m\u001b[0;34m.\u001b[0m\u001b[0mdisplay\u001b[0m\u001b[0;34m\u001b[0m\u001b[0;34m\u001b[0m\u001b[0m\n\u001b[1;32m      2\u001b[0m \u001b[0;34m\u001b[0m\u001b[0m\n\u001b[0;32m----> 3\u001b[0;31m \u001b[0mlibrosa\u001b[0m\u001b[0;34m.\u001b[0m\u001b[0mdisplay\u001b[0m\u001b[0;34m.\u001b[0m\u001b[0mspecshow\u001b[0m\u001b[0;34m(\u001b[0m\u001b[0mlibrosa\u001b[0m\u001b[0;34m.\u001b[0m\u001b[0mamplitude_to_db\u001b[0m\u001b[0;34m(\u001b[0m\u001b[0mspec\u001b[0m\u001b[0;34m,\u001b[0m \u001b[0mref\u001b[0m\u001b[0;34m=\u001b[0m\u001b[0mnp\u001b[0m\u001b[0;34m.\u001b[0m\u001b[0mmax\u001b[0m\u001b[0;34m)\u001b[0m\u001b[0;34m,\u001b[0m \u001b[0mx_axis\u001b[0m\u001b[0;34m=\u001b[0m\u001b[0;34m'time'\u001b[0m\u001b[0;34m)\u001b[0m\u001b[0;34m\u001b[0m\u001b[0;34m\u001b[0m\u001b[0m\n\u001b[0m\u001b[1;32m      4\u001b[0m \u001b[0mplt\u001b[0m\u001b[0;34m.\u001b[0m\u001b[0mtitle\u001b[0m\u001b[0;34m(\u001b[0m\u001b[0;34m'Power spectrogram'\u001b[0m\u001b[0;34m)\u001b[0m\u001b[0;34m\u001b[0m\u001b[0;34m\u001b[0m\u001b[0m\n\u001b[1;32m      5\u001b[0m \u001b[0mplt\u001b[0m\u001b[0;34m.\u001b[0m\u001b[0mcolorbar\u001b[0m\u001b[0;34m(\u001b[0m\u001b[0mformat\u001b[0m\u001b[0;34m=\u001b[0m\u001b[0;34m'%+2.0f dB'\u001b[0m\u001b[0;34m)\u001b[0m\u001b[0;34m\u001b[0m\u001b[0;34m\u001b[0m\u001b[0m\n",
      "\u001b[0;31mNameError\u001b[0m: name 'spec' is not defined"
     ]
    }
   ],
   "source": [
    "import librosa.display\n",
    "\n",
    "librosa.display.specshow(librosa.amplitude_to_db(spec, ref=np.max), x_axis='time')\n",
    "plt.title('Power spectrogram')\n",
    "plt.colorbar(format='%+2.0f dB')\n",
    "plt.xticks(range(0, 1))\n",
    "plt.tight_layout()\n",
    "plt.show()"
   ]
  },
  {
   "cell_type": "code",
   "execution_count": 2,
   "id": "relevant-medicine",
   "metadata": {},
   "outputs": [],
   "source": [
    "import numpy as np\n",
    "import os\n",
    "import IPython.display as ipd\n",
    "import random\n",
    "import pandas as pd\n",
    "\n",
    "\n",
    "data_path = os.getenv(\"HOME\")+'/aiffel/speech_recognition/data/speech_wav_8000.npz'\n",
    "speech_data = np.load(data_path)"
   ]
  },
  {
   "cell_type": "code",
   "execution_count": 3,
   "id": "nutritional-baker",
   "metadata": {},
   "outputs": [
    {
     "name": "stdout",
     "output_type": "stream",
     "text": [
      "✅\n"
     ]
    }
   ],
   "source": [
    "import librosa\n",
    "\n",
    "def wav2spec(wav, fft_size=258): # spectrogram shape을 맞추기위해서 size 변형\n",
    "    D = np.abs(librosa.stft(wav, n_fft=fft_size))\n",
    "    return D\n",
    "print(\"✅\")"
   ]
  },
  {
   "cell_type": "code",
   "execution_count": 4,
   "id": "brilliant-revision",
   "metadata": {},
   "outputs": [],
   "source": [
    "spec = []\n",
    "for wav in speech_data[\"wav_vals\"]:\n",
    "    spec.append(wav2spec(wav))\n",
    "spec = np.array(spec)"
   ]
  },
  {
   "cell_type": "code",
   "execution_count": 5,
   "id": "seasonal-mongolia",
   "metadata": {
    "scrolled": true
   },
   "outputs": [
    {
     "name": "stdout",
     "output_type": "stream",
     "text": [
      "Label data shape :  (50620, 130, 126)\n",
      "✅\n"
     ]
    }
   ],
   "source": [
    "print(\"Label data shape : \", spec.shape)\n",
    "print(\"✅\")"
   ]
  },
  {
   "cell_type": "markdown",
   "id": "third-marsh",
   "metadata": {},
   "source": [
    "# 1. Label Data 구성하기"
   ]
  },
  {
   "cell_type": "code",
   "execution_count": 6,
   "id": "measured-nightlife",
   "metadata": {},
   "outputs": [
    {
     "name": "stdout",
     "output_type": "stream",
     "text": [
      "LABEL :  ['yes', 'no', 'up', 'down', 'left', 'right', 'on', 'off', 'stop', 'go', 'unknown', 'silence']\n",
      "Indexed LABEL :  {'yes': 0, 'no': 1, 'up': 2, 'down': 3, 'left': 4, 'right': 5, 'on': 6, 'off': 7, 'stop': 8, 'go': 9, 'unknown': 10, 'silence': 11}\n"
     ]
    }
   ],
   "source": [
    "target_list = ['yes', 'no', 'up', 'down', 'left', 'right', 'on', 'off', 'stop', 'go']\n",
    "\n",
    "label_value = target_list\n",
    "label_value.append('unknown')\n",
    "label_value.append('silence')\n",
    "\n",
    "print('LABEL : ', label_value)\n",
    "\n",
    "new_label_value = dict()\n",
    "for i, l in enumerate(label_value):\n",
    "    new_label_value[l] = i\n",
    "label_value = new_label_value\n",
    "\n",
    "print('Indexed LABEL : ', new_label_value)"
   ]
  },
  {
   "cell_type": "code",
   "execution_count": 7,
   "id": "weekly-valuation",
   "metadata": {},
   "outputs": [
    {
     "data": {
      "text/plain": [
       "array([ 3,  3,  3, ..., 11, 11, 11])"
      ]
     },
     "execution_count": 7,
     "metadata": {},
     "output_type": "execute_result"
    }
   ],
   "source": [
    "temp = []\n",
    "for v in speech_data[\"label_vals\"]:\n",
    "    temp.append(label_value[v[0]])\n",
    "label_data = np.array(temp)\n",
    "\n",
    "label_data"
   ]
  },
  {
   "cell_type": "markdown",
   "id": "first-negative",
   "metadata": {},
   "source": [
    "# 2. 데이터 분리"
   ]
  },
  {
   "cell_type": "code",
   "execution_count": null,
   "id": "competitive-emperor",
   "metadata": {},
   "outputs": [],
   "source": [
    "from sklearn.model_selection import train_test_split\n",
    "\n",
    "sr = 8000\n",
    "train_spec, test_spec, train_label, test_label = train_test_split(spec, \n",
    "                                                                label_data, \n",
    "                                                                test_size=0.1,\n",
    "                                                                shuffle=True)\n",
    "print(train_spec)\n",
    "\n",
    "#train_wav = train_wav.reshape([-1, sr, 1]) # add channel for CNN\n",
    "#test_wav = test_wav.reshape([-1, sr, 1])\n",
    "#print(\"✅\")"
   ]
  },
  {
   "cell_type": "code",
   "execution_count": null,
   "id": "patient-distributor",
   "metadata": {
    "scrolled": true
   },
   "outputs": [],
   "source": [
    "print(\"train data : \", train_spec.shape)\n",
    "print(\"train labels : \", train_label.shape)\n",
    "print(\"test data : \", test_sepc.shape)\n",
    "print(\"test labels : \", test_label.shape)\n",
    "print(\"✅\")"
   ]
  },
  {
   "cell_type": "code",
   "execution_count": null,
   "id": "plain-philippines",
   "metadata": {},
   "outputs": [],
   "source": [
    "del speech_data\n",
    "del spec"
   ]
  },
  {
   "cell_type": "markdown",
   "id": "million-album",
   "metadata": {},
   "source": [
    "### 커널이 죽는 현상이 계속 발생해 메모리를 날려준다"
   ]
  },
  {
   "cell_type": "markdown",
   "id": "needed-jesus",
   "metadata": {},
   "source": [
    "# 3. Hyper-Parameter Setting"
   ]
  },
  {
   "cell_type": "code",
   "execution_count": null,
   "id": "public-canberra",
   "metadata": {},
   "outputs": [],
   "source": [
    "batch_size = 32\n",
    "max_epochs = 10\n",
    "\n",
    "# the save point\n",
    "checkpoint_dir = os.getenv('HOME')+'/aiffel/speech_recognition/models/wav'\n",
    "\n",
    "checkpoint_dir"
   ]
  },
  {
   "cell_type": "markdown",
   "id": "intellectual-average",
   "metadata": {},
   "source": [
    "# 4. tf.Dataset을 이용한 데이터 구성"
   ]
  },
  {
   "cell_type": "code",
   "execution_count": null,
   "id": "viral-evaluation",
   "metadata": {},
   "outputs": [],
   "source": [
    "def one_hot_label(spec, label):\n",
    "    label = tf.one_hot(label, depth=12)\n",
    "    return spec, label\n",
    "print(\"✅\")"
   ]
  },
  {
   "cell_type": "code",
   "execution_count": null,
   "id": "alert-pepper",
   "metadata": {},
   "outputs": [],
   "source": [
    "import tensorflow as tf\n",
    "\n",
    "# for train\n",
    "train_dataset = tf.data.Dataset.from_tensor_slices((train_spec, train_label))\n",
    "train_dataset = train_dataset.map(one_hot_label)\n",
    "train_dataset = train_dataset.repeat().batch(batch_size=batch_size)\n",
    "print(train_dataset)\n",
    "\n",
    "# for test\n",
    "test_dataset = tf.data.Dataset.from_tensor_slices((test_spec, test_label))\n",
    "test_dataset = test_dataset.map(one_hot_label)\n",
    "test_dataset = test_dataset.batch(batch_size=batch_size)\n",
    "print(test_dataset)\n",
    "print(\"✅\")"
   ]
  },
  {
   "cell_type": "code",
   "execution_count": null,
   "id": "appointed-perry",
   "metadata": {},
   "outputs": [],
   "source": []
  },
  {
   "cell_type": "code",
   "execution_count": null,
   "id": "stunning-requirement",
   "metadata": {},
   "outputs": [],
   "source": []
  }
 ],
 "metadata": {
  "kernelspec": {
   "display_name": "aiffel",
   "language": "python",
   "name": "aiffel"
  },
  "language_info": {
   "codemirror_mode": {
    "name": "ipython",
    "version": 3
   },
   "file_extension": ".py",
   "mimetype": "text/x-python",
   "name": "python",
   "nbconvert_exporter": "python",
   "pygments_lexer": "ipython3",
   "version": "3.7.9"
  }
 },
 "nbformat": 4,
 "nbformat_minor": 5
}
