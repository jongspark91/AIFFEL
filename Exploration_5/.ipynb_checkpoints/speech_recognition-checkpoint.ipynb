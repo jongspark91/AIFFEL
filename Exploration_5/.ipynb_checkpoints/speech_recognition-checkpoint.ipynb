{
 "cells": [
  {
   "cell_type": "markdown",
   "id": "expanded-bangkok",
   "metadata": {},
   "source": [
    "# 0. 필요모듈 불러오기 및 wav 데이터 spectrogram으로 변환시키기"
   ]
  },
  {
   "cell_type": "code",
   "execution_count": 1,
   "id": "second-browse",
   "metadata": {},
   "outputs": [],
   "source": [
    "import numpy as np\n",
    "import os\n",
    "import IPython.display as ipd\n",
    "import random\n",
    "import pandas as pd\n",
    "\n",
    "\n",
    "data_path = os.getenv(\"HOME\")+'/aiffel/speech_recognition/data/speech_wav_8000.npz'\n",
    "speech_data = np.load(data_path)"
   ]
  },
  {
   "cell_type": "code",
   "execution_count": 2,
   "id": "vulnerable-scale",
   "metadata": {},
   "outputs": [
    {
     "name": "stdout",
     "output_type": "stream",
     "text": [
      "✅\n"
     ]
    }
   ],
   "source": [
    "import librosa\n",
    "\n",
    "def wav2spec(wav, fft_size=258): # spectrogram shape을 맞추기위해서 size 변형\n",
    "    D = np.abs(librosa.stft(wav, n_fft=fft_size))\n",
    "    return D\n",
    "print(\"✅\")"
   ]
  },
  {
   "cell_type": "code",
   "execution_count": 3,
   "id": "fleet-multiple",
   "metadata": {},
   "outputs": [],
   "source": [
    "spec = []\n",
    "for wav in speech_data[\"wav_vals\"]:\n",
    "    spec.append(wav2spec(wav))\n",
    "spec = np.array(spec)"
   ]
  },
  {
   "cell_type": "code",
   "execution_count": 4,
   "id": "ongoing-blogger",
   "metadata": {
    "scrolled": true
   },
   "outputs": [
    {
     "name": "stdout",
     "output_type": "stream",
     "text": [
      "Label data shape :  (50620, 130, 126)\n",
      "✅\n"
     ]
    }
   ],
   "source": [
    "print(\"Label data shape : \", spec.shape)\n",
    "print(\"✅\")"
   ]
  },
  {
   "cell_type": "markdown",
   "id": "successful-sight",
   "metadata": {},
   "source": [
    "# 1. Label Data 구성하기"
   ]
  },
  {
   "cell_type": "code",
   "execution_count": 5,
   "id": "married-entry",
   "metadata": {},
   "outputs": [
    {
     "name": "stdout",
     "output_type": "stream",
     "text": [
      "LABEL :  ['yes', 'no', 'up', 'down', 'left', 'right', 'on', 'off', 'stop', 'go', 'unknown', 'silence']\n",
      "Indexed LABEL :  {'yes': 0, 'no': 1, 'up': 2, 'down': 3, 'left': 4, 'right': 5, 'on': 6, 'off': 7, 'stop': 8, 'go': 9, 'unknown': 10, 'silence': 11}\n"
     ]
    }
   ],
   "source": [
    "target_list = ['yes', 'no', 'up', 'down', 'left', 'right', 'on', 'off', 'stop', 'go']\n",
    "\n",
    "label_value = target_list\n",
    "label_value.append('unknown')\n",
    "label_value.append('silence')\n",
    "\n",
    "print('LABEL : ', label_value)\n",
    "\n",
    "new_label_value = dict()\n",
    "for i, l in enumerate(label_value):\n",
    "    new_label_value[l] = i\n",
    "label_value = new_label_value\n",
    "\n",
    "print('Indexed LABEL : ', new_label_value)"
   ]
  },
  {
   "cell_type": "code",
   "execution_count": 6,
   "id": "blond-steal",
   "metadata": {},
   "outputs": [
    {
     "data": {
      "text/plain": [
       "array([ 3,  3,  3, ..., 11, 11, 11])"
      ]
     },
     "execution_count": 6,
     "metadata": {},
     "output_type": "execute_result"
    }
   ],
   "source": [
    "temp = []\n",
    "for v in speech_data[\"label_vals\"]:\n",
    "    temp.append(label_value[v[0]])\n",
    "label_data = np.array(temp)\n",
    "\n",
    "label_data"
   ]
  },
  {
   "cell_type": "markdown",
   "id": "divided-stamp",
   "metadata": {},
   "source": [
    "# 2. 데이터 분리"
   ]
  },
  {
   "cell_type": "code",
   "execution_count": 7,
   "id": "female-sperm",
   "metadata": {},
   "outputs": [
    {
     "name": "stdout",
     "output_type": "stream",
     "text": [
      "[[[1.56338941e-02 5.98559994e-03 3.47525300e-03 ... 1.61023233e-02\n",
      "   1.23506095e-02 5.27697708e-03]\n",
      "  [2.15346459e-02 1.12866564e-02 2.52908980e-03 ... 1.01560950e-02\n",
      "   1.06296027e-02 4.28791437e-03]\n",
      "  [2.14749202e-02 1.86160617e-02 1.06057562e-02 ... 6.97972765e-03\n",
      "   7.26849772e-03 5.27644157e-03]\n",
      "  ...\n",
      "  [3.00596468e-03 1.15958508e-03 4.40791278e-04 ... 5.89101168e-04\n",
      "   1.83075608e-03 3.30822170e-03]\n",
      "  [2.64436239e-03 1.41944748e-03 2.66541410e-05 ... 1.78418792e-04\n",
      "   1.96623593e-03 3.62596102e-03]\n",
      "  [2.73528649e-03 1.37464702e-03 1.92585703e-05 ... 5.60071458e-05\n",
      "   1.73310982e-03 3.51327704e-03]]\n",
      "\n",
      " [[8.33426863e-02 3.70716117e-02 2.94636711e-02 ... 1.65238678e-02\n",
      "   7.07592955e-03 7.80025199e-02]\n",
      "  [2.55374834e-02 7.46496096e-02 7.90695846e-02 ... 6.57491758e-02\n",
      "   7.85286501e-02 9.17160213e-02]\n",
      "  [3.88107300e-02 7.72875845e-02 9.96010303e-02 ... 6.24491312e-02\n",
      "   6.72701299e-02 5.00156544e-02]\n",
      "  ...\n",
      "  [1.22878011e-02 1.15630543e-02 7.61979120e-03 ... 2.47029020e-05\n",
      "   1.19072056e-05 2.91406468e-05]\n",
      "  [3.91218840e-04 3.98444990e-03 2.74280738e-03 ... 1.34242428e-05\n",
      "   1.40092734e-05 3.03041652e-05]\n",
      "  [3.48908338e-03 1.54886080e-03 1.25419383e-03 ... 7.76164779e-06\n",
      "   2.10445542e-05 3.36584562e-05]]\n",
      "\n",
      " [[6.45014830e-03 3.66740534e-03 4.34888381e-04 ... 2.14097556e-04\n",
      "   4.21486084e-06 4.88708168e-03]\n",
      "  [4.72266925e-03 3.46565968e-03 9.30389622e-04 ... 6.02321001e-03\n",
      "   5.55552356e-03 3.96895641e-03]\n",
      "  [1.35454675e-02 5.11971116e-03 5.99303562e-03 ... 1.45088257e-02\n",
      "   1.54180117e-02 1.34538570e-02]\n",
      "  ...\n",
      "  [4.32631699e-03 1.89658790e-03 5.37177257e-04 ... 5.00401715e-04\n",
      "   2.28274590e-03 4.26266249e-03]\n",
      "  [4.34906129e-03 2.33607832e-03 5.85792586e-05 ... 1.55938789e-04\n",
      "   2.41438323e-03 4.49686358e-03]\n",
      "  [4.47498821e-03 2.21971725e-03 5.53420723e-05 ... 7.87208483e-05\n",
      "   2.17934302e-03 4.38594352e-03]]\n",
      "\n",
      " ...\n",
      "\n",
      " [[5.31286076e-02 3.19444016e-02 1.85369607e-02 ... 6.69502327e-03\n",
      "   4.83975571e-04 2.18591765e-02]\n",
      "  [1.54522806e-01 1.08485349e-01 1.32321119e-01 ... 1.38783947e-01\n",
      "   1.39940619e-01 1.52754277e-01]\n",
      "  [2.32352421e-01 2.31649816e-01 2.36411214e-01 ... 2.55691946e-01\n",
      "   2.56453097e-01 2.54285544e-01]\n",
      "  ...\n",
      "  [3.11273243e-03 1.60497800e-03 1.70430983e-04 ... 4.00902296e-04\n",
      "   9.13902884e-04 2.08608992e-03]\n",
      "  [3.16639943e-03 1.63031335e-03 8.06843163e-05 ... 9.77472009e-05\n",
      "   1.04548445e-03 1.93160097e-03]\n",
      "  [3.14049213e-03 1.55388436e-03 2.15927048e-05 ... 2.98802115e-05\n",
      "   9.84718907e-04 1.94094284e-03]]\n",
      "\n",
      " [[1.43473074e-01 6.84935376e-02 1.76873617e-02 ... 4.21069702e-03\n",
      "   2.15636455e-02 3.79401930e-02]\n",
      "  [2.24779516e-01 1.11377552e-01 5.22400737e-02 ... 1.15743913e-02\n",
      "   1.71518419e-02 4.09145318e-02]\n",
      "  [3.05801153e-01 2.32424870e-01 1.81251615e-01 ... 4.86528575e-02\n",
      "   7.01676235e-02 1.08661294e-01]\n",
      "  ...\n",
      "  [1.03891804e-03 4.15673538e-04 1.07797452e-04 ... 1.15847186e-04\n",
      "   8.77952334e-05 1.86348425e-05]\n",
      "  [9.19685175e-04 4.48495703e-04 1.02147140e-04 ... 2.31013728e-05\n",
      "   4.04242492e-05 1.21714065e-05]\n",
      "  [9.68050852e-04 5.33329323e-04 1.37651205e-05 ... 1.18935932e-05\n",
      "   3.77169526e-05 3.78189070e-05]]\n",
      "\n",
      " [[2.81029773e+00 2.36324596e+00 7.97234178e-01 ... 3.30036449e+00\n",
      "   1.54281437e+00 3.24752450e-01]\n",
      "  [2.25413129e-01 2.55781770e+00 1.55848324e+00 ... 2.13282204e+00\n",
      "   1.69808054e+00 1.10783458e+00]\n",
      "  [1.05213976e+00 3.05591059e+00 3.01344323e+00 ... 1.83492410e+00\n",
      "   1.67223895e+00 1.64797306e+00]\n",
      "  ...\n",
      "  [2.88155258e-01 1.79005697e-01 4.10445370e-02 ... 2.56174877e-02\n",
      "   9.28988680e-02 2.11436003e-01]\n",
      "  [3.06616485e-01 1.65897951e-01 4.10107896e-02 ... 1.61120836e-02\n",
      "   9.00886804e-02 1.69876367e-01]\n",
      "  [2.92623311e-01 1.29981160e-01 4.79529705e-03 ... 1.24200974e-02\n",
      "   8.37346390e-02 1.67695805e-01]]]\n"
     ]
    }
   ],
   "source": [
    "from sklearn.model_selection import train_test_split\n",
    "\n",
    "sr = 8000\n",
    "train_spec, test_spec, train_label, test_label = train_test_split(spec, \n",
    "                                                                label_data, \n",
    "                                                                test_size=0.1,\n",
    "                                                                shuffle=True)\n",
    "print(train_spec)\n",
    "\n",
    "#train_wav = train_wav.reshape([-1, sr, 1]) # add channel for CNN\n",
    "#test_wav = test_wav.reshape([-1, sr, 1])\n",
    "#print(\"✅\")"
   ]
  },
  {
   "cell_type": "markdown",
   "id": "efficient-abortion",
   "metadata": {},
   "source": [
    "### ↳ 이미 Spectrogram으로 바뀌어서 reshape은 생략해주었다."
   ]
  },
  {
   "cell_type": "code",
   "execution_count": 8,
   "id": "studied-software",
   "metadata": {
    "scrolled": true
   },
   "outputs": [
    {
     "name": "stdout",
     "output_type": "stream",
     "text": [
      "train data :  (45558, 130, 126)\n",
      "train labels :  (45558,)\n",
      "test data :  (5062, 130, 126)\n",
      "test labels :  (5062,)\n",
      "✅\n"
     ]
    }
   ],
   "source": [
    "print(\"train data : \", train_spec.shape)\n",
    "print(\"train labels : \", train_label.shape)\n",
    "print(\"test data : \", test_spec.shape)\n",
    "print(\"test labels : \", test_label.shape)\n",
    "print(\"✅\")"
   ]
  },
  {
   "cell_type": "code",
   "execution_count": 9,
   "id": "black-imperial",
   "metadata": {},
   "outputs": [],
   "source": [
    "del speech_data\n",
    "del spec"
   ]
  },
  {
   "cell_type": "markdown",
   "id": "patent-cornell",
   "metadata": {},
   "source": [
    "### ↳커널이 죽는 계속 현상이 계속 발생해 메모리를 날려준다"
   ]
  },
  {
   "cell_type": "markdown",
   "id": "intimate-afghanistan",
   "metadata": {},
   "source": [
    "# 3. Hyper-Parameter Setting"
   ]
  },
  {
   "cell_type": "code",
   "execution_count": 10,
   "id": "defined-chase",
   "metadata": {},
   "outputs": [
    {
     "data": {
      "text/plain": [
       "'/home/aiffel-dj53/aiffel/speech_recognition/models/spec'"
      ]
     },
     "execution_count": 10,
     "metadata": {},
     "output_type": "execute_result"
    }
   ],
   "source": [
    "batch_size = 32\n",
    "max_epochs = 10\n",
    "\n",
    "# the save point\n",
    "checkpoint_dir = os.getenv('HOME')+'/aiffel/speech_recognition/models/spec'\n",
    "\n",
    "checkpoint_dir"
   ]
  },
  {
   "cell_type": "markdown",
   "id": "therapeutic-sustainability",
   "metadata": {},
   "source": [
    "# 4. tf.Dataset을 이용한 데이터 구성"
   ]
  },
  {
   "cell_type": "code",
   "execution_count": 11,
   "id": "nominated-payday",
   "metadata": {},
   "outputs": [
    {
     "name": "stdout",
     "output_type": "stream",
     "text": [
      "✅\n"
     ]
    }
   ],
   "source": [
    "def one_hot_label(spec, label):\n",
    "    label = tf.one_hot(label, depth=12)\n",
    "    return spec, label\n",
    "print(\"✅\")"
   ]
  },
  {
   "cell_type": "code",
   "execution_count": 12,
   "id": "exotic-somewhere",
   "metadata": {},
   "outputs": [
    {
     "name": "stdout",
     "output_type": "stream",
     "text": [
      "<BatchDataset shapes: ((None, 130, 126), (None, 12)), types: (tf.float32, tf.float32)>\n",
      "<BatchDataset shapes: ((None, 130, 126), (None, 12)), types: (tf.float32, tf.float32)>\n",
      "✅\n"
     ]
    }
   ],
   "source": [
    "import tensorflow as tf\n",
    "\n",
    "# for train\n",
    "train_dataset = tf.data.Dataset.from_tensor_slices((train_spec, train_label))\n",
    "train_dataset = train_dataset.map(one_hot_label)\n",
    "train_dataset = train_dataset.repeat().batch(batch_size=batch_size)\n",
    "print(train_dataset)\n",
    "\n",
    "# for test\n",
    "test_dataset = tf.data.Dataset.from_tensor_slices((test_spec, test_label))\n",
    "test_dataset = test_dataset.map(one_hot_label)\n",
    "test_dataset = test_dataset.batch(batch_size=batch_size)\n",
    "print(test_dataset)\n",
    "print(\"✅\")"
   ]
  },
  {
   "cell_type": "markdown",
   "id": "designed-nebraska",
   "metadata": {},
   "source": [
    "# 5. Spectrogram Classification Model 구현"
   ]
  },
  {
   "cell_type": "code",
   "execution_count": 13,
   "id": "utility-superior",
   "metadata": {
    "scrolled": true
   },
   "outputs": [
    {
     "name": "stdout",
     "output_type": "stream",
     "text": [
      "Model: \"model\"\n",
      "_________________________________________________________________\n",
      "Layer (type)                 Output Shape              Param #   \n",
      "=================================================================\n",
      "input_1 (InputLayer)         [(None, 130, 126, 1)]     0         \n",
      "_________________________________________________________________\n",
      "conv2d (Conv2D)              (None, 130, 126, 32)      320       \n",
      "_________________________________________________________________\n",
      "conv2d_1 (Conv2D)            (None, 130, 126, 32)      9248      \n",
      "_________________________________________________________________\n",
      "max_pooling2d (MaxPooling2D) (None, 65, 63, 32)        0         \n",
      "_________________________________________________________________\n",
      "conv2d_2 (Conv2D)            (None, 65, 63, 64)        18496     \n",
      "_________________________________________________________________\n",
      "conv2d_3 (Conv2D)            (None, 65, 63, 64)        36928     \n",
      "_________________________________________________________________\n",
      "max_pooling2d_1 (MaxPooling2 (None, 32, 31, 64)        0         \n",
      "_________________________________________________________________\n",
      "conv2d_4 (Conv2D)            (None, 32, 31, 128)       73856     \n",
      "_________________________________________________________________\n",
      "conv2d_5 (Conv2D)            (None, 32, 31, 128)       147584    \n",
      "_________________________________________________________________\n",
      "conv2d_6 (Conv2D)            (None, 32, 31, 128)       147584    \n",
      "_________________________________________________________________\n",
      "max_pooling2d_2 (MaxPooling2 (None, 16, 15, 128)       0         \n",
      "_________________________________________________________________\n",
      "conv2d_7 (Conv2D)            (None, 16, 15, 256)       295168    \n",
      "_________________________________________________________________\n",
      "conv2d_8 (Conv2D)            (None, 16, 15, 256)       590080    \n",
      "_________________________________________________________________\n",
      "conv2d_9 (Conv2D)            (None, 16, 15, 256)       590080    \n",
      "_________________________________________________________________\n",
      "max_pooling2d_3 (MaxPooling2 (None, 8, 7, 256)         0         \n",
      "_________________________________________________________________\n",
      "dropout (Dropout)            (None, 8, 7, 256)         0         \n",
      "_________________________________________________________________\n",
      "flatten (Flatten)            (None, 14336)             0         \n",
      "_________________________________________________________________\n",
      "dense (Dense)                (None, 256)               3670272   \n",
      "_________________________________________________________________\n",
      "batch_normalization (BatchNo (None, 256)               1024      \n",
      "_________________________________________________________________\n",
      "activation (Activation)      (None, 256)               0         \n",
      "_________________________________________________________________\n",
      "dense_1 (Dense)              (None, 12)                3084      \n",
      "=================================================================\n",
      "Total params: 5,583,724\n",
      "Trainable params: 5,583,212\n",
      "Non-trainable params: 512\n",
      "_________________________________________________________________\n"
     ]
    }
   ],
   "source": [
    "from tensorflow.keras import layers\n",
    "\n",
    "input_tensor = layers.Input(shape=(130, 126, 1))\n",
    "\n",
    "x = layers.Conv2D(32, (3,3), padding='same', activation='relu')(input_tensor)\n",
    "x = layers.Conv2D(32, (3,3), padding='same', activation='relu')(x)\n",
    "x = layers.MaxPool2D((2,2))(x)\n",
    "\n",
    "x = layers.Conv2D(64, (3,3), padding='same', activation='relu')(x)\n",
    "x = layers.Conv2D(64, (3,3), padding='same', activation='relu')(x)\n",
    "x = layers.MaxPool2D((2,2))(x)\n",
    "\n",
    "x = layers.Conv2D(128, (3,3), padding='same', activation='relu')(x)\n",
    "x = layers.Conv2D(128, (3,3), padding='same', activation='relu')(x)\n",
    "x = layers.Conv2D(128, (3,3), padding='same', activation='relu')(x)\n",
    "x = layers.MaxPool2D((2,2))(x)\n",
    "\n",
    "x = layers.Conv2D(256, (3,3), padding='same', activation='relu')(x)\n",
    "x = layers.Conv2D(256, (3,3), padding='same', activation='relu')(x)\n",
    "x = layers.Conv2D(256, (3,3), padding='same', activation='relu')(x)\n",
    "x = layers.MaxPool2D((2,2))(x)\n",
    "x = layers.Dropout(0.3)(x)\n",
    "\n",
    "x = layers.Flatten()(x)\n",
    "x = layers.Dense(256)(x)\n",
    "x = layers.BatchNormalization()(x)\n",
    "x = layers.Activation('relu')(x)\n",
    "\n",
    "output_tensor = layers.Dense(12)(x)\n",
    "\n",
    "model_wav = tf.keras.Model(input_tensor, output_tensor)\n",
    "\n",
    "model_wav.summary()"
   ]
  },
  {
   "cell_type": "markdown",
   "id": "altered-evanescence",
   "metadata": {},
   "source": [
    "### ↳ wav데이터와 달리 Spectrogram은 2차원적 데이터라 Conv1d에서 Conv2d로 변환시켜 모델을 구성하였다."
   ]
  },
  {
   "cell_type": "code",
   "execution_count": 57,
   "id": "instructional-consensus",
   "metadata": {},
   "outputs": [
    {
     "name": "stdout",
     "output_type": "stream",
     "text": [
      "✅\n"
     ]
    }
   ],
   "source": [
    "optimizer=tf.keras.optimizers.Adam(1e-4)\n",
    "model_wav.compile(loss=tf.keras.losses.CategoricalCrossentropy(from_logits=True),\n",
    "             optimizer=optimizer,\n",
    "             metrics=['accuracy'])\n",
    "print(\"✅\")"
   ]
  },
  {
   "cell_type": "code",
   "execution_count": 58,
   "id": "opposite-wichita",
   "metadata": {},
   "outputs": [
    {
     "name": "stdout",
     "output_type": "stream",
     "text": [
      "✅\n"
     ]
    }
   ],
   "source": [
    "# the save point\n",
    "checkpoint_dir = os.getenv('HOME')+'/aiffel/speech_recognition/models/spec_skip'\n",
    "\n",
    "cp_callback = tf.keras.callbacks.ModelCheckpoint(checkpoint_dir,\n",
    "                                                 save_weights_only=True,\n",
    "                                                 monitor='val_loss',\n",
    "                                                 mode='auto',\n",
    "                                                 save_best_only=True,\n",
    "                                                 verbose=1)\n",
    "print(\"✅\")"
   ]
  },
  {
   "cell_type": "markdown",
   "id": "sweet-graduate",
   "metadata": {},
   "source": [
    "# 6. Training"
   ]
  },
  {
   "cell_type": "code",
   "execution_count": 16,
   "id": "female-nigeria",
   "metadata": {},
   "outputs": [
    {
     "name": "stdout",
     "output_type": "stream",
     "text": [
      "Epoch 1/10\n",
      "1422/1423 [============================>.] - ETA: 0s - loss: 0.7597 - accuracy: 0.7540\n",
      "Epoch 00001: val_loss improved from inf to 0.48094, saving model to /home/aiffel-dj53/aiffel/speech_recognition/models/spec_skip\n",
      "1423/1423 [==============================] - 66s 47ms/step - loss: 0.7595 - accuracy: 0.7540 - val_loss: 0.4809 - val_accuracy: 0.8584\n",
      "Epoch 2/10\n",
      "1423/1423 [==============================] - ETA: 0s - loss: 0.2626 - accuracy: 0.9190\n",
      "Epoch 00002: val_loss improved from 0.48094 to 0.21036, saving model to /home/aiffel-dj53/aiffel/speech_recognition/models/spec_skip\n",
      "1423/1423 [==============================] - 62s 43ms/step - loss: 0.2626 - accuracy: 0.9190 - val_loss: 0.2104 - val_accuracy: 0.9343\n",
      "Epoch 3/10\n",
      "1423/1423 [==============================] - ETA: 0s - loss: 0.1694 - accuracy: 0.9502\n",
      "Epoch 00003: val_loss improved from 0.21036 to 0.18153, saving model to /home/aiffel-dj53/aiffel/speech_recognition/models/spec_skip\n",
      "1423/1423 [==============================] - 64s 45ms/step - loss: 0.1694 - accuracy: 0.9502 - val_loss: 0.1815 - val_accuracy: 0.9440\n",
      "Epoch 4/10\n",
      "1423/1423 [==============================] - ETA: 0s - loss: 0.1221 - accuracy: 0.9636\n",
      "Epoch 00004: val_loss improved from 0.18153 to 0.15022, saving model to /home/aiffel-dj53/aiffel/speech_recognition/models/spec_skip\n",
      "1423/1423 [==============================] - 62s 43ms/step - loss: 0.1221 - accuracy: 0.9636 - val_loss: 0.1502 - val_accuracy: 0.9498\n",
      "Epoch 5/10\n",
      "1422/1423 [============================>.] - ETA: 0s - loss: 0.0955 - accuracy: 0.9713\n",
      "Epoch 00005: val_loss improved from 0.15022 to 0.12589, saving model to /home/aiffel-dj53/aiffel/speech_recognition/models/spec_skip\n",
      "1423/1423 [==============================] - 62s 44ms/step - loss: 0.0956 - accuracy: 0.9713 - val_loss: 0.1259 - val_accuracy: 0.9559\n",
      "Epoch 6/10\n",
      "1423/1423 [==============================] - ETA: 0s - loss: 0.0764 - accuracy: 0.9769\n",
      "Epoch 00006: val_loss improved from 0.12589 to 0.10883, saving model to /home/aiffel-dj53/aiffel/speech_recognition/models/spec_skip\n",
      "1423/1423 [==============================] - 62s 44ms/step - loss: 0.0764 - accuracy: 0.9769 - val_loss: 0.1088 - val_accuracy: 0.9650\n",
      "Epoch 7/10\n",
      "1423/1423 [==============================] - ETA: 0s - loss: 0.0630 - accuracy: 0.9816\n",
      "Epoch 00007: val_loss improved from 0.10883 to 0.10293, saving model to /home/aiffel-dj53/aiffel/speech_recognition/models/spec_skip\n",
      "1423/1423 [==============================] - 62s 44ms/step - loss: 0.0630 - accuracy: 0.9816 - val_loss: 0.1029 - val_accuracy: 0.9666\n",
      "Epoch 8/10\n",
      "1423/1423 [==============================] - ETA: 0s - loss: 0.0542 - accuracy: 0.9834\n",
      "Epoch 00008: val_loss did not improve from 0.10293\n",
      "1423/1423 [==============================] - 62s 44ms/step - loss: 0.0542 - accuracy: 0.9834 - val_loss: 0.1070 - val_accuracy: 0.9638\n",
      "Epoch 9/10\n",
      "1423/1423 [==============================] - ETA: 0s - loss: 0.0476 - accuracy: 0.9852\n",
      "Epoch 00009: val_loss improved from 0.10293 to 0.09992, saving model to /home/aiffel-dj53/aiffel/speech_recognition/models/spec_skip\n",
      "1423/1423 [==============================] - 62s 44ms/step - loss: 0.0476 - accuracy: 0.9852 - val_loss: 0.0999 - val_accuracy: 0.9664\n",
      "Epoch 10/10\n",
      "1423/1423 [==============================] - ETA: 0s - loss: 0.0427 - accuracy: 0.9868\n",
      "Epoch 00010: val_loss did not improve from 0.09992\n",
      "1423/1423 [==============================] - 61s 43ms/step - loss: 0.0427 - accuracy: 0.9868 - val_loss: 0.1048 - val_accuracy: 0.9664\n",
      "✅\n"
     ]
    }
   ],
   "source": [
    "#30분 내외 소요\n",
    "history_wav = model_wav.fit(train_dataset, epochs=max_epochs,\n",
    "                    steps_per_epoch=len(train_spec) // batch_size,\n",
    "                    validation_data=test_dataset,\n",
    "                    validation_steps=len(test_spec) // batch_size,\n",
    "                    callbacks=[cp_callback]\n",
    "                    )\n",
    "print(\"✅\")"
   ]
  },
  {
   "cell_type": "markdown",
   "id": "classical-sharp",
   "metadata": {},
   "source": [
    "# 7. 학습결과 Plot"
   ]
  },
  {
   "cell_type": "code",
   "execution_count": 59,
   "id": "administrative-persian",
   "metadata": {},
   "outputs": [
    {
     "data": {
      "image/png": "[encoded data removed]",
      "text/plain": [
       "<Figure size 576x576 with 2 Axes>"
      ]
     },
     "metadata": {
      "needs_background": "light"
     },
     "output_type": "display_data"
    },
    {
     "name": "stdout",
     "output_type": "stream",
     "text": [
      "✅\n"
     ]
    }
   ],
   "source": [
    "import matplotlib.pyplot as plt\n",
    "\n",
    "acc = history_wav.history['accuracy']\n",
    "val_acc = history_wav.history['val_accuracy']\n",
    "\n",
    "loss=history_wav.history['loss']\n",
    "val_loss=history_wav.history['val_loss']\n",
    "\n",
    "epochs_range = range(len(acc))\n",
    "\n",
    "plt.figure(figsize=(8, 8))\n",
    "plt.subplot(1, 2, 1)\n",
    "plt.plot(epochs_range, acc, label='Training Accuracy')\n",
    "plt.plot(epochs_range, val_acc, label='Validation Accuracy')\n",
    "plt.legend(loc='lower right')\n",
    "plt.title('Training and Validation Accuracy')\n",
    "\n",
    "plt.subplot(1, 2, 2)\n",
    "plt.plot(epochs_range, loss, label='Training Loss')\n",
    "plt.plot(epochs_range, val_loss, label='Validation Loss')\n",
    "plt.legend(loc='upper right')\n",
    "plt.title('Training and Validation Loss')\n",
    "plt.show()\n",
    "print(\"✅\")"
   ]
  },
  {
   "cell_type": "markdown",
   "id": "decreased-provider",
   "metadata": {},
   "source": [
    "# 8. 성능평가"
   ]
  },
  {
   "cell_type": "code",
   "execution_count": 20,
   "id": "stuffed-reach",
   "metadata": {
    "scrolled": true
   },
   "outputs": [
    {
     "name": "stdout",
     "output_type": "stream",
     "text": [
      "159/159 [==============================] - 29s 180ms/step - loss: 0.0998 - accuracy: 0.9664\n",
      "loss value: 0.100\n",
      "accuracy value: 96.6416%\n",
      "✅\n"
     ]
    }
   ],
   "source": [
    "# Evaluation \n",
    "\n",
    "model_wav.load_weights(checkpoint_dir)\n",
    "results = model_wav.evaluate(test_dataset)\n",
    "\n",
    "# loss\n",
    "print(\"loss value: {:.3f}\".format(results[0]))\n",
    "# accuracy\n",
    "print(\"accuracy value: {:.4f}%\".format(results[1]*100))\n",
    "print(\"✅\")"
   ]
  },
  {
   "cell_type": "markdown",
   "id": "sustained-investigator",
   "metadata": {},
   "source": [
    "### ↳96.64%로 꽤 훌륭한 성과를 보여준다"
   ]
  },
  {
   "cell_type": "code",
   "execution_count": 55,
   "id": "hungry-contact",
   "metadata": {},
   "outputs": [
    {
     "name": "stdout",
     "output_type": "stream",
     "text": [
      "label :  up\n"
     ]
    }
   ],
   "source": [
    "# Test \n",
    "\n",
    "inv_label_value = {v: k for k, v in label_value.items()}\n",
    "batch_index = np.random.choice(len(test_spec), size=1, replace=False)\n",
    "\n",
    "batch_xs = test_spec[batch_index]\n",
    "batch_ys = test_label[batch_index]\n",
    "y_pred_ = model_wav(batch_xs, training=False)\n",
    "\n",
    "print(\"label : \", str(inv_label_value[batch_ys[0]]))\n",
    "\n",
    "#ipd.Audio(batch_xs.reshape(8000,), rate=8000)"
   ]
  },
  {
   "cell_type": "code",
   "execution_count": 56,
   "id": "located-johns",
   "metadata": {},
   "outputs": [
    {
     "name": "stdout",
     "output_type": "stream",
     "text": [
      "y_pred: up(Correct!)\n",
      "✅\n"
     ]
    }
   ],
   "source": [
    "if np.argmax(y_pred_) == batch_ys[0]:\n",
    "    print(\"y_pred: \" + str(inv_label_value[np.argmax(y_pred_)]) + '(Correct!)')\n",
    "else:\n",
    "    print(\"y_pred: \" + str(inv_label_value[np.argmax(y_pred_)]) + '(Incorrect!)')\n",
    "print(\"✅\")"
   ]
  },
  {
   "cell_type": "markdown",
   "id": "handmade-difficulty",
   "metadata": {},
   "source": [
    "### ↳ 랜덤테스트에서도 좋은 성과를 보여준다"
   ]
  },
  {
   "cell_type": "markdown",
   "id": "affecting-wilson",
   "metadata": {},
   "source": [
    "---"
   ]
  },
  {
   "cell_type": "markdown",
   "id": "cognitive-lawsuit",
   "metadata": {},
   "source": [
    "# 회고"
   ]
  },
  {
   "cell_type": "markdown",
   "id": "corrected-hunter",
   "metadata": {},
   "source": [
    "## 1. 이론적인 부분에서부터 난해했던 프로젝트였다. 음성데이터에 대한 기본적인 이론부터 시작하여,wav데이터가 어떠한 구조를 가지고 있는지, 그 구조를 어떻게 변형시켜 모델 구성을 하는지, Spectrogram까지 생소한 개념들이 많아 이해가 힘들었다."
   ]
  },
  {
   "cell_type": "markdown",
   "id": "toxic-labor",
   "metadata": {},
   "source": [
    "## 2. 노드에서 일부 wav데이터를 spec으로 변환시키는 작업은 했었지만, 프로젝트를 위해 전체 데이터를 변환시키는 방법을 몰라 한참 고생했었다."
   ]
  },
  {
   "cell_type": "markdown",
   "id": "settled-policy",
   "metadata": {},
   "source": [
    "## 3. 유튜브를 시청할때 자동자막을 실행하면 꽤 좋은 음성 인식력을 보이곤했는데, 그 구조가 대충 어떻게 시행되는지 알수있는 기회였다."
   ]
  },
  {
   "cell_type": "markdown",
   "id": "adjacent-cooper",
   "metadata": {},
   "source": [
    "## 4. 비록 이번 프로젝트에선 주먹구구식으로 진행했지만, 후에 조금 더 심도있게 공부하여 나만의 음성 인식기를 구현해보고싶다."
   ]
  },
  {
   "cell_type": "code",
   "execution_count": null,
   "id": "framed-perth",
   "metadata": {},
   "outputs": [],
   "source": []
  }
 ],
 "metadata": {
  "kernelspec": {
   "display_name": "aiffel",
   "language": "python",
   "name": "aiffel"
  },
  "language_info": {
   "codemirror_mode": {
    "name": "ipython",
    "version": 3
   },
   "file_extension": ".py",
   "mimetype": "text/x-python",
   "name": "python",
   "nbconvert_exporter": "python",
   "pygments_lexer": "ipython3",
   "version": "3.7.9"
  }
 },
 "nbformat": 4,
 "nbformat_minor": 5
}
