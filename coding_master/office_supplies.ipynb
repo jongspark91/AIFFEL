{
 "cells": [
  {
   "cell_type": "code",
   "execution_count": 3,
   "id": "brave-jerusalem",
   "metadata": {},
   "outputs": [],
   "source": [
    "import os\n",
    "import matplotlib.pyplot as plt\n",
    "import cv2\n",
    "import pandas as pd\n",
    "import numpy as np\n",
    "import seaborn as sns\n"
   ]
  },
  {
   "cell_type": "code",
   "execution_count": 2,
   "id": "taken-ribbon",
   "metadata": {},
   "outputs": [],
   "source": [
    "data_path = os.getenv('HOME')+'/AIFFEL/coding_master/data_officesupplies.csv'"
   ]
  },
  {
   "cell_type": "code",
   "execution_count": 5,
   "id": "preliminary-communication",
   "metadata": {},
   "outputs": [],
   "source": [
    "data = pd.read_csv(data_path)"
   ]
  },
  {
   "cell_type": "code",
   "execution_count": 11,
   "id": "increasing-nerve",
   "metadata": {
    "scrolled": false
   },
   "outputs": [
    {
     "data": {
      "text/html": [
       "<div>\n",
       "<style scoped>\n",
       "    .dataframe tbody tr th:only-of-type {\n",
       "        vertical-align: middle;\n",
       "    }\n",
       "\n",
       "    .dataframe tbody tr th {\n",
       "        vertical-align: top;\n",
       "    }\n",
       "\n",
       "    .dataframe thead th {\n",
       "        text-align: right;\n",
       "    }\n",
       "</style>\n",
       "<table border=\"1\" class=\"dataframe\">\n",
       "  <thead>\n",
       "    <tr style=\"text-align: right;\">\n",
       "      <th></th>\n",
       "      <th>OrderDate</th>\n",
       "      <th>Region</th>\n",
       "      <th>Rep</th>\n",
       "      <th>Item</th>\n",
       "      <th>Units</th>\n",
       "      <th>Unit Price</th>\n",
       "    </tr>\n",
       "  </thead>\n",
       "  <tbody>\n",
       "    <tr>\n",
       "      <th>0</th>\n",
       "      <td>4-Jul-2014</td>\n",
       "      <td>East</td>\n",
       "      <td>Richard</td>\n",
       "      <td>Pen Set</td>\n",
       "      <td>62</td>\n",
       "      <td>4.99</td>\n",
       "    </tr>\n",
       "    <tr>\n",
       "      <th>1</th>\n",
       "      <td>12-Jul-2014</td>\n",
       "      <td>East</td>\n",
       "      <td>Nick</td>\n",
       "      <td>Binder</td>\n",
       "      <td>29</td>\n",
       "      <td>1.99</td>\n",
       "    </tr>\n",
       "    <tr>\n",
       "      <th>2</th>\n",
       "      <td>21-Jul-2014</td>\n",
       "      <td>Central</td>\n",
       "      <td>Morgan</td>\n",
       "      <td>Pen Set</td>\n",
       "      <td>55</td>\n",
       "      <td>12.49</td>\n",
       "    </tr>\n",
       "    <tr>\n",
       "      <th>3</th>\n",
       "      <td>29-Jul-2014</td>\n",
       "      <td>East</td>\n",
       "      <td>Susan</td>\n",
       "      <td>Binder</td>\n",
       "      <td>81</td>\n",
       "      <td>19.99</td>\n",
       "    </tr>\n",
       "    <tr>\n",
       "      <th>4</th>\n",
       "      <td>7-Aug-2014</td>\n",
       "      <td>Central</td>\n",
       "      <td>Matthew</td>\n",
       "      <td>Pen Set</td>\n",
       "      <td>42</td>\n",
       "      <td>23.95</td>\n",
       "    </tr>\n",
       "  </tbody>\n",
       "</table>\n",
       "</div>"
      ],
      "text/plain": [
       "     OrderDate   Region      Rep     Item  Units  Unit Price\n",
       "0   4-Jul-2014     East  Richard  Pen Set     62        4.99\n",
       "1  12-Jul-2014     East     Nick   Binder     29        1.99\n",
       "2  21-Jul-2014  Central   Morgan  Pen Set     55       12.49\n",
       "3  29-Jul-2014     East    Susan   Binder     81       19.99\n",
       "4   7-Aug-2014  Central  Matthew  Pen Set     42       23.95"
      ]
     },
     "execution_count": 11,
     "metadata": {},
     "output_type": "execute_result"
    }
   ],
   "source": [
    "data.head()"
   ]
  },
  {
   "cell_type": "code",
   "execution_count": 47,
   "id": "olympic-rehabilitation",
   "metadata": {},
   "outputs": [
    {
     "data": {
      "text/plain": [
       "['Jul-2014',\n",
       " 'Jul-2014',\n",
       " 'Jul-2014',\n",
       " 'Jul-2014',\n",
       " 'Aug-2014',\n",
       " 'Aug-2014',\n",
       " 'Aug-2014',\n",
       " 'Sep-2014',\n",
       " 'Sep-2014',\n",
       " 'Sep-2014',\n",
       " 'Sep-2014',\n",
       " 'Oct-2014',\n",
       " 'Oct-2014',\n",
       " 'Oct-2014',\n",
       " 'Oct-2014',\n",
       " 'Nov-2014',\n",
       " 'Nov-2014',\n",
       " 'Nov-2014',\n",
       " 'Dec-2014',\n",
       " 'Dec-2014',\n",
       " 'Dec-2014',\n",
       " 'Dec-2014',\n",
       " 'Jan-2015',\n",
       " 'Jan-2015',\n",
       " 'Jan-2015',\n",
       " 'Feb-2015',\n",
       " 'Feb-2015',\n",
       " 'Feb-2015',\n",
       " 'Feb-2015',\n",
       " 'Mar-2015',\n",
       " 'Mar-2015',\n",
       " 'Mar-2015',\n",
       " 'Apr-2015',\n",
       " 'Apr-2015',\n",
       " 'Apr-2015',\n",
       " 'Apr-2015',\n",
       " 'May-2015',\n",
       " 'May-2015',\n",
       " 'May-2015',\n",
       " 'May-2015',\n",
       " 'Jun-2015',\n",
       " 'Jun-2015',\n",
       " 'Jun-2015']"
      ]
     },
     "execution_count": 47,
     "metadata": {},
     "output_type": "execute_result"
    }
   ],
   "source": [
    "date = []\n",
    "for i in data['OrderDate']:\n",
    "    i.split('-')\n",
    "    date.append(i[-8:] )\n",
    "    \n",
    "date"
   ]
  },
  {
   "cell_type": "code",
   "execution_count": 48,
   "id": "nasty-reducing",
   "metadata": {},
   "outputs": [
    {
     "data": {
      "text/html": [
       "<div>\n",
       "<style scoped>\n",
       "    .dataframe tbody tr th:only-of-type {\n",
       "        vertical-align: middle;\n",
       "    }\n",
       "\n",
       "    .dataframe tbody tr th {\n",
       "        vertical-align: top;\n",
       "    }\n",
       "\n",
       "    .dataframe thead th {\n",
       "        text-align: right;\n",
       "    }\n",
       "</style>\n",
       "<table border=\"1\" class=\"dataframe\">\n",
       "  <thead>\n",
       "    <tr style=\"text-align: right;\">\n",
       "      <th></th>\n",
       "      <th>OrderDate</th>\n",
       "      <th>Region</th>\n",
       "      <th>Rep</th>\n",
       "      <th>Item</th>\n",
       "      <th>Units</th>\n",
       "      <th>Unit Price</th>\n",
       "      <th>Date</th>\n",
       "    </tr>\n",
       "  </thead>\n",
       "  <tbody>\n",
       "    <tr>\n",
       "      <th>0</th>\n",
       "      <td>4-Jul-2014</td>\n",
       "      <td>East</td>\n",
       "      <td>Richard</td>\n",
       "      <td>Pen Set</td>\n",
       "      <td>62</td>\n",
       "      <td>4.99</td>\n",
       "      <td>Jul-2014</td>\n",
       "    </tr>\n",
       "    <tr>\n",
       "      <th>1</th>\n",
       "      <td>12-Jul-2014</td>\n",
       "      <td>East</td>\n",
       "      <td>Nick</td>\n",
       "      <td>Binder</td>\n",
       "      <td>29</td>\n",
       "      <td>1.99</td>\n",
       "      <td>Jul-2014</td>\n",
       "    </tr>\n",
       "    <tr>\n",
       "      <th>2</th>\n",
       "      <td>21-Jul-2014</td>\n",
       "      <td>Central</td>\n",
       "      <td>Morgan</td>\n",
       "      <td>Pen Set</td>\n",
       "      <td>55</td>\n",
       "      <td>12.49</td>\n",
       "      <td>Jul-2014</td>\n",
       "    </tr>\n",
       "    <tr>\n",
       "      <th>3</th>\n",
       "      <td>29-Jul-2014</td>\n",
       "      <td>East</td>\n",
       "      <td>Susan</td>\n",
       "      <td>Binder</td>\n",
       "      <td>81</td>\n",
       "      <td>19.99</td>\n",
       "      <td>Jul-2014</td>\n",
       "    </tr>\n",
       "    <tr>\n",
       "      <th>4</th>\n",
       "      <td>7-Aug-2014</td>\n",
       "      <td>Central</td>\n",
       "      <td>Matthew</td>\n",
       "      <td>Pen Set</td>\n",
       "      <td>42</td>\n",
       "      <td>23.95</td>\n",
       "      <td>Aug-2014</td>\n",
       "    </tr>\n",
       "  </tbody>\n",
       "</table>\n",
       "</div>"
      ],
      "text/plain": [
       "     OrderDate   Region      Rep     Item  Units  Unit Price      Date\n",
       "0   4-Jul-2014     East  Richard  Pen Set     62        4.99  Jul-2014\n",
       "1  12-Jul-2014     East     Nick   Binder     29        1.99  Jul-2014\n",
       "2  21-Jul-2014  Central   Morgan  Pen Set     55       12.49  Jul-2014\n",
       "3  29-Jul-2014     East    Susan   Binder     81       19.99  Jul-2014\n",
       "4   7-Aug-2014  Central  Matthew  Pen Set     42       23.95  Aug-2014"
      ]
     },
     "execution_count": 48,
     "metadata": {},
     "output_type": "execute_result"
    }
   ],
   "source": [
    "data['Date'] = date\n",
    "data.head()"
   ]
  },
  {
   "cell_type": "markdown",
   "id": "hundred-success",
   "metadata": {},
   "source": [
    "# Region별 판매량"
   ]
  },
  {
   "cell_type": "code",
   "execution_count": 27,
   "id": "spare-imaging",
   "metadata": {},
   "outputs": [
    {
     "data": {
      "image/png": "[encoded data removed]",
      "text/plain": [
       "<Figure size 720x360 with 1 Axes>"
      ]
     },
     "metadata": {
      "needs_background": "light"
     },
     "output_type": "display_data"
    }
   ],
   "source": [
    "plt.figure(figsize = (10,5))\n",
    "plt.bar(data['Region'],data['Units'])\n",
    "plt.title('Goods Sold per Region')\n",
    "plt.show()"
   ]
  },
  {
   "cell_type": "markdown",
   "id": "consolidated-crime",
   "metadata": {},
   "source": [
    "# Region별 매출"
   ]
  },
  {
   "cell_type": "code",
   "execution_count": 29,
   "id": "pressed-banks",
   "metadata": {},
   "outputs": [
    {
     "data": {
      "image/png": "[encoded data removed]",
      "text/plain": [
       "<Figure size 720x360 with 1 Axes>"
      ]
     },
     "metadata": {
      "needs_background": "light"
     },
     "output_type": "display_data"
    }
   ],
   "source": [
    "plt.figure(figsize = (10,5))\n",
    "plt.bar(data['Region'], data['Units'] * data['Unit Price'])\n",
    "plt.title('Sales per Region')\n",
    "plt.show()"
   ]
  },
  {
   "cell_type": "markdown",
   "id": "olive-clothing",
   "metadata": {},
   "source": [
    "# 판매원 별 매출"
   ]
  },
  {
   "cell_type": "code",
   "execution_count": 31,
   "id": "competitive-metabolism",
   "metadata": {
    "scrolled": false
   },
   "outputs": [
    {
     "data": {
      "image/png": "[encoded data removed]",
      "text/plain": [
       "<Figure size 720x360 with 1 Axes>"
      ]
     },
     "metadata": {
      "needs_background": "light"
     },
     "output_type": "display_data"
    }
   ],
   "source": [
    "plt.figure(figsize = (10,5))\n",
    "plt.bar(data['Rep'], data['Units'] * data['Unit Price'])\n",
    "plt.title('Sales per Representative')\n",
    "plt.show()"
   ]
  },
  {
   "cell_type": "markdown",
   "id": "virgin-astronomy",
   "metadata": {},
   "source": [
    "# 월별 매출"
   ]
  },
  {
   "cell_type": "code",
   "execution_count": 61,
   "id": "adaptive-antibody",
   "metadata": {
    "scrolled": true
   },
   "outputs": [
    {
     "data": {
      "image/png": "[encoded data removed]",
      "text/plain": [
       "<Figure size 864x360 with 1 Axes>"
      ]
     },
     "metadata": {
      "needs_background": "light"
     },
     "output_type": "display_data"
    }
   ],
   "source": [
    "plt.figure(figsize = (12,5))\n",
    "plt.plot(data['Date'], data['Units'] * data['Unit Price'])\n",
    "plt.title('Monthly Sales')\n",
    "plt.show()"
   ]
  },
  {
   "cell_type": "code",
   "execution_count": 62,
   "id": "technical-sponsorship",
   "metadata": {
    "scrolled": true
   },
   "outputs": [
    {
     "data": {
      "text/plain": [
       "0      309.38\n",
       "1       57.71\n",
       "2      686.95\n",
       "3     1619.19\n",
       "4     1005.90\n",
       "5      174.65\n",
       "6      825.00\n",
       "7      250.00\n",
       "8        9.03\n",
       "9      255.84\n",
       "10     151.24\n",
       "11     251.72\n",
       "12    1139.43\n",
       "13     575.36\n",
       "14      18.06\n",
       "15     299.85\n",
       "16      54.89\n",
       "17     479.04\n",
       "18    1879.06\n",
       "19      86.43\n",
       "20     139.72\n",
       "21    1183.26\n",
       "22     189.05\n",
       "23     413.54\n",
       "24     999.50\n",
       "25    1305.00\n",
       "26     179.64\n",
       "27      19.96\n",
       "28     539.73\n",
       "29     139.93\n",
       "30     167.44\n",
       "31     249.50\n",
       "32     299.40\n",
       "33     131.34\n",
       "34     149.25\n",
       "35     479.04\n",
       "36     449.10\n",
       "37      68.37\n",
       "38      63.68\n",
       "39     719.20\n",
       "40     539.40\n",
       "41     625.00\n",
       "42     449.10\n",
       "dtype: float64"
      ]
     },
     "execution_count": 62,
     "metadata": {},
     "output_type": "execute_result"
    }
   ],
   "source": [
    "Sales = data['Units'] * data['Unit Price']\n",
    "Sales\n"
   ]
  },
  {
   "cell_type": "code",
   "execution_count": 63,
   "id": "front-sheet",
   "metadata": {
    "scrolled": true
   },
   "outputs": [
    {
     "data": {
      "text/html": [
       "<div>\n",
       "<style scoped>\n",
       "    .dataframe tbody tr th:only-of-type {\n",
       "        vertical-align: middle;\n",
       "    }\n",
       "\n",
       "    .dataframe tbody tr th {\n",
       "        vertical-align: top;\n",
       "    }\n",
       "\n",
       "    .dataframe thead th {\n",
       "        text-align: right;\n",
       "    }\n",
       "</style>\n",
       "<table border=\"1\" class=\"dataframe\">\n",
       "  <thead>\n",
       "    <tr style=\"text-align: right;\">\n",
       "      <th></th>\n",
       "      <th>OrderDate</th>\n",
       "      <th>Region</th>\n",
       "      <th>Rep</th>\n",
       "      <th>Item</th>\n",
       "      <th>Units</th>\n",
       "      <th>Unit Price</th>\n",
       "      <th>Date</th>\n",
       "      <th>Sales</th>\n",
       "    </tr>\n",
       "  </thead>\n",
       "  <tbody>\n",
       "    <tr>\n",
       "      <th>0</th>\n",
       "      <td>4-Jul-2014</td>\n",
       "      <td>East</td>\n",
       "      <td>Richard</td>\n",
       "      <td>Pen Set</td>\n",
       "      <td>62</td>\n",
       "      <td>4.99</td>\n",
       "      <td>Jul-2014</td>\n",
       "      <td>309.38</td>\n",
       "    </tr>\n",
       "    <tr>\n",
       "      <th>1</th>\n",
       "      <td>12-Jul-2014</td>\n",
       "      <td>East</td>\n",
       "      <td>Nick</td>\n",
       "      <td>Binder</td>\n",
       "      <td>29</td>\n",
       "      <td>1.99</td>\n",
       "      <td>Jul-2014</td>\n",
       "      <td>57.71</td>\n",
       "    </tr>\n",
       "    <tr>\n",
       "      <th>2</th>\n",
       "      <td>21-Jul-2014</td>\n",
       "      <td>Central</td>\n",
       "      <td>Morgan</td>\n",
       "      <td>Pen Set</td>\n",
       "      <td>55</td>\n",
       "      <td>12.49</td>\n",
       "      <td>Jul-2014</td>\n",
       "      <td>686.95</td>\n",
       "    </tr>\n",
       "    <tr>\n",
       "      <th>3</th>\n",
       "      <td>29-Jul-2014</td>\n",
       "      <td>East</td>\n",
       "      <td>Susan</td>\n",
       "      <td>Binder</td>\n",
       "      <td>81</td>\n",
       "      <td>19.99</td>\n",
       "      <td>Jul-2014</td>\n",
       "      <td>1619.19</td>\n",
       "    </tr>\n",
       "    <tr>\n",
       "      <th>4</th>\n",
       "      <td>7-Aug-2014</td>\n",
       "      <td>Central</td>\n",
       "      <td>Matthew</td>\n",
       "      <td>Pen Set</td>\n",
       "      <td>42</td>\n",
       "      <td>23.95</td>\n",
       "      <td>Aug-2014</td>\n",
       "      <td>1005.90</td>\n",
       "    </tr>\n",
       "  </tbody>\n",
       "</table>\n",
       "</div>"
      ],
      "text/plain": [
       "     OrderDate   Region      Rep     Item  Units  Unit Price      Date  \\\n",
       "0   4-Jul-2014     East  Richard  Pen Set     62        4.99  Jul-2014   \n",
       "1  12-Jul-2014     East     Nick   Binder     29        1.99  Jul-2014   \n",
       "2  21-Jul-2014  Central   Morgan  Pen Set     55       12.49  Jul-2014   \n",
       "3  29-Jul-2014     East    Susan   Binder     81       19.99  Jul-2014   \n",
       "4   7-Aug-2014  Central  Matthew  Pen Set     42       23.95  Aug-2014   \n",
       "\n",
       "     Sales  \n",
       "0   309.38  \n",
       "1    57.71  \n",
       "2   686.95  \n",
       "3  1619.19  \n",
       "4  1005.90  "
      ]
     },
     "execution_count": 63,
     "metadata": {},
     "output_type": "execute_result"
    }
   ],
   "source": [
    "data['Sales'] = Sales\n",
    "data.head()"
   ]
  },
  {
   "cell_type": "markdown",
   "id": "spanish-exclusive",
   "metadata": {},
   "source": [
    "# 인기 품목"
   ]
  },
  {
   "cell_type": "code",
   "execution_count": 57,
   "id": "welsh-florida",
   "metadata": {},
   "outputs": [
    {
     "data": {
      "image/png": "[encoded data removed]",
      "text/plain": [
       "<Figure size 864x360 with 1 Axes>"
      ]
     },
     "metadata": {
      "needs_background": "light"
     },
     "output_type": "display_data"
    }
   ],
   "source": [
    "plt.figure(figsize = (12,5))\n",
    "plt.bar(data['Item'], data['Units'] * data['Unit Price'])\n",
    "plt.title('Most Sold Item')\n",
    "plt.show()"
   ]
  },
  {
   "cell_type": "code",
   "execution_count": null,
   "id": "threatened-attribute",
   "metadata": {},
   "outputs": [],
   "source": []
  }
 ],
 "metadata": {
  "kernelspec": {
   "display_name": "aiffel",
   "language": "python",
   "name": "aiffel"
  },
  "language_info": {
   "codemirror_mode": {
    "name": "ipython",
    "version": 3
   },
   "file_extension": ".py",
   "mimetype": "text/x-python",
   "name": "python",
   "nbconvert_exporter": "python",
   "pygments_lexer": "ipython3",
   "version": "3.7.9"
  }
 },
 "nbformat": 4,
 "nbformat_minor": 5
}
