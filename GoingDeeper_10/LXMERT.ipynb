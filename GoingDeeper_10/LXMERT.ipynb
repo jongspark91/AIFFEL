{
 "metadata": {
  "language_info": {
   "codemirror_mode": {
    "name": "ipython",
    "version": 3
   },
   "file_extension": ".py",
   "mimetype": "text/x-python",
   "name": "python",
   "nbconvert_exporter": "python",
   "pygments_lexer": "ipython3",
   "version": "3.7.9"
  },
  "orig_nbformat": 2,
  "kernelspec": {
   "name": "python3",
   "display_name": "Python 3.7.9 64-bit ('aiffel': conda)",
   "metadata": {
    "interpreter": {
     "hash": "4c90d37bfa0f6cee7230e0ca7c4fe4973eec2558a701045cc616562c2e060e72"
    }
   }
  }
 },
 "nbformat": 4,
 "nbformat_minor": 2,
 "cells": [
  {
   "cell_type": "code",
   "execution_count": 25,
   "metadata": {},
   "outputs": [
    {
     "output_type": "stream",
     "name": "stdout",
     "text": [
      "1.8.1+cu102\n"
     ]
    }
   ],
   "source": [
    "# 오늘 실습을 위한 작업디렉토리로 이동합니다.\n",
    "!cd ~/aiffel/lxmert\n",
    "\n",
    "from IPython.display import clear_output, Image, display\n",
    "import PIL.Image\n",
    "import io\n",
    "import json\n",
    "import torch\n",
    "import numpy as np\n",
    "from transformers import LxmertForQuestionAnswering, LxmertTokenizer\n",
    "import wget\n",
    "import pickle\n",
    "import os, sys\n",
    "\n",
    "# 추가해준 모듈을 임포트하기 위해 아래 경로를 path에 추가합니다. \n",
    "sys.path.append(os.getenv('HOME')+'/aiffel/lxmert')\n",
    "from processing_image import Preprocess\n",
    "from visualizing_image import SingleImageViz\n",
    "from modeling_frcnn import GeneralizedRCNN\n",
    "from utils import Config\n",
    "import utils\n",
    "\n",
    "print(torch.__version__)"
   ]
  },
  {
   "cell_type": "code",
   "execution_count": 26,
   "metadata": {},
   "outputs": [
    {
     "output_type": "stream",
     "name": "stdout",
     "text": [
      "1600\n['yolk', 'goal', 'bathroom', 'macaroni', 'umpire', 'toothpick', 'alarm clock', 'ceiling fan', 'photos', 'parrot', 'tail fin', 'birthday cake', 'calculator', 'catcher', 'toilet', 'batter', 'stop sign,stopsign', 'cone', 'microwave,microwave oven', 'skateboard ramp', 'tea', 'dugout', 'products', 'halter', 'kettle', 'kitchen', 'refrigerator,fridge', 'ostrich', 'bathtub', 'blinds']\n"
     ]
    }
   ],
   "source": [
    "# object definition\n",
    "OBJ_URL = \"https://raw.githubusercontent.com/airsplay/py-bottom-up-attention/master/demo/data/genome/1600-400-20/objects_vocab.txt\"\n",
    "objids = utils.get_data(OBJ_URL)\n",
    "print(len(objids))\n",
    "print(objids[:30])  #1600개의 단어사전 중 30개만 출력"
   ]
  },
  {
   "cell_type": "code",
   "execution_count": 27,
   "metadata": {},
   "outputs": [
    {
     "output_type": "stream",
     "name": "stdout",
     "text": [
      "400\n['gray,grey', 'multi colored,multi-colored,multicolored', 'double decker,double-decker', 'unmade', 'red', 'camouflage', 'blue', 'white', 'green', 'pink', 'yellow', 'black', 'ivory', 'throwing', 'orange', 'spiky', 'plaid', 'purple', 'soccer', 'brake', 'blonde', 'american', 'flat screen', 'brown', 'wooden', 'performing', 'pulled back', 'windshield', 'bald', 'chocolate']\n"
     ]
    }
   ],
   "source": [
    "# attribute definition\n",
    "ATTR_URL = \"https://raw.githubusercontent.com/airsplay/py-bottom-up-attention/master/demo/data/genome/1600-400-20/attributes_vocab.txt\"\n",
    "attrids = utils.get_data(ATTR_URL)\n",
    "print(len(attrids))\n",
    "print(attrids[:30])   #400개의 단어사전 중 30개만 출력"
   ]
  },
  {
   "cell_type": "code",
   "execution_count": 28,
   "metadata": {},
   "outputs": [
    {
     "output_type": "stream",
     "name": "stdout",
     "text": [
      "3129\n['', 'woods', 'trash can', 'hanging', 'wooden', 'cooking', 'china', 'kids', 'bike rack', 'on phone', 'music', 'travel', 'tulip', 'arrow', 'branch', 'chevron', 'mouth', 'on right', 'rice', 'plate', 'lots', 'nature', 'fruits', 'throwing frisbee', 'blonde', 'life jacket', 'ham', 'hay', 'hat', 'to get to other side']\n"
     ]
    }
   ],
   "source": [
    "# VQA answer definition\n",
    "VQA_URL = \"https://raw.githubusercontent.com/airsplay/lxmert/master/data/vqa/trainval_label2ans.json\"\n",
    "vqa_answers = utils.get_data(VQA_URL)\n",
    "print(len(vqa_answers))\n",
    "print(vqa_answers[:30])  #3129개의 단어사전 중 30개만 출력"
   ]
  },
  {
   "cell_type": "code",
   "execution_count": 29,
   "metadata": {},
   "outputs": [
    {
     "output_type": "stream",
     "name": "stdout",
     "text": [
      "loading configuration file cache\n"
     ]
    }
   ],
   "source": [
    "# 위 이미지의 URL\n",
    "URL = \"https://vqa.cloudcv.org/media/test2014/COCO_test2014_000000262567.jpg\"\n",
    "\n",
    "frcnn_cfg = Config.from_pretrained(\"unc-nlp/frcnn-vg-finetuned\")\n",
    "image_preprocess = Preprocess(frcnn_cfg)\n",
    "\n",
    "images, sizes, scales_yx = image_preprocess(URL)"
   ]
  },
  {
   "cell_type": "code",
   "execution_count": 30,
   "metadata": {},
   "outputs": [
    {
     "output_type": "stream",
     "name": "stdout",
     "text": [
      "tensor([[[[  61.0199,   61.2689,   62.1015,  ...,   50.5607,   50.1444,\n             50.0199],\n          [  60.8955,   61.1445,   61.9771,  ...,   50.8094,   50.3931,\n             50.2686],\n          [  60.4793,   60.7282,   61.5609,  ...,   51.6420,   51.2256,\n             51.1012],\n          ...,\n          [ -87.9801,  -88.0373,  -88.2285,  ...,   21.7716,   21.5466,\n             21.4793],\n          [ -87.9801,  -88.0891,  -88.4536,  ...,   21.9628,   21.9110,\n             21.8955],\n          [ -87.9801,  -88.1046,  -88.5209,  ...,   22.0199,   22.0199,\n             22.0199]],\n\n         [[  48.0535,   48.4269,   49.6759,  ...,   41.5943,   41.1780,\n             41.0535],\n          [  47.9291,   48.2871,   49.4843,  ...,   41.5943,   41.1780,\n             41.0535],\n          [  47.5129,   47.8190,   48.8429,  ...,   41.5943,   41.1780,\n             41.0535],\n          ...,\n          [ -99.9465,  -99.9364,  -99.9026,  ...,   13.8052,   13.5802,\n             13.5129],\n          [ -99.9465, -100.0400, -100.3528,  ...,   13.9964,   13.9446,\n             13.9291],\n          [ -99.9465, -100.0710, -100.4873,  ...,   14.0535,   14.0535,\n             14.0535]],\n\n         [[  41.2283,   41.3528,   41.7691,  ...,   35.7691,   35.3528,\n             35.2283],\n          [  41.1039,   41.2439,   41.7120,  ...,   35.7691,   35.3528,\n             35.2283],\n          [  40.6877,   40.8795,   41.5208,  ...,   35.7691,   35.3528,\n             35.2283],\n          ...,\n          [-102.7717, -102.9635, -103.6049,  ...,    9.9800,    9.7550,\n              9.6877],\n          [-102.7717, -102.9117, -103.3798,  ...,   10.1712,   10.1194,\n             10.1039],\n          [-102.7717, -102.8962, -103.3125,  ...,   10.2283,   10.2283,\n             10.2283]]]])\ntensor([[ 800, 1201]])\n"
     ]
    }
   ],
   "source": [
    "print(images)\n",
    "print(sizes)"
   ]
  },
  {
   "cell_type": "code",
   "execution_count": 32,
   "metadata": {},
   "outputs": [],
   "source": [
    "test_questions_for_url1 = [\n",
    "    \"Where is the cat?\",\n",
    "    \"What is near the disk?\",\n",
    "    \"What is the color of the table?\",\n",
    "    \"What is the color of the cat?\",\n",
    "    \"What is the shape of the monitor?\",\n",
    "    \"What is the color of the keyboard?\",]"
   ]
  },
  {
   "source": [
    "## F-RCNN"
   ],
   "cell_type": "markdown",
   "metadata": {}
  },
  {
   "cell_type": "code",
   "execution_count": 33,
   "metadata": {},
   "outputs": [
    {
     "output_type": "stream",
     "name": "stdout",
     "text": [
      "loading configuration file cache\n",
      "loading weights file https://cdn.huggingface.co/unc-nlp/frcnn-vg-finetuned/pytorch_model.bin from cache at /home/aiffel-dj53/.cache/torch/transformers/57f6df6abe353be2773f2700159c65615babf39ab5b48114d2b49267672ae10f.77b59256a4cf8343ae0f923246a81489fc8d82f98d082edc2d2037c977c0d9d0\n",
      "All model checkpoint weights were used when initializing GeneralizedRCNN.\n",
      "\n",
      "All the weights of GeneralizedRCNN were initialized from the model checkpoint at unc-nlp/frcnn-vg-finetuned.\n",
      "If your task is similar to the task the model of the checkpoint was trained on, you can already use GeneralizedRCNN for predictions without further training.\n"
     ]
    }
   ],
   "source": [
    "frcnn_cfg = Config.from_pretrained(\"unc-nlp/frcnn-vg-finetuned\")\n",
    "\n",
    "frcnn = GeneralizedRCNN.from_pretrained(\"unc-nlp/frcnn-vg-finetuned\", config=frcnn_cfg)"
   ]
  },
  {
   "cell_type": "code",
   "execution_count": 34,
   "metadata": {},
   "outputs": [
    {
     "output_type": "execute_result",
     "data": {
      "text/plain": [
       "36"
      ]
     },
     "metadata": {},
     "execution_count": 34
    }
   ],
   "source": [
    "frcnn_cfg.max_detections  # object detection 모델이 검출할 최대 object 개수"
   ]
  },
  {
   "cell_type": "code",
   "execution_count": 35,
   "metadata": {},
   "outputs": [],
   "source": [
    "output_dict = frcnn(\n",
    "    images, \n",
    "    sizes, \n",
    "    scales_yx=scales_yx, \n",
    "    padding=\"max_detections\",\n",
    "    max_detections=frcnn_cfg.max_detections,\n",
    "    return_tensors=\"pt\"\n",
    ")"
   ]
  },
  {
   "cell_type": "code",
   "execution_count": 36,
   "metadata": {},
   "outputs": [
    {
     "output_type": "stream",
     "name": "stdout",
     "text": [
      "tensor([[[1.0372e+02, 1.3613e+02, 2.2735e+02, 1.6974e+02],\n         [8.4005e+01, 1.1941e+02, 2.4814e+02, 1.7585e+02],\n         [0.0000e+00, 8.1354e+01, 3.2642e+02, 2.6568e+02],\n         [3.8475e+02, 3.7221e+01, 4.9974e+02, 3.3300e+02],\n         [2.9875e+01, 0.0000e+00, 4.3054e+02, 1.3465e+02],\n         [1.5929e+02, 9.1682e+01, 3.7275e+02, 2.4955e+02],\n         [6.7672e-01, 2.4750e+02, 2.7701e+02, 3.3300e+02],\n         [1.6578e+02, 1.2526e+02, 3.4723e+02, 2.1946e+02],\n         [0.0000e+00, 7.1275e+01, 2.1836e+02, 3.0790e+02],\n         [5.2669e+01, 1.7062e+00, 2.6646e+02, 1.8314e+02],\n         [6.1805e+01, 2.4761e+02, 4.2838e+02, 3.3299e+02],\n         [1.2076e+01, 1.1892e+02, 3.6657e+02, 3.0462e+02],\n         [1.9641e+02, 1.0624e+02, 3.5971e+02, 1.9710e+02],\n         [9.1356e+01, 1.1064e+02, 4.1889e+02, 2.8040e+02],\n         [1.2139e+02, 1.0626e+01, 4.8306e+02, 1.6577e+02],\n         [3.0271e+02, 1.0307e+02, 3.2805e+02, 1.2879e+02],\n         [2.9658e+02, 5.5949e+00, 4.9991e+02, 2.7482e+02],\n         [9.8404e+01, 1.5139e+01, 3.3169e+02, 2.2902e+02],\n         [4.1154e+01, 4.6659e+01, 4.0556e+02, 2.3727e+02],\n         [3.7447e+02, 1.4963e+02, 4.3518e+02, 2.1157e+02],\n         [2.2865e+01, 1.8779e+02, 2.5988e+02, 3.3038e+02],\n         [3.0586e+00, 3.5118e+01, 2.2336e+02, 2.2989e+02],\n         [1.3853e+02, 2.4226e+02, 1.9631e+02, 2.9457e+02],\n         [4.9879e-01, 1.5006e+02, 1.0106e+02, 2.1906e+02],\n         [1.1803e+01, 2.4141e+02, 1.1398e+02, 3.3267e+02],\n         [8.9141e+01, 2.0670e+02, 3.5243e+02, 3.3096e+02],\n         [5.6239e+01, 1.5892e+02, 4.4291e+02, 3.3075e+02],\n         [1.0619e+02, 2.2133e+01, 2.3387e+02, 1.2720e+02],\n         [0.0000e+00, 7.0040e+01, 1.7056e+02, 2.5244e+02],\n         [2.7224e+00, 9.5407e-01, 2.0850e+02, 1.5567e+02],\n         [2.3999e+02, 0.0000e+00, 4.8553e+02, 1.9817e+02],\n         [4.0989e+01, 1.3819e+02, 2.9928e+02, 3.3141e+02],\n         [2.3482e+01, 2.4362e+02, 1.0252e+02, 3.0287e+02],\n         [1.2246e+02, 1.2571e+02, 4.9315e+02, 3.1505e+02],\n         [2.4742e+01, 1.0823e+02, 1.2136e+02, 1.4326e+02],\n         [1.9832e+02, 8.2017e+01, 4.5546e+02, 2.9892e+02]]])\n-------------\ntorch.Size([1, 36, 4])\n"
     ]
    }
   ],
   "source": [
    "print(output_dict.get(\"boxes\"))\n",
    "print('-------------')\n",
    "print(output_dict.get(\"boxes\").shape)"
   ]
  },
  {
   "cell_type": "code",
   "execution_count": 37,
   "metadata": {},
   "outputs": [
    {
     "output_type": "stream",
     "name": "stdout",
     "text": [
      "tensor([[[2.4822e-03, 2.3580e+00, 0.0000e+00,  ..., 0.0000e+00,\n          0.0000e+00, 3.3088e+00],\n         [2.6639e-01, 1.0124e+00, 0.0000e+00,  ..., 9.0339e-04,\n          1.5285e-02, 3.0090e+00],\n         [6.0975e-01, 0.0000e+00, 0.0000e+00,  ..., 1.0956e-01,\n          2.5223e-01, 1.7357e+00],\n         ...,\n         [7.9118e-01, 2.3213e-01, 0.0000e+00,  ..., 2.2883e-02,\n          7.2807e-03, 6.4609e-01],\n         [0.0000e+00, 1.4173e+00, 0.0000e+00,  ..., 0.0000e+00,\n          2.0937e+00, 1.9630e+00],\n         [1.0801e+00, 8.3446e-01, 0.0000e+00,  ..., 1.2504e-02,\n          3.0912e-01, 6.6703e-01]]])\n-------------\ntorch.Size([1, 36, 2048])\n"
     ]
    }
   ],
   "source": [
    "print(output_dict.get(\"roi_features\"))\n",
    "print('-------------')\n",
    "print(output_dict.get(\"roi_features\").shape)"
   ]
  },
  {
   "cell_type": "code",
   "execution_count": 38,
   "metadata": {},
   "outputs": [
    {
     "output_type": "display_data",
     "data": {
      "image/jpeg": "[encoded data removed]",
      "text/plain": "<IPython.core.display.Image object>"
     },
     "metadata": {}
    }
   ],
   "source": [
    "# for visualizing output\n",
    "def showarray(a, fmt='jpeg'):\n",
    "    a = np.uint8(np.clip(a, 0, 255))\n",
    "    f = io.BytesIO()\n",
    "    PIL.Image.fromarray(a).save(f, fmt)\n",
    "    display(Image(data=f.getvalue()))\n",
    "\n",
    "#image viz\n",
    "frcnn_visualizer = SingleImageViz(URL, id2obj=objids, id2attr=attrids)\n",
    "\n",
    "frcnn_visualizer.draw_boxes(\n",
    "    output_dict.get(\"boxes\"),\n",
    "    output_dict.pop(\"obj_ids\"),\n",
    "    output_dict.pop(\"obj_probs\"),\n",
    "    output_dict.pop(\"attr_ids\"),\n",
    "    output_dict.pop(\"attr_probs\"),\n",
    ")\n",
    "showarray(frcnn_visualizer._get_buffer())"
   ]
  },
  {
   "cell_type": "code",
   "execution_count": 39,
   "metadata": {},
   "outputs": [],
   "source": [
    "#Very important that the boxes are normalized\n",
    "normalized_boxes = output_dict.get(\"normalized_boxes\")\n",
    "features = output_dict.get(\"roi_features\")"
   ]
  },
  {
   "source": [
    "## 모델구성:LxmertTokenizer"
   ],
   "cell_type": "markdown",
   "metadata": {}
  },
  {
   "cell_type": "code",
   "execution_count": 40,
   "metadata": {},
   "outputs": [],
   "source": [
    "lxmert_tokenizer = LxmertTokenizer.from_pretrained(\"unc-nlp/lxmert-base-uncased\")"
   ]
  },
  {
   "cell_type": "code",
   "execution_count": 49,
   "metadata": {},
   "outputs": [],
   "source": [
    "test_question = [\"What is near the disk?\"]\n",
    "\n",
    "inputs = lxmert_tokenizer(\n",
    "    test_question,\n",
    "    padding=\"max_length\",\n",
    "    max_length=20,\n",
    "    truncation=True,\n",
    "    return_token_type_ids=True,\n",
    "    return_attention_mask=True,\n",
    "    add_special_tokens=True,\n",
    "    return_tensors=\"pt\"\n",
    ")"
   ]
  },
  {
   "cell_type": "code",
   "execution_count": 50,
   "metadata": {},
   "outputs": [
    {
     "output_type": "stream",
     "name": "stdout",
     "text": [
      "tensor([[ 101, 2054, 2003, 2379, 1996, 9785, 1029,  102,    0,    0,    0,    0,\n            0,    0,    0,    0,    0,    0,    0,    0]])\ntensor([[1, 1, 1, 1, 1, 1, 1, 1, 0, 0, 0, 0, 0, 0, 0, 0, 0, 0, 0, 0]])\n"
     ]
    }
   ],
   "source": [
    "print(inputs.input_ids)\n",
    "print(inputs.attention_mask)"
   ]
  },
  {
   "source": [
    "## 모델구성: LxmertModel"
   ],
   "cell_type": "markdown",
   "metadata": {}
  },
  {
   "cell_type": "code",
   "execution_count": 51,
   "metadata": {},
   "outputs": [],
   "source": [
    "lxmert_vqa = LxmertForQuestionAnswering.from_pretrained(\"unc-nlp/lxmert-vqa-uncased\")"
   ]
  },
  {
   "cell_type": "code",
   "execution_count": 52,
   "metadata": {},
   "outputs": [
    {
     "output_type": "execute_result",
     "data": {
      "text/plain": [
       "LxmertForQuestionAnsweringOutput(loss=None, question_answering_score=tensor([[-4.8011, -2.3278,  6.5088,  ..., -1.3233,  1.5725,  0.5884]],\n",
       "       grad_fn=<AddmmBackward>), language_hidden_states=None, vision_hidden_states=None, language_attentions=None, vision_attentions=None, cross_encoder_attentions=None)"
      ]
     },
     "metadata": {},
     "execution_count": 52
    }
   ],
   "source": [
    "output_vqa = lxmert_vqa(\n",
    "    input_ids=inputs.input_ids,\n",
    "    attention_mask=inputs.attention_mask,\n",
    "    visual_feats=features,\n",
    "    visual_pos=normalized_boxes,\n",
    "    token_type_ids=inputs.token_type_ids,\n",
    "    output_attentions=False,\n",
    ")\n",
    "\n",
    "output_vqa"
   ]
  },
  {
   "cell_type": "code",
   "execution_count": 53,
   "metadata": {},
   "outputs": [
    {
     "output_type": "execute_result",
     "data": {
      "text/plain": [
       "3129"
      ]
     },
     "metadata": {},
     "execution_count": 53
    }
   ],
   "source": [
    "len(output_vqa[\"question_answering_score\"][0])"
   ]
  },
  {
   "cell_type": "code",
   "execution_count": 54,
   "metadata": {},
   "outputs": [
    {
     "output_type": "execute_result",
     "data": {
      "text/plain": [
       "tensor([1770])"
      ]
     },
     "metadata": {},
     "execution_count": 54
    }
   ],
   "source": [
    "# get prediction\n",
    "pred_vqa = output_vqa[\"question_answering_score\"].argmax(-1)\n",
    "\n",
    "pred_vqa"
   ]
  },
  {
   "cell_type": "code",
   "execution_count": 56,
   "metadata": {},
   "outputs": [
    {
     "output_type": "stream",
     "name": "stdout",
     "text": [
      "Question: ['What is near the disk?']\nprediction from LXMERT VQA: cat\n"
     ]
    }
   ],
   "source": [
    "print(\"Question:\", test_question)\n",
    "print(\"prediction from LXMERT VQA:\", vqa_answers[pred_vqa])"
   ]
  },
  {
   "source": [
    "## VQA Inference"
   ],
   "cell_type": "markdown",
   "metadata": {}
  },
  {
   "cell_type": "code",
   "execution_count": 58,
   "metadata": {},
   "outputs": [
    {
     "output_type": "stream",
     "name": "stdout",
     "text": [
      "Question: ['Where is this scene?']\n",
      "prediction from LXMERT VQA: office\n",
      "Question: ['what is near the disk?']\n",
      "prediction from LXMERT VQA: cat\n",
      "Question: ['What is the color of the cat?']\n",
      "prediction from LXMERT VQA: black and white\n",
      "Question: ['What is the shape of the monitor?']\n",
      "prediction from LXMERT VQA: rectangle\n"
     ]
    }
   ],
   "source": [
    "test_questions_for_url1 = [\n",
    "    \"Where is this scene?\",\n",
    "    \"what is near the disk?\",\n",
    "    \"What is the color of the cat?\",\n",
    "    \"What is the shape of the monitor?\"\n",
    "]\n",
    "\n",
    "for test_question in test_questions_for_url1:\n",
    "    # run lxmert\n",
    "    test_question = [test_question]\n",
    "\n",
    "    inputs = lxmert_tokenizer(\n",
    "        test_question,\n",
    "        padding=\"max_length\",\n",
    "        max_length=20,\n",
    "        truncation=True,\n",
    "        return_token_type_ids=True,\n",
    "        return_attention_mask=True,\n",
    "        add_special_tokens=True,\n",
    "        return_tensors=\"pt\"\n",
    "    )\n",
    "\n",
    "    # run lxmert(s)\n",
    "    output_vqa = lxmert_vqa(\n",
    "        input_ids=inputs.input_ids,\n",
    "        attention_mask=inputs.attention_mask,\n",
    "        visual_feats=features,\n",
    "        visual_pos=normalized_boxes,\n",
    "        token_type_ids=inputs.token_type_ids,\n",
    "        output_attentions=False,\n",
    "    )\n",
    "    # get prediction\n",
    "    pred_vqa = output_vqa[\"question_answering_score\"].argmax(-1)\n",
    "    print(\"Question:\", test_question)\n",
    "    print(\"prediction from LXMERT VQA:\", vqa_answers[pred_vqa])"
   ]
  },
  {
   "source": [
    "# Step 2: GQA Data Version"
   ],
   "cell_type": "markdown",
   "metadata": {}
  },
  {
   "cell_type": "code",
   "execution_count": 59,
   "metadata": {},
   "outputs": [
    {
     "output_type": "stream",
     "name": "stderr",
     "text": [
      "Downloading: 100%|██████████| 880/880 [00:00<00:00, 434kB/s]\n",
      "Downloading: 100%|██████████| 848M/848M [01:14<00:00, 11.4MB/s]\n"
     ]
    }
   ],
   "source": [
    "\n",
    "GQA_URL = \"https://raw.githubusercontent.com/airsplay/lxmert/master/data/gqa/trainval_label2ans.json\"\n",
    "\n",
    "lxmert_gqa = LxmertForQuestionAnswering.from_pretrained(\"unc-nlp/lxmert-gqa-uncased\")"
   ]
  },
  {
   "cell_type": "code",
   "execution_count": 60,
   "metadata": {},
   "outputs": [
    {
     "output_type": "stream",
     "name": "stdout",
     "text": [
      "1842\n['cat food', 'elephant', 'gloves', 'football', 'dock', 'shops', 'water', 'light blue', 'chair', 'players', 'tourist', 'magnet', 'railroad', 'ski lift', 'mirror', 'leggings', 'hurdle', 'shuttle', 'wildflowers', 'flowers', 'cooking pot', 'pipe', 'swan', 'girl', 'celery', 'brown', 'ambulance', 'steps', 'power line', 'asphalt']\n"
     ]
    }
   ],
   "source": [
    "\n",
    "# GQA answer definition\n",
    "GQA_URL = \"https://raw.githubusercontent.com/airsplay/lxmert/master/data/gqa/trainval_label2ans.json\"\n",
    "gqa_answers = utils.get_data(GQA_URL)\n",
    "print(len(gqa_answers))\n",
    "print(gqa_answers[:30])  #3129개의 단어사전 중 30개만 출력"
   ]
  },
  {
   "cell_type": "code",
   "execution_count": 61,
   "metadata": {},
   "outputs": [
    {
     "output_type": "stream",
     "name": "stdout",
     "text": [
      "loading configuration file cache\n"
     ]
    }
   ],
   "source": [
    "\n",
    "# 위 이미지의 URL\n",
    "URL = \"https://vqa.cloudcv.org/media/test2014/COCO_test2014_000000262567.jpg\"\n",
    "\n",
    "frcnn_cfg = Config.from_pretrained(\"unc-nlp/frcnn-vg-finetuned\")\n",
    "image_preprocess = Preprocess(frcnn_cfg)\n",
    "\n",
    "images, sizes, scales_yx = image_preprocess(URL)"
   ]
  },
  {
   "cell_type": "code",
   "execution_count": 62,
   "metadata": {},
   "outputs": [
    {
     "output_type": "stream",
     "name": "stdout",
     "text": [
      "tensor([[[[  61.0199,   61.2689,   62.1015,  ...,   50.5607,   50.1444,\n             50.0199],\n          [  60.8955,   61.1445,   61.9771,  ...,   50.8094,   50.3931,\n             50.2686],\n          [  60.4793,   60.7282,   61.5609,  ...,   51.6420,   51.2256,\n             51.1012],\n          ...,\n          [ -87.9801,  -88.0373,  -88.2285,  ...,   21.7716,   21.5466,\n             21.4793],\n          [ -87.9801,  -88.0891,  -88.4536,  ...,   21.9628,   21.9110,\n             21.8955],\n          [ -87.9801,  -88.1046,  -88.5209,  ...,   22.0199,   22.0199,\n             22.0199]],\n\n         [[  48.0535,   48.4269,   49.6759,  ...,   41.5943,   41.1780,\n             41.0535],\n          [  47.9291,   48.2871,   49.4843,  ...,   41.5943,   41.1780,\n             41.0535],\n          [  47.5129,   47.8190,   48.8429,  ...,   41.5943,   41.1780,\n             41.0535],\n          ...,\n          [ -99.9465,  -99.9364,  -99.9026,  ...,   13.8052,   13.5802,\n             13.5129],\n          [ -99.9465, -100.0400, -100.3528,  ...,   13.9964,   13.9446,\n             13.9291],\n          [ -99.9465, -100.0710, -100.4873,  ...,   14.0535,   14.0535,\n             14.0535]],\n\n         [[  41.2283,   41.3528,   41.7691,  ...,   35.7691,   35.3528,\n             35.2283],\n          [  41.1039,   41.2439,   41.7120,  ...,   35.7691,   35.3528,\n             35.2283],\n          [  40.6877,   40.8795,   41.5208,  ...,   35.7691,   35.3528,\n             35.2283],\n          ...,\n          [-102.7717, -102.9635, -103.6049,  ...,    9.9800,    9.7550,\n              9.6877],\n          [-102.7717, -102.9117, -103.3798,  ...,   10.1712,   10.1194,\n             10.1039],\n          [-102.7717, -102.8962, -103.3125,  ...,   10.2283,   10.2283,\n             10.2283]]]])\ntensor([[ 800, 1201]])\n"
     ]
    }
   ],
   "source": [
    "print(images)\n",
    "print(sizes)"
   ]
  },
  {
   "cell_type": "code",
   "execution_count": 63,
   "metadata": {},
   "outputs": [],
   "source": [
    "test_questions_for_url2 = [\n",
    "    \"Where is the cat?\",\n",
    "    \"What is near the disk?\",\n",
    "    \"What is the color of the table?\",\n",
    "    \"What is the color of the cat?\",\n",
    "    \"What is the shape of the monitor?\",\n",
    "    \"What is the color of the keyboard?\",\n",
    "]"
   ]
  },
  {
   "cell_type": "code",
   "execution_count": 64,
   "metadata": {},
   "outputs": [
    {
     "output_type": "stream",
     "name": "stdout",
     "text": [
      "loading configuration file cache\n",
      "loading weights file https://cdn.huggingface.co/unc-nlp/frcnn-vg-finetuned/pytorch_model.bin from cache at /home/aiffel-dj53/.cache/torch/transformers/57f6df6abe353be2773f2700159c65615babf39ab5b48114d2b49267672ae10f.77b59256a4cf8343ae0f923246a81489fc8d82f98d082edc2d2037c977c0d9d0\n",
      "All model checkpoint weights were used when initializing GeneralizedRCNN.\n",
      "\n",
      "All the weights of GeneralizedRCNN were initialized from the model checkpoint at unc-nlp/frcnn-vg-finetuned.\n",
      "If your task is similar to the task the model of the checkpoint was trained on, you can already use GeneralizedRCNN for predictions without further training.\n"
     ]
    }
   ],
   "source": [
    "frcnn_cfg = Config.from_pretrained(\"unc-nlp/frcnn-vg-finetuned\")\n",
    "\n",
    "frcnn = GeneralizedRCNN.from_pretrained(\"unc-nlp/frcnn-vg-finetuned\", config=frcnn_cfg)"
   ]
  },
  {
   "cell_type": "code",
   "execution_count": 65,
   "metadata": {},
   "outputs": [
    {
     "output_type": "execute_result",
     "data": {
      "text/plain": [
       "36"
      ]
     },
     "metadata": {},
     "execution_count": 65
    }
   ],
   "source": [
    "frcnn_cfg.max_detections  # object detection 모델이 검출할 최대 object 개수"
   ]
  },
  {
   "cell_type": "code",
   "execution_count": 66,
   "metadata": {},
   "outputs": [],
   "source": [
    "output_dict = frcnn(\n",
    "    images, \n",
    "    sizes, \n",
    "    scales_yx=scales_yx, \n",
    "    padding=\"max_detections\",\n",
    "    max_detections=frcnn_cfg.max_detections,\n",
    "    return_tensors=\"pt\"\n",
    ")"
   ]
  },
  {
   "cell_type": "code",
   "execution_count": 67,
   "metadata": {},
   "outputs": [
    {
     "output_type": "stream",
     "name": "stdout",
     "text": [
      "tensor([[[1.0372e+02, 1.3613e+02, 2.2735e+02, 1.6974e+02],\n         [8.4005e+01, 1.1941e+02, 2.4814e+02, 1.7585e+02],\n         [0.0000e+00, 8.1354e+01, 3.2642e+02, 2.6568e+02],\n         [3.8475e+02, 3.7221e+01, 4.9974e+02, 3.3300e+02],\n         [2.9875e+01, 0.0000e+00, 4.3054e+02, 1.3465e+02],\n         [1.5929e+02, 9.1682e+01, 3.7275e+02, 2.4955e+02],\n         [6.7672e-01, 2.4750e+02, 2.7701e+02, 3.3300e+02],\n         [1.6578e+02, 1.2526e+02, 3.4723e+02, 2.1946e+02],\n         [0.0000e+00, 7.1275e+01, 2.1836e+02, 3.0790e+02],\n         [5.2669e+01, 1.7062e+00, 2.6646e+02, 1.8314e+02],\n         [6.1805e+01, 2.4761e+02, 4.2838e+02, 3.3299e+02],\n         [1.2076e+01, 1.1892e+02, 3.6657e+02, 3.0462e+02],\n         [1.9641e+02, 1.0624e+02, 3.5971e+02, 1.9710e+02],\n         [9.1356e+01, 1.1064e+02, 4.1889e+02, 2.8040e+02],\n         [1.2139e+02, 1.0626e+01, 4.8306e+02, 1.6577e+02],\n         [3.0271e+02, 1.0307e+02, 3.2805e+02, 1.2879e+02],\n         [2.9658e+02, 5.5949e+00, 4.9991e+02, 2.7482e+02],\n         [9.8404e+01, 1.5139e+01, 3.3169e+02, 2.2902e+02],\n         [4.1154e+01, 4.6659e+01, 4.0556e+02, 2.3727e+02],\n         [3.7447e+02, 1.4963e+02, 4.3518e+02, 2.1157e+02],\n         [2.2865e+01, 1.8779e+02, 2.5988e+02, 3.3038e+02],\n         [3.0586e+00, 3.5118e+01, 2.2336e+02, 2.2989e+02],\n         [1.3853e+02, 2.4226e+02, 1.9631e+02, 2.9457e+02],\n         [4.9879e-01, 1.5006e+02, 1.0106e+02, 2.1906e+02],\n         [1.1803e+01, 2.4141e+02, 1.1398e+02, 3.3267e+02],\n         [8.9141e+01, 2.0670e+02, 3.5243e+02, 3.3096e+02],\n         [5.6239e+01, 1.5892e+02, 4.4291e+02, 3.3075e+02],\n         [1.0619e+02, 2.2133e+01, 2.3387e+02, 1.2720e+02],\n         [0.0000e+00, 7.0040e+01, 1.7056e+02, 2.5244e+02],\n         [2.7224e+00, 9.5407e-01, 2.0850e+02, 1.5567e+02],\n         [2.3999e+02, 0.0000e+00, 4.8553e+02, 1.9817e+02],\n         [4.0989e+01, 1.3819e+02, 2.9928e+02, 3.3141e+02],\n         [2.3482e+01, 2.4362e+02, 1.0252e+02, 3.0287e+02],\n         [1.2246e+02, 1.2571e+02, 4.9315e+02, 3.1505e+02],\n         [2.4742e+01, 1.0823e+02, 1.2136e+02, 1.4326e+02],\n         [1.9832e+02, 8.2017e+01, 4.5546e+02, 2.9892e+02]]])\n-------------\ntorch.Size([1, 36, 4])\n"
     ]
    }
   ],
   "source": [
    "print(output_dict.get(\"boxes\"))\n",
    "print('-------------')\n",
    "print(output_dict.get(\"boxes\").shape)"
   ]
  },
  {
   "cell_type": "code",
   "execution_count": 68,
   "metadata": {},
   "outputs": [
    {
     "output_type": "stream",
     "name": "stdout",
     "text": [
      "tensor([[[2.4822e-03, 2.3580e+00, 0.0000e+00,  ..., 0.0000e+00,\n          0.0000e+00, 3.3088e+00],\n         [2.6639e-01, 1.0124e+00, 0.0000e+00,  ..., 9.0339e-04,\n          1.5285e-02, 3.0090e+00],\n         [6.0975e-01, 0.0000e+00, 0.0000e+00,  ..., 1.0956e-01,\n          2.5223e-01, 1.7357e+00],\n         ...,\n         [7.9118e-01, 2.3213e-01, 0.0000e+00,  ..., 2.2883e-02,\n          7.2807e-03, 6.4609e-01],\n         [0.0000e+00, 1.4173e+00, 0.0000e+00,  ..., 0.0000e+00,\n          2.0937e+00, 1.9630e+00],\n         [1.0801e+00, 8.3446e-01, 0.0000e+00,  ..., 1.2504e-02,\n          3.0912e-01, 6.6703e-01]]])\n-------------\ntorch.Size([1, 36, 2048])\n"
     ]
    }
   ],
   "source": [
    "print(output_dict.get(\"roi_features\"))\n",
    "print('-------------')\n",
    "print(output_dict.get(\"roi_features\").shape)"
   ]
  },
  {
   "cell_type": "code",
   "execution_count": 69,
   "metadata": {},
   "outputs": [
    {
     "output_type": "display_data",
     "data": {
      "image/jpeg": "[encoded data removed]",
      "text/plain": "<IPython.core.display.Image object>"
     },
     "metadata": {}
    }
   ],
   "source": [
    "\n",
    "# for visualizing output\n",
    "def showarray(a, fmt='jpeg'):\n",
    "    a = np.uint8(np.clip(a, 0, 255))\n",
    "    f = io.BytesIO()\n",
    "    PIL.Image.fromarray(a).save(f, fmt)\n",
    "    display(Image(data=f.getvalue()))\n",
    "\n",
    "#image viz\n",
    "frcnn_visualizer = SingleImageViz(URL, id2obj=objids, id2attr=attrids)\n",
    "\n",
    "frcnn_visualizer.draw_boxes(\n",
    "    output_dict.get(\"boxes\"),\n",
    "    output_dict.pop(\"obj_ids\"),\n",
    "    output_dict.pop(\"obj_probs\"),\n",
    "    output_dict.pop(\"attr_ids\"),\n",
    "    output_dict.pop(\"attr_probs\"),\n",
    ")\n",
    "showarray(frcnn_visualizer._get_buffer())"
   ]
  },
  {
   "cell_type": "code",
   "execution_count": 70,
   "metadata": {},
   "outputs": [],
   "source": [
    "\n",
    "#Very important that the boxes are normalized\n",
    "normalized_boxes = output_dict.get(\"normalized_boxes\")\n",
    "features = output_dict.get(\"roi_features\")"
   ]
  },
  {
   "cell_type": "code",
   "execution_count": 71,
   "metadata": {},
   "outputs": [],
   "source": [
    "test_question = [\"What is near the disk?\"]\n",
    "\n",
    "inputs = lxmert_tokenizer(\n",
    "    test_question,\n",
    "    padding=\"max_length\",\n",
    "    max_length=20,\n",
    "    truncation=True,\n",
    "    return_token_type_ids=True,\n",
    "    return_attention_mask=True,\n",
    "    add_special_tokens=True,\n",
    "    return_tensors=\"pt\"\n",
    ")"
   ]
  },
  {
   "cell_type": "code",
   "execution_count": 72,
   "metadata": {},
   "outputs": [
    {
     "output_type": "stream",
     "name": "stdout",
     "text": [
      "tensor([[ 101, 2054, 2003, 2379, 1996, 9785, 1029,  102,    0,    0,    0,    0,\n            0,    0,    0,    0,    0,    0,    0,    0]])\ntensor([[1, 1, 1, 1, 1, 1, 1, 1, 0, 0, 0, 0, 0, 0, 0, 0, 0, 0, 0, 0]])\n"
     ]
    }
   ],
   "source": [
    "\n",
    "print(inputs.input_ids)\n",
    "print(inputs.attention_mask)"
   ]
  },
  {
   "cell_type": "code",
   "execution_count": 73,
   "metadata": {},
   "outputs": [],
   "source": [
    "lxmert_gqa = LxmertForQuestionAnswering.from_pretrained(\"unc-nlp/lxmert-gqa-uncased\")"
   ]
  },
  {
   "cell_type": "code",
   "execution_count": 74,
   "metadata": {},
   "outputs": [
    {
     "output_type": "execute_result",
     "data": {
      "text/plain": [
       "LxmertForQuestionAnsweringOutput(loss=None, question_answering_score=tensor([[ 1.6444, -2.7622,  0.1815,  ..., -0.5570, -0.1211,  2.0017]],\n",
       "       grad_fn=<AddmmBackward>), language_hidden_states=None, vision_hidden_states=None, language_attentions=None, vision_attentions=None, cross_encoder_attentions=None)"
      ]
     },
     "metadata": {},
     "execution_count": 74
    }
   ],
   "source": [
    "output_gqa = lxmert_gqa(\n",
    "    input_ids=inputs.input_ids,\n",
    "    attention_mask=inputs.attention_mask,\n",
    "    visual_feats=features,\n",
    "    visual_pos=normalized_boxes,\n",
    "    token_type_ids=inputs.token_type_ids,\n",
    "    output_attentions=False,\n",
    ")\n",
    "\n",
    "output_gqa"
   ]
  },
  {
   "cell_type": "code",
   "execution_count": 75,
   "metadata": {},
   "outputs": [
    {
     "output_type": "execute_result",
     "data": {
      "text/plain": [
       "1842"
      ]
     },
     "metadata": {},
     "execution_count": 75
    }
   ],
   "source": [
    "len(output_gqa[\"question_answering_score\"][0])"
   ]
  },
  {
   "cell_type": "code",
   "execution_count": 76,
   "metadata": {},
   "outputs": [
    {
     "output_type": "execute_result",
     "data": {
      "text/plain": [
       "tensor([621])"
      ]
     },
     "metadata": {},
     "execution_count": 76
    }
   ],
   "source": [
    "\n",
    "# get prediction\n",
    "pred_gqa = output_gqa[\"question_answering_score\"].argmax(-1)\n",
    "\n",
    "pred_gqa"
   ]
  },
  {
   "cell_type": "code",
   "execution_count": 77,
   "metadata": {},
   "outputs": [
    {
     "output_type": "stream",
     "name": "stdout",
     "text": [
      "Question: ['What is near the disk?']\nprediction from LXMERT GQA: can\n"
     ]
    }
   ],
   "source": [
    "print(\"Question:\", test_question)\n",
    "print(\"prediction from LXMERT GQA:\", gqa_answers[pred_gqa])"
   ]
  },
  {
   "cell_type": "code",
   "execution_count": 78,
   "metadata": {},
   "outputs": [
    {
     "output_type": "stream",
     "name": "stdout",
     "text": [
      "Question: ['Where is the cat?']\n",
      "prediction from LXMERT VQA: desk\n",
      "Question: ['What is near the disk?']\n",
      "prediction from LXMERT VQA: can\n",
      "Question: ['What is the color of the table?']\n",
      "prediction from LXMERT VQA: brown\n",
      "Question: ['What is the color of the cat?']\n",
      "prediction from LXMERT VQA: black\n",
      "Question: ['What is the shape of the monitor?']\n",
      "prediction from LXMERT VQA: square\n",
      "Question: ['What is the color of the keyboard?']\n",
      "prediction from LXMERT VQA: white\n"
     ]
    }
   ],
   "source": [
    "test_questions_for_url2 = [\n",
    "    \"Where is the cat?\",\n",
    "    \"What is near the disk?\",\n",
    "    \"What is the color of the table?\",\n",
    "    \"What is the color of the cat?\",\n",
    "    \"What is the shape of the monitor?\",\n",
    "    \"What is the color of the keyboard?\",\n",
    "]\n",
    "\n",
    "for test_question in test_questions_for_url2:\n",
    "    # run lxmert\n",
    "    test_question = [test_question]\n",
    "\n",
    "    inputs = lxmert_tokenizer(\n",
    "        test_question,\n",
    "        padding=\"max_length\",\n",
    "        max_length=20,\n",
    "        truncation=True,\n",
    "        return_token_type_ids=True,\n",
    "        return_attention_mask=True,\n",
    "        add_special_tokens=True,\n",
    "        return_tensors=\"pt\"\n",
    "    )\n",
    "\n",
    "    # run lxmert(s)\n",
    "    output_gqa = lxmert_gqa(\n",
    "        input_ids=inputs.input_ids,\n",
    "        attention_mask=inputs.attention_mask,\n",
    "        visual_feats=features,\n",
    "        visual_pos=normalized_boxes,\n",
    "        token_type_ids=inputs.token_type_ids,\n",
    "        output_attentions=False,\n",
    "    )\n",
    "    # get prediction\n",
    "    pred_gqa = output_gqa[\"question_answering_score\"].argmax(-1)\n",
    "    print(\"Question:\", test_question)\n",
    "    print(\"prediction from LXMERT VQA:\", gqa_answers[pred_gqa])"
   ]
  },
  {
   "source": [
    "## 근접한 답안을 내지만 step1에 비해 정확도가 떨어지는것같다."
   ],
   "cell_type": "markdown",
   "metadata": {}
  },
  {
   "cell_type": "code",
   "execution_count": null,
   "metadata": {},
   "outputs": [],
   "source": []
  }
 ]
}