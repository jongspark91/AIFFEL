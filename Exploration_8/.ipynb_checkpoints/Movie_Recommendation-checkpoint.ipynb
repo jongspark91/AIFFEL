{
 "cells": [
  {
   "cell_type": "markdown",
   "id": "impossible-astronomy",
   "metadata": {},
   "source": [
    "# 1. Imports"
   ]
  },
  {
   "cell_type": "code",
   "execution_count": 15,
   "id": "ethical-congress",
   "metadata": {},
   "outputs": [
    {
     "data": {
      "text/html": [
       "<div>\n",
       "<style scoped>\n",
       "    .dataframe tbody tr th:only-of-type {\n",
       "        vertical-align: middle;\n",
       "    }\n",
       "\n",
       "    .dataframe tbody tr th {\n",
       "        vertical-align: top;\n",
       "    }\n",
       "\n",
       "    .dataframe thead th {\n",
       "        text-align: right;\n",
       "    }\n",
       "</style>\n",
       "<table border=\"1\" class=\"dataframe\">\n",
       "  <thead>\n",
       "    <tr style=\"text-align: right;\">\n",
       "      <th></th>\n",
       "      <th>user_id</th>\n",
       "      <th>movie_id</th>\n",
       "      <th>rating</th>\n",
       "      <th>timestamp</th>\n",
       "    </tr>\n",
       "  </thead>\n",
       "  <tbody>\n",
       "    <tr>\n",
       "      <th>0</th>\n",
       "      <td>1</td>\n",
       "      <td>1193</td>\n",
       "      <td>5</td>\n",
       "      <td>978300760</td>\n",
       "    </tr>\n",
       "    <tr>\n",
       "      <th>1</th>\n",
       "      <td>1</td>\n",
       "      <td>661</td>\n",
       "      <td>3</td>\n",
       "      <td>978302109</td>\n",
       "    </tr>\n",
       "    <tr>\n",
       "      <th>2</th>\n",
       "      <td>1</td>\n",
       "      <td>914</td>\n",
       "      <td>3</td>\n",
       "      <td>978301968</td>\n",
       "    </tr>\n",
       "    <tr>\n",
       "      <th>3</th>\n",
       "      <td>1</td>\n",
       "      <td>3408</td>\n",
       "      <td>4</td>\n",
       "      <td>978300275</td>\n",
       "    </tr>\n",
       "    <tr>\n",
       "      <th>4</th>\n",
       "      <td>1</td>\n",
       "      <td>2355</td>\n",
       "      <td>5</td>\n",
       "      <td>978824291</td>\n",
       "    </tr>\n",
       "  </tbody>\n",
       "</table>\n",
       "</div>"
      ],
      "text/plain": [
       "   user_id  movie_id  rating  timestamp\n",
       "0        1      1193       5  978300760\n",
       "1        1       661       3  978302109\n",
       "2        1       914       3  978301968\n",
       "3        1      3408       4  978300275\n",
       "4        1      2355       5  978824291"
      ]
     },
     "execution_count": 15,
     "metadata": {},
     "output_type": "execute_result"
    }
   ],
   "source": [
    "import pandas as pd\n",
    "import os\n",
    "import missingno as msno\n",
    "rating_file_path=os.getenv('HOME') + '/aiffel/recommendata_iu/data/ml-1m/ratings.dat'\n",
    "ratings_cols = ['user_id', 'movie_id', 'rating', 'timestamp']\n",
    "ratings = pd.read_csv(rating_file_path, sep='::', names=ratings_cols, engine='python')\n",
    "orginal_data_size = len(ratings)\n",
    "ratings.head()"
   ]
  },
  {
   "cell_type": "markdown",
   "id": "comprehensive-joshua",
   "metadata": {},
   "source": [
    "# 2. Data Processing"
   ]
  },
  {
   "cell_type": "code",
   "execution_count": 16,
   "id": "opposite-cable",
   "metadata": {},
   "outputs": [
    {
     "data": {
      "text/html": [
       "<div>\n",
       "<style scoped>\n",
       "    .dataframe tbody tr th:only-of-type {\n",
       "        vertical-align: middle;\n",
       "    }\n",
       "\n",
       "    .dataframe tbody tr th {\n",
       "        vertical-align: top;\n",
       "    }\n",
       "\n",
       "    .dataframe thead th {\n",
       "        text-align: right;\n",
       "    }\n",
       "</style>\n",
       "<table border=\"1\" class=\"dataframe\">\n",
       "  <thead>\n",
       "    <tr style=\"text-align: right;\">\n",
       "      <th></th>\n",
       "      <th>movie_id</th>\n",
       "      <th>title</th>\n",
       "      <th>genre</th>\n",
       "    </tr>\n",
       "  </thead>\n",
       "  <tbody>\n",
       "    <tr>\n",
       "      <th>0</th>\n",
       "      <td>1</td>\n",
       "      <td>Toy Story (1995)</td>\n",
       "      <td>Animation|Children's|Comedy</td>\n",
       "    </tr>\n",
       "    <tr>\n",
       "      <th>1</th>\n",
       "      <td>2</td>\n",
       "      <td>Jumanji (1995)</td>\n",
       "      <td>Adventure|Children's|Fantasy</td>\n",
       "    </tr>\n",
       "    <tr>\n",
       "      <th>2</th>\n",
       "      <td>3</td>\n",
       "      <td>Grumpier Old Men (1995)</td>\n",
       "      <td>Comedy|Romance</td>\n",
       "    </tr>\n",
       "    <tr>\n",
       "      <th>3</th>\n",
       "      <td>4</td>\n",
       "      <td>Waiting to Exhale (1995)</td>\n",
       "      <td>Comedy|Drama</td>\n",
       "    </tr>\n",
       "    <tr>\n",
       "      <th>4</th>\n",
       "      <td>5</td>\n",
       "      <td>Father of the Bride Part II (1995)</td>\n",
       "      <td>Comedy</td>\n",
       "    </tr>\n",
       "  </tbody>\n",
       "</table>\n",
       "</div>"
      ],
      "text/plain": [
       "   movie_id                               title                         genre\n",
       "0         1                    Toy Story (1995)   Animation|Children's|Comedy\n",
       "1         2                      Jumanji (1995)  Adventure|Children's|Fantasy\n",
       "2         3             Grumpier Old Men (1995)                Comedy|Romance\n",
       "3         4            Waiting to Exhale (1995)                  Comedy|Drama\n",
       "4         5  Father of the Bride Part II (1995)                        Comedy"
      ]
     },
     "execution_count": 16,
     "metadata": {},
     "output_type": "execute_result"
    }
   ],
   "source": [
    "# 영화 제목을 보기 위해 메타 데이터를 읽어옵니다.\n",
    "movie_file_path=os.getenv('HOME') + '/aiffel/recommendata_iu/data/ml-1m/movies.dat'\n",
    "cols = ['movie_id', 'title', 'genre'] \n",
    "movies = pd.read_csv(movie_file_path, encoding = 'ISO-8859-1', sep='::', names=cols, engine='python')\n",
    "movies.head()"
   ]
  },
  {
   "cell_type": "code",
   "execution_count": 17,
   "id": "contrary-andrews",
   "metadata": {
    "scrolled": true
   },
   "outputs": [
    {
     "name": "stdout",
     "output_type": "stream",
     "text": [
      "orginal_data_size: 1000209, filtered_data_size: 836478\n",
      "Ratio of Remaining Data is 83.63%\n"
     ]
    }
   ],
   "source": [
    "# 3점 이상만 남깁니다.\n",
    "ratings = ratings[ratings['rating']>=3]\n",
    "filtered_data_size = len(ratings)\n",
    "\n",
    "print(f'orginal_data_size: {orginal_data_size}, filtered_data_size: {filtered_data_size}')\n",
    "print(f'Ratio of Remaining Data is {filtered_data_size / orginal_data_size:.2%}')"
   ]
  },
  {
   "cell_type": "code",
   "execution_count": 18,
   "id": "rising-scroll",
   "metadata": {},
   "outputs": [],
   "source": [
    "# rating 컬럼의 이름을 count로 바꿉니다.\n",
    "ratings.rename(columns={'rating':'count'}, inplace=True)"
   ]
  },
  {
   "cell_type": "code",
   "execution_count": 19,
   "id": "expected-barbados",
   "metadata": {
    "scrolled": true
   },
   "outputs": [
    {
     "data": {
      "text/plain": [
       "0          5\n",
       "1          3\n",
       "2          3\n",
       "3          4\n",
       "4          5\n",
       "          ..\n",
       "1000203    3\n",
       "1000205    5\n",
       "1000206    5\n",
       "1000207    4\n",
       "1000208    4\n",
       "Name: count, Length: 836478, dtype: int64"
      ]
     },
     "execution_count": 19,
     "metadata": {},
     "output_type": "execute_result"
    }
   ],
   "source": [
    "ratings['count']\n"
   ]
  },
  {
   "cell_type": "code",
   "execution_count": 20,
   "id": "palestinian-projector",
   "metadata": {
    "scrolled": true
   },
   "outputs": [
    {
     "data": {
      "text/html": [
       "<div>\n",
       "<style scoped>\n",
       "    .dataframe tbody tr th:only-of-type {\n",
       "        vertical-align: middle;\n",
       "    }\n",
       "\n",
       "    .dataframe tbody tr th {\n",
       "        vertical-align: top;\n",
       "    }\n",
       "\n",
       "    .dataframe thead th {\n",
       "        text-align: right;\n",
       "    }\n",
       "</style>\n",
       "<table border=\"1\" class=\"dataframe\">\n",
       "  <thead>\n",
       "    <tr style=\"text-align: right;\">\n",
       "      <th></th>\n",
       "      <th>user_id</th>\n",
       "      <th>movie_id</th>\n",
       "      <th>count</th>\n",
       "      <th>timestamp</th>\n",
       "    </tr>\n",
       "  </thead>\n",
       "  <tbody>\n",
       "    <tr>\n",
       "      <th>0</th>\n",
       "      <td>1</td>\n",
       "      <td>1193</td>\n",
       "      <td>5</td>\n",
       "      <td>978300760</td>\n",
       "    </tr>\n",
       "    <tr>\n",
       "      <th>1</th>\n",
       "      <td>1</td>\n",
       "      <td>661</td>\n",
       "      <td>3</td>\n",
       "      <td>978302109</td>\n",
       "    </tr>\n",
       "    <tr>\n",
       "      <th>2</th>\n",
       "      <td>1</td>\n",
       "      <td>914</td>\n",
       "      <td>3</td>\n",
       "      <td>978301968</td>\n",
       "    </tr>\n",
       "    <tr>\n",
       "      <th>3</th>\n",
       "      <td>1</td>\n",
       "      <td>3408</td>\n",
       "      <td>4</td>\n",
       "      <td>978300275</td>\n",
       "    </tr>\n",
       "    <tr>\n",
       "      <th>4</th>\n",
       "      <td>1</td>\n",
       "      <td>2355</td>\n",
       "      <td>5</td>\n",
       "      <td>978824291</td>\n",
       "    </tr>\n",
       "    <tr>\n",
       "      <th>...</th>\n",
       "      <td>...</td>\n",
       "      <td>...</td>\n",
       "      <td>...</td>\n",
       "      <td>...</td>\n",
       "    </tr>\n",
       "    <tr>\n",
       "      <th>1000203</th>\n",
       "      <td>6040</td>\n",
       "      <td>1090</td>\n",
       "      <td>3</td>\n",
       "      <td>956715518</td>\n",
       "    </tr>\n",
       "    <tr>\n",
       "      <th>1000205</th>\n",
       "      <td>6040</td>\n",
       "      <td>1094</td>\n",
       "      <td>5</td>\n",
       "      <td>956704887</td>\n",
       "    </tr>\n",
       "    <tr>\n",
       "      <th>1000206</th>\n",
       "      <td>6040</td>\n",
       "      <td>562</td>\n",
       "      <td>5</td>\n",
       "      <td>956704746</td>\n",
       "    </tr>\n",
       "    <tr>\n",
       "      <th>1000207</th>\n",
       "      <td>6040</td>\n",
       "      <td>1096</td>\n",
       "      <td>4</td>\n",
       "      <td>956715648</td>\n",
       "    </tr>\n",
       "    <tr>\n",
       "      <th>1000208</th>\n",
       "      <td>6040</td>\n",
       "      <td>1097</td>\n",
       "      <td>4</td>\n",
       "      <td>956715569</td>\n",
       "    </tr>\n",
       "  </tbody>\n",
       "</table>\n",
       "<p>836478 rows × 4 columns</p>\n",
       "</div>"
      ],
      "text/plain": [
       "         user_id  movie_id  count  timestamp\n",
       "0              1      1193      5  978300760\n",
       "1              1       661      3  978302109\n",
       "2              1       914      3  978301968\n",
       "3              1      3408      4  978300275\n",
       "4              1      2355      5  978824291\n",
       "...          ...       ...    ...        ...\n",
       "1000203     6040      1090      3  956715518\n",
       "1000205     6040      1094      5  956704887\n",
       "1000206     6040       562      5  956704746\n",
       "1000207     6040      1096      4  956715648\n",
       "1000208     6040      1097      4  956715569\n",
       "\n",
       "[836478 rows x 4 columns]"
      ]
     },
     "execution_count": 20,
     "metadata": {},
     "output_type": "execute_result"
    }
   ],
   "source": [
    "ratings"
   ]
  },
  {
   "cell_type": "markdown",
   "id": "going-canyon",
   "metadata": {},
   "source": [
    "### ㄴ 영화 제목이 movie_id로 분류되어있어 데이터 가시성이 낮으므로 title칼럼을 추가해준다."
   ]
  },
  {
   "cell_type": "code",
   "execution_count": 21,
   "id": "tropical-harrison",
   "metadata": {
    "scrolled": true
   },
   "outputs": [
    {
     "data": {
      "text/html": [
       "<div>\n",
       "<style scoped>\n",
       "    .dataframe tbody tr th:only-of-type {\n",
       "        vertical-align: middle;\n",
       "    }\n",
       "\n",
       "    .dataframe tbody tr th {\n",
       "        vertical-align: top;\n",
       "    }\n",
       "\n",
       "    .dataframe thead th {\n",
       "        text-align: right;\n",
       "    }\n",
       "</style>\n",
       "<table border=\"1\" class=\"dataframe\">\n",
       "  <thead>\n",
       "    <tr style=\"text-align: right;\">\n",
       "      <th></th>\n",
       "      <th>user_id</th>\n",
       "      <th>movie_id</th>\n",
       "      <th>count</th>\n",
       "      <th>timestamp</th>\n",
       "      <th>title</th>\n",
       "      <th>genre</th>\n",
       "    </tr>\n",
       "  </thead>\n",
       "  <tbody>\n",
       "    <tr>\n",
       "      <th>0</th>\n",
       "      <td>1</td>\n",
       "      <td>1193</td>\n",
       "      <td>5</td>\n",
       "      <td>978300760</td>\n",
       "      <td>One Flew Over the Cuckoo's Nest (1975)</td>\n",
       "      <td>Drama</td>\n",
       "    </tr>\n",
       "    <tr>\n",
       "      <th>1</th>\n",
       "      <td>2</td>\n",
       "      <td>1193</td>\n",
       "      <td>5</td>\n",
       "      <td>978298413</td>\n",
       "      <td>One Flew Over the Cuckoo's Nest (1975)</td>\n",
       "      <td>Drama</td>\n",
       "    </tr>\n",
       "    <tr>\n",
       "      <th>2</th>\n",
       "      <td>12</td>\n",
       "      <td>1193</td>\n",
       "      <td>4</td>\n",
       "      <td>978220179</td>\n",
       "      <td>One Flew Over the Cuckoo's Nest (1975)</td>\n",
       "      <td>Drama</td>\n",
       "    </tr>\n",
       "    <tr>\n",
       "      <th>3</th>\n",
       "      <td>15</td>\n",
       "      <td>1193</td>\n",
       "      <td>4</td>\n",
       "      <td>978199279</td>\n",
       "      <td>One Flew Over the Cuckoo's Nest (1975)</td>\n",
       "      <td>Drama</td>\n",
       "    </tr>\n",
       "    <tr>\n",
       "      <th>4</th>\n",
       "      <td>17</td>\n",
       "      <td>1193</td>\n",
       "      <td>5</td>\n",
       "      <td>978158471</td>\n",
       "      <td>One Flew Over the Cuckoo's Nest (1975)</td>\n",
       "      <td>Drama</td>\n",
       "    </tr>\n",
       "    <tr>\n",
       "      <th>...</th>\n",
       "      <td>...</td>\n",
       "      <td>...</td>\n",
       "      <td>...</td>\n",
       "      <td>...</td>\n",
       "      <td>...</td>\n",
       "      <td>...</td>\n",
       "    </tr>\n",
       "    <tr>\n",
       "      <th>836473</th>\n",
       "      <td>5851</td>\n",
       "      <td>3607</td>\n",
       "      <td>5</td>\n",
       "      <td>957756608</td>\n",
       "      <td>One Little Indian (1973)</td>\n",
       "      <td>Comedy|Drama|Western</td>\n",
       "    </tr>\n",
       "    <tr>\n",
       "      <th>836474</th>\n",
       "      <td>5854</td>\n",
       "      <td>3026</td>\n",
       "      <td>4</td>\n",
       "      <td>958346883</td>\n",
       "      <td>Slaughterhouse (1987)</td>\n",
       "      <td>Horror</td>\n",
       "    </tr>\n",
       "    <tr>\n",
       "      <th>836475</th>\n",
       "      <td>5854</td>\n",
       "      <td>690</td>\n",
       "      <td>3</td>\n",
       "      <td>957744257</td>\n",
       "      <td>Promise, The (Versprechen, Das) (1994)</td>\n",
       "      <td>Romance</td>\n",
       "    </tr>\n",
       "    <tr>\n",
       "      <th>836476</th>\n",
       "      <td>5938</td>\n",
       "      <td>2909</td>\n",
       "      <td>4</td>\n",
       "      <td>957273353</td>\n",
       "      <td>Five Wives, Three Secretaries and Me (1998)</td>\n",
       "      <td>Documentary</td>\n",
       "    </tr>\n",
       "    <tr>\n",
       "      <th>836477</th>\n",
       "      <td>5948</td>\n",
       "      <td>1360</td>\n",
       "      <td>5</td>\n",
       "      <td>1016563709</td>\n",
       "      <td>Identification of a Woman (Identificazione di ...</td>\n",
       "      <td>Drama</td>\n",
       "    </tr>\n",
       "  </tbody>\n",
       "</table>\n",
       "<p>836478 rows × 6 columns</p>\n",
       "</div>"
      ],
      "text/plain": [
       "        user_id  movie_id  count   timestamp  \\\n",
       "0             1      1193      5   978300760   \n",
       "1             2      1193      5   978298413   \n",
       "2            12      1193      4   978220179   \n",
       "3            15      1193      4   978199279   \n",
       "4            17      1193      5   978158471   \n",
       "...         ...       ...    ...         ...   \n",
       "836473     5851      3607      5   957756608   \n",
       "836474     5854      3026      4   958346883   \n",
       "836475     5854       690      3   957744257   \n",
       "836476     5938      2909      4   957273353   \n",
       "836477     5948      1360      5  1016563709   \n",
       "\n",
       "                                                    title  \\\n",
       "0                  One Flew Over the Cuckoo's Nest (1975)   \n",
       "1                  One Flew Over the Cuckoo's Nest (1975)   \n",
       "2                  One Flew Over the Cuckoo's Nest (1975)   \n",
       "3                  One Flew Over the Cuckoo's Nest (1975)   \n",
       "4                  One Flew Over the Cuckoo's Nest (1975)   \n",
       "...                                                   ...   \n",
       "836473                           One Little Indian (1973)   \n",
       "836474                              Slaughterhouse (1987)   \n",
       "836475             Promise, The (Versprechen, Das) (1994)   \n",
       "836476        Five Wives, Three Secretaries and Me (1998)   \n",
       "836477  Identification of a Woman (Identificazione di ...   \n",
       "\n",
       "                       genre  \n",
       "0                      Drama  \n",
       "1                      Drama  \n",
       "2                      Drama  \n",
       "3                      Drama  \n",
       "4                      Drama  \n",
       "...                      ...  \n",
       "836473  Comedy|Drama|Western  \n",
       "836474                Horror  \n",
       "836475               Romance  \n",
       "836476           Documentary  \n",
       "836477                 Drama  \n",
       "\n",
       "[836478 rows x 6 columns]"
      ]
     },
     "execution_count": 21,
     "metadata": {},
     "output_type": "execute_result"
    }
   ],
   "source": [
    "ratings = pd.merge(ratings, movies, on=['movie_id']) #merge(원하는 열을 넣을 데이터, 참조할 데이터, on = 참조할 열)\n",
    "ratings"
   ]
  },
  {
   "cell_type": "markdown",
   "id": "automated-alloy",
   "metadata": {},
   "source": [
    "### ㄴ merge함수를 이용하여 ratings파일의 movie_id에 맞춰 title과 genre를 병합시켜준다"
   ]
  },
  {
   "cell_type": "markdown",
   "id": "comfortable-toilet",
   "metadata": {},
   "source": [
    "## 1) Ratings에 있는 Unique한 영화 개수"
   ]
  },
  {
   "cell_type": "code",
   "execution_count": 22,
   "id": "about-lightning",
   "metadata": {},
   "outputs": [
    {
     "data": {
      "text/plain": [
       "3628"
      ]
     },
     "execution_count": 22,
     "metadata": {},
     "output_type": "execute_result"
    }
   ],
   "source": [
    "ratings['movie_id'].nunique()"
   ]
  },
  {
   "cell_type": "markdown",
   "id": "crazy-server",
   "metadata": {},
   "source": [
    "## 2) rating에 있는 유니크한 사용자 수 "
   ]
  },
  {
   "cell_type": "code",
   "execution_count": 23,
   "id": "photographic-chance",
   "metadata": {},
   "outputs": [
    {
     "data": {
      "text/plain": [
       "6039"
      ]
     },
     "execution_count": 23,
     "metadata": {},
     "output_type": "execute_result"
    }
   ],
   "source": [
    "ratings['user_id'].nunique()"
   ]
  },
  {
   "cell_type": "markdown",
   "id": "separate-penetration",
   "metadata": {},
   "source": [
    "## 3) 가장 인기 있는 영화 30개(인기순) "
   ]
  },
  {
   "cell_type": "code",
   "execution_count": 24,
   "id": "operating-think",
   "metadata": {},
   "outputs": [
    {
     "data": {
      "text/plain": [
       "title\n",
       "American Beauty (1999)                                   3211\n",
       "Star Wars: Episode IV - A New Hope (1977)                2910\n",
       "Star Wars: Episode V - The Empire Strikes Back (1980)    2885\n",
       "Star Wars: Episode VI - Return of the Jedi (1983)        2716\n",
       "Saving Private Ryan (1998)                               2561\n",
       "Terminator 2: Judgment Day (1991)                        2509\n",
       "Silence of the Lambs, The (1991)                         2498\n",
       "Raiders of the Lost Ark (1981)                           2473\n",
       "Back to the Future (1985)                                2460\n",
       "Matrix, The (1999)                                       2434\n",
       "Jurassic Park (1993)                                     2413\n",
       "Sixth Sense, The (1999)                                  2385\n",
       "Fargo (1996)                                             2371\n",
       "Braveheart (1995)                                        2314\n",
       "Men in Black (1997)                                      2297\n",
       "Schindler's List (1993)                                  2257\n",
       "Princess Bride, The (1987)                               2252\n",
       "Shakespeare in Love (1998)                               2213\n",
       "L.A. Confidential (1997)                                 2210\n",
       "Shawshank Redemption, The (1994)                         2194\n",
       "Godfather, The (1972)                                    2167\n",
       "Groundhog Day (1993)                                     2121\n",
       "E.T. the Extra-Terrestrial (1982)                        2102\n",
       "Being John Malkovich (1999)                              2066\n",
       "Ghostbusters (1984)                                      2051\n",
       "Pulp Fiction (1994)                                      2030\n",
       "Forrest Gump (1994)                                      2022\n",
       "Terminator, The (1984)                                   2019\n",
       "Toy Story (1995)                                         2000\n",
       "Fugitive, The (1993)                                     1941\n",
       "Name: user_id, dtype: int64"
      ]
     },
     "execution_count": 24,
     "metadata": {},
     "output_type": "execute_result"
    }
   ],
   "source": [
    "ratings_count = ratings.groupby('title')['user_id'].count()\n",
    "ratings_count.sort_values(ascending=False).head(30)"
   ]
  },
  {
   "cell_type": "markdown",
   "id": "humanitarian-medline",
   "metadata": {},
   "source": [
    "## 불필요한 칼럼 제거"
   ]
  },
  {
   "cell_type": "code",
   "execution_count": 25,
   "id": "extra-arrest",
   "metadata": {
    "scrolled": true
   },
   "outputs": [
    {
     "data": {
      "text/html": [
       "<div>\n",
       "<style scoped>\n",
       "    .dataframe tbody tr th:only-of-type {\n",
       "        vertical-align: middle;\n",
       "    }\n",
       "\n",
       "    .dataframe tbody tr th {\n",
       "        vertical-align: top;\n",
       "    }\n",
       "\n",
       "    .dataframe thead th {\n",
       "        text-align: right;\n",
       "    }\n",
       "</style>\n",
       "<table border=\"1\" class=\"dataframe\">\n",
       "  <thead>\n",
       "    <tr style=\"text-align: right;\">\n",
       "      <th></th>\n",
       "      <th>user_id</th>\n",
       "      <th>title</th>\n",
       "      <th>count</th>\n",
       "    </tr>\n",
       "  </thead>\n",
       "  <tbody>\n",
       "    <tr>\n",
       "      <th>0</th>\n",
       "      <td>1</td>\n",
       "      <td>One Flew Over the Cuckoo's Nest (1975)</td>\n",
       "      <td>5</td>\n",
       "    </tr>\n",
       "    <tr>\n",
       "      <th>1</th>\n",
       "      <td>2</td>\n",
       "      <td>One Flew Over the Cuckoo's Nest (1975)</td>\n",
       "      <td>5</td>\n",
       "    </tr>\n",
       "    <tr>\n",
       "      <th>2</th>\n",
       "      <td>12</td>\n",
       "      <td>One Flew Over the Cuckoo's Nest (1975)</td>\n",
       "      <td>4</td>\n",
       "    </tr>\n",
       "    <tr>\n",
       "      <th>3</th>\n",
       "      <td>15</td>\n",
       "      <td>One Flew Over the Cuckoo's Nest (1975)</td>\n",
       "      <td>4</td>\n",
       "    </tr>\n",
       "    <tr>\n",
       "      <th>4</th>\n",
       "      <td>17</td>\n",
       "      <td>One Flew Over the Cuckoo's Nest (1975)</td>\n",
       "      <td>5</td>\n",
       "    </tr>\n",
       "    <tr>\n",
       "      <th>...</th>\n",
       "      <td>...</td>\n",
       "      <td>...</td>\n",
       "      <td>...</td>\n",
       "    </tr>\n",
       "    <tr>\n",
       "      <th>836473</th>\n",
       "      <td>5851</td>\n",
       "      <td>One Little Indian (1973)</td>\n",
       "      <td>5</td>\n",
       "    </tr>\n",
       "    <tr>\n",
       "      <th>836474</th>\n",
       "      <td>5854</td>\n",
       "      <td>Slaughterhouse (1987)</td>\n",
       "      <td>4</td>\n",
       "    </tr>\n",
       "    <tr>\n",
       "      <th>836475</th>\n",
       "      <td>5854</td>\n",
       "      <td>Promise, The (Versprechen, Das) (1994)</td>\n",
       "      <td>3</td>\n",
       "    </tr>\n",
       "    <tr>\n",
       "      <th>836476</th>\n",
       "      <td>5938</td>\n",
       "      <td>Five Wives, Three Secretaries and Me (1998)</td>\n",
       "      <td>4</td>\n",
       "    </tr>\n",
       "    <tr>\n",
       "      <th>836477</th>\n",
       "      <td>5948</td>\n",
       "      <td>Identification of a Woman (Identificazione di ...</td>\n",
       "      <td>5</td>\n",
       "    </tr>\n",
       "  </tbody>\n",
       "</table>\n",
       "<p>836478 rows × 3 columns</p>\n",
       "</div>"
      ],
      "text/plain": [
       "        user_id                                              title  count\n",
       "0             1             One Flew Over the Cuckoo's Nest (1975)      5\n",
       "1             2             One Flew Over the Cuckoo's Nest (1975)      5\n",
       "2            12             One Flew Over the Cuckoo's Nest (1975)      4\n",
       "3            15             One Flew Over the Cuckoo's Nest (1975)      4\n",
       "4            17             One Flew Over the Cuckoo's Nest (1975)      5\n",
       "...         ...                                                ...    ...\n",
       "836473     5851                           One Little Indian (1973)      5\n",
       "836474     5854                              Slaughterhouse (1987)      4\n",
       "836475     5854             Promise, The (Versprechen, Das) (1994)      3\n",
       "836476     5938        Five Wives, Three Secretaries and Me (1998)      4\n",
       "836477     5948  Identification of a Woman (Identificazione di ...      5\n",
       "\n",
       "[836478 rows x 3 columns]"
      ]
     },
     "execution_count": 25,
     "metadata": {},
     "output_type": "execute_result"
    }
   ],
   "source": [
    "x = ratings['movie_id']\n",
    "z = ratings['genre']\n",
    "y = ratings['timestamp']\n",
    "del ratings['timestamp']\n",
    "del ratings['movie_id']\n",
    "del ratings['genre']\n",
    "ratings = pd.DataFrame(ratings, columns = ['user_id', 'title', 'count'])\n",
    "ratings"
   ]
  },
  {
   "cell_type": "markdown",
   "id": "critical-hybrid",
   "metadata": {},
   "source": [
    "### ㄴ movie_id, genre, timestamp칼럼은 불필요할것같아 지워줬다."
   ]
  },
  {
   "cell_type": "code",
   "execution_count": 51,
   "id": "absolute-viewer",
   "metadata": {},
   "outputs": [
    {
     "data": {
      "text/plain": [
       "0       0\n",
       "1       0\n",
       "2       0\n",
       "3       0\n",
       "4       0\n",
       "     ... \n",
       "0     160\n",
       "1     330\n",
       "2    3562\n",
       "3    2092\n",
       "4    1339\n",
       "Name: title, Length: 836483, dtype: int64"
      ]
     },
     "execution_count": 51,
     "metadata": {},
     "output_type": "execute_result"
    }
   ],
   "source": [
    "ratings['title']"
   ]
  },
  {
   "cell_type": "markdown",
   "id": "adjacent-consolidation",
   "metadata": {},
   "source": [
    "## 결측치 확인"
   ]
  },
  {
   "cell_type": "code",
   "execution_count": 26,
   "id": "behavioral-peripheral",
   "metadata": {
    "scrolled": true
   },
   "outputs": [
    {
     "data": {
      "text/plain": [
       "<AxesSubplot:>"
      ]
     },
     "execution_count": 26,
     "metadata": {},
     "output_type": "execute_result"
    },
    {
     "data": {
      "image/png": "[encoded data removed]",
      "text/plain": [
       "<Figure size 1800x720 with 2 Axes>"
      ]
     },
     "metadata": {
      "needs_background": "light"
     },
     "output_type": "display_data"
    }
   ],
   "source": [
    "msno.matrix(ratings)"
   ]
  },
  {
   "cell_type": "markdown",
   "id": "ideal-canvas",
   "metadata": {},
   "source": [
    "### ㄴ 데이터 병합 이후, 결측치가 없는것을 확인했다."
   ]
  },
  {
   "cell_type": "markdown",
   "id": "composite-policy",
   "metadata": {},
   "source": [
    "# 4. 선호 영화 추가하기"
   ]
  },
  {
   "cell_type": "markdown",
   "id": "alone-papua",
   "metadata": {},
   "source": [
    "### * 별점을 시청 횟수로 해석"
   ]
  },
  {
   "cell_type": "code",
   "execution_count": 27,
   "id": "dedicated-stack",
   "metadata": {},
   "outputs": [
    {
     "data": {
      "text/html": [
       "<div>\n",
       "<style scoped>\n",
       "    .dataframe tbody tr th:only-of-type {\n",
       "        vertical-align: middle;\n",
       "    }\n",
       "\n",
       "    .dataframe tbody tr th {\n",
       "        vertical-align: top;\n",
       "    }\n",
       "\n",
       "    .dataframe thead th {\n",
       "        text-align: right;\n",
       "    }\n",
       "</style>\n",
       "<table border=\"1\" class=\"dataframe\">\n",
       "  <thead>\n",
       "    <tr style=\"text-align: right;\">\n",
       "      <th></th>\n",
       "      <th>user_id</th>\n",
       "      <th>title</th>\n",
       "      <th>count</th>\n",
       "    </tr>\n",
       "  </thead>\n",
       "  <tbody>\n",
       "    <tr>\n",
       "      <th>0</th>\n",
       "      <td>mapark</td>\n",
       "      <td>Forrest Gump (1994)</td>\n",
       "      <td>30</td>\n",
       "    </tr>\n",
       "    <tr>\n",
       "      <th>1</th>\n",
       "      <td>mapark</td>\n",
       "      <td>Lion King, The (1994)</td>\n",
       "      <td>30</td>\n",
       "    </tr>\n",
       "    <tr>\n",
       "      <th>2</th>\n",
       "      <td>mapark</td>\n",
       "      <td>Death in Brunswick (1991)</td>\n",
       "      <td>30</td>\n",
       "    </tr>\n",
       "    <tr>\n",
       "      <th>3</th>\n",
       "      <td>mapark</td>\n",
       "      <td>Lost Horizon (1937)</td>\n",
       "      <td>30</td>\n",
       "    </tr>\n",
       "    <tr>\n",
       "      <th>4</th>\n",
       "      <td>mapark</td>\n",
       "      <td>Scarlet Letter, The (1926)</td>\n",
       "      <td>30</td>\n",
       "    </tr>\n",
       "  </tbody>\n",
       "</table>\n",
       "</div>"
      ],
      "text/plain": [
       "  user_id                       title  count\n",
       "0  mapark         Forrest Gump (1994)     30\n",
       "1  mapark       Lion King, The (1994)     30\n",
       "2  mapark   Death in Brunswick (1991)     30\n",
       "3  mapark         Lost Horizon (1937)     30\n",
       "4  mapark  Scarlet Letter, The (1926)     30"
      ]
     },
     "execution_count": 27,
     "metadata": {},
     "output_type": "execute_result"
    }
   ],
   "source": [
    "my_favorite = ['Forrest Gump (1994)', 'Lion King, The (1994)', 'Death in Brunswick (1991)', 'Lost Horizon (1937)', 'Scarlet Letter, The (1926)' ]\n",
    "my_playlist = pd.DataFrame({'user_id':['mapark']*5, 'title':my_favorite,'count':[30]*5})\n",
    "\n",
    "if not ratings.isin({'user_id':['mapark']})['user_id'].any():\n",
    "    ratings = ratings.append(my_playlist)\n",
    "    \n",
    "ratings.tail()"
   ]
  },
  {
   "cell_type": "code",
   "execution_count": 28,
   "id": "general-geology",
   "metadata": {
    "scrolled": true
   },
   "outputs": [
    {
     "data": {
      "text/html": [
       "<div>\n",
       "<style scoped>\n",
       "    .dataframe tbody tr th:only-of-type {\n",
       "        vertical-align: middle;\n",
       "    }\n",
       "\n",
       "    .dataframe tbody tr th {\n",
       "        vertical-align: top;\n",
       "    }\n",
       "\n",
       "    .dataframe thead th {\n",
       "        text-align: right;\n",
       "    }\n",
       "</style>\n",
       "<table border=\"1\" class=\"dataframe\">\n",
       "  <thead>\n",
       "    <tr style=\"text-align: right;\">\n",
       "      <th></th>\n",
       "      <th>user_id</th>\n",
       "      <th>title</th>\n",
       "      <th>count</th>\n",
       "    </tr>\n",
       "  </thead>\n",
       "  <tbody>\n",
       "    <tr>\n",
       "      <th>0</th>\n",
       "      <td>mapark</td>\n",
       "      <td>Forrest Gump (1994)</td>\n",
       "      <td>30</td>\n",
       "    </tr>\n",
       "    <tr>\n",
       "      <th>1</th>\n",
       "      <td>mapark</td>\n",
       "      <td>Lion King, The (1994)</td>\n",
       "      <td>30</td>\n",
       "    </tr>\n",
       "    <tr>\n",
       "      <th>2</th>\n",
       "      <td>mapark</td>\n",
       "      <td>Death in Brunswick (1991)</td>\n",
       "      <td>30</td>\n",
       "    </tr>\n",
       "    <tr>\n",
       "      <th>3</th>\n",
       "      <td>mapark</td>\n",
       "      <td>Lost Horizon (1937)</td>\n",
       "      <td>30</td>\n",
       "    </tr>\n",
       "    <tr>\n",
       "      <th>4</th>\n",
       "      <td>mapark</td>\n",
       "      <td>Scarlet Letter, The (1926)</td>\n",
       "      <td>30</td>\n",
       "    </tr>\n",
       "  </tbody>\n",
       "</table>\n",
       "</div>"
      ],
      "text/plain": [
       "  user_id                       title  count\n",
       "0  mapark         Forrest Gump (1994)     30\n",
       "1  mapark       Lion King, The (1994)     30\n",
       "2  mapark   Death in Brunswick (1991)     30\n",
       "3  mapark         Lost Horizon (1937)     30\n",
       "4  mapark  Scarlet Letter, The (1926)     30"
      ]
     },
     "execution_count": 28,
     "metadata": {},
     "output_type": "execute_result"
    }
   ],
   "source": [
    "my_playlist"
   ]
  },
  {
   "cell_type": "code",
   "execution_count": 29,
   "id": "legendary-leave",
   "metadata": {},
   "outputs": [
    {
     "data": {
      "text/html": [
       "<div>\n",
       "<style scoped>\n",
       "    .dataframe tbody tr th:only-of-type {\n",
       "        vertical-align: middle;\n",
       "    }\n",
       "\n",
       "    .dataframe tbody tr th {\n",
       "        vertical-align: top;\n",
       "    }\n",
       "\n",
       "    .dataframe thead th {\n",
       "        text-align: right;\n",
       "    }\n",
       "</style>\n",
       "<table border=\"1\" class=\"dataframe\">\n",
       "  <thead>\n",
       "    <tr style=\"text-align: right;\">\n",
       "      <th></th>\n",
       "      <th>user_id</th>\n",
       "      <th>title</th>\n",
       "      <th>count</th>\n",
       "    </tr>\n",
       "  </thead>\n",
       "  <tbody>\n",
       "    <tr>\n",
       "      <th>0</th>\n",
       "      <td>1</td>\n",
       "      <td>One Flew Over the Cuckoo's Nest (1975)</td>\n",
       "      <td>5</td>\n",
       "    </tr>\n",
       "    <tr>\n",
       "      <th>1</th>\n",
       "      <td>2</td>\n",
       "      <td>One Flew Over the Cuckoo's Nest (1975)</td>\n",
       "      <td>5</td>\n",
       "    </tr>\n",
       "    <tr>\n",
       "      <th>2</th>\n",
       "      <td>12</td>\n",
       "      <td>One Flew Over the Cuckoo's Nest (1975)</td>\n",
       "      <td>4</td>\n",
       "    </tr>\n",
       "    <tr>\n",
       "      <th>3</th>\n",
       "      <td>15</td>\n",
       "      <td>One Flew Over the Cuckoo's Nest (1975)</td>\n",
       "      <td>4</td>\n",
       "    </tr>\n",
       "    <tr>\n",
       "      <th>4</th>\n",
       "      <td>17</td>\n",
       "      <td>One Flew Over the Cuckoo's Nest (1975)</td>\n",
       "      <td>5</td>\n",
       "    </tr>\n",
       "    <tr>\n",
       "      <th>...</th>\n",
       "      <td>...</td>\n",
       "      <td>...</td>\n",
       "      <td>...</td>\n",
       "    </tr>\n",
       "    <tr>\n",
       "      <th>0</th>\n",
       "      <td>mapark</td>\n",
       "      <td>Forrest Gump (1994)</td>\n",
       "      <td>30</td>\n",
       "    </tr>\n",
       "    <tr>\n",
       "      <th>1</th>\n",
       "      <td>mapark</td>\n",
       "      <td>Lion King, The (1994)</td>\n",
       "      <td>30</td>\n",
       "    </tr>\n",
       "    <tr>\n",
       "      <th>2</th>\n",
       "      <td>mapark</td>\n",
       "      <td>Death in Brunswick (1991)</td>\n",
       "      <td>30</td>\n",
       "    </tr>\n",
       "    <tr>\n",
       "      <th>3</th>\n",
       "      <td>mapark</td>\n",
       "      <td>Lost Horizon (1937)</td>\n",
       "      <td>30</td>\n",
       "    </tr>\n",
       "    <tr>\n",
       "      <th>4</th>\n",
       "      <td>mapark</td>\n",
       "      <td>Scarlet Letter, The (1926)</td>\n",
       "      <td>30</td>\n",
       "    </tr>\n",
       "  </tbody>\n",
       "</table>\n",
       "<p>836483 rows × 3 columns</p>\n",
       "</div>"
      ],
      "text/plain": [
       "   user_id                                   title  count\n",
       "0        1  One Flew Over the Cuckoo's Nest (1975)      5\n",
       "1        2  One Flew Over the Cuckoo's Nest (1975)      5\n",
       "2       12  One Flew Over the Cuckoo's Nest (1975)      4\n",
       "3       15  One Flew Over the Cuckoo's Nest (1975)      4\n",
       "4       17  One Flew Over the Cuckoo's Nest (1975)      5\n",
       "..     ...                                     ...    ...\n",
       "0   mapark                     Forrest Gump (1994)     30\n",
       "1   mapark                   Lion King, The (1994)     30\n",
       "2   mapark               Death in Brunswick (1991)     30\n",
       "3   mapark                     Lost Horizon (1937)     30\n",
       "4   mapark              Scarlet Letter, The (1926)     30\n",
       "\n",
       "[836483 rows x 3 columns]"
      ]
     },
     "execution_count": 29,
     "metadata": {},
     "output_type": "execute_result"
    }
   ],
   "source": [
    "ratings"
   ]
  },
  {
   "cell_type": "markdown",
   "id": "speaking-missouri",
   "metadata": {},
   "source": [
    "# 5. Indexing"
   ]
  },
  {
   "cell_type": "code",
   "execution_count": 30,
   "id": "stable-highway",
   "metadata": {},
   "outputs": [],
   "source": [
    "user_unique = ratings['user_id'].unique()\n",
    "title_unique = ratings['title'].unique()\n",
    "\n",
    "\n",
    "user_to_idx = {v:k for k,v in enumerate(user_unique)}\n",
    "title_to_idx = {v:k for k,v in enumerate(title_unique)}"
   ]
  },
  {
   "cell_type": "code",
   "execution_count": 31,
   "id": "reduced-ground",
   "metadata": {},
   "outputs": [
    {
     "name": "stdout",
     "output_type": "stream",
     "text": [
      "6039\n",
      "1339\n"
     ]
    }
   ],
   "source": [
    "print(user_to_idx['mapark'])    \n",
    "print(title_to_idx['Scarlet Letter, The (1926)'])"
   ]
  },
  {
   "cell_type": "code",
   "execution_count": 32,
   "id": "opponent-crossing",
   "metadata": {},
   "outputs": [
    {
     "name": "stdout",
     "output_type": "stream",
     "text": [
      "user_id column indexing OK!!\n",
      "title column indexing OK!!\n"
     ]
    },
    {
     "data": {
      "text/html": [
       "<div>\n",
       "<style scoped>\n",
       "    .dataframe tbody tr th:only-of-type {\n",
       "        vertical-align: middle;\n",
       "    }\n",
       "\n",
       "    .dataframe tbody tr th {\n",
       "        vertical-align: top;\n",
       "    }\n",
       "\n",
       "    .dataframe thead th {\n",
       "        text-align: right;\n",
       "    }\n",
       "</style>\n",
       "<table border=\"1\" class=\"dataframe\">\n",
       "  <thead>\n",
       "    <tr style=\"text-align: right;\">\n",
       "      <th></th>\n",
       "      <th>user_id</th>\n",
       "      <th>title</th>\n",
       "      <th>count</th>\n",
       "    </tr>\n",
       "  </thead>\n",
       "  <tbody>\n",
       "    <tr>\n",
       "      <th>0</th>\n",
       "      <td>0</td>\n",
       "      <td>0</td>\n",
       "      <td>5</td>\n",
       "    </tr>\n",
       "    <tr>\n",
       "      <th>1</th>\n",
       "      <td>1</td>\n",
       "      <td>0</td>\n",
       "      <td>5</td>\n",
       "    </tr>\n",
       "    <tr>\n",
       "      <th>2</th>\n",
       "      <td>2</td>\n",
       "      <td>0</td>\n",
       "      <td>4</td>\n",
       "    </tr>\n",
       "    <tr>\n",
       "      <th>3</th>\n",
       "      <td>3</td>\n",
       "      <td>0</td>\n",
       "      <td>4</td>\n",
       "    </tr>\n",
       "    <tr>\n",
       "      <th>4</th>\n",
       "      <td>4</td>\n",
       "      <td>0</td>\n",
       "      <td>5</td>\n",
       "    </tr>\n",
       "    <tr>\n",
       "      <th>...</th>\n",
       "      <td>...</td>\n",
       "      <td>...</td>\n",
       "      <td>...</td>\n",
       "    </tr>\n",
       "    <tr>\n",
       "      <th>0</th>\n",
       "      <td>6039</td>\n",
       "      <td>160</td>\n",
       "      <td>30</td>\n",
       "    </tr>\n",
       "    <tr>\n",
       "      <th>1</th>\n",
       "      <td>6039</td>\n",
       "      <td>330</td>\n",
       "      <td>30</td>\n",
       "    </tr>\n",
       "    <tr>\n",
       "      <th>2</th>\n",
       "      <td>6039</td>\n",
       "      <td>3562</td>\n",
       "      <td>30</td>\n",
       "    </tr>\n",
       "    <tr>\n",
       "      <th>3</th>\n",
       "      <td>6039</td>\n",
       "      <td>2092</td>\n",
       "      <td>30</td>\n",
       "    </tr>\n",
       "    <tr>\n",
       "      <th>4</th>\n",
       "      <td>6039</td>\n",
       "      <td>1339</td>\n",
       "      <td>30</td>\n",
       "    </tr>\n",
       "  </tbody>\n",
       "</table>\n",
       "<p>836483 rows × 3 columns</p>\n",
       "</div>"
      ],
      "text/plain": [
       "    user_id  title  count\n",
       "0         0      0      5\n",
       "1         1      0      5\n",
       "2         2      0      4\n",
       "3         3      0      4\n",
       "4         4      0      5\n",
       "..      ...    ...    ...\n",
       "0      6039    160     30\n",
       "1      6039    330     30\n",
       "2      6039   3562     30\n",
       "3      6039   2092     30\n",
       "4      6039   1339     30\n",
       "\n",
       "[836483 rows x 3 columns]"
      ]
     },
     "execution_count": 32,
     "metadata": {},
     "output_type": "execute_result"
    }
   ],
   "source": [
    "# indexing을 통해 데이터 컬럼 내 값을 바꾸는 코드\n",
    "# dictionary 자료형의 get 함수는 https://wikidocs.net/16 을 참고하세요.\n",
    " \n",
    "temp_user_data = ratings['user_id'].map(user_to_idx.get).dropna()\n",
    "if len(temp_user_data) == len(ratings):   # 모든 row가 정상적으로 인덱싱되었다면\n",
    "    print('user_id column indexing OK!!')\n",
    "    ratings['user_id'] = temp_user_data   # data['user_id']을 인덱싱된 Series로 교체해 줍니다. \n",
    "else:\n",
    "    print('user_id column indexing Fail!!')\n",
    "\n",
    "# artist_to_idx을 통해 artist 컬럼도 동일한 방식으로 인덱싱해 줍니다. \n",
    "temp_title_data = ratings['title'].map(title_to_idx.get).dropna()\n",
    "if len(temp_title_data) == len(ratings):\n",
    "    print('title column indexing OK!!')\n",
    "    ratings['title'] = temp_title_data\n",
    "else:\n",
    "    print('title column indexing Fail!!')\n",
    "\n",
    "ratings"
   ]
  },
  {
   "cell_type": "code",
   "execution_count": 34,
   "id": "chinese-stroke",
   "metadata": {},
   "outputs": [
    {
     "name": "stdout",
     "output_type": "stream",
     "text": [
      "0,836483\n",
      "Ratio of only_one over all data is 0.00%\n"
     ]
    }
   ],
   "source": [
    "# 1회만 play한 데이터의 비율을 보는 코드\n",
    "only_one = ratings[ratings['count']<2]\n",
    "one, all_data = len(only_one), len(ratings)\n",
    "print(f'{one},{all_data}')\n",
    "print(f'Ratio of only_one over all data is {one/all_data:.2%}')  # f-format에 대한 설명은 https://bit.ly/2DTLqYU"
   ]
  },
  {
   "cell_type": "markdown",
   "id": "aggregate-greene",
   "metadata": {},
   "source": [
    "# 6. CSR Matrix"
   ]
  },
  {
   "cell_type": "code",
   "execution_count": 44,
   "id": "widespread-tokyo",
   "metadata": {},
   "outputs": [
    {
     "data": {
      "text/plain": [
       "<6040x3628 sparse matrix of type '<class 'numpy.int64'>'\n",
       "\twith 836483 stored elements in Compressed Sparse Row format>"
      ]
     },
     "execution_count": 44,
     "metadata": {},
     "output_type": "execute_result"
    }
   ],
   "source": [
    "from scipy.sparse import csr_matrix\n",
    "\n",
    "num_user = ratings['user_id'].nunique()\n",
    "num_title = ratings['title'].nunique()\n",
    "\n",
    "csr_data = csr_matrix((ratings['count'], (ratings.user_id, ratings.title)), shape= (num_user, num_title))\n",
    "csr_data"
   ]
  },
  {
   "cell_type": "markdown",
   "id": "accredited-philadelphia",
   "metadata": {},
   "source": [
    "# 7. MF Model"
   ]
  },
  {
   "cell_type": "markdown",
   "id": "perfect-wichita",
   "metadata": {},
   "source": [
    "## 1) als model"
   ]
  },
  {
   "cell_type": "code",
   "execution_count": 45,
   "id": "decent-morris",
   "metadata": {},
   "outputs": [],
   "source": [
    "from implicit.als import AlternatingLeastSquares\n",
    "import os\n",
    "import numpy as np\n",
    "\n",
    "# implicit 라이브러리에서 권장하고 있는 부분입니다. 학습 내용과는 무관합니다.\n",
    "os.environ['OPENBLAS_NUM_THREADS']='1'\n",
    "os.environ['KMP_DUPLICATE_LIB_OK']='True'\n",
    "os.environ['MKL_NUM_THREADS']='1'"
   ]
  },
  {
   "cell_type": "code",
   "execution_count": 46,
   "id": "toxic-berkeley",
   "metadata": {},
   "outputs": [],
   "source": [
    "# Implicit AlternatingLeastSquares 모델의 선언\n",
    "als_model = AlternatingLeastSquares(factors=100, regularization=0.01, use_gpu=False, iterations=15, dtype=np.float32)"
   ]
  },
  {
   "cell_type": "code",
   "execution_count": 47,
   "id": "decent-salon",
   "metadata": {},
   "outputs": [
    {
     "data": {
      "text/plain": [
       "<3628x6040 sparse matrix of type '<class 'numpy.int64'>'\n",
       "\twith 836483 stored elements in Compressed Sparse Column format>"
      ]
     },
     "execution_count": 47,
     "metadata": {},
     "output_type": "execute_result"
    }
   ],
   "source": [
    "# als 모델은 input으로 (item X user 꼴의 matrix를 받기 때문에 Transpose해줍니다.)\n",
    "csr_data_transpose = csr_data.T\n",
    "csr_data_transpose"
   ]
  },
  {
   "cell_type": "code",
   "execution_count": 48,
   "id": "latter-infrastructure",
   "metadata": {},
   "outputs": [
    {
     "data": {
      "application/vnd.jupyter.widget-view+json": {
       "model_id": "710843f45dc34f72b1651d8d4f4785ec",
       "version_major": 2,
       "version_minor": 0
      },
      "text/plain": [
       "  0%|          | 0/15 [00:00<?, ?it/s]"
      ]
     },
     "metadata": {},
     "output_type": "display_data"
    }
   ],
   "source": [
    "als_model.fit(csr_data_transpose)"
   ]
  },
  {
   "cell_type": "markdown",
   "id": "august-bearing",
   "metadata": {},
   "source": [
    "## 높은 선호도 영화와의 내적관계 구하기"
   ]
  },
  {
   "cell_type": "code",
   "execution_count": 60,
   "id": "isolated-young",
   "metadata": {},
   "outputs": [
    {
     "name": "stdout",
     "output_type": "stream",
     "text": [
      "슝=3\n"
     ]
    }
   ],
   "source": [
    "mapark, gump = user_to_idx['mapark'], title_to_idx['Forrest Gump (1994)']\n",
    "mapark_vector, gump_vector = als_model.user_factors[mapark], als_model.item_factors[gump]\n",
    "\n",
    "print('슝=3')"
   ]
  },
  {
   "cell_type": "code",
   "execution_count": 61,
   "id": "finnish-humanitarian",
   "metadata": {},
   "outputs": [
    {
     "data": {
      "text/plain": [
       "array([-0.6598086 ,  0.12824985, -0.02122569,  2.0470207 ,  1.0334886 ,\n",
       "       -0.45917872,  0.07441131,  1.2703582 ,  0.87561226, -0.9349868 ,\n",
       "        0.4299957 ,  0.6891734 ,  0.10025988,  1.1201316 ,  1.1195703 ,\n",
       "       -2.1209776 ,  1.8803984 , -0.3748745 , -2.773686  , -0.22589268,\n",
       "        0.785048  , -1.1173439 ,  0.27808887, -0.46765888, -0.3476882 ,\n",
       "        1.310319  , -0.721694  , -0.24132118,  0.9826145 ,  1.917788  ,\n",
       "        1.1897427 ,  0.2970051 , -2.1993759 ,  1.3819805 , -1.1204206 ,\n",
       "       -1.9578904 , -0.577297  ,  1.0636336 , -0.5014559 , -0.4806568 ,\n",
       "        0.10880001, -0.80684507, -0.04181737, -1.0812011 , -0.49697986,\n",
       "       -0.08253948,  1.0058457 , -1.6601938 ,  0.28465614, -1.7263787 ,\n",
       "       -0.08365929, -1.8720868 , -1.5444506 ,  0.4666411 ,  0.56093407,\n",
       "       -0.29207867, -0.40218288,  1.8867698 ,  0.09099066,  1.3774942 ,\n",
       "        0.9048713 ,  0.37884718, -1.4279476 ,  0.37735307, -0.37542576,\n",
       "       -1.0227971 , -1.2262449 ,  1.1818793 , -1.0327448 , -0.27328092,\n",
       "       -0.6941855 ,  0.28509504,  0.821975  ,  0.10386287, -0.68499666,\n",
       "        2.2270718 , -1.653139  , -0.5635661 , -2.3425403 ,  0.05437049,\n",
       "        1.4850289 ,  0.1762786 , -0.19030485,  0.5962846 ,  0.4774226 ,\n",
       "        1.4234742 ,  1.1562523 ,  0.80990607,  0.3934221 ,  0.5089242 ,\n",
       "        0.15260193,  0.4111236 ,  1.8852991 ,  0.7779594 ,  0.46692878,\n",
       "        2.168564  , -0.73506296, -0.57012117, -1.1193576 , -0.8796964 ],\n",
       "      dtype=float32)"
      ]
     },
     "execution_count": 61,
     "metadata": {},
     "output_type": "execute_result"
    }
   ],
   "source": [
    "mapark_vector"
   ]
  },
  {
   "cell_type": "code",
   "execution_count": 62,
   "id": "suspected-plant",
   "metadata": {},
   "outputs": [
    {
     "data": {
      "text/plain": [
       "array([ 0.02800233, -0.01711432, -0.03084885,  0.02275697,  0.04925659,\n",
       "        0.01830143,  0.00403875, -0.00024346,  0.03230691,  0.02084976,\n",
       "        0.02351384,  0.01511372, -0.00942343,  0.03130496,  0.00848911,\n",
       "       -0.0181265 ,  0.0165545 ,  0.01081937,  0.02464812,  0.01983786,\n",
       "       -0.01169148, -0.02792377, -0.0001004 ,  0.01300118,  0.02373006,\n",
       "        0.06889316, -0.01728596,  0.02486021,  0.00185719,  0.05492679,\n",
       "        0.00892902,  0.02282126, -0.01800615,  0.01446471, -0.01847221,\n",
       "       -0.01315994,  0.000313  , -0.00678248,  0.01457221,  0.00210271,\n",
       "       -0.01574515, -0.00116272, -0.01830233,  0.01115936, -0.02433864,\n",
       "        0.03694955,  0.0189379 , -0.02694328, -0.00927369, -0.02030967,\n",
       "        0.0140215 , -0.02040237, -0.0259016 ,  0.03381275,  0.00083073,\n",
       "        0.01461171,  0.03612526,  0.01694442, -0.03307101, -0.01034682,\n",
       "        0.01798074,  0.00091571,  0.00365524,  0.02320257, -0.01674007,\n",
       "       -0.01175275, -0.00515685,  0.01984206,  0.03853659, -0.00145387,\n",
       "       -0.00505606,  0.00013795,  0.02307086, -0.0108416 ,  0.03043548,\n",
       "        0.01374014,  0.00049683, -0.02785442, -0.02029257, -0.00387085,\n",
       "        0.01874522,  0.01793603, -0.00590816,  0.03408225,  0.01694736,\n",
       "        0.02790833, -0.00956287,  0.0048465 ,  0.00480488, -0.00230063,\n",
       "        0.02289659, -0.00158396,  0.02625563, -0.00148761,  0.03703031,\n",
       "        0.03113512,  0.02078541,  0.01298153,  0.0100344 , -0.01314854],\n",
       "      dtype=float32)"
      ]
     },
     "execution_count": 62,
     "metadata": {},
     "output_type": "execute_result"
    }
   ],
   "source": [
    "gump_vector"
   ]
  },
  {
   "cell_type": "code",
   "execution_count": 63,
   "id": "perceived-outline",
   "metadata": {},
   "outputs": [
    {
     "data": {
      "text/plain": [
       "0.9660247"
      ]
     },
     "execution_count": 63,
     "metadata": {},
     "output_type": "execute_result"
    }
   ],
   "source": [
    "np.dot(mapark_vector, gump_vector)"
   ]
  },
  {
   "cell_type": "markdown",
   "id": "overhead-beverage",
   "metadata": {},
   "source": [
    "### ㄴ 5가지 선호 영화중 하나인 영화라 그런지 1에 근접하는 수치가 나왔다."
   ]
  },
  {
   "cell_type": "markdown",
   "id": "comprehensive-cambodia",
   "metadata": {},
   "source": [
    "## 선호도 관계 없는 영화와 내적 관계 구하기"
   ]
  },
  {
   "cell_type": "code",
   "execution_count": 64,
   "id": "automotive-pizza",
   "metadata": {},
   "outputs": [
    {
     "name": "stdout",
     "output_type": "stream",
     "text": [
      "슝=3\n"
     ]
    }
   ],
   "source": [
    "mapark, indian = user_to_idx['mapark'], title_to_idx['One Little Indian (1973)']\n",
    "mapark_vector, indian_vector = als_model.user_factors[mapark], als_model.item_factors[indian]\n",
    "\n",
    "print('슝=3')"
   ]
  },
  {
   "cell_type": "code",
   "execution_count": 65,
   "id": "bottom-salad",
   "metadata": {},
   "outputs": [
    {
     "data": {
      "text/plain": [
       "array([-0.6598086 ,  0.12824985, -0.02122569,  2.0470207 ,  1.0334886 ,\n",
       "       -0.45917872,  0.07441131,  1.2703582 ,  0.87561226, -0.9349868 ,\n",
       "        0.4299957 ,  0.6891734 ,  0.10025988,  1.1201316 ,  1.1195703 ,\n",
       "       -2.1209776 ,  1.8803984 , -0.3748745 , -2.773686  , -0.22589268,\n",
       "        0.785048  , -1.1173439 ,  0.27808887, -0.46765888, -0.3476882 ,\n",
       "        1.310319  , -0.721694  , -0.24132118,  0.9826145 ,  1.917788  ,\n",
       "        1.1897427 ,  0.2970051 , -2.1993759 ,  1.3819805 , -1.1204206 ,\n",
       "       -1.9578904 , -0.577297  ,  1.0636336 , -0.5014559 , -0.4806568 ,\n",
       "        0.10880001, -0.80684507, -0.04181737, -1.0812011 , -0.49697986,\n",
       "       -0.08253948,  1.0058457 , -1.6601938 ,  0.28465614, -1.7263787 ,\n",
       "       -0.08365929, -1.8720868 , -1.5444506 ,  0.4666411 ,  0.56093407,\n",
       "       -0.29207867, -0.40218288,  1.8867698 ,  0.09099066,  1.3774942 ,\n",
       "        0.9048713 ,  0.37884718, -1.4279476 ,  0.37735307, -0.37542576,\n",
       "       -1.0227971 , -1.2262449 ,  1.1818793 , -1.0327448 , -0.27328092,\n",
       "       -0.6941855 ,  0.28509504,  0.821975  ,  0.10386287, -0.68499666,\n",
       "        2.2270718 , -1.653139  , -0.5635661 , -2.3425403 ,  0.05437049,\n",
       "        1.4850289 ,  0.1762786 , -0.19030485,  0.5962846 ,  0.4774226 ,\n",
       "        1.4234742 ,  1.1562523 ,  0.80990607,  0.3934221 ,  0.5089242 ,\n",
       "        0.15260193,  0.4111236 ,  1.8852991 ,  0.7779594 ,  0.46692878,\n",
       "        2.168564  , -0.73506296, -0.57012117, -1.1193576 , -0.8796964 ],\n",
       "      dtype=float32)"
      ]
     },
     "execution_count": 65,
     "metadata": {},
     "output_type": "execute_result"
    }
   ],
   "source": [
    "mapark_vector"
   ]
  },
  {
   "cell_type": "code",
   "execution_count": 66,
   "id": "obvious-answer",
   "metadata": {},
   "outputs": [
    {
     "data": {
      "text/plain": [
       "array([ 4.92825347e-04, -5.14702057e-04,  9.37301491e-04, -4.89231665e-04,\n",
       "        1.57386495e-03, -5.89961943e-04,  7.95459666e-04,  5.75897284e-04,\n",
       "        1.59778574e-05, -7.59585164e-05,  1.33720270e-04,  7.17657793e-04,\n",
       "        1.49709499e-03,  4.94875247e-04, -4.55719855e-04, -4.85930650e-05,\n",
       "        4.98882728e-04,  3.02198285e-04,  4.49522980e-04,  2.79081753e-04,\n",
       "        3.65992280e-04, -3.75470700e-04,  2.57455301e-03, -1.88691192e-05,\n",
       "        1.16601039e-03,  5.49939887e-06,  6.67778659e-04,  6.61265687e-04,\n",
       "       -1.53525267e-04,  6.10403193e-04,  5.36743260e-04,  4.79653274e-04,\n",
       "        2.01960886e-03, -2.51996069e-04, -7.29478488e-04, -4.43709432e-04,\n",
       "        1.79997805e-04,  1.25694706e-03,  5.47219359e-04,  1.04236265e-03,\n",
       "       -2.29583340e-04,  6.88753964e-04,  7.27845938e-04,  1.25672168e-03,\n",
       "       -5.43596805e-04, -3.71408765e-04,  1.39529421e-03,  9.59884666e-04,\n",
       "        6.50293601e-04,  9.68610984e-05,  1.59415606e-04, -4.65705583e-04,\n",
       "        5.31176629e-04,  6.02386659e-04,  6.00498694e-04, -6.46027853e-04,\n",
       "       -1.30338405e-04, -1.52898580e-03, -4.05421219e-04,  8.01852802e-05,\n",
       "        1.04494917e-04,  1.31662120e-03, -7.36840710e-04, -4.95409149e-05,\n",
       "        4.90652921e-04, -8.61428794e-04, -7.59742339e-04, -5.74753649e-05,\n",
       "        3.92703863e-04,  1.05186587e-03,  5.69669413e-04,  8.57487728e-04,\n",
       "        6.77887583e-04, -2.33779909e-04, -3.59239551e-04,  1.10426254e-03,\n",
       "        4.81896423e-04,  6.20784063e-04,  4.86568053e-04,  1.99457267e-04,\n",
       "        6.27595291e-04,  7.35754089e-04, -1.53019355e-04, -7.85718788e-04,\n",
       "        6.12568809e-04,  1.27899228e-03,  1.32284826e-04,  8.38484732e-04,\n",
       "        4.23986174e-04,  6.96333533e-04, -5.69806376e-04,  2.60751956e-04,\n",
       "        1.28145039e-03,  2.81057670e-04, -2.34243460e-04, -2.66007235e-04,\n",
       "        1.19460041e-04,  2.11644714e-04, -8.07629433e-04, -1.16310104e-04],\n",
       "      dtype=float32)"
      ]
     },
     "execution_count": 66,
     "metadata": {},
     "output_type": "execute_result"
    }
   ],
   "source": [
    "indian_vector"
   ]
  },
  {
   "cell_type": "code",
   "execution_count": 67,
   "id": "another-canvas",
   "metadata": {},
   "outputs": [
    {
     "data": {
      "text/plain": [
       "0.0076771006"
      ]
     },
     "execution_count": 67,
     "metadata": {},
     "output_type": "execute_result"
    }
   ],
   "source": [
    "np.dot(mapark_vector, indian_vector)"
   ]
  },
  {
   "cell_type": "markdown",
   "id": "descending-association",
   "metadata": {},
   "source": [
    "### ㄴ 매우 낮은 수치로 나의 추천 목록엔 전혀 출현하지 않을 영화일것이다."
   ]
  },
  {
   "cell_type": "markdown",
   "id": "pharmaceutical-information",
   "metadata": {},
   "source": [
    "# 8. 비슷한 영화 찾기"
   ]
  },
  {
   "cell_type": "code",
   "execution_count": 69,
   "id": "qualified-experience",
   "metadata": {
    "scrolled": false
   },
   "outputs": [
    {
     "data": {
      "text/plain": [
       "[(160, 0.99999994),\n",
       " (110, 0.5999108),\n",
       " (336, 0.4838187),\n",
       " (204, 0.461291),\n",
       " (3562, 0.45990035),\n",
       " (613, 0.44588822),\n",
       " (20, 0.44335487),\n",
       " (1234, 0.4345885),\n",
       " (666, 0.4123218),\n",
       " (508, 0.39778116),\n",
       " (154, 0.392517),\n",
       " (466, 0.39146796),\n",
       " (3543, 0.38810766),\n",
       " (23, 0.3854228),\n",
       " (340, 0.38425338)]"
      ]
     },
     "execution_count": 69,
     "metadata": {},
     "output_type": "execute_result"
    }
   ],
   "source": [
    "favorite_title = 'Forrest Gump (1994)'\n",
    "title_id = title_to_idx[favorite_title]\n",
    "similar_title = als_model.similar_items(title_id, N=15)\n",
    "similar_title"
   ]
  },
  {
   "cell_type": "markdown",
   "id": "precise-grocery",
   "metadata": {},
   "source": [
    "## title_id를 영화이름으로 mapping"
   ]
  },
  {
   "cell_type": "code",
   "execution_count": 71,
   "id": "adequate-underwear",
   "metadata": {},
   "outputs": [
    {
     "data": {
      "text/plain": [
       "['Forrest Gump (1994)',\n",
       " 'Groundhog Day (1993)',\n",
       " 'Pretty Woman (1990)',\n",
       " 'Clueless (1995)',\n",
       " 'Death in Brunswick (1991)',\n",
       " 'Four Weddings and a Funeral (1994)',\n",
       " 'Pleasantville (1998)',\n",
       " 'Dave (1993)',\n",
       " 'Sleepless in Seattle (1993)',\n",
       " 'Ghost (1990)',\n",
       " 'As Good As It Gets (1997)',\n",
       " 'Wedding Singer, The (1998)',\n",
       " 'Small Wonders (1996)',\n",
       " \"Schindler's List (1993)\",\n",
       " \"My Best Friend's Wedding (1997)\"]"
      ]
     },
     "execution_count": 71,
     "metadata": {},
     "output_type": "execute_result"
    }
   ],
   "source": [
    "idx_to_title = {v:k for k,v in title_to_idx.items()}\n",
    "[idx_to_title[i[0]] for i in similar_title]"
   ]
  },
  {
   "cell_type": "markdown",
   "id": "systematic-chorus",
   "metadata": {},
   "source": [
    "## 추천 함수 만들기"
   ]
  },
  {
   "cell_type": "code",
   "execution_count": 78,
   "id": "remarkable-platform",
   "metadata": {},
   "outputs": [
    {
     "name": "stdout",
     "output_type": "stream",
     "text": [
      "슝=3\n"
     ]
    }
   ],
   "source": [
    "def get_similar_title(title_name: str):\n",
    "    title_id = title_to_idx[title_name]\n",
    "    similar_title = als_model.similar_items(title_id)\n",
    "    similar_title = [idx_to_title[i[0]] for i in similar_title]\n",
    "    return similar_title\n",
    "\n",
    "print(\"슝=3\")"
   ]
  },
  {
   "cell_type": "code",
   "execution_count": 81,
   "id": "excess-pilot",
   "metadata": {},
   "outputs": [
    {
     "data": {
      "text/plain": [
       "['Scarlet Letter, The (1926)',\n",
       " 'Death in Brunswick (1991)',\n",
       " 'Man from Down Under, The (1943)',\n",
       " 'Incognito (1997)',\n",
       " 'Coming Apart (1969)',\n",
       " 'Loaded (1994)',\n",
       " 'Bells, The (1926)',\n",
       " '24 7: Twenty Four Seven (1997)',\n",
       " 'Shopping (1994)',\n",
       " 'Macao (1952)']"
      ]
     },
     "execution_count": 81,
     "metadata": {},
     "output_type": "execute_result"
    }
   ],
   "source": [
    "get_similar_title('Scarlet Letter, The (1926)')"
   ]
  },
  {
   "cell_type": "markdown",
   "id": "built-sampling",
   "metadata": {},
   "source": [
    "### ㄴ 주홍글씨와 관계도가 높은 영화 목록들이 추천되었다."
   ]
  },
  {
   "cell_type": "markdown",
   "id": "three-toyota",
   "metadata": {},
   "source": [
    "# 9. 유저에게 영화 추천하기"
   ]
  },
  {
   "cell_type": "code",
   "execution_count": 83,
   "id": "superb-tennessee",
   "metadata": {},
   "outputs": [
    {
     "data": {
      "text/plain": [
       "[(50, 0.75980675),\n",
       " (40, 0.7016969),\n",
       " (33, 0.52397907),\n",
       " (4, 0.49483746),\n",
       " (10, 0.45918745),\n",
       " (38, 0.37579262),\n",
       " (458, 0.3715486),\n",
       " (20, 0.35884804),\n",
       " (391, 0.35854748),\n",
       " (1283, 0.34035975),\n",
       " (663, 0.30784187),\n",
       " (826, 0.30756676),\n",
       " (1389, 0.3074959),\n",
       " (475, 0.30477086),\n",
       " (529, 0.30331588),\n",
       " (1509, 0.30218747),\n",
       " (424, 0.3008504),\n",
       " (60, 0.29669756),\n",
       " (149, 0.29662102),\n",
       " (110, 0.291234)]"
      ]
     },
     "execution_count": 83,
     "metadata": {},
     "output_type": "execute_result"
    }
   ],
   "source": [
    "user = user_to_idx['mapark']\n",
    "# recommend에서는 user*item CSR Matrix를 받습니다.\n",
    "title_recommended = als_model.recommend(user, csr_data, N=20, filter_already_liked_items=True)\n",
    "title_recommended"
   ]
  },
  {
   "cell_type": "code",
   "execution_count": 85,
   "id": "promising-chosen",
   "metadata": {},
   "outputs": [
    {
     "data": {
      "text/plain": [
       "['Toy Story 2 (1999)',\n",
       " 'Toy Story (1995)',\n",
       " 'Aladdin (1992)',\n",
       " \"Bug's Life, A (1998)\",\n",
       " 'Beauty and the Beast (1991)',\n",
       " 'Sixth Sense, The (1999)',\n",
       " 'Mask, The (1994)',\n",
       " 'Pleasantville (1998)',\n",
       " 'Cider House Rules, The (1999)',\n",
       " 'Inherit the Wind (1960)',\n",
       " \"Singin' in the Rain (1952)\",\n",
       " 'Game, The (1997)',\n",
       " 'East of Eden (1955)',\n",
       " 'My Cousin Vinny (1992)',\n",
       " 'Good Earth, The (1937)',\n",
       " 'English Patient, The (1996)',\n",
       " 'Misérables, Les (1995)',\n",
       " 'Star Wars: Episode I - The Phantom Menace (1999)',\n",
       " 'Grapes of Wrath, The (1940)',\n",
       " 'Groundhog Day (1993)']"
      ]
     },
     "execution_count": 85,
     "metadata": {},
     "output_type": "execute_result"
    }
   ],
   "source": [
    "[idx_to_title[i[0]] for i in title_recommended]"
   ]
  },
  {
   "cell_type": "markdown",
   "id": "alive-brunei",
   "metadata": {},
   "source": [
    "### ㄴ 실제로 내가 좋아하는 영화들이 추천되어 신기하다."
   ]
  },
  {
   "cell_type": "markdown",
   "id": "developing-round",
   "metadata": {},
   "source": [
    "## 1) 기여도 살펴보기"
   ]
  },
  {
   "cell_type": "markdown",
   "id": "structural-kidney",
   "metadata": {},
   "source": [
    "### 목록을 봐도 젤 상위목록에 있는 추천 영화들이 디즈니계열 애니메이션들이다. 어떠한 영화가 이러한 추천목록 구성에 기여를 했는지 살펴보려 한다."
   ]
  },
  {
   "cell_type": "code",
   "execution_count": 86,
   "id": "novel-initial",
   "metadata": {},
   "outputs": [],
   "source": [
    "aladdin = title_to_idx['Aladdin (1992)']\n",
    "explain = als_model.explain(user, csr_data, itemid=aladdin)"
   ]
  },
  {
   "cell_type": "code",
   "execution_count": 88,
   "id": "southern-choir",
   "metadata": {},
   "outputs": [
    {
     "data": {
      "text/plain": [
       "[('Lion King, The (1994)', 0.593381089197238),\n",
       " ('Forrest Gump (1994)', 0.014168183540224734),\n",
       " ('Scarlet Letter, The (1926)', -0.000940866015982538),\n",
       " ('Death in Brunswick (1991)', -0.005355827343424359),\n",
       " ('Lost Horizon (1937)', -0.08892445122162482)]"
      ]
     },
     "execution_count": 88,
     "metadata": {},
     "output_type": "execute_result"
    }
   ],
   "source": [
    "[(idx_to_title[i[0]], i[1]) for i in explain[1]]"
   ]
  },
  {
   "cell_type": "markdown",
   "id": "armed-nashville",
   "metadata": {},
   "source": [
    "### ㄴ 선호영화중 라이온킹이 있어 디즈니 계열 애니메이션을 추천한것으로 보인다."
   ]
  },
  {
   "cell_type": "markdown",
   "id": "present-preview",
   "metadata": {},
   "source": [
    "---"
   ]
  },
  {
   "cell_type": "markdown",
   "id": "unable-stable",
   "metadata": {},
   "source": [
    "# 회고"
   ]
  },
  {
   "cell_type": "markdown",
   "id": "endless-external",
   "metadata": {},
   "source": [
    "## 1. 굉장히 흥미로운 노드였다. 추천 시스템의 원리부터 진행 과정까지 설명히 세세하게 되어있어 이해하기가 수월했다."
   ]
  },
  {
   "cell_type": "markdown",
   "id": "empty-nomination",
   "metadata": {},
   "source": [
    "## 2. 프로젝트 진행 전 데이터 전처리를 어느정도 제공해주었었지만, 추가적인 전처리가 필요했다. 해커톤을 진행하며 데이터 전처리에대한 공부가 더 필요하다 느꼈는데, 이 노드를 진행하며 직접 해볼 수 잇는 기회가 있어 좋았다."
   ]
  },
  {
   "cell_type": "markdown",
   "id": "painted-merchandise",
   "metadata": {},
   "source": [
    "## 3. ratings 데이터에 원하는 칼럼을 id에 맞게 가져오기위해 merge()함수를 이용하였다. 엑셀에서 작업하면 금방 끝나는 작업이지만 파이썬으로 하려하니 꽤 골머리를 앓아야했다."
   ]
  },
  {
   "cell_type": "markdown",
   "id": "restricted-fellow",
   "metadata": {},
   "source": [
    "## 4. 마지막에 실제로 내가 좋아하는 영화들이 추천되는 것을 보고 신기했었다. 여기서 끝난게 아니라 저런 목록들이 추천된 이유도 수치를 통해 알 수 있게 친절히 설명이 되어있어 좋았다."
   ]
  },
  {
   "cell_type": "code",
   "execution_count": null,
   "id": "alternate-engineering",
   "metadata": {},
   "outputs": [],
   "source": []
  }
 ],
 "metadata": {
  "kernelspec": {
   "display_name": "aiffel",
   "language": "python",
   "name": "aiffel"
  },
  "language_info": {
   "codemirror_mode": {
    "name": "ipython",
    "version": 3
   },
   "file_extension": ".py",
   "mimetype": "text/x-python",
   "name": "python",
   "nbconvert_exporter": "python",
   "pygments_lexer": "ipython3",
   "version": "3.7.9"
  }
 },
 "nbformat": 4,
 "nbformat_minor": 5
}
