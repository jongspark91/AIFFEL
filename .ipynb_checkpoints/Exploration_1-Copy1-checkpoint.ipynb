{
 "cells": [
  {
   "cell_type": "markdown",
   "metadata": {},
   "source": [
    "## 필요 모듈 불러오기"
   ]
  },
  {
   "cell_type": "code",
   "execution_count": 11,
   "metadata": {},
   "outputs": [],
   "source": [
    "import tensorflow as tf\n",
    "from tensorflow import keras\n",
    "import numpy as np\n",
    "import os\n",
    "import glob\n",
    "import PIL\n",
    "from PIL import Image\n",
    "import matplotlib.pyplot as plt\n",
    "import pandas as pd"
   ]
  },
  {
   "cell_type": "markdown",
   "metadata": {},
   "source": [
    "## 데이터 함수"
   ]
  },
  {
   "cell_type": "code",
   "execution_count": 13,
   "metadata": {},
   "outputs": [
    {
     "name": "stdout",
     "output_type": "stream",
     "text": [
      "학습데이터(x_train)의 이미지 개수는 300 입니다.\n",
      "x_train shape: (300, 28, 28, 3)\n",
      "y_train shape: (300,)\n"
     ]
    }
   ],
   "source": [
    "def load_train_data(img_path):\n",
    "    # 가위 : 0, 바위 : 1, 보 : 2\n",
    "    number_of_data=300   # 가위바위보 이미지 개수 총합에 주의하세요.\n",
    "    img_size=28\n",
    "    color=3\n",
    "    #이미지 데이터와 라벨(가위 : 0, 바위 : 1, 보 : 2) 데이터를 담을 행렬(matrix) 영역을 생성합니다.\n",
    "    imgs=np.zeros(number_of_data*img_size*img_size*color,dtype=np.int32).reshape(number_of_data,img_size,img_size,color)\n",
    "    labels=np.zeros(number_of_data,dtype=np.int32)\n",
    "\n",
    "    idx=0\n",
    "    for file in glob.iglob(img_path+'/scissor/*.jpg'):\n",
    "        img = np.array(Image.open(file),dtype=np.int32)\n",
    "        imgs[idx,:,:,:]=img    # 데이터 영역에 이미지 행렬을 복사\n",
    "        labels[idx]=0   # 가위 : 0\n",
    "        idx=idx+1\n",
    "\n",
    "    for file in glob.iglob(img_path+'/rock/*.jpg'):\n",
    "        img = np.array(Image.open(file),dtype=np.int32)\n",
    "        imgs[idx,:,:,:]=img    # 데이터 영역에 이미지 행렬을 복사\n",
    "        labels[idx]=1   # 바위 : 1\n",
    "        idx=idx+1       \n",
    "    \n",
    "    for file in glob.iglob(img_path+'/paper/*.jpg'):\n",
    "        img = np.array(Image.open(file),dtype=np.int32)\n",
    "        imgs[idx,:,:,:]=img    # 데이터 영역에 이미지 행렬을 복사\n",
    "        labels[idx]=2   # 보 : 2\n",
    "        idx=idx+1\n",
    "        \n",
    "    print(\"학습데이터(x_train)의 이미지 개수는\",idx,\"입니다.\")\n",
    "    return imgs, labels\n",
    "\n",
    "image_dir_path = os.getenv(\"HOME\") + \"/aiffel/Exploration_1/rock_scissor_paper\"\n",
    "(x_train, y_train)=load_data(image_dir_path)\n",
    "x_train_norm = x_train/255.0   # 입력은 0~1 사이의 값으로 정규화\n",
    "\n",
    "print(\"x_train shape: {}\".format(x_train.shape))\n",
    "print(\"y_train shape: {}\".format(y_train.shape))"
   ]
  },
  {
   "cell_type": "code",
   "execution_count": 41,
   "metadata": {},
   "outputs": [
    {
     "name": "stdout",
     "output_type": "stream",
     "text": [
      "학습데이터(x_train)의 이미지 개수는 300 입니다.\n",
      "x_test shape: (300, 28, 28, 3)\n",
      "y_test shape: (300,)\n"
     ]
    }
   ],
   "source": [
    "def load_test_data(img_path):\n",
    "    # 가위 : 0, 바위 : 1, 보 : 2\n",
    "    number_of_data=300   # 가위바위보 이미지 개수 총합에 주의하세요.\n",
    "    img_size=28\n",
    "    color=3\n",
    "    #이미지 데이터와 라벨(가위 : 0, 바위 : 1, 보 : 2) 데이터를 담을 행렬(matrix) 영역을 생성합니다.\n",
    "    imgs=np.zeros(number_of_data*img_size*img_size*color,dtype=np.int32).reshape(number_of_data,img_size,img_size,color)\n",
    "    labels=np.zeros(number_of_data,dtype=np.int32)\n",
    "\n",
    "    idx=0\n",
    "    for file in glob.iglob(img_path+'/test_data/scissor/*.jpg'):\n",
    "        img = np.array(Image.open(file),dtype=np.int32)\n",
    "        imgs[idx,:,:,:]=img    # 데이터 영역에 이미지 행렬을 복사\n",
    "        labels[idx]=0   # 가위 : 0\n",
    "        idx=idx+1\n",
    "\n",
    "    for file in glob.iglob(img_path+'/test_data/rock/*.jpg'):\n",
    "        img = np.array(Image.open(file),dtype=np.int32)\n",
    "        imgs[idx,:,:,:]=img    # 데이터 영역에 이미지 행렬을 복사\n",
    "        labels[idx]=1   # 바위 : 1\n",
    "        idx=idx+1       \n",
    "    \n",
    "    for file in glob.iglob(img_path+'/test_data/paper/*.jpg'):\n",
    "        img = np.array(Image.open(file),dtype=np.int32)\n",
    "        imgs[idx,:,:,:]=img    # 데이터 영역에 이미지 행렬을 복사\n",
    "        labels[idx]=2   # 보 : 2\n",
    "        idx=idx+1\n",
    "        \n",
    "    print(\"테스트 데이터(x_test)의 이미지 개수는\",idx,\"입니다.\")\n",
    "    return imgs, labels\n",
    "\n",
    "image_dir_path = os.getenv(\"HOME\") + \"/aiffel/Exploration_1/rock_scissor_paper\"\n",
    "(x_test, y_test)=load_data(image_dir_path)\n",
    "x_test_norm = x_test/255.0   # 입력은 0~1 사이의 값으로 정규화\n",
    "\n",
    "print(\"x_test shape: {}\".format(x_test.shape))\n",
    "print(\"y_test shape: {}\".format(y_test.shape))"
   ]
  },
  {
   "cell_type": "code",
   "execution_count": 39,
   "metadata": {
    "scrolled": true
   },
   "outputs": [
    {
     "name": "stdout",
     "output_type": "stream",
     "text": [
      "학습데이터(x_train)의 이미지 개수는 300 입니다.\n"
     ]
    },
    {
     "data": {
      "text/plain": [
       "(array([[[[115, 113, 116],\n",
       "          [123, 121, 124],\n",
       "          [120, 118, 123],\n",
       "          ...,\n",
       "          [146, 147, 142],\n",
       "          [148, 149, 144],\n",
       "          [150, 151, 145]],\n",
       " \n",
       "         [[144, 144, 146],\n",
       "          [152, 152, 154],\n",
       "          [149, 148, 153],\n",
       "          ...,\n",
       "          [148, 149, 144],\n",
       "          [150, 151, 146],\n",
       "          [152, 153, 147]],\n",
       " \n",
       "         [[164, 165, 169],\n",
       "          [169, 170, 174],\n",
       "          [167, 168, 172],\n",
       "          ...,\n",
       "          [149, 150, 145],\n",
       "          [151, 152, 147],\n",
       "          [152, 153, 148]],\n",
       " \n",
       "         ...,\n",
       " \n",
       "         [[137, 146, 153],\n",
       "          [122, 132, 141],\n",
       "          [140, 152, 164],\n",
       "          ...,\n",
       "          [ 79,  38,  42],\n",
       "          [ 95,  46,  52],\n",
       "          [ 86,  29,  36]],\n",
       " \n",
       "         [[139, 149, 158],\n",
       "          [124, 134, 144],\n",
       "          [136, 148, 160],\n",
       "          ...,\n",
       "          [ 59,  50,  45],\n",
       "          [ 63,  50,  44],\n",
       "          [ 46,  31,  26]],\n",
       " \n",
       "         [[137, 150, 159],\n",
       "          [124, 137, 146],\n",
       "          [134, 146, 158],\n",
       "          ...,\n",
       "          [ 92, 110,  96],\n",
       "          [ 86, 107,  92],\n",
       "          [ 65,  88,  72]]],\n",
       " \n",
       " \n",
       "        [[[112, 121, 120],\n",
       "          [111, 120, 119],\n",
       "          [113, 121, 123],\n",
       "          ...,\n",
       "          [144, 145, 140],\n",
       "          [146, 147, 142],\n",
       "          [149, 150, 144]],\n",
       " \n",
       "         [[141, 151, 150],\n",
       "          [141, 150, 149],\n",
       "          [141, 149, 151],\n",
       "          ...,\n",
       "          [147, 148, 143],\n",
       "          [149, 150, 145],\n",
       "          [151, 152, 146]],\n",
       " \n",
       "         [[162, 172, 173],\n",
       "          [161, 171, 172],\n",
       "          [161, 171, 172],\n",
       "          ...,\n",
       "          [148, 149, 144],\n",
       "          [150, 151, 146],\n",
       "          [153, 154, 149]],\n",
       " \n",
       "         ...,\n",
       " \n",
       "         [[138, 142, 169],\n",
       "          [128, 134, 160],\n",
       "          [140, 148, 171],\n",
       "          ...,\n",
       "          [ 82,  41,  45],\n",
       "          [ 99,  50,  56],\n",
       "          [ 85,  28,  35]],\n",
       " \n",
       "         [[139, 146, 174],\n",
       "          [130, 137, 163],\n",
       "          [138, 146, 167],\n",
       "          ...,\n",
       "          [ 62,  53,  48],\n",
       "          [ 67,  54,  48],\n",
       "          [ 45,  30,  25]],\n",
       " \n",
       "         [[133, 144, 172],\n",
       "          [128, 140, 164],\n",
       "          [136, 147, 167],\n",
       "          ...,\n",
       "          [ 92, 110,  96],\n",
       "          [ 87, 108,  93],\n",
       "          [ 61,  84,  68]]],\n",
       " \n",
       " \n",
       "        [[[117, 116, 114],\n",
       "          [116, 115, 113],\n",
       "          [116, 115, 113],\n",
       "          ...,\n",
       "          [145, 147, 146],\n",
       "          [147, 149, 146],\n",
       "          [150, 150, 148]],\n",
       " \n",
       "         [[145, 143, 144],\n",
       "          [146, 144, 145],\n",
       "          [147, 145, 146],\n",
       "          ...,\n",
       "          [147, 149, 148],\n",
       "          [149, 151, 148],\n",
       "          [152, 152, 150]],\n",
       " \n",
       "         [[163, 164, 166],\n",
       "          [166, 167, 169],\n",
       "          [170, 170, 172],\n",
       "          ...,\n",
       "          [148, 150, 149],\n",
       "          [150, 152, 149],\n",
       "          [152, 152, 150]],\n",
       " \n",
       "         ...,\n",
       " \n",
       "         [[134, 137, 156],\n",
       "          [143, 146, 165],\n",
       "          [136, 139, 158],\n",
       "          ...,\n",
       "          [ 85,  35,  44],\n",
       "          [103,  41,  54],\n",
       "          [ 95,  23,  37]],\n",
       " \n",
       "         [[130, 133, 152],\n",
       "          [144, 147, 166],\n",
       "          [135, 140, 159],\n",
       "          ...,\n",
       "          [ 68,  48,  47],\n",
       "          [ 72,  46,  45],\n",
       "          [ 56,  26,  26]],\n",
       " \n",
       "         [[125, 131, 147],\n",
       "          [143, 149, 165],\n",
       "          [134, 140, 156],\n",
       "          ...,\n",
       "          [102, 110,  99],\n",
       "          [ 98, 104,  92],\n",
       "          [ 77,  83,  71]]],\n",
       " \n",
       " \n",
       "        ...,\n",
       " \n",
       " \n",
       "        [[[116, 115, 113],\n",
       "          [115, 114, 112],\n",
       "          [115, 114, 112],\n",
       "          ...,\n",
       "          [135, 140, 134],\n",
       "          [136, 141, 135],\n",
       "          [137, 142, 136]],\n",
       " \n",
       "         [[141, 141, 141],\n",
       "          [141, 141, 141],\n",
       "          [141, 141, 141],\n",
       "          ...,\n",
       "          [137, 142, 136],\n",
       "          [138, 143, 137],\n",
       "          [139, 144, 138]],\n",
       " \n",
       "         [[158, 159, 161],\n",
       "          [159, 160, 162],\n",
       "          [160, 161, 163],\n",
       "          ...,\n",
       "          [138, 143, 137],\n",
       "          [139, 144, 138],\n",
       "          [140, 145, 139]],\n",
       " \n",
       "         ...,\n",
       " \n",
       "         [[113, 100, 128],\n",
       "          [111, 102, 129],\n",
       "          [111, 107, 132],\n",
       "          ...,\n",
       "          [ 74,  32,  44],\n",
       "          [ 84,  34,  46],\n",
       "          [ 84,  30,  43]],\n",
       " \n",
       "         [[117, 107, 134],\n",
       "          [109, 103, 129],\n",
       "          [113, 111, 135],\n",
       "          ...,\n",
       "          [ 57,  38,  42],\n",
       "          [ 57,  32,  36],\n",
       "          [ 53,  27,  30]],\n",
       " \n",
       "         [[117, 111, 137],\n",
       "          [107, 103, 128],\n",
       "          [112, 112, 136],\n",
       "          ...,\n",
       "          [ 89,  90,  85],\n",
       "          [ 84,  80,  77],\n",
       "          [ 79,  76,  71]]],\n",
       " \n",
       " \n",
       "        [[[142, 135, 142],\n",
       "          [148, 141, 148],\n",
       "          [148, 141, 148],\n",
       "          ...,\n",
       "          [170, 166, 163],\n",
       "          [170, 169, 167],\n",
       "          [171, 169, 170]],\n",
       " \n",
       "         [[173, 166, 173],\n",
       "          [175, 170, 176],\n",
       "          [177, 172, 178],\n",
       "          ...,\n",
       "          [173, 169, 166],\n",
       "          [172, 171, 169],\n",
       "          [173, 173, 173]],\n",
       " \n",
       "         [[195, 193, 198],\n",
       "          [195, 193, 198],\n",
       "          [197, 195, 200],\n",
       "          ...,\n",
       "          [172, 171, 167],\n",
       "          [174, 173, 171],\n",
       "          [174, 174, 172]],\n",
       " \n",
       "         ...,\n",
       " \n",
       "         [[128, 133, 155],\n",
       "          [133, 139, 161],\n",
       "          [107, 118, 138],\n",
       "          ...,\n",
       "          [104,  54,  65],\n",
       "          [110,  49,  64],\n",
       "          [111,  40,  56]],\n",
       " \n",
       "         [[135, 137, 160],\n",
       "          [134, 140, 162],\n",
       "          [104, 115, 135],\n",
       "          ...,\n",
       "          [ 86,  68,  68],\n",
       "          [ 81,  56,  59],\n",
       "          [ 75,  46,  48]],\n",
       " \n",
       "         [[134, 136, 159],\n",
       "          [140, 146, 168],\n",
       "          [112, 123, 143],\n",
       "          ...,\n",
       "          [109, 119, 110],\n",
       "          [106, 113, 105],\n",
       "          [101, 111, 100]]],\n",
       " \n",
       " \n",
       "        [[[142, 137, 143],\n",
       "          [148, 143, 149],\n",
       "          [147, 145, 150],\n",
       "          ...,\n",
       "          [168, 167, 163],\n",
       "          [170, 169, 167],\n",
       "          [170, 170, 170]],\n",
       " \n",
       "         [[171, 169, 174],\n",
       "          [174, 172, 177],\n",
       "          [176, 174, 179],\n",
       "          ...,\n",
       "          [171, 170, 166],\n",
       "          [171, 171, 169],\n",
       "          [172, 174, 173]],\n",
       " \n",
       "         [[195, 194, 199],\n",
       "          [194, 193, 198],\n",
       "          [195, 194, 199],\n",
       "          ...,\n",
       "          [172, 171, 167],\n",
       "          [173, 173, 171],\n",
       "          [173, 175, 172]],\n",
       " \n",
       "         ...,\n",
       " \n",
       "         [[126, 131, 153],\n",
       "          [134, 140, 162],\n",
       "          [110, 121, 141],\n",
       "          ...,\n",
       "          [105,  55,  66],\n",
       "          [110,  49,  64],\n",
       "          [110,  39,  55]],\n",
       " \n",
       "         [[133, 135, 158],\n",
       "          [135, 141, 163],\n",
       "          [106, 117, 137],\n",
       "          ...,\n",
       "          [ 87,  69,  69],\n",
       "          [ 81,  56,  59],\n",
       "          [ 74,  45,  47]],\n",
       " \n",
       "         [[134, 136, 159],\n",
       "          [141, 147, 169],\n",
       "          [113, 124, 144],\n",
       "          ...,\n",
       "          [110, 120, 111],\n",
       "          [106, 113, 105],\n",
       "          [100, 110,  99]]]], dtype=int32),\n",
       " array([0, 0, 0, 0, 0, 0, 0, 0, 0, 0, 0, 0, 0, 0, 0, 0, 0, 0, 0, 0, 0, 0,\n",
       "        0, 0, 0, 0, 0, 0, 0, 0, 0, 0, 0, 0, 0, 0, 0, 0, 0, 0, 0, 0, 0, 0,\n",
       "        0, 0, 0, 0, 0, 0, 0, 0, 0, 0, 0, 0, 0, 0, 0, 0, 0, 0, 0, 0, 0, 0,\n",
       "        0, 0, 0, 0, 0, 0, 0, 0, 0, 0, 0, 0, 0, 0, 0, 0, 0, 0, 0, 0, 0, 0,\n",
       "        0, 0, 0, 0, 0, 0, 0, 0, 0, 0, 0, 0, 1, 1, 1, 1, 1, 1, 1, 1, 1, 1,\n",
       "        1, 1, 1, 1, 1, 1, 1, 1, 1, 1, 1, 1, 1, 1, 1, 1, 1, 1, 1, 1, 1, 1,\n",
       "        1, 1, 1, 1, 1, 1, 1, 1, 1, 1, 1, 1, 1, 1, 1, 1, 1, 1, 1, 1, 1, 1,\n",
       "        1, 1, 1, 1, 1, 1, 1, 1, 1, 1, 1, 1, 1, 1, 1, 1, 1, 1, 1, 1, 1, 1,\n",
       "        1, 1, 1, 1, 1, 1, 1, 1, 1, 1, 1, 1, 1, 1, 1, 1, 1, 1, 1, 1, 1, 1,\n",
       "        1, 1, 2, 2, 2, 2, 2, 2, 2, 2, 2, 2, 2, 2, 2, 2, 2, 2, 2, 2, 2, 2,\n",
       "        2, 2, 2, 2, 2, 2, 2, 2, 2, 2, 2, 2, 2, 2, 2, 2, 2, 2, 2, 2, 2, 2,\n",
       "        2, 2, 2, 2, 2, 2, 2, 2, 2, 2, 2, 2, 2, 2, 2, 2, 2, 2, 2, 2, 2, 2,\n",
       "        2, 2, 2, 2, 2, 2, 2, 2, 2, 2, 2, 2, 2, 2, 2, 2, 2, 2, 2, 2, 2, 2,\n",
       "        2, 2, 2, 2, 2, 2, 2, 2, 2, 2, 2, 2, 2, 2], dtype=int32))"
      ]
     },
     "execution_count": 39,
     "metadata": {},
     "output_type": "execute_result"
    }
   ],
   "source": [
    "# 데이터 로드\n",
    "load_data(image_dir_path)"
   ]
  },
  {
   "cell_type": "code",
   "execution_count": 37,
   "metadata": {},
   "outputs": [
    {
     "data": {
      "text/plain": [
       "array([0, 0, 0, 0, 0, 0, 0, 0, 0, 0, 0, 0, 0, 0, 0, 0, 0, 0, 0, 0, 0, 0,\n",
       "       0, 0, 0, 0, 0, 0, 0, 0, 0, 0, 0, 0, 0, 0, 0, 0, 0, 0, 0, 0, 0, 0,\n",
       "       0, 0, 0, 0, 0, 0, 0, 0, 0, 0, 0, 0, 0, 0, 0, 0, 0, 0, 0, 0, 0, 0,\n",
       "       0, 0, 0, 0, 0, 0, 0, 0, 0, 0, 0, 0, 0, 0, 0, 0, 0, 0, 0, 0, 0, 0,\n",
       "       0, 0, 0, 0, 0, 0, 0, 0, 0, 0, 0, 0, 1, 1, 1, 1, 1, 1, 1, 1, 1, 1,\n",
       "       1, 1, 1, 1, 1, 1, 1, 1, 1, 1, 1, 1, 1, 1, 1, 1, 1, 1, 1, 1, 1, 1,\n",
       "       1, 1, 1, 1, 1, 1, 1, 1, 1, 1, 1, 1, 1, 1, 1, 1, 1, 1, 1, 1, 1, 1,\n",
       "       1, 1, 1, 1, 1, 1, 1, 1, 1, 1, 1, 1, 1, 1, 1, 1, 1, 1, 1, 1, 1, 1,\n",
       "       1, 1, 1, 1, 1, 1, 1, 1, 1, 1, 1, 1, 1, 1, 1, 1, 1, 1, 1, 1, 1, 1,\n",
       "       1, 1, 2, 2, 2, 2, 2, 2, 2, 2, 2, 2, 2, 2, 2, 2, 2, 2, 2, 2, 2, 2,\n",
       "       2, 2, 2, 2, 2, 2, 2, 2, 2, 2, 2, 2, 2, 2, 2, 2, 2, 2, 2, 2, 2, 2,\n",
       "       2, 2, 2, 2, 2, 2, 2, 2, 2, 2, 2, 2, 2, 2, 2, 2, 2, 2, 2, 2, 2, 2,\n",
       "       2, 2, 2, 2, 2, 2, 2, 2, 2, 2, 2, 2, 2, 2, 2, 2, 2, 2, 2, 2, 2, 2,\n",
       "       2, 2, 2, 2, 2, 2, 2, 2, 2, 2, 2, 2, 2, 2], dtype=int32)"
      ]
     },
     "execution_count": 37,
     "metadata": {},
     "output_type": "execute_result"
    }
   ],
   "source": [
    "x_train # 이미지 데이터\n",
    "y_train # Label 데이터"
   ]
  },
  {
   "cell_type": "code",
   "execution_count": 14,
   "metadata": {},
   "outputs": [
    {
     "data": {
      "image/png": "[encoded data removed]",
      "text/plain": [
       "<Figure size 432x288 with 1 Axes>"
      ]
     },
     "metadata": {
      "needs_background": "light"
     },
     "output_type": "display_data"
    }
   ],
   "source": [
    "plt.imshow(x_train[1],cmap=plt.cm.binary)\n",
    "plt.show()"
   ]
  },
  {
   "cell_type": "markdown",
   "metadata": {},
   "source": [
    "## 학습 네트워크 설계"
   ]
  },
  {
   "cell_type": "code",
   "execution_count": 7,
   "metadata": {},
   "outputs": [
    {
     "name": "stdout",
     "output_type": "stream",
     "text": [
      "Model에 추가된 Layer 개수:  7\n"
     ]
    }
   ],
   "source": [
    "model=keras.models.Sequential()\n",
    "model.add(keras.layers.Conv2D(32, (3,3), activation='relu', input_shape=(28,28,3)))\n",
    "model.add(keras.layers.MaxPool2D(2,2))\n",
    "model.add(keras.layers.Conv2D(32, (3,3), activation='relu'))\n",
    "model.add(keras.layers.MaxPooling2D((2,2)))\n",
    "model.add(keras.layers.Flatten())\n",
    "model.add(keras.layers.Dense(32, activation='relu'))\n",
    "model.add(keras.layers.Dense(3, activation='softmax'))\n",
    "\n",
    "print('Model에 추가된 Layer 개수: ', len(model.layers))"
   ]
  },
  {
   "cell_type": "code",
   "execution_count": 9,
   "metadata": {
    "scrolled": true
   },
   "outputs": [
    {
     "name": "stdout",
     "output_type": "stream",
     "text": [
      "Model: \"sequential\"\n",
      "_________________________________________________________________\n",
      "Layer (type)                 Output Shape              Param #   \n",
      "=================================================================\n",
      "conv2d (Conv2D)              (None, 26, 26, 32)        896       \n",
      "_________________________________________________________________\n",
      "max_pooling2d (MaxPooling2D) (None, 13, 13, 32)        0         \n",
      "_________________________________________________________________\n",
      "conv2d_1 (Conv2D)            (None, 11, 11, 32)        9248      \n",
      "_________________________________________________________________\n",
      "max_pooling2d_1 (MaxPooling2 (None, 5, 5, 32)          0         \n",
      "_________________________________________________________________\n",
      "flatten (Flatten)            (None, 800)               0         \n",
      "_________________________________________________________________\n",
      "dense (Dense)                (None, 32)                25632     \n",
      "_________________________________________________________________\n",
      "dense_1 (Dense)              (None, 3)                 99        \n",
      "=================================================================\n",
      "Total params: 35,875\n",
      "Trainable params: 35,875\n",
      "Non-trainable params: 0\n",
      "_________________________________________________________________\n"
     ]
    }
   ],
   "source": [
    "model.summary()"
   ]
  },
  {
   "cell_type": "markdown",
   "metadata": {},
   "source": [
    "## 채널 수 설정하기"
   ]
  },
  {
   "cell_type": "code",
   "execution_count": 22,
   "metadata": {},
   "outputs": [
    {
     "name": "stdout",
     "output_type": "stream",
     "text": [
      "Before Reshape - x_train_norm shape: (300, 28, 28, 3)\n",
      "After Reshape - x_train_reshaped shape: (300, 28, 28, 3)\n"
     ]
    }
   ],
   "source": [
    "print(\"Before Reshape - x_train_norm shape: {}\".format(x_train_norm.shape))\n",
    "#print(\"Before Reshape - x_test_norm shape: {}\".format(x_test_norm.shape))\n",
    "\n",
    "x_train_reshaped=x_train_norm.reshape( -1, 28, 28, 3)  # 데이터갯수에 -1을 쓰면 reshape시 자동계산됩니다.\n",
    "#x_test_reshaped=x_test_norm.reshape( -1, 28, 28, 3) #컬러 사진이므로 3\n",
    "\n",
    "print(\"After Reshape - x_train_reshaped shape: {}\".format(x_train_reshaped.shape))\n",
    "#print(\"After Reshape - x_test_reshaped shape: {}\".format(x_test_reshaped.shape))"
   ]
  },
  {
   "cell_type": "code",
   "execution_count": 23,
   "metadata": {
    "scrolled": true
   },
   "outputs": [
    {
     "name": "stdout",
     "output_type": "stream",
     "text": [
      "Epoch 1/10\n",
      "10/10 [==============================] - 4s 379ms/step - loss: 1.0743 - accuracy: 0.4467\n",
      "Epoch 2/10\n",
      "10/10 [==============================] - 0s 2ms/step - loss: 0.9890 - accuracy: 0.7767\n",
      "Epoch 3/10\n",
      "10/10 [==============================] - 0s 2ms/step - loss: 0.8502 - accuracy: 0.7900\n",
      "Epoch 4/10\n",
      "10/10 [==============================] - 0s 1ms/step - loss: 0.7103 - accuracy: 0.7667\n",
      "Epoch 5/10\n",
      "10/10 [==============================] - 0s 2ms/step - loss: 0.5553 - accuracy: 0.7967\n",
      "Epoch 6/10\n",
      "10/10 [==============================] - 0s 2ms/step - loss: 0.4116 - accuracy: 0.8433\n",
      "Epoch 7/10\n",
      "10/10 [==============================] - 0s 1ms/step - loss: 0.3081 - accuracy: 0.9033\n",
      "Epoch 8/10\n",
      "10/10 [==============================] - 0s 2ms/step - loss: 0.2356 - accuracy: 0.9300\n",
      "Epoch 9/10\n",
      "10/10 [==============================] - 0s 1ms/step - loss: 0.1717 - accuracy: 0.9633\n",
      "Epoch 10/10\n",
      "10/10 [==============================] - 0s 1ms/step - loss: 0.1219 - accuracy: 0.9833\n"
     ]
    },
    {
     "data": {
      "text/plain": [
       "<tensorflow.python.keras.callbacks.History at 0x7f98bd3847d0>"
      ]
     },
     "execution_count": 23,
     "metadata": {},
     "output_type": "execute_result"
    }
   ],
   "source": [
    "model.compile(optimizer='adam',\n",
    "             loss='sparse_categorical_crossentropy',\n",
    "             metrics=['accuracy'])\n",
    "\n",
    "model.fit(x_train_reshaped, y_train, epochs=10)"
   ]
  },
  {
   "cell_type": "code",
   "execution_count": 18,
   "metadata": {},
   "outputs": [
    {
     "ename": "ValueError",
     "evalue": "Must pass 2-d input. shape=(300, 28, 28, 3)",
     "output_type": "error",
     "traceback": [
      "\u001b[0;31m---------------------------------------------------------------------------\u001b[0m",
      "\u001b[0;31mValueError\u001b[0m                                Traceback (most recent call last)",
      "\u001b[0;32m<ipython-input-18-e95f3784ddcc>\u001b[0m in \u001b[0;36m<module>\u001b[0;34m\u001b[0m\n\u001b[0;32m----> 1\u001b[0;31m \u001b[0mpd\u001b[0m\u001b[0;34m.\u001b[0m\u001b[0mDataFrame\u001b[0m\u001b[0;34m(\u001b[0m\u001b[0mx_train_norm\u001b[0m\u001b[0;34m)\u001b[0m\u001b[0;34m\u001b[0m\u001b[0;34m\u001b[0m\u001b[0m\n\u001b[0m",
      "\u001b[0;32m~/Downloads/yes/envs/aiffel/lib/python3.7/site-packages/pandas/core/frame.py\u001b[0m in \u001b[0;36m__init__\u001b[0;34m(self, data, index, columns, dtype, copy)\u001b[0m\n\u001b[1;32m    495\u001b[0m                 \u001b[0mmgr\u001b[0m \u001b[0;34m=\u001b[0m \u001b[0minit_dict\u001b[0m\u001b[0;34m(\u001b[0m\u001b[0;34m{\u001b[0m\u001b[0mdata\u001b[0m\u001b[0;34m.\u001b[0m\u001b[0mname\u001b[0m\u001b[0;34m:\u001b[0m \u001b[0mdata\u001b[0m\u001b[0;34m}\u001b[0m\u001b[0;34m,\u001b[0m \u001b[0mindex\u001b[0m\u001b[0;34m,\u001b[0m \u001b[0mcolumns\u001b[0m\u001b[0;34m,\u001b[0m \u001b[0mdtype\u001b[0m\u001b[0;34m=\u001b[0m\u001b[0mdtype\u001b[0m\u001b[0;34m)\u001b[0m\u001b[0;34m\u001b[0m\u001b[0;34m\u001b[0m\u001b[0m\n\u001b[1;32m    496\u001b[0m             \u001b[0;32melse\u001b[0m\u001b[0;34m:\u001b[0m\u001b[0;34m\u001b[0m\u001b[0;34m\u001b[0m\u001b[0m\n\u001b[0;32m--> 497\u001b[0;31m                 \u001b[0mmgr\u001b[0m \u001b[0;34m=\u001b[0m \u001b[0minit_ndarray\u001b[0m\u001b[0;34m(\u001b[0m\u001b[0mdata\u001b[0m\u001b[0;34m,\u001b[0m \u001b[0mindex\u001b[0m\u001b[0;34m,\u001b[0m \u001b[0mcolumns\u001b[0m\u001b[0;34m,\u001b[0m \u001b[0mdtype\u001b[0m\u001b[0;34m=\u001b[0m\u001b[0mdtype\u001b[0m\u001b[0;34m,\u001b[0m \u001b[0mcopy\u001b[0m\u001b[0;34m=\u001b[0m\u001b[0mcopy\u001b[0m\u001b[0;34m)\u001b[0m\u001b[0;34m\u001b[0m\u001b[0;34m\u001b[0m\u001b[0m\n\u001b[0m\u001b[1;32m    498\u001b[0m \u001b[0;34m\u001b[0m\u001b[0m\n\u001b[1;32m    499\u001b[0m         \u001b[0;31m# For data is list-like, or Iterable (will consume into list)\u001b[0m\u001b[0;34m\u001b[0m\u001b[0;34m\u001b[0m\u001b[0;34m\u001b[0m\u001b[0m\n",
      "\u001b[0;32m~/Downloads/yes/envs/aiffel/lib/python3.7/site-packages/pandas/core/internals/construction.py\u001b[0m in \u001b[0;36minit_ndarray\u001b[0;34m(values, index, columns, dtype, copy)\u001b[0m\n\u001b[1;32m    188\u001b[0m     \u001b[0;31m# by definition an array here\u001b[0m\u001b[0;34m\u001b[0m\u001b[0;34m\u001b[0m\u001b[0;34m\u001b[0m\u001b[0m\n\u001b[1;32m    189\u001b[0m     \u001b[0;31m# the dtypes will be coerced to a single dtype\u001b[0m\u001b[0;34m\u001b[0m\u001b[0;34m\u001b[0m\u001b[0;34m\u001b[0m\u001b[0m\n\u001b[0;32m--> 190\u001b[0;31m     \u001b[0mvalues\u001b[0m \u001b[0;34m=\u001b[0m \u001b[0m_prep_ndarray\u001b[0m\u001b[0;34m(\u001b[0m\u001b[0mvalues\u001b[0m\u001b[0;34m,\u001b[0m \u001b[0mcopy\u001b[0m\u001b[0;34m=\u001b[0m\u001b[0mcopy\u001b[0m\u001b[0;34m)\u001b[0m\u001b[0;34m\u001b[0m\u001b[0;34m\u001b[0m\u001b[0m\n\u001b[0m\u001b[1;32m    191\u001b[0m \u001b[0;34m\u001b[0m\u001b[0m\n\u001b[1;32m    192\u001b[0m     \u001b[0;32mif\u001b[0m \u001b[0mdtype\u001b[0m \u001b[0;32mis\u001b[0m \u001b[0;32mnot\u001b[0m \u001b[0;32mNone\u001b[0m\u001b[0;34m:\u001b[0m\u001b[0;34m\u001b[0m\u001b[0;34m\u001b[0m\u001b[0m\n",
      "\u001b[0;32m~/Downloads/yes/envs/aiffel/lib/python3.7/site-packages/pandas/core/internals/construction.py\u001b[0m in \u001b[0;36m_prep_ndarray\u001b[0;34m(values, copy)\u001b[0m\n\u001b[1;32m    322\u001b[0m         \u001b[0mvalues\u001b[0m \u001b[0;34m=\u001b[0m \u001b[0mvalues\u001b[0m\u001b[0;34m.\u001b[0m\u001b[0mreshape\u001b[0m\u001b[0;34m(\u001b[0m\u001b[0;34m(\u001b[0m\u001b[0mvalues\u001b[0m\u001b[0;34m.\u001b[0m\u001b[0mshape\u001b[0m\u001b[0;34m[\u001b[0m\u001b[0;36m0\u001b[0m\u001b[0;34m]\u001b[0m\u001b[0;34m,\u001b[0m \u001b[0;36m1\u001b[0m\u001b[0;34m)\u001b[0m\u001b[0;34m)\u001b[0m\u001b[0;34m\u001b[0m\u001b[0;34m\u001b[0m\u001b[0m\n\u001b[1;32m    323\u001b[0m     \u001b[0;32melif\u001b[0m \u001b[0mvalues\u001b[0m\u001b[0;34m.\u001b[0m\u001b[0mndim\u001b[0m \u001b[0;34m!=\u001b[0m \u001b[0;36m2\u001b[0m\u001b[0;34m:\u001b[0m\u001b[0;34m\u001b[0m\u001b[0;34m\u001b[0m\u001b[0m\n\u001b[0;32m--> 324\u001b[0;31m         \u001b[0;32mraise\u001b[0m \u001b[0mValueError\u001b[0m\u001b[0;34m(\u001b[0m\u001b[0;34mf\"Must pass 2-d input. shape={values.shape}\"\u001b[0m\u001b[0;34m)\u001b[0m\u001b[0;34m\u001b[0m\u001b[0;34m\u001b[0m\u001b[0m\n\u001b[0m\u001b[1;32m    325\u001b[0m \u001b[0;34m\u001b[0m\u001b[0m\n\u001b[1;32m    326\u001b[0m     \u001b[0;32mreturn\u001b[0m \u001b[0mvalues\u001b[0m\u001b[0;34m\u001b[0m\u001b[0;34m\u001b[0m\u001b[0m\n",
      "\u001b[0;31mValueError\u001b[0m: Must pass 2-d input. shape=(300, 28, 28, 3)"
     ]
    }
   ],
   "source": [
    "pd.DataFrame(x_train_norm)"
   ]
  },
  {
   "cell_type": "code",
   "execution_count": null,
   "metadata": {},
   "outputs": [],
   "source": []
  }
 ],
 "metadata": {
  "kernelspec": {
   "display_name": "aiffel",
   "language": "python",
   "name": "aiffel"
  },
  "language_info": {
   "codemirror_mode": {
    "name": "ipython",
    "version": 3
   },
   "file_extension": ".py",
   "mimetype": "text/x-python",
   "name": "python",
   "nbconvert_exporter": "python",
   "pygments_lexer": "ipython3",
   "version": "3.7.9"
  }
 },
 "nbformat": 4,
 "nbformat_minor": 4
}
