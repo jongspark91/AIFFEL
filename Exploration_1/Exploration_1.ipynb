{
 "cells": [
  {
   "cell_type": "markdown",
   "metadata": {},
   "source": [
    "## 필요 모듈 불러오기"
   ]
  },
  {
   "cell_type": "code",
   "execution_count": 16,
   "metadata": {},
   "outputs": [],
   "source": [
    "import tensorflow as tf\n",
    "from tensorflow import keras\n",
    "import numpy as np\n",
    "import os\n",
    "import glob\n",
    "import PIL\n",
    "from PIL import Image\n",
    "import matplotlib.pyplot as plt\n",
    "import pandas as pd"
   ]
  },
  {
   "cell_type": "markdown",
   "metadata": {},
   "source": [
    "# Model v1"
   ]
  },
  {
   "cell_type": "markdown",
   "metadata": {},
   "source": [
    "## 데이터 함수"
   ]
  },
  {
   "cell_type": "code",
   "execution_count": 17,
   "metadata": {},
   "outputs": [
    {
     "name": "stdout",
     "output_type": "stream",
     "text": [
      "학습데이터(x_train)의 이미지 개수는 300 입니다.\n",
      "x_train_1 shape: (300, 28, 28, 3)\n",
      "y_train_1 shape: (300,)\n"
     ]
    }
   ],
   "source": [
    "def load_train_data_v1(img_path):\n",
    "    # 가위 : 0, 바위 : 1, 보 : 2\n",
    "    number_of_data=300   \n",
    "    img_size=28\n",
    "    color=3\n",
    "    #이미지 데이터와 라벨(가위 : 0, 바위 : 1, 보 : 2) 데이터를 담을 행렬(matrix) 영역을 생성합니다.\n",
    "    imgs=np.zeros(number_of_data*img_size*img_size*color,dtype=np.int32).reshape(number_of_data,img_size,img_size,color)\n",
    "    labels=np.zeros(number_of_data,dtype=np.int32)\n",
    "\n",
    "    idx=0\n",
    "    for file in glob.iglob(img_path+'/scissor/*.jpg'):\n",
    "        img = np.array(Image.open(file),dtype=np.int32)\n",
    "        imgs[idx,:,:,:]=img    # 데이터 영역에 이미지 행렬을 복사\n",
    "        labels[idx]=0   # 가위 : 0\n",
    "        idx=idx+1\n",
    "\n",
    "    for file in glob.iglob(img_path+'/rock/*.jpg'):\n",
    "        img = np.array(Image.open(file),dtype=np.int32)\n",
    "        imgs[idx,:,:,:]=img    # 데이터 영역에 이미지 행렬을 복사\n",
    "        labels[idx]=1   # 바위 : 1\n",
    "        idx=idx+1       \n",
    "    \n",
    "    for file in glob.iglob(img_path+'/paper/*.jpg'):\n",
    "        img = np.array(Image.open(file),dtype=np.int32)\n",
    "        imgs[idx,:,:,:]=img    # 데이터 영역에 이미지 행렬을 복사\n",
    "        labels[idx]=2   # 보 : 2\n",
    "        idx=idx+1\n",
    "        \n",
    "    print(\"학습데이터(x_train)의 이미지 개수는\",idx,\"입니다.\")\n",
    "    return imgs, labels\n",
    "\n",
    "image_dir_path = os.getenv(\"HOME\") + \"/aiffel/Exploration_1/rock_scissor_paper_v1\"\n",
    "(x_train_1, y_train_1)=load_train_data_v1(image_dir_path)\n",
    "x_train_norm_1 = x_train_1/255.0   # 입력은 0~1 사이의 값으로 정규화\n",
    "\n",
    "print(\"x_train_1 shape: {}\".format(x_train_1.shape))\n",
    "print(\"y_train_1 shape: {}\".format(y_train_1.shape))"
   ]
  },
  {
   "cell_type": "code",
   "execution_count": 18,
   "metadata": {},
   "outputs": [
    {
     "name": "stdout",
     "output_type": "stream",
     "text": [
      "테스트 데이터(x_test)의 이미지 개수는 300 입니다.\n",
      "x_test shape: (300, 28, 28, 3)\n",
      "y_test shape: (300,)\n"
     ]
    }
   ],
   "source": [
    "def load_test_data(img_path):\n",
    "    # 가위 : 0, 바위 : 1, 보 : 2\n",
    "    number_of_data=300   # 가위바위보 이미지 개수 총합에 주의하세요.\n",
    "    img_size=28\n",
    "    color=3\n",
    "    #이미지 데이터와 라벨(가위 : 0, 바위 : 1, 보 : 2) 데이터를 담을 행렬(matrix) 영역을 생성합니다.\n",
    "    imgs=np.zeros(number_of_data*img_size*img_size*color,dtype=np.int32).reshape(number_of_data,img_size,img_size,color)\n",
    "    labels=np.zeros(number_of_data,dtype=np.int32)\n",
    "\n",
    "    idx=0\n",
    "    for file in glob.iglob(img_path+'/test_data/scissor/*.jpg'):\n",
    "        img = np.array(Image.open(file),dtype=np.int32)\n",
    "        imgs[idx,:,:,:]=img    # 데이터 영역에 이미지 행렬을 복사\n",
    "        labels[idx]=0   # 가위 : 0\n",
    "        idx=idx+1\n",
    "\n",
    "    for file in glob.iglob(img_path+'/test_data/rock/*.jpg'):\n",
    "        img = np.array(Image.open(file),dtype=np.int32)\n",
    "        imgs[idx,:,:,:]=img    # 데이터 영역에 이미지 행렬을 복사\n",
    "        labels[idx]=1   # 바위 : 1\n",
    "        idx=idx+1       \n",
    "    \n",
    "    for file in glob.iglob(img_path+'/test_data/paper/*.jpg'):\n",
    "        img = np.array(Image.open(file),dtype=np.int32)\n",
    "        imgs[idx,:,:,:]=img    # 데이터 영역에 이미지 행렬을 복사\n",
    "        labels[idx]=2   # 보 : 2\n",
    "        idx=idx+1\n",
    "        \n",
    "    print(\"테스트 데이터(x_test)의 이미지 개수는\",idx,\"입니다.\")\n",
    "    return imgs, labels\n",
    "\n",
    "image_dir_path = os.getenv(\"HOME\") + \"/aiffel/Exploration_1/rock_scissor_paper_v1\"\n",
    "(x_test, y_test)=load_test_data(image_dir_path)\n",
    "x_test_norm = x_test/255.0   # 입력은 0~1 사이의 값으로 정규화\n",
    "\n",
    "print(\"x_test shape: {}\".format(x_test.shape))\n",
    "print(\"y_test shape: {}\".format(y_test.shape))"
   ]
  },
  {
   "cell_type": "code",
   "execution_count": 19,
   "metadata": {},
   "outputs": [
    {
     "data": {
      "text/plain": [
       "array([0, 0, 0, 0, 0, 0, 0, 0, 0, 0, 0, 0, 0, 0, 0, 0, 0, 0, 0, 0, 0, 0,\n",
       "       0, 0, 0, 0, 0, 0, 0, 0, 0, 0, 0, 0, 0, 0, 0, 0, 0, 0, 0, 0, 0, 0,\n",
       "       0, 0, 0, 0, 0, 0, 0, 0, 0, 0, 0, 0, 0, 0, 0, 0, 0, 0, 0, 0, 0, 0,\n",
       "       0, 0, 0, 0, 0, 0, 0, 0, 0, 0, 0, 0, 0, 0, 0, 0, 0, 0, 0, 0, 0, 0,\n",
       "       0, 0, 0, 0, 0, 0, 0, 0, 0, 0, 0, 0, 1, 1, 1, 1, 1, 1, 1, 1, 1, 1,\n",
       "       1, 1, 1, 1, 1, 1, 1, 1, 1, 1, 1, 1, 1, 1, 1, 1, 1, 1, 1, 1, 1, 1,\n",
       "       1, 1, 1, 1, 1, 1, 1, 1, 1, 1, 1, 1, 1, 1, 1, 1, 1, 1, 1, 1, 1, 1,\n",
       "       1, 1, 1, 1, 1, 1, 1, 1, 1, 1, 1, 1, 1, 1, 1, 1, 1, 1, 1, 1, 1, 1,\n",
       "       1, 1, 1, 1, 1, 1, 1, 1, 1, 1, 1, 1, 1, 1, 1, 1, 1, 1, 1, 1, 1, 1,\n",
       "       1, 1, 2, 2, 2, 2, 2, 2, 2, 2, 2, 2, 2, 2, 2, 2, 2, 2, 2, 2, 2, 2,\n",
       "       2, 2, 2, 2, 2, 2, 2, 2, 2, 2, 2, 2, 2, 2, 2, 2, 2, 2, 2, 2, 2, 2,\n",
       "       2, 2, 2, 2, 2, 2, 2, 2, 2, 2, 2, 2, 2, 2, 2, 2, 2, 2, 2, 2, 2, 2,\n",
       "       2, 2, 2, 2, 2, 2, 2, 2, 2, 2, 2, 2, 2, 2, 2, 2, 2, 2, 2, 2, 2, 2,\n",
       "       2, 2, 2, 2, 2, 2, 2, 2, 2, 2, 2, 2, 2, 2], dtype=int32)"
      ]
     },
     "execution_count": 19,
     "metadata": {},
     "output_type": "execute_result"
    }
   ],
   "source": [
    "x_train_1 # 이미지 데이터\n",
    "y_train_1 # Label 데이터"
   ]
  },
  {
   "cell_type": "code",
   "execution_count": 20,
   "metadata": {},
   "outputs": [
    {
     "data": {
      "image/png": "[encoded data removed]",
      "text/plain": [
       "<Figure size 432x288 with 1 Axes>"
      ]
     },
     "metadata": {
      "needs_background": "light"
     },
     "output_type": "display_data"
    }
   ],
   "source": [
    "plt.imshow(x_train_1[1],cmap=plt.cm.binary)\n",
    "plt.show()"
   ]
  },
  {
   "cell_type": "markdown",
   "metadata": {},
   "source": [
    "## 학습 네트워크 설계"
   ]
  },
  {
   "cell_type": "code",
   "execution_count": 21,
   "metadata": {},
   "outputs": [
    {
     "name": "stdout",
     "output_type": "stream",
     "text": [
      "Model에 추가된 Layer 개수:  7\n"
     ]
    }
   ],
   "source": [
    "model=keras.models.Sequential()\n",
    "model.add(keras.layers.Conv2D(32, (3,3), activation='relu', input_shape=(28,28,3)))\n",
    "model.add(keras.layers.MaxPool2D(2,2))\n",
    "model.add(keras.layers.Conv2D(32, (3,3), activation='relu'))\n",
    "model.add(keras.layers.MaxPooling2D((2,2)))\n",
    "model.add(keras.layers.Flatten())\n",
    "model.add(keras.layers.Dense(32, activation='relu'))\n",
    "model.add(keras.layers.Dense(3, activation='softmax'))\n",
    "\n",
    "print('Model에 추가된 Layer 개수: ', len(model.layers))"
   ]
  },
  {
   "cell_type": "code",
   "execution_count": 22,
   "metadata": {
    "scrolled": true
   },
   "outputs": [
    {
     "name": "stdout",
     "output_type": "stream",
     "text": [
      "Model: \"sequential_2\"\n",
      "_________________________________________________________________\n",
      "Layer (type)                 Output Shape              Param #   \n",
      "=================================================================\n",
      "conv2d_4 (Conv2D)            (None, 26, 26, 32)        896       \n",
      "_________________________________________________________________\n",
      "max_pooling2d_4 (MaxPooling2 (None, 13, 13, 32)        0         \n",
      "_________________________________________________________________\n",
      "conv2d_5 (Conv2D)            (None, 11, 11, 32)        9248      \n",
      "_________________________________________________________________\n",
      "max_pooling2d_5 (MaxPooling2 (None, 5, 5, 32)          0         \n",
      "_________________________________________________________________\n",
      "flatten_2 (Flatten)          (None, 800)               0         \n",
      "_________________________________________________________________\n",
      "dense_4 (Dense)              (None, 32)                25632     \n",
      "_________________________________________________________________\n",
      "dense_5 (Dense)              (None, 3)                 99        \n",
      "=================================================================\n",
      "Total params: 35,875\n",
      "Trainable params: 35,875\n",
      "Non-trainable params: 0\n",
      "_________________________________________________________________\n"
     ]
    }
   ],
   "source": [
    "model.summary()"
   ]
  },
  {
   "cell_type": "markdown",
   "metadata": {},
   "source": [
    "## 채널 수 설정하기 (이미 채널수가 3으로 설정되어있어 의미가 없다)"
   ]
  },
  {
   "cell_type": "code",
   "execution_count": 23,
   "metadata": {},
   "outputs": [
    {
     "name": "stdout",
     "output_type": "stream",
     "text": [
      "Before Reshape - x_train_1_norm shape: (300, 28, 28, 3)\n",
      "Before Reshape - x_test_norm shape: (300, 28, 28, 3)\n",
      "After Reshape - x_train_1_reshaped shape: (300, 28, 28, 3)\n",
      "After Reshape - x_test_reshaped shape: (300, 28, 28, 3)\n"
     ]
    }
   ],
   "source": [
    "print(\"Before Reshape - x_train_1_norm shape: {}\".format(x_train_norm_1.shape))\n",
    "print(\"Before Reshape - x_test_norm shape: {}\".format(x_test_norm.shape))\n",
    "\n",
    "x_train_reshaped_1=x_train_norm_1.reshape( -1, 28, 28, 3)  # 데이터갯수에 -1을 쓰면 reshape시 자동계산됩니다.\n",
    "x_test_reshaped=x_test_norm.reshape( -1, 28, 28, 3) #컬러 사진이므로 3\n",
    "\n",
    "print(\"After Reshape - x_train_1_reshaped shape: {}\".format(x_train_reshaped_1.shape))\n",
    "print(\"After Reshape - x_test_reshaped shape: {}\".format(x_test_reshaped.shape))"
   ]
  },
  {
   "cell_type": "markdown",
   "metadata": {},
   "source": [
    "## 데이터 학습"
   ]
  },
  {
   "cell_type": "code",
   "execution_count": 24,
   "metadata": {
    "scrolled": true
   },
   "outputs": [
    {
     "name": "stdout",
     "output_type": "stream",
     "text": [
      "Epoch 1/10\n",
      "10/10 [==============================] - 0s 2ms/step - loss: 1.0973 - accuracy: 0.4200\n",
      "Epoch 2/10\n",
      "10/10 [==============================] - 0s 1ms/step - loss: 1.0194 - accuracy: 0.6633\n",
      "Epoch 3/10\n",
      "10/10 [==============================] - 0s 2ms/step - loss: 0.8918 - accuracy: 0.7633\n",
      "Epoch 4/10\n",
      "10/10 [==============================] - 0s 1ms/step - loss: 0.7439 - accuracy: 0.7533\n",
      "Epoch 5/10\n",
      "10/10 [==============================] - 0s 2ms/step - loss: 0.5812 - accuracy: 0.7900\n",
      "Epoch 6/10\n",
      "10/10 [==============================] - 0s 2ms/step - loss: 0.4712 - accuracy: 0.8500\n",
      "Epoch 7/10\n",
      "10/10 [==============================] - 0s 1ms/step - loss: 0.3764 - accuracy: 0.8667\n",
      "Epoch 8/10\n",
      "10/10 [==============================] - 0s 2ms/step - loss: 0.2838 - accuracy: 0.8933\n",
      "Epoch 9/10\n",
      "10/10 [==============================] - 0s 2ms/step - loss: 0.1875 - accuracy: 0.9667\n",
      "Epoch 10/10\n",
      "10/10 [==============================] - 0s 1ms/step - loss: 0.1348 - accuracy: 0.9933\n"
     ]
    },
    {
     "data": {
      "text/plain": [
       "<tensorflow.python.keras.callbacks.History at 0x7f84520a6110>"
      ]
     },
     "execution_count": 24,
     "metadata": {},
     "output_type": "execute_result"
    }
   ],
   "source": [
    "model.compile(optimizer='adam',\n",
    "             loss='sparse_categorical_crossentropy',\n",
    "             metrics=['accuracy'])\n",
    "\n",
    "model.fit(x_train_reshaped_1, y_train_1, epochs=10)"
   ]
  },
  {
   "cell_type": "markdown",
   "metadata": {},
   "source": [
    "## 성능 확인"
   ]
  },
  {
   "cell_type": "code",
   "execution_count": 25,
   "metadata": {
    "scrolled": false
   },
   "outputs": [
    {
     "name": "stdout",
     "output_type": "stream",
     "text": [
      "10/10 - 0s - loss: 1.6438 - accuracy: 0.3333\n",
      "test_loss: 1.643816590309143 \n",
      "test_accuracy: 0.3333333432674408\n"
     ]
    }
   ],
   "source": [
    "test_loss, test_accuracy = model.evaluate(x_test_reshaped,y_test, verbose=2)\n",
    "print(\"test_loss: {} \".format(test_loss))\n",
    "print(\"test_accuracy: {}\".format(test_accuracy))"
   ]
  },
  {
   "cell_type": "markdown",
   "metadata": {},
   "source": [
    "### 적중률 33.3%로 찍는것과 다름이 없는 기적적인 성과를 보여준다"
   ]
  },
  {
   "cell_type": "markdown",
   "metadata": {},
   "source": [
    "## 추론"
   ]
  },
  {
   "cell_type": "code",
   "execution_count": 26,
   "metadata": {},
   "outputs": [
    {
     "name": "stdout",
     "output_type": "stream",
     "text": [
      "model.predict() 결과 :  [0.05857518 0.38417047 0.5572543 ]\n",
      "model이 추론한 가장 가능성이 높은 결과 :  2\n",
      "실제 데이터의 라벨 :  0\n"
     ]
    }
   ],
   "source": [
    "predicted_result = model.predict(x_test_reshaped)  # model이 추론한 확률값. \n",
    "predicted_labels = np.argmax(predicted_result, axis=1)\n",
    "\n",
    "idx=0  #1번째 x_test를 살펴보자. \n",
    "print('model.predict() 결과 : ', predicted_result[idx])\n",
    "print('model이 추론한 가장 가능성이 높은 결과 : ', predicted_labels[idx])\n",
    "print('실제 데이터의 라벨 : ', y_test[idx])"
   ]
  },
  {
   "cell_type": "code",
   "execution_count": 27,
   "metadata": {
    "scrolled": true
   },
   "outputs": [
    {
     "name": "stdout",
     "output_type": "stream",
     "text": [
      "예측확률분포: [0.09653225 0.32001835 0.5834494 ]\n",
      "라벨: 1, 예측결과: 2\n"
     ]
    },
    {
     "data": {
      "image/png": "[encoded data removed]",
      "text/plain": [
       "<Figure size 432x288 with 1 Axes>"
      ]
     },
     "metadata": {
      "needs_background": "light"
     },
     "output_type": "display_data"
    },
    {
     "name": "stdout",
     "output_type": "stream",
     "text": [
      "예측확률분포: [0.0719293  0.32402992 0.6040408 ]\n",
      "라벨: 0, 예측결과: 2\n"
     ]
    },
    {
     "data": {
      "image/png": "[encoded data removed]",
      "text/plain": [
       "<Figure size 432x288 with 1 Axes>"
      ]
     },
     "metadata": {
      "needs_background": "light"
     },
     "output_type": "display_data"
    },
    {
     "name": "stdout",
     "output_type": "stream",
     "text": [
      "예측확률분포: [0.09545367 0.2920189  0.6125274 ]\n",
      "라벨: 1, 예측결과: 2\n"
     ]
    },
    {
     "data": {
      "image/png": "[encoded data removed]",
      "text/plain": [
       "<Figure size 432x288 with 1 Axes>"
      ]
     },
     "metadata": {
      "needs_background": "light"
     },
     "output_type": "display_data"
    },
    {
     "name": "stdout",
     "output_type": "stream",
     "text": [
      "예측확률분포: [0.05489084 0.2914372  0.6536719 ]\n",
      "라벨: 0, 예측결과: 2\n"
     ]
    },
    {
     "data": {
      "image/png": "[encoded data removed]",
      "text/plain": [
       "<Figure size 432x288 with 1 Axes>"
      ]
     },
     "metadata": {
      "needs_background": "light"
     },
     "output_type": "display_data"
    },
    {
     "name": "stdout",
     "output_type": "stream",
     "text": [
      "예측확률분포: [0.05525872 0.3035564  0.6411849 ]\n",
      "라벨: 0, 예측결과: 2\n"
     ]
    },
    {
     "data": {
      "image/png": "[encoded data removed]",
      "text/plain": [
       "<Figure size 432x288 with 1 Axes>"
      ]
     },
     "metadata": {
      "needs_background": "light"
     },
     "output_type": "display_data"
    }
   ],
   "source": [
    "import random\n",
    "wrong_predict_list=[]\n",
    "for i, _ in enumerate(predicted_labels):\n",
    "    # i번째 test_labels과 y_test이 다른 경우만 모아 봅시다. \n",
    "    if predicted_labels[i] != y_test[i]:\n",
    "        wrong_predict_list.append(i)\n",
    "\n",
    "# wrong_predict_list 에서 랜덤하게 5개만 뽑아봅시다.\n",
    "samples = random.choices(population=wrong_predict_list, k=5)\n",
    "\n",
    "for n in samples:\n",
    "    print(\"예측확률분포: \" + str(predicted_result[n]))\n",
    "    print(\"라벨: \" + str(y_test[n]) + \", 예측결과: \" + str(predicted_labels[n]))\n",
    "    plt.imshow(x_test[n], cmap=plt.cm.binary)\n",
    "    plt.show()"
   ]
  },
  {
   "cell_type": "markdown",
   "metadata": {},
   "source": [
    "# 성능 향상: Model 2"
   ]
  },
  {
   "cell_type": "markdown",
   "metadata": {},
   "source": [
    "##  변경사항: 학습 데이터량, 학습 횟수, Dense값 조정\n"
   ]
  },
  {
   "cell_type": "code",
   "execution_count": 28,
   "metadata": {},
   "outputs": [
    {
     "name": "stdout",
     "output_type": "stream",
     "text": [
      "학습데이터(x_train)의 이미지 개수는 1800 입니다.\n",
      "x_train shape: (1800, 28, 28, 3)\n",
      "y_train shape: (1800,)\n"
     ]
    }
   ],
   "source": [
    "def load_train_data_v2(img_path):\n",
    "    # 가위 : 0, 바위 : 1, 보 : 2\n",
    "    number_of_data=1800   # 기존 300장이던 데이터량을 1800장으로 증가\n",
    "    img_size=28\n",
    "    color=3\n",
    "    imgs=np.zeros(number_of_data*img_size*img_size*color,dtype=np.int32).reshape(number_of_data,img_size,img_size,color)\n",
    "    labels=np.zeros(number_of_data,dtype=np.int32)\n",
    "\n",
    "    idx=0\n",
    "    for file in glob.iglob(img_path+'/scissor/*.jpg'):\n",
    "        img = np.array(Image.open(file),dtype=np.int32)\n",
    "        imgs[idx,:,:,:]=img    \n",
    "        labels[idx]=0   # 가위 : 0\n",
    "        idx=idx+1\n",
    "\n",
    "    for file in glob.iglob(img_path+'/rock/*.jpg'):\n",
    "        img = np.array(Image.open(file),dtype=np.int32)\n",
    "        imgs[idx,:,:,:]=img    \n",
    "        labels[idx]=1   # 바위 : 1\n",
    "        idx=idx+1       \n",
    "    \n",
    "    for file in glob.iglob(img_path+'/paper/*.jpg'):\n",
    "        img = np.array(Image.open(file),dtype=np.int32)\n",
    "        imgs[idx,:,:,:]=img   \n",
    "        labels[idx]=2   # 보 : 2\n",
    "        idx=idx+1\n",
    "        \n",
    "    print(\"학습데이터(x_train)의 이미지 개수는\",idx,\"입니다.\")\n",
    "    return imgs, labels\n",
    "\n",
    "image_dir_path = os.getenv(\"HOME\") + \"/aiffel/Exploration_1/rock_scissor_paper_v2\"\n",
    "(x_train, y_train)=load_train_data_v2(image_dir_path)\n",
    "x_train_norm = x_train/255.0   # 입력은 0~1 사이의 값으로 정규화\n",
    "\n",
    "print(\"x_train shape: {}\".format(x_train.shape))\n",
    "print(\"y_train shape: {}\".format(y_train.shape))"
   ]
  },
  {
   "cell_type": "code",
   "execution_count": 30,
   "metadata": {},
   "outputs": [
    {
     "name": "stdout",
     "output_type": "stream",
     "text": [
      "Before Reshape - x_train_norm shape: (1800, 28, 28, 3)\n",
      "Before Reshape - x_test_norm shape: (300, 28, 28, 3)\n",
      "After Reshape - x_train_reshaped shape: (1800, 28, 28, 3)\n",
      "After Reshape - x_test_reshaped shape: (300, 28, 28, 3)\n"
     ]
    }
   ],
   "source": [
    "print(\"Before Reshape - x_train_norm shape: {}\".format(x_train_norm.shape))\n",
    "print(\"Before Reshape - x_test_norm shape: {}\".format(x_test_norm.shape))\n",
    "\n",
    "x_train_reshaped=x_train_norm.reshape( -1, 28, 28, 3)  # 데이터갯수에 -1을 쓰면 reshape시 자동계산됩니다.\n",
    "x_test_reshaped=x_test_norm.reshape( -1, 28, 28, 3) #컬러 사진이므로 3\n",
    "\n",
    "print(\"After Reshape - x_train_reshaped shape: {}\".format(x_train_reshaped.shape))\n",
    "print(\"After Reshape - x_test_reshaped shape: {}\".format(x_test_reshaped.shape))"
   ]
  },
  {
   "cell_type": "markdown",
   "metadata": {},
   "source": [
    "## model2 구성"
   ]
  },
  {
   "cell_type": "markdown",
   "metadata": {},
   "source": [
    "## 손글씨 데이터와 비교했을때, 이미지가 더욱 복잡한것을 고려하여 Conv2d와 Dense값 상향"
   ]
  },
  {
   "cell_type": "code",
   "execution_count": 37,
   "metadata": {},
   "outputs": [
    {
     "name": "stdout",
     "output_type": "stream",
     "text": [
      "Model에 추가된 Layer 개수:  7\n"
     ]
    }
   ],
   "source": [
    "model2=keras.models.Sequential()\n",
    "model2.add(keras.layers.Conv2D(160, (3,3), activation='relu', input_shape=(28,28,3))) \n",
    "model2.add(keras.layers.MaxPool2D(2,2))\n",
    "model2.add(keras.layers.Conv2D(160, (3,3), activation='relu'))\n",
    "model2.add(keras.layers.MaxPooling2D((2,2)))\n",
    "model2.add(keras.layers.Flatten())\n",
    "model2.add(keras.layers.Dense(128, activation='relu'))\n",
    "model2.add(keras.layers.Dense(3, activation='softmax'))\n",
    "\n",
    "print('Model에 추가된 Layer 개수: ', len(model.layers))"
   ]
  },
  {
   "cell_type": "code",
   "execution_count": 38,
   "metadata": {
    "scrolled": true
   },
   "outputs": [
    {
     "name": "stdout",
     "output_type": "stream",
     "text": [
      "Model: \"sequential_4\"\n",
      "_________________________________________________________________\n",
      "Layer (type)                 Output Shape              Param #   \n",
      "=================================================================\n",
      "conv2d_8 (Conv2D)            (None, 26, 26, 160)       4480      \n",
      "_________________________________________________________________\n",
      "max_pooling2d_8 (MaxPooling2 (None, 13, 13, 160)       0         \n",
      "_________________________________________________________________\n",
      "conv2d_9 (Conv2D)            (None, 11, 11, 160)       230560    \n",
      "_________________________________________________________________\n",
      "max_pooling2d_9 (MaxPooling2 (None, 5, 5, 160)         0         \n",
      "_________________________________________________________________\n",
      "flatten_4 (Flatten)          (None, 4000)              0         \n",
      "_________________________________________________________________\n",
      "dense_8 (Dense)              (None, 128)               512128    \n",
      "_________________________________________________________________\n",
      "dense_9 (Dense)              (None, 3)                 387       \n",
      "=================================================================\n",
      "Total params: 747,555\n",
      "Trainable params: 747,555\n",
      "Non-trainable params: 0\n",
      "_________________________________________________________________\n"
     ]
    }
   ],
   "source": [
    "model2.summary()"
   ]
  },
  {
   "cell_type": "markdown",
   "metadata": {},
   "source": [
    "## 학습횟수 조정: 150 epochs일때 적중률 62%, 200 epochs일때 적중률 58%로 150~200구간 사이에서부터 과적합(Overfitting)이 일어나는것으로 예상됨"
   ]
  },
  {
   "cell_type": "code",
   "execution_count": 62,
   "metadata": {
    "scrolled": true
   },
   "outputs": [
    {
     "name": "stdout",
     "output_type": "stream",
     "text": [
      "Epoch 1/150\n",
      "57/57 [==============================] - 0s 3ms/step - loss: 6.6095e-08 - accuracy: 1.0000\n",
      "Epoch 2/150\n",
      "57/57 [==============================] - 0s 3ms/step - loss: 0.0248 - accuracy: 0.9939\n",
      "Epoch 3/150\n",
      "57/57 [==============================] - 0s 3ms/step - loss: 0.0358 - accuracy: 0.9911\n",
      "Epoch 4/150\n",
      "57/57 [==============================] - 0s 3ms/step - loss: 0.0019 - accuracy: 0.9994\n",
      "Epoch 5/150\n",
      "57/57 [==============================] - 0s 3ms/step - loss: 0.0047 - accuracy: 0.9983\n",
      "Epoch 6/150\n",
      "57/57 [==============================] - 0s 3ms/step - loss: 7.0083e-05 - accuracy: 1.0000\n",
      "Epoch 7/150\n",
      "57/57 [==============================] - 0s 3ms/step - loss: 1.4681e-05 - accuracy: 1.0000\n",
      "Epoch 8/150\n",
      "57/57 [==============================] - 0s 3ms/step - loss: 8.9701e-06 - accuracy: 1.0000\n",
      "Epoch 9/150\n",
      "57/57 [==============================] - 0s 3ms/step - loss: 6.8581e-06 - accuracy: 1.0000\n",
      "Epoch 10/150\n",
      "57/57 [==============================] - 0s 3ms/step - loss: 5.8036e-06 - accuracy: 1.0000\n",
      "Epoch 11/150\n",
      "57/57 [==============================] - 0s 3ms/step - loss: 4.9505e-06 - accuracy: 1.0000\n",
      "Epoch 12/150\n",
      "57/57 [==============================] - 0s 3ms/step - loss: 4.3856e-06 - accuracy: 1.0000\n",
      "Epoch 13/150\n",
      "57/57 [==============================] - 0s 3ms/step - loss: 3.9217e-06 - accuracy: 1.0000\n",
      "Epoch 14/150\n",
      "57/57 [==============================] - 0s 3ms/step - loss: 3.4859e-06 - accuracy: 1.0000\n",
      "Epoch 15/150\n",
      "57/57 [==============================] - 0s 3ms/step - loss: 3.1432e-06 - accuracy: 1.0000\n",
      "Epoch 16/150\n",
      "57/57 [==============================] - 0s 3ms/step - loss: 2.8683e-06 - accuracy: 1.0000\n",
      "Epoch 17/150\n",
      "57/57 [==============================] - 0s 3ms/step - loss: 2.6838e-06 - accuracy: 1.0000\n",
      "Epoch 18/150\n",
      "57/57 [==============================] - 0s 4ms/step - loss: 2.4341e-06 - accuracy: 1.0000\n",
      "Epoch 19/150\n",
      "57/57 [==============================] - 0s 3ms/step - loss: 2.2549e-06 - accuracy: 1.0000\n",
      "Epoch 20/150\n",
      "57/57 [==============================] - 0s 4ms/step - loss: 2.0829e-06 - accuracy: 1.0000\n",
      "Epoch 21/150\n",
      "57/57 [==============================] - 0s 4ms/step - loss: 1.9462e-06 - accuracy: 1.0000\n",
      "Epoch 22/150\n",
      "57/57 [==============================] - 0s 4ms/step - loss: 1.8207e-06 - accuracy: 1.0000\n",
      "Epoch 23/150\n",
      "57/57 [==============================] - 0s 3ms/step - loss: 1.7000e-06 - accuracy: 1.0000\n",
      "Epoch 24/150\n",
      "57/57 [==============================] - 0s 3ms/step - loss: 1.6043e-06 - accuracy: 1.0000\n",
      "Epoch 25/150\n",
      "57/57 [==============================] - 0s 4ms/step - loss: 1.5063e-06 - accuracy: 1.0000\n",
      "Epoch 26/150\n",
      "57/57 [==============================] - 0s 3ms/step - loss: 1.4167e-06 - accuracy: 1.0000\n",
      "Epoch 27/150\n",
      "57/57 [==============================] - 0s 3ms/step - loss: 1.3420e-06 - accuracy: 1.0000\n",
      "Epoch 28/150\n",
      "57/57 [==============================] - 0s 3ms/step - loss: 1.2795e-06 - accuracy: 1.0000\n",
      "Epoch 29/150\n",
      "57/57 [==============================] - 0s 3ms/step - loss: 1.2201e-06 - accuracy: 1.0000\n",
      "Epoch 30/150\n",
      "57/57 [==============================] - 0s 3ms/step - loss: 1.1552e-06 - accuracy: 1.0000\n",
      "Epoch 31/150\n",
      "57/57 [==============================] - 0s 3ms/step - loss: 1.0982e-06 - accuracy: 1.0000\n",
      "Epoch 32/150\n",
      "57/57 [==============================] - 0s 3ms/step - loss: 1.0484e-06 - accuracy: 1.0000\n",
      "Epoch 33/150\n",
      "57/57 [==============================] - 0s 3ms/step - loss: 9.9656e-07 - accuracy: 1.0000\n",
      "Epoch 34/150\n",
      "57/57 [==============================] - 0s 3ms/step - loss: 9.5087e-07 - accuracy: 1.0000\n",
      "Epoch 35/150\n",
      "57/57 [==============================] - 0s 3ms/step - loss: 9.1014e-07 - accuracy: 1.0000\n",
      "Epoch 36/150\n",
      "57/57 [==============================] - 0s 3ms/step - loss: 8.7213e-07 - accuracy: 1.0000\n",
      "Epoch 37/150\n",
      "57/57 [==============================] - 0s 3ms/step - loss: 8.3557e-07 - accuracy: 1.0000\n",
      "Epoch 38/150\n",
      "57/57 [==============================] - 0s 3ms/step - loss: 8.0120e-07 - accuracy: 1.0000\n",
      "Epoch 39/150\n",
      "57/57 [==============================] - 0s 3ms/step - loss: 7.7153e-07 - accuracy: 1.0000\n",
      "Epoch 40/150\n",
      "57/57 [==============================] - 0s 3ms/step - loss: 7.3869e-07 - accuracy: 1.0000\n",
      "Epoch 41/150\n",
      "57/57 [==============================] - 0s 3ms/step - loss: 7.1087e-07 - accuracy: 1.0000\n",
      "Epoch 42/150\n",
      "57/57 [==============================] - 0s 3ms/step - loss: 6.8405e-07 - accuracy: 1.0000\n",
      "Epoch 43/150\n",
      "57/57 [==============================] - 0s 3ms/step - loss: 6.5723e-07 - accuracy: 1.0000\n",
      "Epoch 44/150\n",
      "57/57 [==============================] - 0s 3ms/step - loss: 6.3783e-07 - accuracy: 1.0000\n",
      "Epoch 45/150\n",
      "57/57 [==============================] - 0s 3ms/step - loss: 6.1246e-07 - accuracy: 1.0000\n",
      "Epoch 46/150\n",
      "57/57 [==============================] - 0s 3ms/step - loss: 5.9114e-07 - accuracy: 1.0000\n",
      "Epoch 47/150\n",
      "57/57 [==============================] - 0s 3ms/step - loss: 5.7127e-07 - accuracy: 1.0000\n",
      "Epoch 48/150\n",
      "57/57 [==============================] - 0s 3ms/step - loss: 5.5359e-07 - accuracy: 1.0000\n",
      "Epoch 49/150\n",
      "57/57 [==============================] - 0s 3ms/step - loss: 5.3352e-07 - accuracy: 1.0000\n",
      "Epoch 50/150\n",
      "57/57 [==============================] - 0s 3ms/step - loss: 5.2100e-07 - accuracy: 1.0000\n",
      "Epoch 51/150\n",
      "57/57 [==============================] - 0s 3ms/step - loss: 4.9981e-07 - accuracy: 1.0000\n",
      "Epoch 52/150\n",
      "57/57 [==============================] - 0s 3ms/step - loss: 4.8220e-07 - accuracy: 1.0000\n",
      "Epoch 53/150\n",
      "57/57 [==============================] - 0s 3ms/step - loss: 4.6776e-07 - accuracy: 1.0000\n",
      "Epoch 54/150\n",
      "57/57 [==============================] - 0s 3ms/step - loss: 4.5392e-07 - accuracy: 1.0000\n",
      "Epoch 55/150\n",
      "57/57 [==============================] - 0s 3ms/step - loss: 4.3802e-07 - accuracy: 1.0000\n",
      "Epoch 56/150\n",
      "57/57 [==============================] - 0s 3ms/step - loss: 4.2319e-07 - accuracy: 1.0000\n",
      "Epoch 57/150\n",
      "57/57 [==============================] - 0s 3ms/step - loss: 4.1127e-07 - accuracy: 1.0000\n",
      "Epoch 58/150\n",
      "57/57 [==============================] - 0s 3ms/step - loss: 3.9908e-07 - accuracy: 1.0000\n",
      "Epoch 59/150\n",
      "57/57 [==============================] - 0s 3ms/step - loss: 3.8763e-07 - accuracy: 1.0000\n",
      "Epoch 60/150\n",
      "57/57 [==============================] - 0s 3ms/step - loss: 3.7623e-07 - accuracy: 1.0000\n",
      "Epoch 61/150\n",
      "57/57 [==============================] - 0s 3ms/step - loss: 3.6438e-07 - accuracy: 1.0000\n",
      "Epoch 62/150\n",
      "57/57 [==============================] - 0s 3ms/step - loss: 3.5306e-07 - accuracy: 1.0000\n",
      "Epoch 63/150\n",
      "57/57 [==============================] - 0s 3ms/step - loss: 3.4478e-07 - accuracy: 1.0000\n",
      "Epoch 64/150\n",
      "57/57 [==============================] - 0s 3ms/step - loss: 3.3643e-07 - accuracy: 1.0000\n",
      "Epoch 65/150\n",
      "57/57 [==============================] - 0s 3ms/step - loss: 3.1259e-07 - accuracy: 1.0000\n",
      "Epoch 66/150\n",
      "57/57 [==============================] - 0s 3ms/step - loss: 2.9868e-07 - accuracy: 1.0000\n",
      "Epoch 67/150\n",
      "57/57 [==============================] - 0s 3ms/step - loss: 2.9113e-07 - accuracy: 1.0000\n",
      "Epoch 68/150\n",
      "57/57 [==============================] - 0s 3ms/step - loss: 2.8080e-07 - accuracy: 1.0000\n",
      "Epoch 69/150\n",
      "57/57 [==============================] - 0s 3ms/step - loss: 2.7146e-07 - accuracy: 1.0000\n",
      "Epoch 70/150\n",
      "57/57 [==============================] - 0s 3ms/step - loss: 2.6239e-07 - accuracy: 1.0000\n",
      "Epoch 71/150\n",
      "57/57 [==============================] - 0s 3ms/step - loss: 2.5458e-07 - accuracy: 1.0000\n",
      "Epoch 72/150\n",
      "57/57 [==============================] - 0s 3ms/step - loss: 2.4742e-07 - accuracy: 1.0000\n",
      "Epoch 73/150\n",
      "57/57 [==============================] - 0s 3ms/step - loss: 2.3928e-07 - accuracy: 1.0000\n",
      "Epoch 74/150\n",
      "57/57 [==============================] - 0s 3ms/step - loss: 2.3259e-07 - accuracy: 1.0000\n",
      "Epoch 75/150\n",
      "57/57 [==============================] - 0s 3ms/step - loss: 2.2583e-07 - accuracy: 1.0000\n",
      "Epoch 76/150\n",
      "57/57 [==============================] - 0s 3ms/step - loss: 2.1921e-07 - accuracy: 1.0000\n",
      "Epoch 77/150\n",
      "57/57 [==============================] - 0s 3ms/step - loss: 2.1319e-07 - accuracy: 1.0000\n",
      "Epoch 78/150\n",
      "57/57 [==============================] - 0s 3ms/step - loss: 2.0650e-07 - accuracy: 1.0000\n",
      "Epoch 79/150\n",
      "57/57 [==============================] - 0s 3ms/step - loss: 2.0047e-07 - accuracy: 1.0000\n",
      "Epoch 80/150\n"
     ]
    },
    {
     "name": "stdout",
     "output_type": "stream",
     "text": [
      "57/57 [==============================] - 0s 3ms/step - loss: 1.9491e-07 - accuracy: 1.0000\n",
      "Epoch 81/150\n",
      "57/57 [==============================] - 0s 3ms/step - loss: 1.8835e-07 - accuracy: 1.0000\n",
      "Epoch 82/150\n",
      "57/57 [==============================] - 0s 3ms/step - loss: 1.8385e-07 - accuracy: 1.0000\n",
      "Epoch 83/150\n",
      "57/57 [==============================] - 0s 3ms/step - loss: 1.7868e-07 - accuracy: 1.0000\n",
      "Epoch 84/150\n",
      "57/57 [==============================] - 0s 3ms/step - loss: 1.7352e-07 - accuracy: 1.0000\n",
      "Epoch 85/150\n",
      "57/57 [==============================] - 0s 3ms/step - loss: 1.6888e-07 - accuracy: 1.0000\n",
      "Epoch 86/150\n",
      "57/57 [==============================] - 0s 3ms/step - loss: 1.6471e-07 - accuracy: 1.0000\n",
      "Epoch 87/150\n",
      "57/57 [==============================] - 0s 3ms/step - loss: 1.6000e-07 - accuracy: 1.0000\n",
      "Epoch 88/150\n",
      "57/57 [==============================] - 0s 3ms/step - loss: 1.5537e-07 - accuracy: 1.0000\n",
      "Epoch 89/150\n",
      "57/57 [==============================] - 0s 3ms/step - loss: 1.5166e-07 - accuracy: 1.0000\n",
      "Epoch 90/150\n",
      "57/57 [==============================] - 0s 3ms/step - loss: 1.4802e-07 - accuracy: 1.0000\n",
      "Epoch 91/150\n",
      "57/57 [==============================] - 0s 3ms/step - loss: 1.4385e-07 - accuracy: 1.0000\n",
      "Epoch 92/150\n",
      "57/57 [==============================] - 0s 3ms/step - loss: 1.3974e-07 - accuracy: 1.0000\n",
      "Epoch 93/150\n",
      "57/57 [==============================] - 0s 3ms/step - loss: 1.3630e-07 - accuracy: 1.0000\n",
      "Epoch 94/150\n",
      "57/57 [==============================] - 0s 3ms/step - loss: 1.3206e-07 - accuracy: 1.0000\n",
      "Epoch 95/150\n",
      "57/57 [==============================] - 0s 3ms/step - loss: 1.2954e-07 - accuracy: 1.0000\n",
      "Epoch 96/150\n",
      "57/57 [==============================] - 0s 3ms/step - loss: 1.2557e-07 - accuracy: 1.0000\n",
      "Epoch 97/150\n",
      "57/57 [==============================] - 0s 3ms/step - loss: 1.2265e-07 - accuracy: 1.0000\n",
      "Epoch 98/150\n",
      "57/57 [==============================] - 0s 3ms/step - loss: 1.1835e-07 - accuracy: 1.0000\n",
      "Epoch 99/150\n",
      "57/57 [==============================] - 0s 3ms/step - loss: 1.1530e-07 - accuracy: 1.0000\n",
      "Epoch 100/150\n",
      "57/57 [==============================] - 0s 3ms/step - loss: 1.1318e-07 - accuracy: 1.0000\n",
      "Epoch 101/150\n",
      "57/57 [==============================] - 0s 3ms/step - loss: 1.0941e-07 - accuracy: 1.0000\n",
      "Epoch 102/150\n",
      "57/57 [==============================] - 0s 3ms/step - loss: 1.0716e-07 - accuracy: 1.0000\n",
      "Epoch 103/150\n",
      "57/57 [==============================] - 0s 4ms/step - loss: 1.0437e-07 - accuracy: 1.0000\n",
      "Epoch 104/150\n",
      "57/57 [==============================] - 0s 3ms/step - loss: 1.0093e-07 - accuracy: 1.0000\n",
      "Epoch 105/150\n",
      "57/57 [==============================] - 0s 3ms/step - loss: 9.8215e-08 - accuracy: 1.0000\n",
      "Epoch 106/150\n",
      "57/57 [==============================] - 0s 3ms/step - loss: 9.5632e-08 - accuracy: 1.0000\n",
      "Epoch 107/150\n",
      "57/57 [==============================] - 0s 3ms/step - loss: 9.3380e-08 - accuracy: 1.0000\n",
      "Epoch 108/150\n",
      "57/57 [==============================] - 0s 3ms/step - loss: 9.0864e-08 - accuracy: 1.0000\n",
      "Epoch 109/150\n",
      "57/57 [==============================] - 0s 3ms/step - loss: 8.8546e-08 - accuracy: 1.0000\n",
      "Epoch 110/150\n",
      "57/57 [==============================] - 0s 3ms/step - loss: 8.6625e-08 - accuracy: 1.0000\n",
      "Epoch 111/150\n",
      "57/57 [==============================] - 0s 4ms/step - loss: 8.4307e-08 - accuracy: 1.0000\n",
      "Epoch 112/150\n",
      "57/57 [==============================] - 0s 3ms/step - loss: 8.1857e-08 - accuracy: 1.0000\n",
      "Epoch 113/150\n",
      "57/57 [==============================] - 0s 4ms/step - loss: 7.9804e-08 - accuracy: 1.0000\n",
      "Epoch 114/150\n",
      "57/57 [==============================] - 0s 3ms/step - loss: 7.7950e-08 - accuracy: 1.0000\n",
      "Epoch 115/150\n",
      "57/57 [==============================] - 0s 3ms/step - loss: 7.6029e-08 - accuracy: 1.0000\n",
      "Epoch 116/150\n",
      "57/57 [==============================] - 0s 3ms/step - loss: 7.4042e-08 - accuracy: 1.0000\n",
      "Epoch 117/150\n",
      "57/57 [==============================] - 0s 3ms/step - loss: 7.2254e-08 - accuracy: 1.0000\n",
      "Epoch 118/150\n",
      "57/57 [==============================] - 0s 3ms/step - loss: 7.0929e-08 - accuracy: 1.0000\n",
      "Epoch 119/150\n",
      "57/57 [==============================] - 0s 3ms/step - loss: 6.8082e-08 - accuracy: 1.0000\n",
      "Epoch 120/150\n",
      "57/57 [==============================] - 0s 3ms/step - loss: 6.6890e-08 - accuracy: 1.0000\n",
      "Epoch 121/150\n",
      "57/57 [==============================] - 0s 3ms/step - loss: 6.4439e-08 - accuracy: 1.0000\n",
      "Epoch 122/150\n",
      "57/57 [==============================] - 0s 3ms/step - loss: 6.3048e-08 - accuracy: 1.0000\n",
      "Epoch 123/150\n",
      "57/57 [==============================] - 0s 3ms/step - loss: 6.1194e-08 - accuracy: 1.0000\n",
      "Epoch 124/150\n",
      "57/57 [==============================] - 0s 3ms/step - loss: 5.9936e-08 - accuracy: 1.0000\n",
      "Epoch 125/150\n",
      "57/57 [==============================] - 0s 3ms/step - loss: 5.8015e-08 - accuracy: 1.0000\n",
      "Epoch 126/150\n",
      "57/57 [==============================] - 0s 3ms/step - loss: 5.6955e-08 - accuracy: 1.0000\n",
      "Epoch 127/150\n",
      "57/57 [==============================] - 0s 3ms/step - loss: 5.5101e-08 - accuracy: 1.0000\n",
      "Epoch 128/150\n",
      "57/57 [==============================] - 0s 3ms/step - loss: 5.3777e-08 - accuracy: 1.0000\n",
      "Epoch 129/150\n",
      "57/57 [==============================] - 0s 3ms/step - loss: 5.2916e-08 - accuracy: 1.0000\n",
      "Epoch 130/150\n",
      "57/57 [==============================] - 0s 3ms/step - loss: 5.1392e-08 - accuracy: 1.0000\n",
      "Epoch 131/150\n",
      "57/57 [==============================] - 0s 3ms/step - loss: 4.9803e-08 - accuracy: 1.0000\n",
      "Epoch 132/150\n",
      "57/57 [==============================] - 0s 3ms/step - loss: 4.8611e-08 - accuracy: 1.0000\n",
      "Epoch 133/150\n",
      "57/57 [==============================] - 0s 3ms/step - loss: 4.7949e-08 - accuracy: 1.0000\n",
      "Epoch 134/150\n",
      "57/57 [==============================] - 0s 3ms/step - loss: 4.6160e-08 - accuracy: 1.0000\n",
      "Epoch 135/150\n",
      "57/57 [==============================] - 0s 3ms/step - loss: 4.5167e-08 - accuracy: 1.0000\n",
      "Epoch 136/150\n",
      "57/57 [==============================] - 0s 3ms/step - loss: 4.3842e-08 - accuracy: 1.0000\n",
      "Epoch 137/150\n",
      "57/57 [==============================] - 0s 3ms/step - loss: 4.3445e-08 - accuracy: 1.0000\n",
      "Epoch 138/150\n",
      "57/57 [==============================] - 0s 3ms/step - loss: 4.1392e-08 - accuracy: 1.0000\n",
      "Epoch 139/150\n",
      "57/57 [==============================] - 0s 3ms/step - loss: 4.0531e-08 - accuracy: 1.0000\n",
      "Epoch 140/150\n",
      "57/57 [==============================] - 0s 3ms/step - loss: 3.9670e-08 - accuracy: 1.0000\n",
      "Epoch 141/150\n",
      "57/57 [==============================] - 0s 3ms/step - loss: 3.9008e-08 - accuracy: 1.0000\n",
      "Epoch 142/150\n",
      "57/57 [==============================] - 0s 3ms/step - loss: 3.7816e-08 - accuracy: 1.0000\n",
      "Epoch 143/150\n",
      "57/57 [==============================] - 0s 3ms/step - loss: 3.7154e-08 - accuracy: 1.0000\n",
      "Epoch 144/150\n",
      "57/57 [==============================] - 0s 3ms/step - loss: 3.5697e-08 - accuracy: 1.0000\n",
      "Epoch 145/150\n",
      "57/57 [==============================] - 0s 3ms/step - loss: 3.5100e-08 - accuracy: 1.0000\n",
      "Epoch 146/150\n",
      "57/57 [==============================] - 0s 3ms/step - loss: 3.4504e-08 - accuracy: 1.0000\n",
      "Epoch 147/150\n",
      "57/57 [==============================] - 0s 3ms/step - loss: 3.2981e-08 - accuracy: 1.0000\n",
      "Epoch 148/150\n",
      "57/57 [==============================] - 0s 3ms/step - loss: 3.2385e-08 - accuracy: 1.0000\n",
      "Epoch 149/150\n",
      "57/57 [==============================] - 0s 3ms/step - loss: 3.1326e-08 - accuracy: 1.0000\n",
      "Epoch 150/150\n",
      "57/57 [==============================] - 0s 3ms/step - loss: 3.0531e-08 - accuracy: 1.0000\n"
     ]
    },
    {
     "data": {
      "text/plain": [
       "<tensorflow.python.keras.callbacks.History at 0x7f84520b4ad0>"
      ]
     },
     "execution_count": 62,
     "metadata": {},
     "output_type": "execute_result"
    }
   ],
   "source": [
    "model2.compile(optimizer='adam',\n",
    "             loss='sparse_categorical_crossentropy',\n",
    "             metrics=['accuracy'])\n",
    "\n",
    "model2.fit(x_train_reshaped, y_train, epochs=150) #학습횟수 증가 (10 -> 150)"
   ]
  },
  {
   "cell_type": "code",
   "execution_count": 63,
   "metadata": {},
   "outputs": [
    {
     "name": "stdout",
     "output_type": "stream",
     "text": [
      "10/10 - 0s - loss: 4.7287 - accuracy: 0.6000\n",
      "test_loss: 4.728729724884033 \n",
      "test_accuracy: 0.6000000238418579\n"
     ]
    }
   ],
   "source": [
    "test_loss, test_accuracy = model2.evaluate(x_test_reshaped,y_test, verbose=2)\n",
    "print(\"test_loss: {} \".format(test_loss))\n",
    "print(\"test_accuracy: {}\".format(test_accuracy))"
   ]
  },
  {
   "cell_type": "markdown",
   "metadata": {},
   "source": [
    "## v1의 적중률 33.3%와 비교했을때 적중률이 28.7% 향상되었다."
   ]
  },
  {
   "cell_type": "markdown",
   "metadata": {},
   "source": [
    "## 추론"
   ]
  },
  {
   "cell_type": "code",
   "execution_count": 64,
   "metadata": {},
   "outputs": [
    {
     "name": "stdout",
     "output_type": "stream",
     "text": [
      "model.predict() 결과 :  [1.6085369e-11 1.9044685e-01 8.0955309e-01]\n",
      "model이 추론한 가장 가능성이 높은 결과 :  2\n",
      "실제 데이터의 라벨 :  0\n"
     ]
    }
   ],
   "source": [
    "predicted_result_2 = model2.predict(x_test_reshaped)  # model이 추론한 확률값. \n",
    "predicted_labels_2 = np.argmax(predicted_result, axis=1)\n",
    "\n",
    "idx=0  #1번째 x_test를 살펴보자. \n",
    "print('model.predict() 결과 : ', predicted_result_2[idx])\n",
    "print('model이 추론한 가장 가능성이 높은 결과 : ', predicted_labels_2[idx])\n",
    "print('실제 데이터의 라벨 : ', y_test[idx])"
   ]
  },
  {
   "cell_type": "code",
   "execution_count": 65,
   "metadata": {
    "scrolled": true
   },
   "outputs": [
    {
     "name": "stdout",
     "output_type": "stream",
     "text": [
      "예측확률분포: [1.3486347e-04 9.9986517e-01 4.9136403e-11]\n",
      "라벨: 1, 예측결과: 2\n"
     ]
    },
    {
     "data": {
      "image/png": "[encoded data removed]",
      "text/plain": [
       "<Figure size 432x288 with 1 Axes>"
      ]
     },
     "metadata": {
      "needs_background": "light"
     },
     "output_type": "display_data"
    },
    {
     "name": "stdout",
     "output_type": "stream",
     "text": [
      "예측확률분포: [2.4771373e-04 2.1258151e-04 9.9953973e-01]\n",
      "라벨: 0, 예측결과: 2\n"
     ]
    },
    {
     "data": {
      "image/png": "[encoded data removed]",
      "text/plain": [
       "<Figure size 432x288 with 1 Axes>"
      ]
     },
     "metadata": {
      "needs_background": "light"
     },
     "output_type": "display_data"
    },
    {
     "name": "stdout",
     "output_type": "stream",
     "text": [
      "예측확률분포: [9.9997199e-01 1.3724831e-09 2.7970715e-05]\n",
      "라벨: 0, 예측결과: 2\n"
     ]
    },
    {
     "data": {
      "image/png": "[encoded data removed]",
      "text/plain": [
       "<Figure size 432x288 with 1 Axes>"
      ]
     },
     "metadata": {
      "needs_background": "light"
     },
     "output_type": "display_data"
    },
    {
     "name": "stdout",
     "output_type": "stream",
     "text": [
      "예측확률분포: [9.9997783e-01 2.2165097e-05 8.8227975e-10]\n",
      "라벨: 1, 예측결과: 2\n"
     ]
    },
    {
     "data": {
      "image/png": "[encoded data removed]",
      "text/plain": [
       "<Figure size 432x288 with 1 Axes>"
      ]
     },
     "metadata": {
      "needs_background": "light"
     },
     "output_type": "display_data"
    },
    {
     "name": "stdout",
     "output_type": "stream",
     "text": [
      "예측확률분포: [1.7222785e-08 7.0724618e-06 9.9999297e-01]\n",
      "라벨: 0, 예측결과: 2\n"
     ]
    },
    {
     "data": {
      "image/png": "[encoded data removed]",
      "text/plain": [
       "<Figure size 432x288 with 1 Axes>"
      ]
     },
     "metadata": {
      "needs_background": "light"
     },
     "output_type": "display_data"
    }
   ],
   "source": [
    "import random\n",
    "wrong_predict_list=[]\n",
    "for i, _ in enumerate(predicted_labels):\n",
    "    # i번째 test_labels과 y_test이 다른 경우만 모아 봅시다. \n",
    "    if predicted_labels_2[i] != y_test[i]:\n",
    "        wrong_predict_list.append(i)\n",
    "\n",
    "# wrong_predict_list 에서 랜덤하게 5개만 뽑아봅시다.\n",
    "samples = random.choices(population=wrong_predict_list, k=5)\n",
    "\n",
    "for n in samples:\n",
    "    print(\"예측확률분포: \" + str(predicted_result_2[n]))\n",
    "    print(\"라벨: \" + str(y_test[n]) + \", 예측결과: \" + str(predicted_labels_2[n]))\n",
    "    plt.imshow(x_test[n], cmap=plt.cm.binary)\n",
    "    plt.show()"
   ]
  },
  {
   "cell_type": "markdown",
   "metadata": {},
   "source": [
    "# 회고"
   ]
  },
  {
   "cell_type": "markdown",
   "metadata": {},
   "source": [
    "'''\n",
    "#### 1. 첫번째 프로젝트였는데 제법 난이도가 있다고 느껴졌다. \n",
    "#### 2. LMS Exp1 노드에서 테스트셋을 구성하는 법을 알려주는 가이드가 없어 좀 애를 먹었었다. (테스트셋 구성법은 Exp2에서 나왔다...) \n",
    "#### 결국 기존 학습 데이터 load 함수를 살짝 응용하여 테스트 데이터 load 함수를 만들고 다른분의 사진을 전처리하여 테스트셋 구성을 하였다.\n",
    "#### 3. 첫 모델에서 적중률 33.3%가 나왔을때 어이가 없었다. 아무리 깡통 AI여도 그렇지 찍는것과 다름없는 적중률을 보여주다니...\n",
    "#### 4. 적중률을 높이기위해 데이터양을 늘려보기도하고, Hyper-parameter (Dense, Conv2d)를 이리저리 조정해봤다. \n",
    "#### 5. Dense, Conv2d값을 어떤식으로 조정하면 좋을지 궁리하다가 손글씨 데이터에 비해 가위바위보 데이터는 더욱 복잡한 이미지라는것을 고려하여 Conv2d 값을 대폭 상향시켰더니 비약적으로 상승된 적중률을 보여줬다\n",
    "#### 6. 이렇게 간단한 머신을 만들어보는데도 낑낑거렸는데 앞으로 배워야할게 참으로 많다는것이 새삼 느껴진다."
   ]
  }
 ],
 "metadata": {
  "kernelspec": {
   "display_name": "aiffel",
   "language": "python",
   "name": "aiffel"
  },
  "language_info": {
   "codemirror_mode": {
    "name": "ipython",
    "version": 3
   },
   "file_extension": ".py",
   "mimetype": "text/x-python",
   "name": "python",
   "nbconvert_exporter": "python",
   "pygments_lexer": "ipython3",
   "version": "3.7.9"
  }
 },
 "nbformat": 4,
 "nbformat_minor": 4
}
