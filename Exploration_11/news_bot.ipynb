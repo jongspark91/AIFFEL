{
 "cells": [
  {
   "cell_type": "markdown",
   "id": "champion-deposit",
   "metadata": {},
   "source": [
    "# News Summarization bot"
   ]
  },
  {
   "cell_type": "markdown",
   "id": "vulnerable-ethics",
   "metadata": {},
   "source": [
    "# Imports"
   ]
  },
  {
   "cell_type": "code",
   "execution_count": 1,
   "id": "severe-consciousness",
   "metadata": {},
   "outputs": [
    {
     "name": "stderr",
     "output_type": "stream",
     "text": [
      "[nltk_data] Downloading package stopwords to /home/aiffel-\n",
      "[nltk_data]     dj53/nltk_data...\n",
      "[nltk_data]   Package stopwords is already up-to-date!\n"
     ]
    }
   ],
   "source": [
    "import nltk\n",
    "nltk.download('stopwords')\n",
    "\n",
    "import numpy as np\n",
    "import pandas as pd\n",
    "import os\n",
    "import re\n",
    "import matplotlib.pyplot as plt\n",
    "from nltk.corpus import stopwords\n",
    "from bs4 import BeautifulSoup \n",
    "from tensorflow.keras.preprocessing.text import Tokenizer \n",
    "from tensorflow.keras.preprocessing.sequence import pad_sequences\n",
    "import urllib.request"
   ]
  },
  {
   "cell_type": "markdown",
   "id": "naked-short",
   "metadata": {},
   "source": [
    "# 데이터 지정"
   ]
  },
  {
   "cell_type": "code",
   "execution_count": 92,
   "id": "permanent-negative",
   "metadata": {},
   "outputs": [],
   "source": [
    "import urllib.request\n",
    "urllib.request.urlretrieve(\"https://raw.githubusercontent.com/sunnysai12345/News_Summary/master/news_summary_more.csv\", filename=\"news_summary_more.csv\")\n",
    "data = pd.read_csv('news_summary_more.csv', encoding='iso-8859-1')"
   ]
  },
  {
   "cell_type": "code",
   "execution_count": 93,
   "id": "increased-phase",
   "metadata": {
    "scrolled": false
   },
   "outputs": [
    {
     "data": {
      "text/html": [
       "<div>\n",
       "<style scoped>\n",
       "    .dataframe tbody tr th:only-of-type {\n",
       "        vertical-align: middle;\n",
       "    }\n",
       "\n",
       "    .dataframe tbody tr th {\n",
       "        vertical-align: top;\n",
       "    }\n",
       "\n",
       "    .dataframe thead th {\n",
       "        text-align: right;\n",
       "    }\n",
       "</style>\n",
       "<table border=\"1\" class=\"dataframe\">\n",
       "  <thead>\n",
       "    <tr style=\"text-align: right;\">\n",
       "      <th></th>\n",
       "      <th>headlines</th>\n",
       "      <th>text</th>\n",
       "    </tr>\n",
       "  </thead>\n",
       "  <tbody>\n",
       "    <tr>\n",
       "      <th>23488</th>\n",
       "      <td>60 kids fall ill after drinking contaminated w...</td>\n",
       "      <td>At least 60 students fell ill on Tuesday after...</td>\n",
       "    </tr>\n",
       "    <tr>\n",
       "      <th>1677</th>\n",
       "      <td>Federer wins his 100th match at Aus Open's Rod...</td>\n",
       "      <td>Six-time Australian Open champion Roger Federe...</td>\n",
       "    </tr>\n",
       "    <tr>\n",
       "      <th>90042</th>\n",
       "      <td>Phishing scams cost American businesses $500 m...</td>\n",
       "      <td>Phishing attacks in which the criminals target...</td>\n",
       "    </tr>\n",
       "    <tr>\n",
       "      <th>97809</th>\n",
       "      <td>Company lets people hire fake friends to pose ...</td>\n",
       "      <td>Japanese company 'Family Romance' has announce...</td>\n",
       "    </tr>\n",
       "    <tr>\n",
       "      <th>28218</th>\n",
       "      <td>Mumbai-based delivery startup WOW Express rais...</td>\n",
       "      <td>E-commerce logistics startup WOW Express has r...</td>\n",
       "    </tr>\n",
       "    <tr>\n",
       "      <th>45657</th>\n",
       "      <td>Kuldeep perfect role model for a son I'd want:...</td>\n",
       "      <td>Australian spinner Brad Hogg, who is also Indi...</td>\n",
       "    </tr>\n",
       "    <tr>\n",
       "      <th>96427</th>\n",
       "      <td>Pakistan's 'last Jew' recognised by the govern...</td>\n",
       "      <td>Fishel Benkhald, a 29-year-old activist who is...</td>\n",
       "    </tr>\n",
       "    <tr>\n",
       "      <th>63646</th>\n",
       "      <td>Linkin Park debuts new song in honour of Chest...</td>\n",
       "      <td>American rock band Linkin Park debuted its new...</td>\n",
       "    </tr>\n",
       "    <tr>\n",
       "      <th>14984</th>\n",
       "      <td>Agli Party Kidhar Hai?: Anushka on travelling ...</td>\n",
       "      <td>Cox &amp; Kings in its latest TVC ties up with Anu...</td>\n",
       "    </tr>\n",
       "    <tr>\n",
       "      <th>85240</th>\n",
       "      <td>Oxygen shortage grounds world's most expensive...</td>\n",
       "      <td>US Air Force has indefinitely grounded a fleet...</td>\n",
       "    </tr>\n",
       "  </tbody>\n",
       "</table>\n",
       "</div>"
      ],
      "text/plain": [
       "                                               headlines  \\\n",
       "23488  60 kids fall ill after drinking contaminated w...   \n",
       "1677   Federer wins his 100th match at Aus Open's Rod...   \n",
       "90042  Phishing scams cost American businesses $500 m...   \n",
       "97809  Company lets people hire fake friends to pose ...   \n",
       "28218  Mumbai-based delivery startup WOW Express rais...   \n",
       "45657  Kuldeep perfect role model for a son I'd want:...   \n",
       "96427  Pakistan's 'last Jew' recognised by the govern...   \n",
       "63646  Linkin Park debuts new song in honour of Chest...   \n",
       "14984  Agli Party Kidhar Hai?: Anushka on travelling ...   \n",
       "85240  Oxygen shortage grounds world's most expensive...   \n",
       "\n",
       "                                                    text  \n",
       "23488  At least 60 students fell ill on Tuesday after...  \n",
       "1677   Six-time Australian Open champion Roger Federe...  \n",
       "90042  Phishing attacks in which the criminals target...  \n",
       "97809  Japanese company 'Family Romance' has announce...  \n",
       "28218  E-commerce logistics startup WOW Express has r...  \n",
       "45657  Australian spinner Brad Hogg, who is also Indi...  \n",
       "96427  Fishel Benkhald, a 29-year-old activist who is...  \n",
       "63646  American rock band Linkin Park debuted its new...  \n",
       "14984  Cox & Kings in its latest TVC ties up with Anu...  \n",
       "85240  US Air Force has indefinitely grounded a fleet...  "
      ]
     },
     "execution_count": 93,
     "metadata": {},
     "output_type": "execute_result"
    }
   ],
   "source": [
    "data.sample(10)"
   ]
  },
  {
   "cell_type": "markdown",
   "id": "occasional-saskatchewan",
   "metadata": {},
   "source": [
    "# 1. Data Pre-Processing"
   ]
  },
  {
   "cell_type": "code",
   "execution_count": 94,
   "id": "accredited-replacement",
   "metadata": {},
   "outputs": [
    {
     "name": "stdout",
     "output_type": "stream",
     "text": [
      "Text 열에서 중복을 배제한 유일한 샘플의 수 : 98360\n",
      "headlines 열에서 중복을 배제한 유일한 샘플의 수 : 98280\n"
     ]
    }
   ],
   "source": [
    "print('Text 열에서 중복을 배제한 유일한 샘플의 수 :', data['text'].nunique())\n",
    "print('headlines 열에서 중복을 배제한 유일한 샘플의 수 :', data['headlines'].nunique())"
   ]
  },
  {
   "cell_type": "code",
   "execution_count": 95,
   "id": "english-earthquake",
   "metadata": {},
   "outputs": [
    {
     "name": "stdout",
     "output_type": "stream",
     "text": [
      "전체 샘플수 : 98360\n"
     ]
    }
   ],
   "source": [
    "data.drop_duplicates(subset = ['text'], inplace = True)\n",
    "print('전체 샘플수 :',(len(data)))"
   ]
  },
  {
   "cell_type": "code",
   "execution_count": 96,
   "id": "artistic-bunny",
   "metadata": {},
   "outputs": [
    {
     "name": "stdout",
     "output_type": "stream",
     "text": [
      "headlines    0\n",
      "text         0\n",
      "dtype: int64\n"
     ]
    }
   ],
   "source": [
    "print(data.isnull().sum())"
   ]
  },
  {
   "cell_type": "markdown",
   "id": "preliminary-jacksonville",
   "metadata": {},
   "source": [
    "## 정규화와 불용어 제거"
   ]
  },
  {
   "cell_type": "code",
   "execution_count": 97,
   "id": "minus-appreciation",
   "metadata": {},
   "outputs": [
    {
     "name": "stdout",
     "output_type": "stream",
     "text": [
      "정규화 사전의 수:  120\n"
     ]
    }
   ],
   "source": [
    "contractions = {\"ain't\": \"is not\", \"aren't\": \"are not\",\"can't\": \"cannot\", \"'cause\": \"because\", \"could've\": \"could have\", \"couldn't\": \"could not\",\n",
    "                           \"didn't\": \"did not\",  \"doesn't\": \"does not\", \"don't\": \"do not\", \"hadn't\": \"had not\", \"hasn't\": \"has not\", \"haven't\": \"have not\",\n",
    "                           \"he'd\": \"he would\",\"he'll\": \"he will\", \"he's\": \"he is\", \"how'd\": \"how did\", \"how'd'y\": \"how do you\", \"how'll\": \"how will\", \"how's\": \"how is\",\n",
    "                           \"I'd\": \"I would\", \"I'd've\": \"I would have\", \"I'll\": \"I will\", \"I'll've\": \"I will have\",\"I'm\": \"I am\", \"I've\": \"I have\", \"i'd\": \"i would\",\n",
    "                           \"i'd've\": \"i would have\", \"i'll\": \"i will\",  \"i'll've\": \"i will have\",\"i'm\": \"i am\", \"i've\": \"i have\", \"isn't\": \"is not\", \"it'd\": \"it would\",\n",
    "                           \"it'd've\": \"it would have\", \"it'll\": \"it will\", \"it'll've\": \"it will have\",\"it's\": \"it is\", \"let's\": \"let us\", \"ma'am\": \"madam\",\n",
    "                           \"mayn't\": \"may not\", \"might've\": \"might have\",\"mightn't\": \"might not\",\"mightn't've\": \"might not have\", \"must've\": \"must have\",\n",
    "                           \"mustn't\": \"must not\", \"mustn't've\": \"must not have\", \"needn't\": \"need not\", \"needn't've\": \"need not have\",\"o'clock\": \"of the clock\",\n",
    "                           \"oughtn't\": \"ought not\", \"oughtn't've\": \"ought not have\", \"shan't\": \"shall not\", \"sha'n't\": \"shall not\", \"shan't've\": \"shall not have\",\n",
    "                           \"she'd\": \"she would\", \"she'd've\": \"she would have\", \"she'll\": \"she will\", \"she'll've\": \"she will have\", \"she's\": \"she is\",\n",
    "                           \"should've\": \"should have\", \"shouldn't\": \"should not\", \"shouldn't've\": \"should not have\", \"so've\": \"so have\",\"so's\": \"so as\",\n",
    "                           \"this's\": \"this is\",\"that'd\": \"that would\", \"that'd've\": \"that would have\", \"that's\": \"that is\", \"there'd\": \"there would\",\n",
    "                           \"there'd've\": \"there would have\", \"there's\": \"there is\", \"here's\": \"here is\",\"they'd\": \"they would\", \"they'd've\": \"they would have\",\n",
    "                           \"they'll\": \"they will\", \"they'll've\": \"they will have\", \"they're\": \"they are\", \"they've\": \"they have\", \"to've\": \"to have\",\n",
    "                           \"wasn't\": \"was not\", \"we'd\": \"we would\", \"we'd've\": \"we would have\", \"we'll\": \"we will\", \"we'll've\": \"we will have\", \"we're\": \"we are\",\n",
    "                           \"we've\": \"we have\", \"weren't\": \"were not\", \"what'll\": \"what will\", \"what'll've\": \"what will have\", \"what're\": \"what are\",\n",
    "                           \"what's\": \"what is\", \"what've\": \"what have\", \"when's\": \"when is\", \"when've\": \"when have\", \"where'd\": \"where did\", \"where's\": \"where is\",\n",
    "                           \"where've\": \"where have\", \"who'll\": \"who will\", \"who'll've\": \"who will have\", \"who's\": \"who is\", \"who've\": \"who have\",\n",
    "                           \"why's\": \"why is\", \"why've\": \"why have\", \"will've\": \"will have\", \"won't\": \"will not\", \"won't've\": \"will not have\",\n",
    "                           \"would've\": \"would have\", \"wouldn't\": \"would not\", \"wouldn't've\": \"would not have\", \"y'all\": \"you all\",\n",
    "                           \"y'all'd\": \"you all would\",\"y'all'd've\": \"you all would have\",\"y'all're\": \"you all are\",\"y'all've\": \"you all have\",\n",
    "                           \"you'd\": \"you would\", \"you'd've\": \"you would have\", \"you'll\": \"you will\", \"you'll've\": \"you will have\",\n",
    "                           \"you're\": \"you are\", \"you've\": \"you have\"}\n",
    "\n",
    "print(\"정규화 사전의 수: \",len(contractions))"
   ]
  },
  {
   "cell_type": "code",
   "execution_count": 98,
   "id": "upset-gamma",
   "metadata": {},
   "outputs": [
    {
     "name": "stdout",
     "output_type": "stream",
     "text": [
      "불용어 개수 : 179\n",
      "['i', 'me', 'my', 'myself', 'we', 'our', 'ours', 'ourselves', 'you', \"you're\", \"you've\", \"you'll\", \"you'd\", 'your', 'yours', 'yourself', 'yourselves', 'he', 'him', 'his', 'himself', 'she', \"she's\", 'her', 'hers', 'herself', 'it', \"it's\", 'its', 'itself', 'they', 'them', 'their', 'theirs', 'themselves', 'what', 'which', 'who', 'whom', 'this', 'that', \"that'll\", 'these', 'those', 'am', 'is', 'are', 'was', 'were', 'be', 'been', 'being', 'have', 'has', 'had', 'having', 'do', 'does', 'did', 'doing', 'a', 'an', 'the', 'and', 'but', 'if', 'or', 'because', 'as', 'until', 'while', 'of', 'at', 'by', 'for', 'with', 'about', 'against', 'between', 'into', 'through', 'during', 'before', 'after', 'above', 'below', 'to', 'from', 'up', 'down', 'in', 'out', 'on', 'off', 'over', 'under', 'again', 'further', 'then', 'once', 'here', 'there', 'when', 'where', 'why', 'how', 'all', 'any', 'both', 'each', 'few', 'more', 'most', 'other', 'some', 'such', 'no', 'nor', 'not', 'only', 'own', 'same', 'so', 'than', 'too', 'very', 's', 't', 'can', 'will', 'just', 'don', \"don't\", 'should', \"should've\", 'now', 'd', 'll', 'm', 'o', 're', 've', 'y', 'ain', 'aren', \"aren't\", 'couldn', \"couldn't\", 'didn', \"didn't\", 'doesn', \"doesn't\", 'hadn', \"hadn't\", 'hasn', \"hasn't\", 'haven', \"haven't\", 'isn', \"isn't\", 'ma', 'mightn', \"mightn't\", 'mustn', \"mustn't\", 'needn', \"needn't\", 'shan', \"shan't\", 'shouldn', \"shouldn't\", 'wasn', \"wasn't\", 'weren', \"weren't\", 'won', \"won't\", 'wouldn', \"wouldn't\"]\n"
     ]
    }
   ],
   "source": [
    "print('불용어 개수 :', len(stopwords.words('english') ))\n",
    "print(stopwords.words('english'))"
   ]
  },
  {
   "cell_type": "code",
   "execution_count": 99,
   "id": "marked-copying",
   "metadata": {},
   "outputs": [],
   "source": [
    "#데이터 전처리 함수\n",
    "def preprocess_sentence(sentence, remove_stopwords=True):\n",
    "    sentence = sentence.lower() # 텍스트 소문자화\n",
    "    sentence = BeautifulSoup(sentence, \"lxml\").text # <br />, <a href = ...> 등의 html 태그 제거\n",
    "    sentence = re.sub(r'\\([^)]*\\)', '', sentence) # 괄호로 닫힌 문자열 (...) 제거 Ex) my husband (and myself!) for => my husband for\n",
    "    sentence = re.sub('\"','', sentence) # 쌍따옴표 \" 제거\n",
    "    sentence = ' '.join([contractions[t] if t in contractions else t for t in sentence.split(\" \")]) # 약어 정규화\n",
    "    sentence = re.sub(r\"'s\\b\",\"\",sentence) # 소유격 제거. Ex) roland's -> roland\n",
    "    sentence = re.sub(\"[^a-zA-Z]\", \" \", sentence) # 영어 외 문자(숫자, 특수문자 등) 공백으로 변환\n",
    "    sentence = re.sub('[m]{2,}', 'mm', sentence) # m이 3개 이상이면 2개로 변경. Ex) ummmmmmm yeah -> umm yeah\n",
    "    \n",
    "    # 불용어 제거 (Text)\n",
    "    if remove_stopwords:\n",
    "        tokens = ' '.join(word for word in sentence.split() if not word in stopwords.words('english') if len(word) > 1)\n",
    "    # 불용어 미제거 (Summary)\n",
    "    else:\n",
    "        tokens = ' '.join(word for word in sentence.split() if len(word) > 1)\n",
    "    return tokens"
   ]
  },
  {
   "cell_type": "code",
   "execution_count": 100,
   "id": "plain-heart",
   "metadata": {},
   "outputs": [
    {
     "data": {
      "text/plain": [
       "['saurav kant alumnus upgrad iiit pg program machine learning artificial intelligence sr systems engineer infosys almost years work experience program upgrad degree career support helped transition data scientist tech mahindra salary hike upgrad online power learning powered lakh careers',\n",
       " 'kunal shah credit card bill payment platform cred gave users chance win free food swiggy one year pranav kaushik delhi techie bagged reward spending cred coins users get one cred coin per rupee bill paid used avail rewards brands like ixigo bookmyshow ubereats cult fit',\n",
       " 'new zealand defeated india wickets fourth odi hamilton thursday win first match five match odi series india lost international match rohit sharma captaincy consecutive victories dating back march match witnessed india getting seventh lowest total odi cricket history',\n",
       " 'aegon life iterm insurance plan customers enjoy tax benefits premiums paid save taxes plan provides life cover age years also customers options insure critical illnesses disability accidental death benefit rider life cover age years',\n",
       " 'speaking sexual harassment allegations rajkumar hirani sonam kapoor said known hirani many years true metoo movement get derailed metoo movement always believe woman case need reserve judgment added hirani accused assistant worked sanju']"
      ]
     },
     "execution_count": 100,
     "metadata": {},
     "output_type": "execute_result"
    }
   ],
   "source": [
    "clean_text = []\n",
    "\n",
    "# 전체 Text 데이터에 대한 전처리 : 10분 이상 시간이 걸릴 수 있습니다. \n",
    "for s in data['text']:\n",
    "    clean_text.append(preprocess_sentence(s))\n",
    "\n",
    "# 전처리 후 출력\n",
    "clean_text[:5]"
   ]
  },
  {
   "cell_type": "code",
   "execution_count": 101,
   "id": "cardiovascular-letter",
   "metadata": {},
   "outputs": [
    {
     "data": {
      "text/plain": [
       "['upgrad learner switches to career in ml al with salary hike',\n",
       " 'delhi techie wins free food from swiggy for one year on cred',\n",
       " 'new zealand end rohit sharma led india match winning streak',\n",
       " 'aegon life iterm insurance plan helps customers save tax',\n",
       " 'have known hirani for yrs what if metoo claims are not true sonam']"
      ]
     },
     "execution_count": 101,
     "metadata": {},
     "output_type": "execute_result"
    }
   ],
   "source": [
    "clean_summary = []\n",
    "\n",
    "# 전체 Summary 데이터에 대한 전처리 : 5분 이상 시간이 걸릴 수 있습니다. \n",
    "for s in data['headlines']:\n",
    "    clean_summary.append(preprocess_sentence(s, False))\n",
    "\n",
    "clean_summary[:5]"
   ]
  },
  {
   "cell_type": "code",
   "execution_count": 102,
   "id": "royal-disney",
   "metadata": {},
   "outputs": [],
   "source": [
    "data['text'] = clean_text\n",
    "data['headlines'] = clean_summary\n",
    "\n",
    "# 빈 값을 Null 값으로 변환\n",
    "data.replace('', np.nan, inplace=True)"
   ]
  },
  {
   "cell_type": "code",
   "execution_count": 103,
   "id": "electrical-pottery",
   "metadata": {},
   "outputs": [
    {
     "data": {
      "text/plain": [
       "headlines    0\n",
       "text         0\n",
       "dtype: int64"
      ]
     },
     "execution_count": 103,
     "metadata": {},
     "output_type": "execute_result"
    }
   ],
   "source": [
    "data.isnull().sum()"
   ]
  },
  {
   "cell_type": "markdown",
   "id": "abandoned-conversion",
   "metadata": {},
   "source": [
    "# 2. 테스트셋 분리"
   ]
  },
  {
   "cell_type": "markdown",
   "id": "proprietary-thermal",
   "metadata": {},
   "source": [
    "## 샘플 최대 길이 정하기"
   ]
  },
  {
   "cell_type": "code",
   "execution_count": 105,
   "id": "medieval-format",
   "metadata": {},
   "outputs": [
    {
     "name": "stdout",
     "output_type": "stream",
     "text": [
      "텍스트의 최소 길이 : 1\n",
      "텍스트의 최대 길이 : 60\n",
      "텍스트의 평균 길이 : 35.09968483123221\n",
      "요약의 최소 길이 : 1\n",
      "요약의 최대 길이 : 16\n",
      "요약의 평균 길이 : 9.299532330215534\n"
     ]
    },
    {
     "data": {
      "image/png": "[encoded data removed]",
      "text/plain": [
       "<Figure size 432x288 with 2 Axes>"
      ]
     },
     "metadata": {
      "needs_background": "light"
     },
     "output_type": "display_data"
    },
    {
     "data": {
      "image/png": "[encoded data removed]",
      "text/plain": [
       "<Figure size 432x288 with 1 Axes>"
      ]
     },
     "metadata": {
      "needs_background": "light"
     },
     "output_type": "display_data"
    },
    {
     "data": {
      "image/png": "[encoded data removed]",
      "text/plain": [
       "<Figure size 432x288 with 1 Axes>"
      ]
     },
     "metadata": {
      "needs_background": "light"
     },
     "output_type": "display_data"
    }
   ],
   "source": [
    "# 길이 분포 출력\n",
    "import matplotlib.pyplot as plt\n",
    "\n",
    "text_len = [len(s.split()) for s in data['text']]\n",
    "summary_len = [len(s.split()) for s in data['headlines']]\n",
    "\n",
    "print('텍스트의 최소 길이 : {}'.format(np.min(text_len)))\n",
    "print('텍스트의 최대 길이 : {}'.format(np.max(text_len)))\n",
    "print('텍스트의 평균 길이 : {}'.format(np.mean(text_len)))\n",
    "print('요약의 최소 길이 : {}'.format(np.min(summary_len)))\n",
    "print('요약의 최대 길이 : {}'.format(np.max(summary_len)))\n",
    "print('요약의 평균 길이 : {}'.format(np.mean(summary_len)))\n",
    "\n",
    "plt.subplot(1,2,1)\n",
    "plt.boxplot(summary_len)\n",
    "plt.title('Summary')\n",
    "plt.subplot(1,2,2)\n",
    "plt.boxplot(text_len)\n",
    "plt.title('text')\n",
    "plt.tight_layout()\n",
    "plt.show()\n",
    "\n",
    "plt.title('Summary')\n",
    "plt.hist(summary_len, bins = 40)\n",
    "plt.xlabel('length of samples')\n",
    "plt.ylabel('number of samples')\n",
    "plt.show()\n",
    "\n",
    "plt.title('text')\n",
    "plt.hist(text_len, bins = 40)\n",
    "plt.xlabel('length of samples')\n",
    "plt.ylabel('number of samples')\n",
    "plt.show()"
   ]
  },
  {
   "cell_type": "code",
   "execution_count": 106,
   "id": "according-fellow",
   "metadata": {},
   "outputs": [],
   "source": [
    "text_max_len = 50\n",
    "summary_max_len = 8"
   ]
  },
  {
   "cell_type": "code",
   "execution_count": 107,
   "id": "wound-lease",
   "metadata": {},
   "outputs": [],
   "source": [
    "def below_threshold_len(max_len, nested_list):\n",
    "  cnt = 0\n",
    "  for s in nested_list:\n",
    "    if(len(s.split()) <= max_len):\n",
    "        cnt = cnt + 1\n",
    "  print('전체 샘플 중 길이가 %s 이하인 샘플의 비율: %s'%(max_len, (cnt / len(nested_list))))"
   ]
  },
  {
   "cell_type": "code",
   "execution_count": 108,
   "id": "hungarian-hostel",
   "metadata": {},
   "outputs": [
    {
     "name": "stdout",
     "output_type": "stream",
     "text": [
      "전체 샘플 중 길이가 50 이하인 샘플의 비율: 0.9998576657177715\n",
      "전체 샘플 중 길이가 8 이하인 샘플의 비율: 0.2755693371289142\n"
     ]
    }
   ],
   "source": [
    "below_threshold_len(text_max_len, data['text'])\n",
    "below_threshold_len(summary_max_len,  data['headlines'])"
   ]
  },
  {
   "cell_type": "code",
   "execution_count": 109,
   "id": "supported-senior",
   "metadata": {},
   "outputs": [
    {
     "name": "stdout",
     "output_type": "stream",
     "text": [
      "전체 샘플수 : 27105\n"
     ]
    }
   ],
   "source": [
    "data = data[data['text'].apply(lambda x: len(x.split()) <= text_max_len)]\n",
    "data = data[data['headlines'].apply(lambda x: len(x.split()) <= summary_max_len)]\n",
    "print('전체 샘플수 :',(len(data)))"
   ]
  },
  {
   "cell_type": "markdown",
   "id": "iraqi-press",
   "metadata": {},
   "source": [
    "## 시작토큰과 종료토큰 추가하기"
   ]
  },
  {
   "cell_type": "code",
   "execution_count": 110,
   "id": "integrated-assets",
   "metadata": {},
   "outputs": [
    {
     "data": {
      "text/html": [
       "<div>\n",
       "<style scoped>\n",
       "    .dataframe tbody tr th:only-of-type {\n",
       "        vertical-align: middle;\n",
       "    }\n",
       "\n",
       "    .dataframe tbody tr th {\n",
       "        vertical-align: top;\n",
       "    }\n",
       "\n",
       "    .dataframe thead th {\n",
       "        text-align: right;\n",
       "    }\n",
       "</style>\n",
       "<table border=\"1\" class=\"dataframe\">\n",
       "  <thead>\n",
       "    <tr style=\"text-align: right;\">\n",
       "      <th></th>\n",
       "      <th>headlines</th>\n",
       "      <th>text</th>\n",
       "      <th>decoder_input</th>\n",
       "      <th>decoder_target</th>\n",
       "    </tr>\n",
       "  </thead>\n",
       "  <tbody>\n",
       "    <tr>\n",
       "      <th>19</th>\n",
       "      <td>odisha cm patnaik controls mining mafia union ...</td>\n",
       "      <td>union minister dharmendra pradhan wednesday cl...</td>\n",
       "      <td>sostoken odisha cm patnaik controls mining maf...</td>\n",
       "      <td>odisha cm patnaik controls mining mafia union ...</td>\n",
       "    </tr>\n",
       "    <tr>\n",
       "      <th>21</th>\n",
       "      <td>isro unveils bengaluru centre for manned space...</td>\n",
       "      <td>indian space research organisation wednesday u...</td>\n",
       "      <td>sostoken isro unveils bengaluru centre for man...</td>\n",
       "      <td>isro unveils bengaluru centre for manned space...</td>\n",
       "    </tr>\n",
       "    <tr>\n",
       "      <th>22</th>\n",
       "      <td>killed injured in saudi arabia floods</td>\n",
       "      <td>least people killed others injured saudi arabi...</td>\n",
       "      <td>sostoken killed injured in saudi arabia floods</td>\n",
       "      <td>killed injured in saudi arabia floods eostoken</td>\n",
       "    </tr>\n",
       "    <tr>\n",
       "      <th>29</th>\n",
       "      <td>seat cushions from missing plane carrying foot...</td>\n",
       "      <td>investigators searching lost plane carrying ar...</td>\n",
       "      <td>sostoken seat cushions from missing plane carr...</td>\n",
       "      <td>seat cushions from missing plane carrying foot...</td>\n",
       "    </tr>\n",
       "    <tr>\n",
       "      <th>36</th>\n",
       "      <td>agustawestland scam accused rajiv saxena extra...</td>\n",
       "      <td>agustawestland chopper scam co accused rajiv s...</td>\n",
       "      <td>sostoken agustawestland scam accused rajiv sax...</td>\n",
       "      <td>agustawestland scam accused rajiv saxena extra...</td>\n",
       "    </tr>\n",
       "  </tbody>\n",
       "</table>\n",
       "</div>"
      ],
      "text/plain": [
       "                                            headlines  \\\n",
       "19  odisha cm patnaik controls mining mafia union ...   \n",
       "21  isro unveils bengaluru centre for manned space...   \n",
       "22              killed injured in saudi arabia floods   \n",
       "29  seat cushions from missing plane carrying foot...   \n",
       "36  agustawestland scam accused rajiv saxena extra...   \n",
       "\n",
       "                                                 text  \\\n",
       "19  union minister dharmendra pradhan wednesday cl...   \n",
       "21  indian space research organisation wednesday u...   \n",
       "22  least people killed others injured saudi arabi...   \n",
       "29  investigators searching lost plane carrying ar...   \n",
       "36  agustawestland chopper scam co accused rajiv s...   \n",
       "\n",
       "                                        decoder_input  \\\n",
       "19  sostoken odisha cm patnaik controls mining maf...   \n",
       "21  sostoken isro unveils bengaluru centre for man...   \n",
       "22     sostoken killed injured in saudi arabia floods   \n",
       "29  sostoken seat cushions from missing plane carr...   \n",
       "36  sostoken agustawestland scam accused rajiv sax...   \n",
       "\n",
       "                                       decoder_target  \n",
       "19  odisha cm patnaik controls mining mafia union ...  \n",
       "21  isro unveils bengaluru centre for manned space...  \n",
       "22     killed injured in saudi arabia floods eostoken  \n",
       "29  seat cushions from missing plane carrying foot...  \n",
       "36  agustawestland scam accused rajiv saxena extra...  "
      ]
     },
     "execution_count": 110,
     "metadata": {},
     "output_type": "execute_result"
    }
   ],
   "source": [
    "#요약 데이터에는 시작 토큰과 종료 토큰을 추가한다.\n",
    "data['decoder_input'] = data['headlines'].apply(lambda x : 'sostoken '+ x)\n",
    "data['decoder_target'] = data['headlines'].apply(lambda x : x + ' eostoken')\n",
    "data.head()"
   ]
  },
  {
   "cell_type": "code",
   "execution_count": 111,
   "id": "novel-runner",
   "metadata": {},
   "outputs": [],
   "source": [
    "encoder_input = np.array(data['text']) # 인코더의 입력\n",
    "decoder_input = np.array(data['decoder_input']) # 디코더의 입력\n",
    "decoder_target = np.array(data['decoder_target']) # 디코더의 레이블"
   ]
  },
  {
   "cell_type": "code",
   "execution_count": 112,
   "id": "heard-satisfaction",
   "metadata": {},
   "outputs": [
    {
     "name": "stdout",
     "output_type": "stream",
     "text": [
      "[ 5829  9540 23521 ... 21855 15648 15826]\n"
     ]
    }
   ],
   "source": [
    "indices = np.arange(encoder_input.shape[0])\n",
    "np.random.shuffle(indices)\n",
    "print(indices)"
   ]
  },
  {
   "cell_type": "code",
   "execution_count": 113,
   "id": "ranging-lightweight",
   "metadata": {},
   "outputs": [],
   "source": [
    "encoder_input = encoder_input[indices]\n",
    "decoder_input = decoder_input[indices]\n",
    "decoder_target = decoder_target[indices]"
   ]
  },
  {
   "cell_type": "code",
   "execution_count": 114,
   "id": "affiliated-frequency",
   "metadata": {},
   "outputs": [
    {
     "name": "stdout",
     "output_type": "stream",
     "text": [
      "테스트 데이터의 수 : 5421\n"
     ]
    }
   ],
   "source": [
    "n_of_val = int(len(encoder_input)*0.2)\n",
    "print('테스트 데이터의 수 :',n_of_val)"
   ]
  },
  {
   "cell_type": "code",
   "execution_count": 115,
   "id": "coastal-elements",
   "metadata": {},
   "outputs": [
    {
     "name": "stdout",
     "output_type": "stream",
     "text": [
      "훈련 데이터의 개수 : 21684\n",
      "훈련 레이블의 개수 : 21684\n",
      "테스트 데이터의 개수 : 5421\n",
      "테스트 레이블의 개수 : 5421\n"
     ]
    }
   ],
   "source": [
    "encoder_input_train = encoder_input[:-n_of_val]\n",
    "decoder_input_train = decoder_input[:-n_of_val]\n",
    "decoder_target_train = decoder_target[:-n_of_val]\n",
    "\n",
    "encoder_input_test = encoder_input[-n_of_val:]\n",
    "decoder_input_test = decoder_input[-n_of_val:]\n",
    "decoder_target_test = decoder_target[-n_of_val:]\n",
    "\n",
    "print('훈련 데이터의 개수 :', len(encoder_input_train))\n",
    "print('훈련 레이블의 개수 :',len(decoder_input_train))\n",
    "print('테스트 데이터의 개수 :',len(encoder_input_test))\n",
    "print('테스트 레이블의 개수 :',len(decoder_input_test))\n"
   ]
  },
  {
   "cell_type": "markdown",
   "id": "signed-rider",
   "metadata": {},
   "source": [
    "# 3. 정수 인코딩"
   ]
  },
  {
   "cell_type": "code",
   "execution_count": 116,
   "id": "grateful-firewall",
   "metadata": {},
   "outputs": [],
   "source": [
    "src_tokenizer = Tokenizer() # 토크나이저 정의\n",
    "src_tokenizer.fit_on_texts(encoder_input_train) # 입력된 데이터로부터 단어 집합 생성"
   ]
  },
  {
   "cell_type": "code",
   "execution_count": 117,
   "id": "crucial-wagner",
   "metadata": {},
   "outputs": [
    {
     "name": "stdout",
     "output_type": "stream",
     "text": [
      "단어 집합(vocabulary)의 크기 : 42468\n",
      "등장 빈도가 6번 이하인 희귀 단어의 수: 30763\n",
      "단어 집합에서 희귀 단어를 제외시킬 경우의 단어 집합의 크기 11705\n",
      "단어 집합에서 희귀 단어의 비율: 72.43807101817839\n",
      "전체 등장 빈도에서 희귀 단어 등장 빈도 비율: 8.319619338047794\n"
     ]
    }
   ],
   "source": [
    "threshold = 7\n",
    "total_cnt = len(src_tokenizer.word_index) # 단어의 수\n",
    "rare_cnt = 0 # 등장 빈도수가 threshold보다 작은 단어의 개수를 카운트\n",
    "total_freq = 0 # 훈련 데이터의 전체 단어 빈도수 총 합\n",
    "rare_freq = 0 # 등장 빈도수가 threshold보다 작은 단어의 등장 빈도수의 총 합\n",
    "\n",
    "# 단어와 빈도수의 쌍(pair)을 key와 value로 받는다.\n",
    "for key, value in src_tokenizer.word_counts.items():\n",
    "    total_freq = total_freq + value\n",
    "\n",
    "    # 단어의 등장 빈도수가 threshold보다 작으면\n",
    "    if(value < threshold):\n",
    "        rare_cnt = rare_cnt + 1\n",
    "        rare_freq = rare_freq + value\n",
    "\n",
    "print('단어 집합(vocabulary)의 크기 :',total_cnt)\n",
    "print('등장 빈도가 %s번 이하인 희귀 단어의 수: %s'%(threshold - 1, rare_cnt))\n",
    "print('단어 집합에서 희귀 단어를 제외시킬 경우의 단어 집합의 크기 %s'%(total_cnt - rare_cnt))\n",
    "print(\"단어 집합에서 희귀 단어의 비율:\", (rare_cnt / total_cnt)*100)\n",
    "print(\"전체 등장 빈도에서 희귀 단어 등장 빈도 비율:\", (rare_freq / total_freq)*100)"
   ]
  },
  {
   "cell_type": "code",
   "execution_count": 118,
   "id": "stunning-armenia",
   "metadata": {},
   "outputs": [],
   "source": [
    "src_vocab = 8000\n",
    "src_tokenizer = Tokenizer(num_words = src_vocab) # 단어 집합의 크기를 8,000으로 제한\n",
    "src_tokenizer.fit_on_texts(encoder_input_train) # 단어 집합 재생성."
   ]
  },
  {
   "cell_type": "code",
   "execution_count": 119,
   "id": "limited-comparative",
   "metadata": {},
   "outputs": [
    {
     "name": "stdout",
     "output_type": "stream",
     "text": [
      "[[5, 38, 1314, 13, 1860, 516, 761, 2565, 1261, 3776, 115, 526, 2, 25, 190, 516, 22, 2478, 2986, 7035, 1261, 2600, 2100, 558, 9, 5773, 2987, 659, 517, 2641], [431, 901, 17, 3695, 4643, 3205, 1441, 10, 801, 3263, 4643, 1511, 30, 1836, 50, 475, 301, 189, 7766, 10, 151, 801, 2246, 4643, 344, 1245, 32, 431, 901, 3333, 1441, 10, 4516, 1315, 431, 3, 344, 1245], [84, 5402, 7036, 2074, 617, 492, 4771, 998, 1113, 270, 5402, 206, 2872, 110, 4914, 377, 2525, 2358, 2824, 701, 110, 6726, 4275, 357]]\n"
     ]
    }
   ],
   "source": [
    "# 텍스트 시퀀스를 정수 시퀀스로 변환\n",
    "encoder_input_train = src_tokenizer.texts_to_sequences(encoder_input_train) \n",
    "encoder_input_test = src_tokenizer.texts_to_sequences(encoder_input_test)\n",
    "\n",
    "#잘 진행되었는지 샘플 출력\n",
    "print(encoder_input_train[:3])"
   ]
  },
  {
   "cell_type": "code",
   "execution_count": 120,
   "id": "continuing-martin",
   "metadata": {},
   "outputs": [],
   "source": [
    "tar_tokenizer = Tokenizer()\n",
    "tar_tokenizer.fit_on_texts(decoder_input_train)"
   ]
  },
  {
   "cell_type": "code",
   "execution_count": 121,
   "id": "adequate-brook",
   "metadata": {},
   "outputs": [
    {
     "name": "stdout",
     "output_type": "stream",
     "text": [
      "단어 집합(vocabulary)의 크기 : 18922\n",
      "등장 빈도가 5번 이하인 희귀 단어의 수: 14284\n",
      "단어 집합에서 희귀 단어를 제외시킬 경우의 단어 집합의 크기 4638\n",
      "단어 집합에서 희귀 단어의 비율: 75.48884895888384\n",
      "전체 등장 빈도에서 희귀 단어 등장 빈도 비율: 14.183369556467843\n"
     ]
    }
   ],
   "source": [
    "threshold = 6\n",
    "total_cnt = len(tar_tokenizer.word_index) # 단어의 수\n",
    "rare_cnt = 0 # 등장 빈도수가 threshold보다 작은 단어의 개수를 카운트\n",
    "total_freq = 0 # 훈련 데이터의 전체 단어 빈도수 총 합\n",
    "rare_freq = 0 # 등장 빈도수가 threshold보다 작은 단어의 등장 빈도수의 총 합\n",
    "\n",
    "# 단어와 빈도수의 쌍(pair)을 key와 value로 받는다.\n",
    "for key, value in tar_tokenizer.word_counts.items():\n",
    "    total_freq = total_freq + value\n",
    "\n",
    "    # 단어의 등장 빈도수가 threshold보다 작으면\n",
    "    if(value < threshold):\n",
    "        rare_cnt = rare_cnt + 1\n",
    "        rare_freq = rare_freq + value\n",
    "\n",
    "print('단어 집합(vocabulary)의 크기 :',total_cnt)\n",
    "print('등장 빈도가 %s번 이하인 희귀 단어의 수: %s'%(threshold - 1, rare_cnt))\n",
    "print('단어 집합에서 희귀 단어를 제외시킬 경우의 단어 집합의 크기 %s'%(total_cnt - rare_cnt))\n",
    "print(\"단어 집합에서 희귀 단어의 비율:\", (rare_cnt / total_cnt)*100)\n",
    "print(\"전체 등장 빈도에서 희귀 단어 등장 빈도 비율:\", (rare_freq / total_freq)*100)"
   ]
  },
  {
   "cell_type": "code",
   "execution_count": 122,
   "id": "boxed-strain",
   "metadata": {},
   "outputs": [
    {
     "name": "stdout",
     "output_type": "stream",
     "text": [
      "input\n",
      "input  [[1, 23, 659, 236, 1402, 5, 1162], [1, 150, 700, 12, 3, 675], [1, 560, 16, 880, 72, 635], [1, 1068, 514, 3, 153], [1, 1114, 361, 1115, 17, 28, 602, 1163]]\n",
      "target\n",
      "decoder  [[23, 659, 236, 1402, 5, 1162, 2], [150, 700, 12, 3, 675, 2], [560, 16, 880, 72, 635, 2], [1068, 514, 3, 153, 2], [1114, 361, 1115, 17, 28, 602, 1163, 2]]\n"
     ]
    }
   ],
   "source": [
    "tar_vocab = 2000\n",
    "tar_tokenizer = Tokenizer(num_words = tar_vocab) \n",
    "tar_tokenizer.fit_on_texts(decoder_input_train)\n",
    "tar_tokenizer.fit_on_texts(decoder_target_train)\n",
    "\n",
    "# 텍스트 시퀀스를 정수 시퀀스로 변환\n",
    "decoder_input_train = tar_tokenizer.texts_to_sequences(decoder_input_train) \n",
    "decoder_target_train = tar_tokenizer.texts_to_sequences(decoder_target_train)\n",
    "decoder_input_test = tar_tokenizer.texts_to_sequences(decoder_input_test)\n",
    "decoder_target_test = tar_tokenizer.texts_to_sequences(decoder_target_test)\n",
    "\n",
    "#잘 변환되었는지 확인\n",
    "print('input')\n",
    "print('input ',decoder_input_train[:5])\n",
    "print('target')\n",
    "print('decoder ',decoder_target_train[:5])"
   ]
  },
  {
   "cell_type": "code",
   "execution_count": 123,
   "id": "steady-mirror",
   "metadata": {},
   "outputs": [
    {
     "name": "stdout",
     "output_type": "stream",
     "text": [
      "삭제할 훈련 데이터의 개수 : 10\n",
      "삭제할 테스트 데이터의 개수 : 1\n",
      "훈련 데이터의 개수 : 21674\n",
      "훈련 레이블의 개수 : 21674\n",
      "테스트 데이터의 개수 : 5420\n",
      "테스트 레이블의 개수 : 5420\n"
     ]
    }
   ],
   "source": [
    "drop_train = [index for index, sentence in enumerate(decoder_input_train) if len(sentence) == 1]\n",
    "drop_test = [index for index, sentence in enumerate(decoder_input_test) if len(sentence) == 1]\n",
    "\n",
    "print('삭제할 훈련 데이터의 개수 :',len(drop_train))\n",
    "print('삭제할 테스트 데이터의 개수 :',len(drop_test))\n",
    "\n",
    "encoder_input_train = np.delete(encoder_input_train, drop_train, axis=0)\n",
    "decoder_input_train = np.delete(decoder_input_train, drop_train, axis=0)\n",
    "decoder_target_train = np.delete(decoder_target_train, drop_train, axis=0)\n",
    "\n",
    "encoder_input_test = np.delete(encoder_input_test, drop_test, axis=0)\n",
    "decoder_input_test = np.delete(decoder_input_test, drop_test, axis=0)\n",
    "decoder_target_test = np.delete(decoder_target_test, drop_test, axis=0)\n",
    "\n",
    "print('훈련 데이터의 개수 :', len(encoder_input_train))\n",
    "print('훈련 레이블의 개수 :',len(decoder_input_train))\n",
    "print('테스트 데이터의 개수 :',len(encoder_input_test))\n",
    "print('테스트 레이블의 개수 :',len(decoder_input_test))"
   ]
  },
  {
   "cell_type": "markdown",
   "id": "narrative-penalty",
   "metadata": {},
   "source": [
    "## 패딩하기"
   ]
  },
  {
   "cell_type": "code",
   "execution_count": 124,
   "id": "powered-telling",
   "metadata": {},
   "outputs": [],
   "source": [
    "encoder_input_train = pad_sequences(encoder_input_train, maxlen = text_max_len, padding='post')\n",
    "encoder_input_test = pad_sequences(encoder_input_test, maxlen = text_max_len, padding='post')\n",
    "decoder_input_train = pad_sequences(decoder_input_train, maxlen = summary_max_len, padding='post')\n",
    "decoder_target_train = pad_sequences(decoder_target_train, maxlen = summary_max_len, padding='post')\n",
    "decoder_input_test = pad_sequences(decoder_input_test, maxlen = summary_max_len, padding='post')\n",
    "decoder_target_test = pad_sequences(decoder_target_test, maxlen = summary_max_len, padding='post')"
   ]
  },
  {
   "cell_type": "markdown",
   "id": "sound-humor",
   "metadata": {},
   "source": [
    "# 4. 모델 설계하기"
   ]
  },
  {
   "cell_type": "code",
   "execution_count": 125,
   "id": "infectious-mailing",
   "metadata": {},
   "outputs": [
    {
     "name": "stdout",
     "output_type": "stream",
     "text": [
      "WARNING:tensorflow:Layer lstm_4 will not use cuDNN kernel since it doesn't meet the cuDNN kernel criteria. It will use generic GPU kernel as fallback when running on GPU\n",
      "WARNING:tensorflow:Layer lstm_5 will not use cuDNN kernel since it doesn't meet the cuDNN kernel criteria. It will use generic GPU kernel as fallback when running on GPU\n",
      "WARNING:tensorflow:Layer lstm_6 will not use cuDNN kernel since it doesn't meet the cuDNN kernel criteria. It will use generic GPU kernel as fallback when running on GPU\n"
     ]
    }
   ],
   "source": [
    "from tensorflow.keras.layers import Input, LSTM, Embedding, Dense, Concatenate\n",
    "from tensorflow.keras.models import Model\n",
    "from tensorflow.keras.callbacks import EarlyStopping, ModelCheckpoint\n",
    "\n",
    "\n",
    "# 인코더 설계 시작\n",
    "embedding_dim = 128\n",
    "hidden_size = 256\n",
    "\n",
    "# 인코더\n",
    "encoder_inputs = Input(shape=(text_max_len,))\n",
    "\n",
    "# 인코더의 임베딩 층\n",
    "enc_emb = Embedding(src_vocab, embedding_dim)(encoder_inputs)\n",
    "\n",
    "# 인코더의 LSTM 1\n",
    "encoder_lstm1 = LSTM(hidden_size, return_sequences=True, return_state=True ,dropout = 0.4, recurrent_dropout = 0.4)\n",
    "encoder_output1, state_h1, state_c1 = encoder_lstm1(enc_emb)\n",
    "\n",
    "# 인코더의 LSTM 2\n",
    "encoder_lstm2 = LSTM(hidden_size, return_sequences=True, return_state=True, dropout=0.4, recurrent_dropout=0.4)\n",
    "encoder_output2, state_h2, state_c2 = encoder_lstm2(encoder_output1)\n",
    "\n",
    "# 인코더의 LSTM 3\n",
    "encoder_lstm3 = LSTM(hidden_size, return_state=True, return_sequences=True, dropout=0.4, recurrent_dropout=0.4)\n",
    "encoder_outputs, state_h, state_c= encoder_lstm3(encoder_output2)"
   ]
  },
  {
   "cell_type": "code",
   "execution_count": 127,
   "id": "alone-iceland",
   "metadata": {},
   "outputs": [
    {
     "name": "stdout",
     "output_type": "stream",
     "text": [
      "WARNING:tensorflow:Layer lstm_7 will not use cuDNN kernel since it doesn't meet the cuDNN kernel criteria. It will use generic GPU kernel as fallback when running on GPU\n"
     ]
    }
   ],
   "source": [
    "# 디코더 설계\n",
    "\n",
    "decoder_inputs = Input(shape=(None,))\n",
    "\n",
    "# 디코더의 임베딩 층\n",
    "dec_emb_layer = Embedding(tar_vocab, embedding_dim)\n",
    "dec_emb = dec_emb_layer(decoder_inputs)\n",
    "\n",
    "# 디코더의 LSTM\n",
    "decoder_lstm = LSTM(hidden_size, return_sequences = True, return_state = True, dropout = 0.4, recurrent_dropout=0.2)\n",
    "decoder_outputs, _, _ = decoder_lstm(dec_emb, initial_state = [state_h, state_c])"
   ]
  },
  {
   "cell_type": "code",
   "execution_count": 128,
   "id": "acting-action",
   "metadata": {},
   "outputs": [
    {
     "name": "stdout",
     "output_type": "stream",
     "text": [
      "Model: \"model_4\"\n",
      "__________________________________________________________________________________________________\n",
      "Layer (type)                    Output Shape         Param #     Connected to                     \n",
      "==================================================================================================\n",
      "input_6 (InputLayer)            [(None, 50)]         0                                            \n",
      "__________________________________________________________________________________________________\n",
      "embedding_2 (Embedding)         (None, 50, 128)      1024000     input_6[0][0]                    \n",
      "__________________________________________________________________________________________________\n",
      "lstm_4 (LSTM)                   [(None, 50, 256), (N 394240      embedding_2[0][0]                \n",
      "__________________________________________________________________________________________________\n",
      "input_7 (InputLayer)            [(None, None)]       0                                            \n",
      "__________________________________________________________________________________________________\n",
      "lstm_5 (LSTM)                   [(None, 50, 256), (N 525312      lstm_4[0][0]                     \n",
      "__________________________________________________________________________________________________\n",
      "embedding_3 (Embedding)         (None, None, 128)    256000      input_7[0][0]                    \n",
      "__________________________________________________________________________________________________\n",
      "lstm_6 (LSTM)                   [(None, 50, 256), (N 525312      lstm_5[0][0]                     \n",
      "__________________________________________________________________________________________________\n",
      "lstm_7 (LSTM)                   [(None, None, 256),  394240      embedding_3[0][0]                \n",
      "                                                                 lstm_6[0][1]                     \n",
      "                                                                 lstm_6[0][2]                     \n",
      "__________________________________________________________________________________________________\n",
      "dense_2 (Dense)                 (None, None, 2000)   514000      lstm_7[0][0]                     \n",
      "==================================================================================================\n",
      "Total params: 3,633,104\n",
      "Trainable params: 3,633,104\n",
      "Non-trainable params: 0\n",
      "__________________________________________________________________________________________________\n"
     ]
    }
   ],
   "source": [
    "# 디코더의 출력층\n",
    "decoder_softmax_layer = Dense(tar_vocab, activation = 'softmax')\n",
    "decoder_softmax_outputs = decoder_softmax_layer(decoder_outputs) \n",
    "\n",
    "# 모델 정의\n",
    "model = Model([encoder_inputs, decoder_inputs], decoder_softmax_outputs)\n",
    "model.summary()"
   ]
  },
  {
   "cell_type": "code",
   "execution_count": 129,
   "id": "jewish-storm",
   "metadata": {},
   "outputs": [],
   "source": [
    "urllib.request.urlretrieve(\"https://raw.githubusercontent.com/thushv89/attention_keras/master/src/layers/attention.py\", filename=\"attention.py\")\n",
    "from attention import AttentionLayer"
   ]
  },
  {
   "cell_type": "code",
   "execution_count": 130,
   "id": "copyrighted-kitty",
   "metadata": {},
   "outputs": [
    {
     "name": "stdout",
     "output_type": "stream",
     "text": [
      "Model: \"model_5\"\n",
      "__________________________________________________________________________________________________\n",
      "Layer (type)                    Output Shape         Param #     Connected to                     \n",
      "==================================================================================================\n",
      "input_6 (InputLayer)            [(None, 50)]         0                                            \n",
      "__________________________________________________________________________________________________\n",
      "embedding_2 (Embedding)         (None, 50, 128)      1024000     input_6[0][0]                    \n",
      "__________________________________________________________________________________________________\n",
      "lstm_4 (LSTM)                   [(None, 50, 256), (N 394240      embedding_2[0][0]                \n",
      "__________________________________________________________________________________________________\n",
      "input_7 (InputLayer)            [(None, None)]       0                                            \n",
      "__________________________________________________________________________________________________\n",
      "lstm_5 (LSTM)                   [(None, 50, 256), (N 525312      lstm_4[0][0]                     \n",
      "__________________________________________________________________________________________________\n",
      "embedding_3 (Embedding)         (None, None, 128)    256000      input_7[0][0]                    \n",
      "__________________________________________________________________________________________________\n",
      "lstm_6 (LSTM)                   [(None, 50, 256), (N 525312      lstm_5[0][0]                     \n",
      "__________________________________________________________________________________________________\n",
      "lstm_7 (LSTM)                   [(None, None, 256),  394240      embedding_3[0][0]                \n",
      "                                                                 lstm_6[0][1]                     \n",
      "                                                                 lstm_6[0][2]                     \n",
      "__________________________________________________________________________________________________\n",
      "attention_layer (AttentionLayer ((None, None, 256),  131328      lstm_6[0][0]                     \n",
      "                                                                 lstm_7[0][0]                     \n",
      "__________________________________________________________________________________________________\n",
      "concat_layer (Concatenate)      (None, None, 512)    0           lstm_7[0][0]                     \n",
      "                                                                 attention_layer[0][0]            \n",
      "__________________________________________________________________________________________________\n",
      "dense_3 (Dense)                 (None, None, 2000)   1026000     concat_layer[0][0]               \n",
      "==================================================================================================\n",
      "Total params: 4,276,432\n",
      "Trainable params: 4,276,432\n",
      "Non-trainable params: 0\n",
      "__________________________________________________________________________________________________\n"
     ]
    }
   ],
   "source": [
    "# 어텐션 층(어텐션 함수)\n",
    "attn_layer = AttentionLayer(name='attention_layer')\n",
    "# 인코더와 디코더의 모든 time step의 hidden state를 어텐션 층에 전달하고 결과를 리턴\n",
    "attn_out, attn_states = attn_layer([encoder_outputs, decoder_outputs])\n",
    "\n",
    "# 어텐션의 결과와 디코더의 hidden state들을 연결\n",
    "decoder_concat_input = Concatenate(axis = -1, name='concat_layer')([decoder_outputs, attn_out])\n",
    "\n",
    "# 디코더의 출력층\n",
    "decoder_softmax_layer = Dense(tar_vocab, activation='softmax')\n",
    "decoder_softmax_outputs = decoder_softmax_layer(decoder_concat_input)\n",
    "\n",
    "# 모델 정의\n",
    "model = Model([encoder_inputs, decoder_inputs], decoder_softmax_outputs)\n",
    "model.summary()"
   ]
  },
  {
   "cell_type": "markdown",
   "id": "apart-jurisdiction",
   "metadata": {},
   "source": [
    "# 5. 모델 학습"
   ]
  },
  {
   "cell_type": "code",
   "execution_count": 131,
   "id": "needed-portland",
   "metadata": {
    "scrolled": true
   },
   "outputs": [
    {
     "name": "stdout",
     "output_type": "stream",
     "text": [
      "Epoch 1/50\n",
      "85/85 [==============================] - 31s 369ms/step - loss: 4.9197 - val_loss: 4.5055\n",
      "Epoch 2/50\n",
      "85/85 [==============================] - 29s 344ms/step - loss: 4.4817 - val_loss: 4.3113\n",
      "Epoch 3/50\n",
      "85/85 [==============================] - 29s 342ms/step - loss: 4.3123 - val_loss: 4.1976\n",
      "Epoch 4/50\n",
      "85/85 [==============================] - 30s 355ms/step - loss: 4.1819 - val_loss: 4.0865\n",
      "Epoch 5/50\n",
      "85/85 [==============================] - 29s 345ms/step - loss: 4.0511 - val_loss: 4.0071\n",
      "Epoch 6/50\n",
      "85/85 [==============================] - 31s 364ms/step - loss: 3.9178 - val_loss: 3.8731\n",
      "Epoch 7/50\n",
      "85/85 [==============================] - 31s 368ms/step - loss: 3.7842 - val_loss: 3.8006\n",
      "Epoch 8/50\n",
      "85/85 [==============================] - 31s 360ms/step - loss: 3.6627 - val_loss: 3.7041\n",
      "Epoch 9/50\n",
      "85/85 [==============================] - 31s 364ms/step - loss: 3.5500 - val_loss: 3.6242\n",
      "Epoch 10/50\n",
      "85/85 [==============================] - 31s 366ms/step - loss: 3.4438 - val_loss: 3.5655\n",
      "Epoch 11/50\n",
      "85/85 [==============================] - 30s 352ms/step - loss: 3.3436 - val_loss: 3.5240\n",
      "Epoch 12/50\n",
      "85/85 [==============================] - 31s 366ms/step - loss: 3.2524 - val_loss: 3.4819\n",
      "Epoch 13/50\n",
      "85/85 [==============================] - 29s 344ms/step - loss: 3.1713 - val_loss: 3.4443\n",
      "Epoch 14/50\n",
      "85/85 [==============================] - 29s 343ms/step - loss: 3.0942 - val_loss: 3.4153\n",
      "Epoch 15/50\n",
      "85/85 [==============================] - 29s 342ms/step - loss: 3.0227 - val_loss: 3.4085\n",
      "Epoch 16/50\n",
      "85/85 [==============================] - 29s 343ms/step - loss: 2.9545 - val_loss: 3.3859\n",
      "Epoch 17/50\n",
      "85/85 [==============================] - 29s 343ms/step - loss: 2.8891 - val_loss: 3.3655\n",
      "Epoch 18/50\n",
      "85/85 [==============================] - 29s 342ms/step - loss: 2.8272 - val_loss: 3.3457\n",
      "Epoch 19/50\n",
      "85/85 [==============================] - 29s 341ms/step - loss: 2.7678 - val_loss: 3.3504\n",
      "Epoch 20/50\n",
      "85/85 [==============================] - 29s 342ms/step - loss: 2.7119 - val_loss: 3.3341\n",
      "Epoch 21/50\n",
      "85/85 [==============================] - 29s 342ms/step - loss: 2.6574 - val_loss: 3.3301\n",
      "Epoch 22/50\n",
      "85/85 [==============================] - 29s 342ms/step - loss: 2.6013 - val_loss: 3.3366\n",
      "Epoch 23/50\n",
      "85/85 [==============================] - 29s 342ms/step - loss: 2.5507 - val_loss: 3.3262\n",
      "Epoch 24/50\n",
      "85/85 [==============================] - 29s 342ms/step - loss: 2.5000 - val_loss: 3.3225\n",
      "Epoch 25/50\n",
      "85/85 [==============================] - 29s 341ms/step - loss: 2.4498 - val_loss: 3.3410\n",
      "Epoch 26/50\n",
      "85/85 [==============================] - 29s 341ms/step - loss: 2.4051 - val_loss: 3.3239\n",
      "Epoch 00026: early stopping\n"
     ]
    }
   ],
   "source": [
    "model.compile(optimizer='rmsprop', loss='sparse_categorical_crossentropy')\n",
    "es = EarlyStopping(monitor='val_loss', mode='min', verbose=1, patience = 2)\n",
    "history = model.fit(x = [encoder_input_train, decoder_input_train], y = decoder_target_train, \\\n",
    "          validation_data = ([encoder_input_test, decoder_input_test], decoder_target_test),\n",
    "          batch_size = 256, callbacks=[es], epochs = 50)"
   ]
  },
  {
   "cell_type": "markdown",
   "id": "unsigned-sigma",
   "metadata": {},
   "source": [
    "### ㄴ 26Epoch에서 끝이났다."
   ]
  },
  {
   "cell_type": "code",
   "execution_count": 132,
   "id": "adaptive-anthony",
   "metadata": {},
   "outputs": [
    {
     "data": {
      "image/png": "[encoded data removed]",
      "text/plain": [
       "<Figure size 432x288 with 1 Axes>"
      ]
     },
     "metadata": {
      "needs_background": "light"
     },
     "output_type": "display_data"
    }
   ],
   "source": [
    "plt.plot(history.history['loss'], label='train')\n",
    "plt.plot(history.history['val_loss'], label='test')\n",
    "plt.legend()\n",
    "plt.show()"
   ]
  },
  {
   "cell_type": "markdown",
   "id": "twelve-boxing",
   "metadata": {},
   "source": [
    "# 6. 인퍼런스 모델 구현"
   ]
  },
  {
   "cell_type": "code",
   "execution_count": 134,
   "id": "turkish-release",
   "metadata": {},
   "outputs": [],
   "source": [
    "src_index_to_word = src_tokenizer.index_word # 원문 단어 집합에서 정수 -> 단어를 얻음\n",
    "tar_word_to_index = tar_tokenizer.word_index # 요약 단어 집합에서 단어 -> 정수를 얻음\n",
    "tar_index_to_word = tar_tokenizer.index_word # 요약 단어 집합에서 정수 -> 단어를 얻음"
   ]
  },
  {
   "cell_type": "code",
   "execution_count": 135,
   "id": "loved-heather",
   "metadata": {},
   "outputs": [],
   "source": [
    "# 인코더 설계\n",
    "encoder_model = Model(inputs=encoder_inputs, outputs=[encoder_outputs, state_h, state_c])\n",
    "\n",
    "# 이전 시점의 상태들을 저장하는 텐서\n",
    "decoder_state_input_h = Input(shape=(hidden_size,))\n",
    "decoder_state_input_c = Input(shape=(hidden_size,))\n",
    "\n",
    "dec_emb2 = dec_emb_layer(decoder_inputs)\n",
    "# 문장의 다음 단어를 예측하기 위해서 초기 상태(initial_state)를 이전 시점의 상태로 사용. 이는 뒤의 함수 decode_sequence()에 구현\n",
    "# 훈련 과정에서와 달리 LSTM의 리턴하는 은닉 상태와 셀 상태인 state_h와 state_c를 버리지 않음.\n",
    "decoder_outputs2, state_h2, state_c2 = decoder_lstm(dec_emb2, initial_state=[decoder_state_input_h, decoder_state_input_c])"
   ]
  },
  {
   "cell_type": "code",
   "execution_count": 136,
   "id": "wicked-aluminum",
   "metadata": {},
   "outputs": [],
   "source": [
    "# 어텐션 함수\n",
    "decoder_hidden_state_input = Input(shape=(text_max_len, hidden_size))\n",
    "attn_out_inf, attn_states_inf = attn_layer([decoder_hidden_state_input, decoder_outputs2])\n",
    "decoder_inf_concat = Concatenate(axis=-1, name='concat')([decoder_outputs2, attn_out_inf])\n",
    "\n",
    "# 디코더의 출력층\n",
    "decoder_outputs2 = decoder_softmax_layer(decoder_inf_concat) \n",
    "\n",
    "# 최종 디코더 모델\n",
    "decoder_model = Model(\n",
    "    [decoder_inputs] + [decoder_hidden_state_input,decoder_state_input_h, decoder_state_input_c],\n",
    "    [decoder_outputs2] + [state_h2, state_c2])"
   ]
  },
  {
   "cell_type": "code",
   "execution_count": 137,
   "id": "centered-retention",
   "metadata": {},
   "outputs": [],
   "source": [
    "def decode_sequence(input_seq):\n",
    "    # 입력으로부터 인코더의 상태를 얻음\n",
    "    e_out, e_h, e_c = encoder_model.predict(input_seq)\n",
    "\n",
    "     # <SOS>에 해당하는 토큰 생성\n",
    "    target_seq = np.zeros((1,1))\n",
    "    target_seq[0, 0] = tar_word_to_index['sostoken']\n",
    "\n",
    "    stop_condition = False\n",
    "    decoded_sentence = ''\n",
    "    while not stop_condition: # stop_condition이 True가 될 때까지 루프 반복\n",
    "\n",
    "        output_tokens, h, c = decoder_model.predict([target_seq] + [e_out, e_h, e_c])\n",
    "        sampled_token_index = np.argmax(output_tokens[0, -1, :])\n",
    "        sampled_token = tar_index_to_word[sampled_token_index]\n",
    "\n",
    "        if(sampled_token!='eostoken'):\n",
    "            decoded_sentence += ' '+sampled_token\n",
    "\n",
    "        #  <eos>에 도달하거나 최대 길이를 넘으면 중단.\n",
    "        if (sampled_token == 'eostoken'  or len(decoded_sentence.split()) >= (summary_max_len-1)):\n",
    "            stop_condition = True\n",
    "\n",
    "        # 길이가 1인 타겟 시퀀스를 업데이트\n",
    "        target_seq = np.zeros((1,1))\n",
    "        target_seq[0, 0] = sampled_token_index\n",
    "\n",
    "        # 상태를 업데이트 합니다.\n",
    "        e_h, e_c = h, c\n",
    "\n",
    "    return decoded_sentence"
   ]
  },
  {
   "cell_type": "markdown",
   "id": "removed-security",
   "metadata": {},
   "source": [
    "# 7. 모델 테스트"
   ]
  },
  {
   "cell_type": "code",
   "execution_count": 138,
   "id": "decreased-bleeding",
   "metadata": {},
   "outputs": [],
   "source": [
    "# 원문의 정수 시퀀스를 텍스트 시퀀스로 변환\n",
    "def seq2text(input_seq):\n",
    "    temp=''\n",
    "    for i in input_seq:\n",
    "        if(i!=0):\n",
    "            temp = temp + src_index_to_word[i]+' '\n",
    "    return temp\n",
    "\n",
    "# 요약문의 정수 시퀀스를 텍스트 시퀀스로 변환\n",
    "def seq2summary(input_seq):\n",
    "    temp=''\n",
    "    for i in input_seq:\n",
    "        if((i!=0 and i!=tar_word_to_index['sostoken']) and i!=tar_word_to_index['eostoken']):\n",
    "            temp = temp + tar_index_to_word[i] + ' '\n",
    "    return temp"
   ]
  },
  {
   "cell_type": "code",
   "execution_count": 139,
   "id": "appointed-dublin",
   "metadata": {},
   "outputs": [
    {
     "name": "stdout",
     "output_type": "stream",
     "text": [
      "원문 : year old daughter president photographed taking selfies father talking united nations general assembly alleged war sitting audience recording father speech posed selfies shocked surprised face \n",
      "실제 요약 : prez talks on daughter takes \n",
      "예측 요약 :  veteran actress passes away at\n",
      "\n",
      "\n",
      "원문 : condemning statement made former prime minister nawaz sharif mumbai attacks pakistan national security committee called completely false misleading committee reportedly said delay conclusion mumbai attacks case caused india sharif said militant organisations based pakistan responsible mumbai terror attacks \n",
      "실제 요약 : sharif false pak security body \n",
      "예측 요약 :  pm modi meets fishermen of\n",
      "\n",
      "\n",
      "원문 : crpf allegedly committed suicide shooting service rifle jammu kashmir reasons suicide ascertained case registered incident police said comes day crpf jawan committed suicide hanging ceiling fan blamed wife note \n",
      "실제 요약 : crpf himself with service in \n",
      "예측 요약 :  police constable shot dead in\n",
      "\n",
      "\n",
      "원문 : indian contingent world para athletics championship ended campaign five medals london sunday india five medals included gold two silver two bronze medals helped nation finish joint nd place notably india represented para athletes including five women \n",
      "실제 요약 : india end world championship with \n",
      "예측 요약 :  india wins world championship at\n",
      "\n",
      "\n",
      "원문 : venezuela barred juan declared interim president leaving country bank accounts prohibited leaving caused harm peace republic president venezuela supreme tribunal justice said came us gave right control venezuela bank accounts us \n",
      "실제 요약 : venezuela bars self declared president from country \n",
      "예측 요약 :  venezuela to russian election\n",
      "\n",
      "\n",
      "원문 : data collected spacecraft nasa deliberately crashed saturn atmosphere september show planet rings block radiation sun rings reduce regions covered saturn could also explained wind magnetic field interactions rings said \n",
      "실제 요약 : study \n",
      "예측 요약 :  launches new\n",
      "\n",
      "\n",
      "원문 : actress huma qureshi took social media share video working scale self worth weighing scale weight love body best version read video caption actress seen exercises focussed area legs arms \n",
      "실제 요약 : shares video of working out \n",
      "예측 요약 :  wife shares picture with\n",
      "\n",
      "\n",
      "원문 : post sexual harassment allegations vikas bahl sacked producer ranveer singh upcoming film internal team project came conclusion vikas involved project capacity reports suggested hrithik roshan starring vikas upcoming directorial super refused work \n",
      "실제 요약 : sacked from after harassment allegations reports \n",
      "예측 요약 :  priyanka files complaint against priyanka\n",
      "\n",
      "\n",
      "원문 : train also called rail vehicle cambodia train comprises roughly metre long wooden frame powered motorcycle tractor engine two trains going opposite directions meet one car set ground tracks allowing train passengers pass \n",
      "실제 요약 : there are trains in \n",
      "예측 요약 :  mumbai airport to get\n",
      "\n",
      "\n",
      "원문 : singer bhattacharya claimed people like karan johar reason new twitter account suspended added twitter people brought pakistani india called indian filmmakers actors anti national working pakistani tweeted bigger enemies \n",
      "실제 요약 : for twitter account \n",
      "예측 요약 :  am not when when\n",
      "\n",
      "\n",
      "원문 : reacting billionaire elon musk girlfriend wearing tesla symbol like user tweeted tesla wearing probably controlling mind another tweeted get model moved steal parked car wrote another \n",
      "실제 요약 : to musk girlfriend wearing tesla \n",
      "예측 요약 :  twitter reacts to make tweets user\n",
      "\n",
      "\n",
      "원문 : chinese indian side line actual control increased year compared according reports number two sides also increased last year india china involved military standoff disputed doklam region last year \n",
      "실제 요약 : chinese by in reports \n",
      "예측 요약 :  china to over\n",
      "\n",
      "\n",
      "원문 : authorities mexican state seized van mounted used packages marijuana across country border us authorities also seized kilograms marijuana bullets however none criminals operating machine arrested operation \n",
      "실제 요약 : mexican marijuana near us border \n",
      "예측 요약 :  people found in bengaluru\n",
      "\n",
      "\n",
      "원문 : trailer rajinikanth starrer kaala released tamil film also stars nana patekar reportedly play film huma qureshi reportedly playing year old woman falls rajinikanth character directed produced rajinikanth son law dhanush kaala scheduled release june \n",
      "실제 요약 : trailer of rajinikanth starrer released \n",
      "예측 요약 :  trailer of trailer of released\n",
      "\n",
      "\n",
      "원문 : us treasury secretary said takes wife compared james bond movie photos posing printed dollar bills surfaced online adding people express want said realise pictures public going viral \n",
      "실제 요약 : us secy \n",
      "예측 요약 :  us us to\n",
      "\n",
      "\n",
      "원문 : unique identification authority india tuesday citizens falling aadhaar smart cards advised share details unauthorised agencies get smart cards simple paper versions aadhaar ordinary paper valid kinds uses \n",
      "실제 요약 : aadhaar smart card is \n",
      "예측 요약 :  aadhaar not aadhaar\n",
      "\n",
      "\n",
      "원문 : around people marched philippines thursday protest president rodrigo duterte leadership claim dictatorship protests duterte launched war drugs threatened law marked th anniversary declaration law late dictator \n",
      "실제 요약 : march against philippine prez \n",
      "예측 요약 :  indians in philippines\n",
      "\n",
      "\n",
      "원문 : former brazilian footballer offered run senate seat next year political parties country yet officially retire football april decide taking part elections first time political party contacted us said brother agent \n",
      "실제 요약 : may run for brazilian next year \n",
      "예측 요약 :  australian football club charged with\n",
      "\n",
      "\n",
      "원문 : team lawyers co listed filed union minister akbar criminal defamation suit journalist priya accused sexual harassment however law firm claimed standard practice six lawyers signed actually appear case \n",
      "실제 요약 : appoints for case against journalist \n",
      "예측 요약 :  files plea against\n",
      "\n",
      "\n",
      "원문 : scientists potentially search area missing malaysian three specific locations southern indian ocean new satellite analysis crash new analysis based french military satellite images gathered two weeks disappeared flying beijing \n",
      "실제 요약 : scientists search to \n",
      "예측 요약 :  china to build new\n",
      "\n",
      "\n",
      "원문 : khan gautam starrer wrote times khan much punishment could day wrote koimoi wrote includes film rated \n",
      "실제 요약 : khan hits the theatres \n",
      "예측 요약 :  irrfan khan starrer hits theatres\n",
      "\n",
      "\n",
      "원문 : actor police custody extended till july malayalam actress abduction case reports also suggest bail plea heard tomorrow got linked malayalam actress abduction case name mentioned letter jail shared cell prime accused \n",
      "실제 요약 : police extended in actress case \n",
      "예측 요약 :  fir filed against singer\n",
      "\n",
      "\n",
      "원문 : aap wednesday said resignation union minister akbar completely bjp came power slogan added mere resignation akbar sufficient criminal proceedings must started akbar accused sexual harassment several journalists days editor several \n",
      "실제 요약 : resignation bjp aap \n",
      "예측 요약 :  bjp to be to\n",
      "\n",
      "\n",
      "원문 : shilpa shetty talking sexual harassment allegations made tanushree dutta nana patekar said feel much shilpa said know happened exactly adding think kind violence pressure person whether male female workplace \n",
      "실제 요약 : about tanushree \n",
      "예측 요약 :  mahindra apologises for comments on\n",
      "\n",
      "\n",
      "원문 : small passenger plane carrying eight people hit drone approaching airport city first incident canada transport minister said extremely aircraft sustained minor damage able land safely flying recreational drones within kilometres canadian airport illegal \n",
      "실제 요약 : drone hits passenger plane in canadian \n",
      "예측 요약 :  plane makes emergency landing in\n",
      "\n",
      "\n",
      "원문 : juventus portugal forward cristiano ronaldo video journalist making funny faces behind back training session juventus journalist standing ground training staged remained ronaldo video bombing watching ronaldo making funny faces juventus players also made funny faces \n",
      "실제 요약 : ronaldo video bombs journalist by making faces \n",
      "예측 요약 :  messi daughter daughter\n",
      "\n",
      "\n",
      "원문 : pilot project gurugram based grocery delivery startup grofers reportedly set offline stores across delhi ncr company opened two types offline stores small shops franchise stores comes multiple reports claimed online bigbasket grofers talks potential merger \n",
      "실제 요약 : startup launches report \n",
      "예측 요약 :  bengaluru launches its own cryptocurrency\n",
      "\n",
      "\n",
      "원문 : teaser dhanush first international film journey released film based french novel journey got trapped ikea directed scott film scheduled release may \n",
      "실제 요약 : teaser of first international film released \n",
      "예측 요약 :  teaser of released\n",
      "\n",
      "\n",
      "원문 : assam chief minister said state first ever global investors summit advantage assam received investment worth nearly crore state owned oil major committed crore investment oil india pledged investment crore among private companies mukesh ambani reliance industries announced investment crore \n",
      "실제 요약 : assam got investment of crore cm \n"
     ]
    },
    {
     "name": "stdout",
     "output_type": "stream",
     "text": [
      "예측 요약 :  cm jaitley profit to crore\n",
      "\n",
      "\n",
      "원문 : locals helped rescue work express derailment near muzaffarnagar recalled incident explaining coaches rammed passengers help one claimed pulled bodies debris beyond recognition still shock another said \n",
      "실제 요약 : out bodies from express \n",
      "예측 요약 :  mumbai police to get\n",
      "\n",
      "\n",
      "원문 : government friday clarified providing aadhaar number mandatory required registration death october applying death certificate aware deceased aadhaar details would required submit undertaking clarification came widely reported aadhaar number mandatory registration \n",
      "실제 요약 : aadhaar not mandatory for death registration govt clarifies \n",
      "예측 요약 :  aadhaar not mandatory for aadhaar linking\n",
      "\n",
      "\n",
      "원문 : hollywood actress penned letter domestic violence goodwill ambassador united nations development fund women shared experience meeting survivors violence wrote never occurred born girl \n",
      "실제 요약 : actress letter against domestic violence \n",
      "예측 요약 :  actress should be not reservation\n",
      "\n",
      "\n",
      "원문 : google ban advertisements promoting cryptocurrencies related content including initial coin offerings june year google director sustainable ads scott said cryptocurrencies caused consumer harm area company wants approach extreme earlier social network facebook also banned advertisements promoting cryptocurrencies \n",
      "실제 요약 : google to ban cryptocurrency ads from june \n",
      "예측 요약 :  google launches app for cryptocurrency\n",
      "\n",
      "\n",
      "원문 : ratan tata backed mumbai based cannabis research startup bombay company raised crore hong kong based textile company international limited mukhtar food founded startup last raised crore seed round claimed india first startup studying medical use cannabis cannabis studies properties \n",
      "실제 요약 : tata backed research startup raises funds \n",
      "예측 요약 :  yuvraj singh backed startup raises crore\n",
      "\n",
      "\n",
      "원문 : actress huma qureshi turned showstopper designer dhaka show india week think indian body well said huma young girls ngo smile foundation also walked ramp alongside models designer supporting ngo campaign champions cause girl child empowerment \n",
      "실제 요약 : turns showstopper for show \n",
      "예측 요약 :  turns showstopper for assaulting\n",
      "\n",
      "\n",
      "원문 : electronics company htc confirmed upcoming new smartphone phone metal frame reportedly include sensors enable owner control make gestures sides comes amid rumours rival samsung testing foldable smartphones \n",
      "실제 요약 : smartphone \n",
      "예측 요약 :  scientists make new\n",
      "\n",
      "\n",
      "원문 : indian pacer bhuvneshwar kumar recently shared picture instagram dinner date partner added would reveal full picture soon per reports bhuvneshwar date telugu film actress model sarkar people spotted getting red car cricketer \n",
      "실제 요약 : kumar shares picture from date \n",
      "예측 요약 :  big on his\n",
      "\n",
      "\n",
      "원문 : features new issued tomorrow include raised printing mahatma gandhi portrait raised identification mark micro text security rbi colour changes green blue note \n",
      "실제 요약 : what are the features of the new note \n",
      "예측 요약 :  launches cr in india\n",
      "\n",
      "\n",
      "원문 : railway minister piyush goyal instructed indian railway tourism corporation make railway reserved accommodation available commercial purposes stating mindset place modern india coaches usually feature two toilet kitchen earlier reserved railway officials \n",
      "실제 요약 : railways to provide coaches for commercial \n",
      "예측 요약 :  railway minister announces first trains\n",
      "\n",
      "\n",
      "원문 : facebook owned instant messaging service whatsapp reportedly planning show advertisements users ios version app advertisements expected shown users whatsapp status feature earlier whatsapp parent also announced plans roll advertisements facebook stories \n",
      "실제 요약 : whatsapp working to ads on \n",
      "예측 요약 :  whatsapp testing feature to feature in\n",
      "\n",
      "\n",
      "원문 : spain maiden wimbledon title saturday tweeted men singles champion roger federer ready dance federer eighth wimbledon title sunday replied bring alongside dancing man woman \n",
      "실제 요약 : ready for the champions dance asks federer \n",
      "예측 요약 :  federer wins wimbledon title\n",
      "\n",
      "\n",
      "원문 : north korean missile fired wednesday exploded mid air within seconds launch ended failure us south korean officials claimed comes north korea claimed major country rocket development failure could missile newly developed one north deployed \n",
      "실제 요약 : north korean missile during test us \n",
      "예측 요약 :  korea missile test missile missile\n",
      "\n",
      "\n",
      "원문 : smartphone comes megapixel front megapixel rear camera big pixel sensor photos colours phone runs android powered battery comes look solid design good performance battery department wrote mobile indian \n",
      "실제 요약 : take photos with big \n",
      "예측 요약 :  google unveils android\n",
      "\n",
      "\n",
      "원문 : new delhi born australian mathematician akshay fields medal often dubbed nobel prize mathematics year old completed phd aged post research mit currently professor stanford university one four winners worked number theory forms theory \n",
      "실제 요약 : indian origin akshay wins nobel for \n",
      "예측 요약 :  what were the world cup\n",
      "\n",
      "\n",
      "원문 : two men taken custody eight found possession nashik maharashtra police reportedly got know matter receiving complaint wildlife activist raided house locality investigation launched matter \n",
      "실제 요약 : seized in maharashtra \n",
      "예측 요약 :  year old raped in rajasthan\n",
      "\n",
      "\n",
      "원문 : french president emmanuel macron said may become us president donald trump care isolated six countries namely uk canada germany italy japan france bigger market taken together us market added said mind need \n",
      "실제 요약 : may become if trump remains france \n",
      "예측 요약 :  trump calls us prez\n",
      "\n",
      "\n",
      "원문 : police chinese city seized computers used mine bitcoin local power grid reported electricity usage state media reported police said high power fans also adding largest electricity theft case recent years five people investigation another detained \n",
      "실제 요약 : china seizes bitcoin over power \n",
      "예측 요약 :  people worth lakh in\n",
      "\n",
      "\n",
      "원문 : around people reportedly trapped check dam lake maharashtra collapsed wednesday causing flooding village reportedly rescued national disaster response force teams rushed spot earlier crore dam collapsed bihar tuesday \n",
      "실제 요약 : people after collapses in maharashtra \n",
      "예측 요약 :  in mumbai\n",
      "\n",
      "\n",
      "원문 : french ice took second place monday short program winter olympics despite duo performing ed sheeran shape costume around neck exposed left part routine worst happened olympics later said \n",
      "실제 요약 : ice suffers still nd \n",
      "예측 요약 :  world st at\n",
      "\n",
      "\n",
      "원문 : many residents surat got together area city wednesday ground one minute setting guinness world record people floor people across age groups participated event overtook previous record people set mexico \n",
      "실제 요약 : residents together to set world record \n",
      "예측 요약 :  three woman in years\n",
      "\n",
      "\n"
     ]
    }
   ],
   "source": [
    "for i in range(50, 100):\n",
    "    print(\"원문 :\", seq2text(encoder_input_test[i]))\n",
    "    print(\"실제 요약 :\", seq2summary(decoder_input_test[i]))\n",
    "    print(\"예측 요약 :\", decode_sequence(encoder_input_test[i].reshape(1, text_max_len)))\n",
    "    print(\"\\n\")"
   ]
  },
  {
   "cell_type": "markdown",
   "id": "computational-foundation",
   "metadata": {},
   "source": [
    "### ㄴ 몇몇은 꽤 근접하게 나왔지만 대부분은 실제 예측과 거리감이 있다."
   ]
  },
  {
   "cell_type": "markdown",
   "id": "scientific-assistant",
   "metadata": {},
   "source": [
    "# 8. 추출적 요약"
   ]
  },
  {
   "cell_type": "code",
   "execution_count": 6,
   "id": "under-homeless",
   "metadata": {},
   "outputs": [],
   "source": [
    "import requests\n",
    "from summa.summarizer import summarize"
   ]
  },
  {
   "cell_type": "code",
   "execution_count": 23,
   "id": "reserved-basin",
   "metadata": {},
   "outputs": [],
   "source": [
    "text = requests.get('http://rare-technologies.com/the_matrix_synopsis.txt').text #LMS"
   ]
  },
  {
   "cell_type": "code",
   "execution_count": 16,
   "id": "happy-acoustic",
   "metadata": {},
   "outputs": [],
   "source": [
    "text = requests.get('').text"
   ]
  },
  {
   "cell_type": "code",
   "execution_count": 28,
   "id": "unexpected-springer",
   "metadata": {},
   "outputs": [],
   "source": [
    "text = '''\n",
    "President Joe Biden has approved a major disaster declaration for Texas which has suffered widespread power blackouts and water shortages during a deadly deep freeze, the Federal Emergency Management Agency said on Saturday. \n",
    "Millions of residents in the United States' biggest oil and gas producer have dealt with power outages, and nearly half of Texas' residents on Friday had to endure disrupted water service. Nearly two dozen deaths have been attributed to the storm and a frigid snap.\n",
    "The action makes federal funding available to individuals across the state, including assistance for temporary housing and home repairs and low-cost loans.\n",
    "Biden is also weighing a trip to Texas to survey the federal response to the first new crisis to develop since he took office a month ago. The White House is working closely with Texas Governor Greg Abbott, a Republican who did not initially acknowledge Biden's November election win.\n",
    "All the state's power plants had returned to service, although more than 195,000 homes remained without electricity on Friday morning, and residents of 160 of Texas' 254 counties had water service disruptions, according to the Texas Commission on Environmental Quality.\n",
    "'''\n"
   ]
  },
  {
   "cell_type": "markdown",
   "id": "shaped-commission",
   "metadata": {},
   "source": [
    "### ㄴ 최근 Texas한파에 관힌 뉴스 기사 본문을 붙여넣었다."
   ]
  },
  {
   "cell_type": "code",
   "execution_count": 29,
   "id": "banned-triumph",
   "metadata": {},
   "outputs": [
    {
     "name": "stdout",
     "output_type": "stream",
     "text": [
      "\n",
      "President Joe Biden has approved a major disaster declaration for Texas which has suffered widespread power blackouts and water shortages during a deadly deep freeze, the Federal Emergency Management Agency said on Saturday. \n",
      "Millions of residents in the United States' biggest oil and gas producer have dealt with power outages, and nearly half of Texas' residents on Friday had to endure disrupted water service. Nearly two dozen deaths have been attributed to the storm and a frigid snap.\n",
      "The action makes federal funding available to individuals across the state, including assistance for temporary housing and home repairs and low-cost loans.\n",
      "Biden is also weighing a trip to Texas to survey the federal response to the first new crisis to develop since he took office a month ago. The White House is working closely with Texas Governor Greg Abbott, a Republican who did not initially acknowledge Biden's November election win.\n",
      "All the state's power plants had returned to service, although more than 195,000 homes remained without electricity on Friday morning, and residents of 160 of Texas' 254 counties had water service disruptions, according to the Texas Commission on Environmental Quality.\n",
      "\n"
     ]
    }
   ],
   "source": [
    "print(text[:1500])"
   ]
  },
  {
   "cell_type": "code",
   "execution_count": 34,
   "id": "legendary-arrival",
   "metadata": {},
   "outputs": [
    {
     "name": "stdout",
     "output_type": "stream",
     "text": [
      "Summary:\n",
      "Millions of residents in the United States' biggest oil and gas producer have dealt with power outages, and nearly half of Texas' residents on Friday had to endure disrupted water service.\n"
     ]
    }
   ],
   "source": [
    "print('Summary:')\n",
    "print(summarize(text, ratio=0.20))"
   ]
  },
  {
   "cell_type": "code",
   "execution_count": 38,
   "id": "ethical-desktop",
   "metadata": {},
   "outputs": [
    {
     "name": "stdout",
     "output_type": "stream",
     "text": [
      "Summary:\n",
      "[\"Millions of residents in the United States' biggest oil and gas producer have dealt with power outages, and nearly half of Texas' residents on Friday had to endure disrupted water service.\"]\n"
     ]
    }
   ],
   "source": [
    "print('Summary:')\n",
    "print(summarize(text, ratio=0.15, split=True))"
   ]
  },
  {
   "cell_type": "markdown",
   "id": "hairy-footwear",
   "metadata": {},
   "source": [
    "### ㄴ ratio가 0.005일때 아무것도 출력이 되지 않아 값을 높여주었더니 잘 출력이 되었다."
   ]
  },
  {
   "cell_type": "code",
   "execution_count": 36,
   "id": "casual-deadline",
   "metadata": {},
   "outputs": [
    {
     "name": "stdout",
     "output_type": "stream",
     "text": [
      "Summary:\n",
      "Millions of residents in the United States' biggest oil and gas producer have dealt with power outages, and nearly half of Texas' residents on Friday had to endure disrupted water service.\n"
     ]
    }
   ],
   "source": [
    "print('Summary:')\n",
    "print(summarize(text, words=20))"
   ]
  },
  {
   "cell_type": "markdown",
   "id": "regional-child",
   "metadata": {},
   "source": [
    "# 회고"
   ]
  },
  {
   "cell_type": "markdown",
   "id": "executive-weekend",
   "metadata": {},
   "source": [
    "## 1. 요즘 뉴스기사도 기자가 직접 쓰지 않고 크롤링을 통한 요약 뉴스를 방송국에서 납품받는다고 들었는데, 그 원리가 어떻게 되는지 알게 되었다."
   ]
  },
  {
   "cell_type": "code",
   "execution_count": null,
   "id": "bacterial-latvia",
   "metadata": {},
   "outputs": [],
   "source": [
    "## 2. 크롤링에 평소에 관심이 있"
   ]
  }
 ],
 "metadata": {
  "kernelspec": {
   "display_name": "aiffel",
   "language": "python",
   "name": "aiffel"
  },
  "language_info": {
   "codemirror_mode": {
    "name": "ipython",
    "version": 3
   },
   "file_extension": ".py",
   "mimetype": "text/x-python",
   "name": "python",
   "nbconvert_exporter": "python",
   "pygments_lexer": "ipython3",
   "version": "3.7.9"
  }
 },
 "nbformat": 4,
 "nbformat_minor": 5
}
