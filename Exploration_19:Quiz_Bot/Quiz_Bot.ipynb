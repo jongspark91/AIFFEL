{
 "cells": [
  {
   "cell_type": "markdown",
   "id": "associate-trinidad",
   "metadata": {},
   "source": [
    "# E19: Quiz Bot using BERT"
   ]
  },
  {
   "cell_type": "markdown",
   "id": "white-annex",
   "metadata": {},
   "source": [
    "## Purpose of this node:\n",
    "### 1. To understand BERT model structure consisted of Transformer Encoder\n",
    "### 2. To understand Pretrained Embedding\n",
    "### 3. To implement Pretrained BERT\n",
    "---"
   ]
  },
  {
   "cell_type": "markdown",
   "id": "decreased-birmingham",
   "metadata": {},
   "source": [
    "# Imports"
   ]
  },
  {
   "cell_type": "code",
   "execution_count": 2,
   "id": "satisfied-lounge",
   "metadata": {},
   "outputs": [],
   "source": [
    "# imports\n",
    "from __future__ import absolute_import, division, print_function, unicode_literals\n",
    "\n",
    "import tensorflow as tf\n",
    "import tensorflow.keras.backend as K\n",
    "import tensorflow_addons as tfa\n",
    "\n",
    "import os\n",
    "import re\n",
    "import numpy as np\n",
    "import pandas as pd\n",
    "import pickle\n",
    "import random\n",
    "import collections\n",
    "import json\n",
    "from datetime import datetime\n",
    "\n",
    "import sentencepiece as spm\n",
    "from tqdm.notebook import tqdm\n",
    "import matplotlib.pyplot as plt\n",
    "import seaborn as sns\n",
    "from wordcloud import WordCloud\n",
    "\n",
    "random_seed = 1234\n",
    "random.seed(random_seed)\n",
    "np.random.seed(random_seed)\n",
    "tf.random.set_seed(random_seed)"
   ]
  },
  {
   "cell_type": "markdown",
   "id": "handy-microphone",
   "metadata": {},
   "source": [
    "## 다운로드받은 KorQuAD 데이터를 확인해 봅시다. 아래 print_json_tree() 메소드는 KorQuAD 데이터처럼 json 포맷으로 이루어진 데이터에서 리스트의 첫번째 아이템의 실제 내용을 간단히 확인하는데 유용합니다."
   ]
  },
  {
   "cell_type": "code",
   "execution_count": 3,
   "id": "prostate-yorkshire",
   "metadata": {},
   "outputs": [],
   "source": [
    "def print_json_tree(data, indent=\"\"):\n",
    "    for key, value in data.items():\n",
    "        if type(value) == list:     # list 형태의 item은 첫번째 item만 출력\n",
    "            print(f'{indent}- {key}: [{len(value)}]')\n",
    "            print_json_tree(value[0], indent + \"  \")\n",
    "        else:\n",
    "            print(f'{indent}- {key}: {value}')"
   ]
  },
  {
   "cell_type": "code",
   "execution_count": 4,
   "id": "pending-differential",
   "metadata": {},
   "outputs": [
    {
     "name": "stdout",
     "output_type": "stream",
     "text": [
      "- version: KorQuAD_v1.0_train\n",
      "- data: [1420]\n",
      "  - paragraphs: [3]\n",
      "    - qas: [8]\n",
      "      - answers: [1]\n",
      "        - text: 교향곡\n",
      "        - answer_start: 54\n",
      "      - id: 6566495-0-0\n",
      "      - question: 바그너는 괴테의 파우스트를 읽고 무엇을 쓰고자 했는가?\n",
      "    - context: 1839년 바그너는 괴테의 파우스트을 처음 읽고 그 내용에 마음이 끌려 이를 소재로 해서 하나의 교향곡을 쓰려는 뜻을 갖는다. 이 시기 바그너는 1838년에 빛 독촉으로 산전수전을 다 걲은 상황이라 좌절과 실망에 가득했으며 메피스토펠레스를 만나는 파우스트의 심경에 공감했다고 한다. 또한 파리에서 아브네크의 지휘로 파리 음악원 관현악단이 연주하는 베토벤의 교향곡 9번을 듣고 깊은 감명을 받았는데, 이것이 이듬해 1월에 파우스트의 서곡으로 쓰여진 이 작품에 조금이라도 영향을 끼쳤으리라는 것은 의심할 여지가 없다. 여기의 라단조 조성의 경우에도 그의 전기에 적혀 있는 것처럼 단순한 정신적 피로나 실의가 반영된 것이 아니라 베토벤의 합창교향곡 조성의 영향을 받은 것을 볼 수 있다. 그렇게 교향곡 작곡을 1839년부터 40년에 걸쳐 파리에서 착수했으나 1악장을 쓴 뒤에 중단했다. 또한 작품의 완성과 동시에 그는 이 서곡(1악장)을 파리 음악원의 연주회에서 연주할 파트보까지 준비하였으나, 실제로는 이루어지지는 않았다. 결국 초연은 4년 반이 지난 후에 드레스덴에서 연주되었고 재연도 이루어졌지만, 이후에 그대로 방치되고 말았다. 그 사이에 그는 리엔치와 방황하는 네덜란드인을 완성하고 탄호이저에도 착수하는 등 분주한 시간을 보냈는데, 그런 바쁜 생활이 이 곡을 잊게 한 것이 아닌가 하는 의견도 있다.\n",
      "  - title: 파우스트_서곡\n"
     ]
    }
   ],
   "source": [
    "data_dir = os.getenv('HOME')+'/aiffel/bert_qna/data'\n",
    "model_dir = os.getenv('HOME')+'/aiffel/bert_qna/models'\n",
    "\n",
    "# 훈련데이터 확인\n",
    "train_json_path = data_dir + '/KorQuAD_v1.0_train.json'\n",
    "with open(train_json_path) as f:\n",
    "    train_json = json.load(f)\n",
    "    print_json_tree(train_json)"
   ]
  },
  {
   "cell_type": "code",
   "execution_count": 5,
   "id": "widespread-gasoline",
   "metadata": {},
   "outputs": [
    {
     "name": "stdout",
     "output_type": "stream",
     "text": [
      "- version: KorQuAD_v1.0_dev\n",
      "- data: [140]\n",
      "  - paragraphs: [2]\n",
      "    - qas: [7]\n",
      "      - answers: [1]\n",
      "        - text: 1989년 2월 15일\n",
      "        - answer_start: 0\n",
      "      - id: 6548850-0-0\n",
      "      - question: 임종석이 여의도 농민 폭력 시위를 주도한 혐의로 지명수배 된 날은?\n",
      "    - context: 1989년 2월 15일 여의도 농민 폭력 시위를 주도한 혐의(폭력행위등처벌에관한법률위반)으로 지명수배되었다. 1989년 3월 12일 서울지방검찰청 공안부는 임종석의 사전구속영장을 발부받았다. 같은 해 6월 30일 평양축전에 임수경을 대표로 파견하여 국가보안법위반 혐의가 추가되었다. 경찰은 12월 18일~20일 사이 서울 경희대학교에서 임종석이 성명 발표를 추진하고 있다는 첩보를 입수했고, 12월 18일 오전 7시 40분 경 가스총과 전자봉으로 무장한 특공조 및 대공과 직원 12명 등 22명의 사복 경찰을 승용차 8대에 나누어 경희대학교에 투입했다. 1989년 12월 18일 오전 8시 15분 경 서울청량리경찰서는 호위 학생 5명과 함께 경희대학교 학생회관 건물 계단을 내려오는 임종석을 발견, 검거해 구속을 집행했다. 임종석은 청량리경찰서에서 약 1시간 동안 조사를 받은 뒤 오전 9시 50분 경 서울 장안동의 서울지방경찰청 공안분실로 인계되었다.\n",
      "  - title: 임종석\n"
     ]
    }
   ],
   "source": [
    "# 검증데이터 확인\n",
    "dev_json_path = data_dir + '/KorQuAD_v1.0_dev.json'\n",
    "with open(dev_json_path) as f:\n",
    "    dev_json = json.load(f)\n",
    "    print_json_tree(dev_json)"
   ]
  },
  {
   "cell_type": "markdown",
   "id": "neither-return",
   "metadata": {},
   "source": [
    "## json 데이터의 실제 형태는 아래와 같이 json.dumps()를 이용해 확인해 볼 수 있습니다."
   ]
  },
  {
   "cell_type": "code",
   "execution_count": 6,
   "id": "junior-thesaurus",
   "metadata": {},
   "outputs": [
    {
     "name": "stdout",
     "output_type": "stream",
     "text": [
      "{\n",
      "  \"paragraphs\": [\n",
      "    {\n",
      "      \"qas\": [\n",
      "        {\n",
      "          \"answers\": [\n",
      "            {\n",
      "              \"text\": \"교향곡\",\n",
      "              \"answer_start\": 54\n",
      "            }\n",
      "          ],\n",
      "          \"id\": \"6566495-0-0\",\n",
      "          \"question\": \"바그너는 괴테의 파우스트를 읽고 무엇을 쓰고자 했는가?\"\n",
      "        },\n",
      "        {\n",
      "          \"answers\": [\n",
      "            {\n",
      "              \"text\": \"1악장\",\n",
      "              \"answer_start\": 421\n",
      "            }\n",
      "          ],\n",
      "          \"id\": \"6566495-0-1\",\n",
      "          \"question\": \"바그너는 교향곡 작곡을 어디까지 쓴 뒤에 중단했는가?\"\n",
      "        },\n",
      "        {\n",
      "          \"answers\": [\n",
      "            {\n",
      "              \"text\": \"베토벤의 교향곡 9번\",\n",
      "              \"answer_start\": 194\n",
      "            }\n",
      "          ],\n",
      "          \"id\": \"6566495-0-2\",\n",
      "          \"question\": \"바그너가 파우스트 서곡을 쓸 때 어떤 곡의 영향을 받았는가?\"\n",
      "        },\n",
      "        {\n",
      "          \"answers\": [\n",
      "            {\n",
      "              \"text\": \"파우스트\",\n",
      "              \"answer_start\": 15\n",
      "            }\n",
      "          ],\n",
      "          \"id\": \"6566518-0-0\",\n",
      "          \"question\": \"1839년 바그너가 교향곡의 소재로 쓰려고 했던 책은?\"\n",
      "        },\n",
      "        {\n",
      "          \"answers\": [\n",
      "            {\n",
      "              \"text\": \"합창교향곡\",\n",
      "              \"answer_start\": 354\n",
      "            }\n",
      "          ],\n",
      "          \"id\": \"6566518-0-1\",\n",
      "          \"question\": \"파우스트 서곡의 라단조 조성이 영향을 받은 베토벤의 곡은?\"\n",
      "        },\n",
      "        {\n",
      "          \"answers\": [\n",
      "            {\n",
      "              \"text\": \"1839\",\n",
      "              \"answer_start\": 0\n",
      "            }\n",
      "          ],\n",
      "          \"id\": \"5917067-0-0\",\n",
      "          \"question\": \"바그너가 파우스트를 처음으로 읽은 년도는?\"\n",
      "        },\n",
      "        {\n",
      "          \"answers\": [\n",
      "            {\n",
      "              \"text\": \"파리\",\n",
      "              \"answer_start\": 410\n",
      "            }\n",
      "          ],\n",
      "          \"id\": \"5917067-0-1\",\n",
      "          \"question\": \"바그너가 처음 교향곡 작곡을 한 장소는?\"\n",
      "        },\n",
      "        {\n",
      "          \"answers\": [\n",
      "            {\n",
      "              \"text\": \"드레스덴\",\n",
      "              \"answer_start\": 534\n",
      "            }\n",
      "          ],\n",
      "          \"id\": \"5917067-0-2\",\n",
      "          \"question\": \"바그너의 1악장의 초연은 어디서 연주되었는가?\"\n",
      "        }\n",
      "      ],\n",
      "      \"context\": \"1839년 바그너는 괴테의 파우스트을 처음 읽고 그 내용에 마음이 끌려 이를 소재로 해서 하나의 교향곡을 쓰려는 뜻을 갖는다. 이 시기 바그너는 1838년에 빛 독촉으로 산전수전을 다 걲은 상황이라 좌절과 실망에 가득했으며 메피스토펠레스를 만나는 파우스트의 심경에 공감했다고 한다. 또한 파리에서 아브네크의 지휘로 파리 음악원 관현악단이 연주하는 베토벤의 교향곡 9번을 듣고 깊은 감명을 받았는데, 이것이 이듬해 1월에 파우스트의 서곡으로 쓰여진 이 작품에 조금이라도 영향을 끼쳤으리라는 것은 의심할 여지가 없다. 여기의 라단조 조성의 경우에도 그의 전기에 적혀 있는 것처럼 단순한 정신적 피로나 실의가 반영된 것이 아니라 베토벤의 합창교향곡 조성의 영향을 받은 것을 볼 수 있다. 그렇게 교향곡 작곡을 1839년부터 40년에 걸쳐 파리에서 착수했으나 1악장을 쓴 뒤에 중단했다. 또한 작품의 완성과 동시에 그는 이 서곡(1악장)을 파리 음악원의 연주회에서 연주할 파트보까지 준비하였으나, 실제로는 이루어지지는 않았다. 결국 초연은 4년 반이 지난 후에 드레스덴에서 연주되었고 재연도 이루어졌지만, 이후에 그대로 방치되고 말았다. 그 사이에 그는 리엔치와 방황하는 네덜란드인을 완성하고 탄호이저에도 착수하는 등 분주한 시간을 보냈는데, 그런 바쁜 생활이 이 곡을 잊게 한 것이 아닌가 하는 의견도 있다.\"\n",
      "    },\n",
      "    {\n",
      "      \"qas\": [\n",
      "        {\n",
      "          \"answers\": [\n",
      "            {\n",
      "              \"text\": \"한스 폰 뷜로\",\n",
      "              \"answer_start\": 402\n",
      "            }\n",
      "          ],\n",
      "          \"id\": \"6566495-1-0\",\n",
      "          \"question\": \"바그너의 작품을 시인의 피로 쓰여졌다고 극찬한 것은 누구인가?\"\n",
      "        },\n",
      "        {\n",
      "          \"answers\": [\n",
      "            {\n",
      "              \"text\": \"리스트\",\n",
      "              \"answer_start\": 23\n",
      "            }\n",
      "          ],\n",
      "          \"id\": \"6566495-1-1\",\n",
      "          \"question\": \"잊혀져 있는 파우스트 서곡 1악장을 부활시킨 것은 누구인가?\"\n",
      "        },\n",
      "        {\n",
      "          \"answers\": [\n",
      "            {\n",
      "              \"text\": \"20루이의 금\",\n",
      "              \"answer_start\": 345\n",
      "            }\n",
      "          ],\n",
      "          \"id\": \"6566495-1-2\",\n",
      "          \"question\": \"바그너는 다시 개정된 총보를 얼마를 받고 팔았는가?\"\n",
      "        },\n",
      "        {\n",
      "          \"answers\": [\n",
      "            {\n",
      "              \"text\": \"리스트\",\n",
      "              \"answer_start\": 23\n",
      "            }\n",
      "          ],\n",
      "          \"id\": \"6566518-1-0\",\n",
      "          \"question\": \"파우스트 교향곡을 부활시킨 사람은?\"\n",
      "        },\n",
      "        {\n",
      "          \"answers\": [\n",
      "            {\n",
      "              \"text\": \"한스 폰 뷜로\",\n",
      "              \"answer_start\": 402\n",
      "            }\n",
      "          ],\n",
      "          \"id\": \"6566518-1-1\",\n",
      "          \"question\": \"파우스트 교향곡을 피아노 독주용으로 편곡한 사람은?\"\n",
      "        },\n",
      "        {\n",
      "          \"answers\": [\n",
      "            {\n",
      "              \"text\": \"리스트\",\n",
      "              \"answer_start\": 23\n",
      "            }\n",
      "          ],\n",
      "          \"id\": \"5917067-1-0\",\n",
      "          \"question\": \"1악장을 부활시켜 연주한 사람은?\"\n",
      "        },\n",
      "        {\n",
      "          \"answers\": [\n",
      "            {\n",
      "              \"text\": \"한스 폰 뷜로\",\n",
      "              \"answer_start\": 402\n",
      "            }\n",
      "          ],\n",
      "          \"id\": \"5917067-1-1\",\n",
      "          \"question\": \"파우스트 교향곡에 감탄하여 피아노곡으로 편곡한 사람은?\"\n",
      "        },\n",
      "        {\n",
      "          \"answers\": [\n",
      "            {\n",
      "              \"text\": \"1840년\",\n",
      "              \"answer_start\": 3\n",
      "            }\n",
      "          ],\n",
      "          \"id\": \"5917067-1-2\",\n",
      "          \"question\": \"리스트가 바그너와 알게 된 연도는?\"\n",
      "        }\n",
      "      ],\n",
      "      \"context\": \"한편 1840년부터 바그너와 알고 지내던 리스트가 잊혀져 있던 1악장을 부활시켜 1852년에 바이마르에서 연주했다. 이것을 계기로 바그너도 이 작품에 다시 관심을 갖게 되었고, 그 해 9월에는 총보의 반환을 요구하여 이를 서곡으로 간추린 다음 수정을 했고 브라이트코프흐 & 헤르텔 출판사에서 출판할 개정판도 준비했다. 1853년 5월에는 리스트가 이 작품이 수정되었다는 것을 인정했지만, 끝내 바그너의 출판 계획은 무산되고 말았다. 이후 1855년에 리스트가 자신의 작품 파우스트 교향곡을 거의 완성하여 그 사실을 바그너에게 알렸고, 바그너는 다시 개정된 총보를 리스트에게 보내고 브라이트코프흐 & 헤르텔 출판사에는 20루이의 금을 받고 팔았다. 또한 그의 작품을 “하나하나의 음표가 시인의 피로 쓰여졌다”며 극찬했던 한스 폰 뷜로가 그것을 피아노 독주용으로 편곡했는데, 리스트는 그것을 약간 변형되었을 뿐이라고 지적했다. 이 서곡의 총보 첫머리에는 파우스트 1부의 내용 중 한 구절을 인용하고 있다.\"\n",
      "    },\n",
      "    {\n",
      "      \"qas\": [\n",
      "        {\n",
      "          \"answers\": [\n",
      "            {\n",
      "              \"text\": \"주제, 동기\",\n",
      "              \"answer_start\": 70\n",
      "            }\n",
      "          ],\n",
      "          \"id\": \"6566495-2-0\",\n",
      "          \"question\": \"서주에는 무엇이 암시되어 있는가?\"\n",
      "        },\n",
      "        {\n",
      "          \"answers\": [\n",
      "            {\n",
      "              \"text\": \"제1바이올린\",\n",
      "              \"answer_start\": 148\n",
      "            }\n",
      "          ],\n",
      "          \"id\": \"6566495-2-1\",\n",
      "          \"question\": \"첫부분에는 어떤 악기를 사용해 더욱 명확하게 나타내는가?\"\n",
      "        },\n",
      "        {\n",
      "          \"answers\": [\n",
      "            {\n",
      "              \"text\": \"소나타 형식\",\n",
      "              \"answer_start\": 272\n",
      "            }\n",
      "          ],\n",
      "          \"id\": \"6566495-2-2\",\n",
      "          \"question\": \"주요부는 어떤 형식으로 되어 있는가?\"\n",
      "        },\n",
      "        {\n",
      "          \"answers\": [\n",
      "            {\n",
      "              \"text\": \"저음 주제\",\n",
      "              \"answer_start\": 102\n",
      "            }\n",
      "          ],\n",
      "          \"id\": \"6566518-2-0\",\n",
      "          \"question\": \"첫 부분의 주요주제를 암시하는 주제는?\"\n",
      "        },\n",
      "        {\n",
      "          \"answers\": [\n",
      "            {\n",
      "              \"text\": \"D장조\",\n",
      "              \"answer_start\": 409\n",
      "            }\n",
      "          ],\n",
      "          \"id\": \"6566518-2-1\",\n",
      "          \"question\": \"제2주제의 축소된 재현부의 조성은?\"\n",
      "        },\n",
      "        {\n",
      "          \"answers\": [\n",
      "            {\n",
      "              \"text\": \"4/4박자\",\n",
      "              \"answer_start\": 35\n",
      "            }\n",
      "          ],\n",
      "          \"id\": \"5917067-2-0\",\n",
      "          \"question\": \"곡이 시작할때의 박자는?\"\n",
      "        },\n",
      "        {\n",
      "          \"answers\": [\n",
      "            {\n",
      "              \"text\": \"고뇌와 갈망 동기, 청춘의 사랑 동기\",\n",
      "              \"answer_start\": 115\n",
      "            }\n",
      "          ],\n",
      "          \"id\": \"5917067-2-1\",\n",
      "          \"question\": \"이 곡의 주요 주제는?\"\n",
      "        },\n",
      "        {\n",
      "          \"answers\": [\n",
      "            {\n",
      "              \"text\": \"D장조\",\n",
      "              \"answer_start\": 409\n",
      "            }\n",
      "          ],\n",
      "          \"id\": \"5917067-2-2\",\n",
      "          \"question\": \"제 2주제에선 무슨 장조로 재현되는가?\"\n",
      "        }\n",
      "      ],\n",
      "      \"context\": \"이 작품은 라단조, Sehr gehalten(아주 신중하게), 4/4박자의 부드러운 서주로 서주로 시작되는데, 여기에는 주요 주제, 동기의 대부분이 암시, 예고되어 있다. 첫 부분의 저음 주제는 주요 주제(고뇌와 갈망 동기, 청춘의 사랑 동기)를 암시하고 있으며, 제1바이올린으로 더욱 명확하게 나타난다. 또한 그것을 이어받는 동기도 중요한 역할을 한다. 여기에 새로운 소재가 더해진 뒤에 새로운 주제도 연주된다. 주요부는 Sehr bewegt(아주 격동적으로), 2/2박자의 자유로운 소나타 형식으로 매우 드라마틱한 구상과 유기적인 구성을 하고 있다. 여기에는 지금까지의 주제나 소재 외에도 오보에에 의한 선율과 제2주제를 떠올리게 하는 부차적인 주제가 더해지는데, 중간부에서는 약보3이 중심이 되고 제2주제는 축소된 재현부에서 D장조로 재현된다. 마지막에는 주요 주제를 회상하면서 조용히 마친다.\"\n",
      "    }\n",
      "  ],\n",
      "  \"title\": \"파우스트_서곡\"\n",
      "}\n"
     ]
    }
   ],
   "source": [
    "print(json.dumps(train_json[\"data\"][0], indent=2, ensure_ascii=False))"
   ]
  },
  {
   "cell_type": "markdown",
   "id": "excited-processing",
   "metadata": {},
   "source": [
    "# Data Preprocess"
   ]
  },
  {
   "cell_type": "markdown",
   "id": "greater-premiere",
   "metadata": {},
   "source": [
    "## SQuAD, KorQuAD 데이터셋으로 모델을 구성하기 위한 전처리 과정은 다른 자연어처리 태스크와 다소 다른 접근법이 있습니다. 설명하기 다소 어려운 점이 있어서 코드를 실행하면서 예시를 들겠습니다.\n",
    "---"
   ]
  },
  {
   "cell_type": "code",
   "execution_count": 7,
   "id": "corresponding-closure",
   "metadata": {},
   "outputs": [],
   "source": [
    "def _is_whitespace(c):\n",
    "    if c == \" \" or c == \"\\t\" or c == \"\\r\" or c == \"\\n\" or ord(c) == 0x202F:\n",
    "        return True\n",
    "    return False"
   ]
  },
  {
   "cell_type": "code",
   "execution_count": 8,
   "id": "knowing-knitting",
   "metadata": {},
   "outputs": [],
   "source": [
    "def _tokenize_whitespace(string):\n",
    "    word_tokens = []\n",
    "    char_to_word = []\n",
    "    prev_is_whitespace = True\n",
    "\n",
    "    for c in string:\n",
    "        if _is_whitespace(c):\n",
    "            prev_is_whitespace = True\n",
    "        else:\n",
    "            if prev_is_whitespace:\n",
    "                word_tokens.append(c)\n",
    "            else:\n",
    "                word_tokens[-1] += c\n",
    "            prev_is_whitespace = False    \n",
    "        char_to_word.append(len(word_tokens) - 1)\n",
    "    \n",
    "    return word_tokens, char_to_word"
   ]
  },
  {
   "cell_type": "code",
   "execution_count": 11,
   "id": "honey-chuck",
   "metadata": {},
   "outputs": [
    {
     "data": {
      "text/plain": [
       "('파우스트', '파우스트')"
      ]
     },
     "execution_count": 11,
     "metadata": {},
     "output_type": "execute_result"
    }
   ],
   "source": [
    "# whitespace가 2개인 경우를 처리해야 함\n",
    "\n",
    "string1 = '1839년 파우스트을 읽었다.'\n",
    "string2 = '1839년  파우스트을 읽었다.'\n",
    "string1[6:10], string2[7:11]"
   ]
  },
  {
   "cell_type": "code",
   "execution_count": 12,
   "id": "catholic-jurisdiction",
   "metadata": {},
   "outputs": [
    {
     "name": "stdout",
     "output_type": "stream",
     "text": [
      "'1' : 0\n",
      "'8' : 0\n",
      "'3' : 0\n",
      "'9' : 0\n",
      "'년' : 0\n",
      "' ' : 0\n",
      "'파' : 1\n",
      "'우' : 1\n",
      "'스' : 1\n",
      "'트' : 1\n",
      "'을' : 1\n",
      "' ' : 1\n",
      "'읽' : 2\n",
      "'었' : 2\n",
      "'다' : 2\n",
      "'.' : 2\n"
     ]
    },
    {
     "data": {
      "text/plain": [
       "(['1839년', '파우스트을', '읽었다.'], [0, 0, 0, 0, 0, 0, 1, 1, 1, 1, 1, 1, 2, 2, 2, 2])"
      ]
     },
     "execution_count": 12,
     "metadata": {},
     "output_type": "execute_result"
    }
   ],
   "source": [
    "# 첫번째 문장(string1)에 대해 띄어쓰기 영역 정보를 표시\n",
    "word_tokens, char_to_word = _tokenize_whitespace(string1)\n",
    "for c, i in zip(list(string1), char_to_word):\n",
    "    print(f'\\'{c}\\' : {i}')\n",
    "\n",
    "word_tokens, char_to_word"
   ]
  },
  {
   "cell_type": "code",
   "execution_count": 13,
   "id": "jewish-carol",
   "metadata": {},
   "outputs": [
    {
     "name": "stdout",
     "output_type": "stream",
     "text": [
      "'1' : 0\n",
      "'8' : 0\n",
      "'3' : 0\n",
      "'9' : 0\n",
      "'년' : 0\n",
      "' ' : 0\n",
      "' ' : 0\n",
      "'파' : 1\n",
      "'우' : 1\n",
      "'스' : 1\n",
      "'트' : 1\n",
      "'을' : 1\n",
      "' ' : 1\n",
      "'읽' : 2\n",
      "'었' : 2\n",
      "'다' : 2\n",
      "'.' : 2\n"
     ]
    },
    {
     "data": {
      "text/plain": [
       "(['1839년', '파우스트을', '읽었다.'],\n",
       " [0, 0, 0, 0, 0, 0, 0, 1, 1, 1, 1, 1, 1, 2, 2, 2, 2])"
      ]
     },
     "execution_count": 13,
     "metadata": {},
     "output_type": "execute_result"
    }
   ],
   "source": [
    "# 두번째 문장(string2)에 대해 띄어쓰기 영역 정보를 표시\n",
    "word_tokens, char_to_word = _tokenize_whitespace(string2)\n",
    "for c, i in zip(list(string2), char_to_word):\n",
    "    print(f'\\'{c}\\' : {i}')\n",
    "\n",
    "word_tokens, char_to_word"
   ]
  },
  {
   "cell_type": "code",
   "execution_count": 14,
   "id": "international-prime",
   "metadata": {},
   "outputs": [
    {
     "data": {
      "text/plain": [
       "(['▁1839', '년', '▁', '파우스트', '을', '▁읽', '었다', '.'], [0, 2, 5])"
      ]
     },
     "execution_count": 14,
     "metadata": {},
     "output_type": "execute_result"
    }
   ],
   "source": [
    "# vocab loading\n",
    "vocab = spm.SentencePieceProcessor()\n",
    "vocab.load(f\"{model_dir}/ko_32000.model\")\n",
    "\n",
    "# word를 subword로 변경하면서 index 저장\n",
    "word_to_token = []\n",
    "context_tokens = []\n",
    "for (i, word) in enumerate(word_tokens):\n",
    "    word_to_token.append(len(context_tokens))\n",
    "    tokens = vocab.encode_as_pieces(word)  # SentencePiece를 사용해 Subword로 쪼갭니다.\n",
    "    for token in tokens:\n",
    "        context_tokens.append(token)\n",
    "\n",
    "context_tokens, word_to_token"
   ]
  },
  {
   "cell_type": "code",
   "execution_count": 15,
   "id": "blind-diamond",
   "metadata": {},
   "outputs": [
    {
     "name": "stdout",
     "output_type": "stream",
     "text": [
      "'1' : 0\n",
      "'8' : 0\n",
      "'3' : 0\n",
      "'9' : 0\n",
      "'년' : 0\n",
      "' ' : 0\n",
      "' ' : 0\n",
      "'파' : 1\n",
      "'우' : 1\n",
      "'스' : 1\n",
      "'트' : 1\n",
      "'을' : 1\n",
      "' ' : 1\n",
      "'읽' : 2\n",
      "'었' : 2\n",
      "'다' : 2\n",
      "'.' : 2\n"
     ]
    },
    {
     "data": {
      "text/plain": [
       "(['1839년', '파우스트을', '읽었다.'],\n",
       " [0, 0, 0, 0, 0, 0, 0, 1, 1, 1, 1, 1, 1, 2, 2, 2, 2])"
      ]
     },
     "execution_count": 15,
     "metadata": {},
     "output_type": "execute_result"
    }
   ],
   "source": [
    "# 두번째 문장(string2)에 대해 띄어쓰기 영역 정보를 표시\n",
    "word_tokens, char_to_word = _tokenize_whitespace(string2)\n",
    "for c, i in zip(list(string2), char_to_word):\n",
    "    print(f'\\'{c}\\' : {i}')\n",
    "\n",
    "word_tokens, char_to_word"
   ]
  },
  {
   "cell_type": "code",
   "execution_count": 17,
   "id": "brief-charge",
   "metadata": {},
   "outputs": [],
   "source": [
    "  def _tokenize_vocab(vocab, context_words):\n",
    "      word_to_token = []\n",
    "      context_tokens = []\n",
    "      for (i, word) in enumerate(context_words):\n",
    "          word_to_token.append(len(context_tokens))\n",
    "          tokens = vocab.encode_as_pieces(word)\n",
    "          for token in tokens:\n",
    "              context_tokens.append(token)\n",
    "      return context_tokens, word_to_token"
   ]
  },
  {
   "cell_type": "code",
   "execution_count": 18,
   "id": "documentary-insertion",
   "metadata": {},
   "outputs": [
    {
     "name": "stdout",
     "output_type": "stream",
     "text": [
      "['1839년', '파우스트을', '읽었다.']\n"
     ]
    },
    {
     "data": {
      "text/plain": [
       "(['▁1839', '년', '▁', '파우스트', '을', '▁읽', '었다', '.'], [0, 2, 5])"
      ]
     },
     "execution_count": 18,
     "metadata": {},
     "output_type": "execute_result"
    }
   ],
   "source": [
    "print(word_tokens)  # 처리해야 할 word 단위 입력\n",
    "\n",
    "context_tokens, word_to_token = _tokenize_vocab(vocab, word_tokens)\n",
    "context_tokens, word_to_token   # Subword 단위로 토큰화한 결과"
   ]
  },
  {
   "cell_type": "markdown",
   "id": "consecutive-cornwall",
   "metadata": {},
   "source": [
    "# KorQuAD 데이터셋 전처리 (3) Improve Span\n",
    "---"
   ]
  },
  {
   "cell_type": "markdown",
   "id": "preceding-alcohol",
   "metadata": {},
   "source": [
    "KorQuAD 데이터셋에서 context, question, answer를 뽑아 봅니다. KorQuAD 데이터셋은 질문(question)과 지문(context)을 주고, 지문 영역에서 정답(answer)을 찾도록 구성되어 있습니다. 그러므로 정답에 해당하는 지문 영역을 정확히 찾아내는 것이 전처리의 핵심적인 작업이 됩니다."
   ]
  },
  {
   "cell_type": "code",
   "execution_count": 19,
   "id": "approved-humidity",
   "metadata": {},
   "outputs": [
    {
     "name": "stdout",
     "output_type": "stream",
     "text": [
      "[context]  1839년 바그너는 괴테의 파우스트을 처음 읽고 그 내용에 마음이 끌려 이를 소재로 해서 하나의 교향곡을 쓰려는 뜻을 갖는다. 이 시기 바그너는 1838년에 빛 독촉으로 산전수전을 다 걲은 상황이라 좌절과 실망에 가득했으며 메피스토펠레스를 만나는 파우스트의 심경에 공감했다고 한다. 또한 파리에서 아브네크의 지휘로 파리 음악원 관현악단이 연주하는 베토벤의 교향곡 9번을 듣고 깊은 감명을 받았는데, 이것이 이듬해 1월에 파우스트의 서곡으로 쓰여진 이 작품에 조금이라도 영향을 끼쳤으리라는 것은 의심할 여지가 없다. 여기의 라단조 조성의 경우에도 그의 전기에 적혀 있는 것처럼 단순한 정신적 피로나 실의가 반영된 것이 아니라 베토벤의 합창교향곡 조성의 영향을 받은 것을 볼 수 있다. 그렇게 교향곡 작곡을 1839년부터 40년에 걸쳐 파리에서 착수했으나 1악장을 쓴 뒤에 중단했다. 또한 작품의 완성과 동시에 그는 이 서곡(1악장)을 파리 음악원의 연주회에서 연주할 파트보까지 준비하였으나, 실제로는 이루어지지는 않았다. 결국 초연은 4년 반이 지난 후에 드레스덴에서 연주되었고 재연도 이루어졌지만, 이후에 그대로 방치되고 말았다. 그 사이에 그는 리엔치와 방황하는 네덜란드인을 완성하고 탄호이저에도 착수하는 등 분주한 시간을 보냈는데, 그런 바쁜 생활이 이 곡을 잊게 한 것이 아닌가 하는 의견도 있다.\n",
      "[question]  바그너는 괴테의 파우스트를 읽고 무엇을 쓰고자 했는가?\n",
      "[answer]  교향곡\n",
      "[answer_start] index:  54 character:  교\n",
      "[answer_end]index:  56 character:  곡\n"
     ]
    }
   ],
   "source": [
    "context = train_json['data'][0]['paragraphs'][0]['context']\n",
    "question = train_json['data'][0]['paragraphs'][0]['qas'][0]['question']\n",
    "answer_text = train_json['data'][0]['paragraphs'][0]['qas'][0]['answers'][0]['text']\n",
    "answer_start = train_json['data'][0]['paragraphs'][0]['qas'][0]['answers'][0]['answer_start']\n",
    "answer_end = answer_start + len(answer_text) - 1\n",
    "\n",
    "print('[context] ', context)\n",
    "print('[question] ', question)\n",
    "print('[answer] ', answer_text)\n",
    "print('[answer_start] index: ', answer_start, 'character: ', context[answer_start])\n",
    "print('[answer_end]index: ', answer_end, 'character: ', context[answer_end])\n",
    "\n",
    "# answer_text에 해당하는 context 영역을 정확히 찾아내야 합니다. \n",
    "assert context[answer_start:answer_end + 1] == answer_text"
   ]
  },
  {
   "cell_type": "code",
   "execution_count": 20,
   "id": "cordless-thumb",
   "metadata": {},
   "outputs": [
    {
     "name": "stdout",
     "output_type": "stream",
     "text": [
      "['1839년', '바그너는', '괴테의', '파우스트을', '처음', '읽고', '그', '내용에', '마음이', '끌려', '이를', '소재로', '해서', '하나의', '교향곡을', '쓰려는', '뜻을', '갖는다.', '이', '시기']\n"
     ]
    },
    {
     "data": {
      "text/plain": [
       "([0, 0, 0, 0, 0, 0, 1, 1, 1, 1, 1, 2, 2, 2, 2, 3, 3, 3, 3, 3],\n",
       " '1839년 바그너는 괴테의 파우스트을')"
      ]
     },
     "execution_count": 20,
     "metadata": {},
     "output_type": "execute_result"
    }
   ],
   "source": [
    "# context를 띄어쓰기(word) 단위로 토큰화한 결과를 살펴봅니다. \n",
    "word_tokens, char_to_word = _tokenize_whitespace(context)\n",
    "\n",
    "print( word_tokens[:20])\n",
    "\n",
    "char_to_word[:20], context[:20]"
   ]
  },
  {
   "cell_type": "code",
   "execution_count": 21,
   "id": "included-alpha",
   "metadata": {},
   "outputs": [
    {
     "name": "stdout",
     "output_type": "stream",
     "text": [
      "0 ['▁1839', '년']\n",
      "2 ['▁바그너', '는']\n",
      "4 ['▁괴테', '의']\n",
      "6 ['▁', '파우스트', '을']\n",
      "9 ['▁처음']\n",
      "10 ['▁읽고']\n",
      "11 ['▁그']\n",
      "12 ['▁내용에']\n",
      "13 ['▁마음이']\n",
      "14 ['▁끌려']\n",
      "15 ['▁이를']\n",
      "16 ['▁소재로']\n",
      "17 ['▁해서']\n",
      "18 ['▁하나의']\n",
      "19 ['▁교향곡', '을']\n",
      "21 ['▁쓰', '려는']\n",
      "23 ['▁뜻을']\n",
      "24 ['▁갖는다', '.']\n",
      "26 ['▁이']\n",
      "27 ['▁시기']\n"
     ]
    }
   ],
   "source": [
    "# 띄어쓰기(word) 단위로 쪼개진 context(word_tokens)를 Subword로 토큰화한 결과를 살펴봅니다. \n",
    "context_tokens, word_to_token = _tokenize_vocab(vocab, word_tokens)\n",
    "for i in range(min(20, len(word_to_token) - 1)):\n",
    "    print(word_to_token[i], context_tokens[word_to_token[i]:word_to_token[i + 1]])"
   ]
  },
  {
   "cell_type": "markdown",
   "id": "confidential-environment",
   "metadata": {},
   "source": [
    "이제 질문의 답을 떠올려 봅시다.\n",
    "\n",
    "위에서 우리는 context에 포함된 answer의 글자단위 시작 인덱스 answer_start와 종료 인덱스 answer_end를 구했습니다. 이 위치를 어절(word) 단위로 변환하면 어떻게 될까"
   ]
  },
  {
   "cell_type": "code",
   "execution_count": 22,
   "id": "defined-platform",
   "metadata": {},
   "outputs": [
    {
     "data": {
      "text/plain": [
       "(14, 14, '교향곡', ['교향곡을'])"
      ]
     },
     "execution_count": 22,
     "metadata": {},
     "output_type": "execute_result"
    }
   ],
   "source": [
    "# answer_start와 answer_end로부터 word_start와 word_end를 구합니다. \n",
    "word_start = char_to_word[answer_start]\n",
    "word_end = char_to_word[answer_end]\n",
    "word_start, word_end, answer_text, word_tokens[word_start:word_end + 1]"
   ]
  },
  {
   "cell_type": "markdown",
   "id": "fundamental-object",
   "metadata": {},
   "source": [
    "우리가 찾는 정답은 15번째 어절(index=14)에 있었군요. 하지만 우리가 원하는 정답은 '교향곡'이지, '교향곡을'은 아닙니다.\n",
    "\n",
    "그래서 이번에는 word_start로부터 word_end까지의 context를 Subword 단위로 토큰화한 결과를 살펴봅시다."
   ]
  },
  {
   "cell_type": "code",
   "execution_count": 26,
   "id": "searching-stereo",
   "metadata": {},
   "outputs": [
    {
     "ename": "NameError",
     "evalue": "name 'word_to_tokens' is not defined",
     "output_type": "error",
     "traceback": [
      "\u001b[0;31m---------------------------------------------------------------------------\u001b[0m",
      "\u001b[0;31mNameError\u001b[0m                                 Traceback (most recent call last)",
      "\u001b[0;32m<ipython-input-26-98cf7a9931e9>\u001b[0m in \u001b[0;36m<module>\u001b[0;34m\u001b[0m\n\u001b[0;32m----> 1\u001b[0;31m \u001b[0mword_to_tokens\u001b[0m\u001b[0;34m\u001b[0m\u001b[0;34m\u001b[0m\u001b[0m\n\u001b[0m",
      "\u001b[0;31mNameError\u001b[0m: name 'word_to_tokens' is not defined"
     ]
    }
   ],
   "source": []
  },
  {
   "cell_type": "code",
   "execution_count": 23,
   "id": "eastern-maintenance",
   "metadata": {},
   "outputs": [
    {
     "data": {
      "text/plain": [
       "(19, 20, ['▁교향곡', '을'])"
      ]
     },
     "execution_count": 23,
     "metadata": {},
     "output_type": "execute_result"
    }
   ],
   "source": [
    "token_start = word_to_token[word_start]\n",
    "if word_end < len(word_to_token) - 1:\n",
    "    token_end = word_to_token[word_end + 1] - 1\n",
    "else:\n",
    "    token_end = len(context_tokens) - 1\n",
    "token_start, token_end, context_tokens[token_start:token_end + 1]"
   ]
  },
  {
   "cell_type": "markdown",
   "id": "weighted-coral",
   "metadata": {},
   "source": [
    "이제 거의 정답에 근접했습니다. Subword 단위로 토큰화한 결과 중에는 우리가 찾는 정답과 정확히 일치하는 답이 있는것 같습니다."
   ]
  },
  {
   "cell_type": "code",
   "execution_count": 24,
   "id": "happy-house",
   "metadata": {},
   "outputs": [
    {
     "data": {
      "text/plain": [
       "'▁교향곡'"
      ]
     },
     "execution_count": 24,
     "metadata": {},
     "output_type": "execute_result"
    }
   ],
   "source": [
    "# 실제 정답인 answer_text도 Subword 기준으로 토큰화해 둡니다. \n",
    "token_answer = \" \".join(vocab.encode_as_pieces(answer_text))\n",
    "token_answer"
   ]
  },
  {
   "cell_type": "markdown",
   "id": "atmospheric-determination",
   "metadata": {},
   "source": [
    "이제 눈으로 봐도 어디가 정확히 정답인지 알 수 있게 되었지만, 좀더 일반적인 방법으로 정답 토큰 범위를 찾는 코드를 작성해 보겠습니다. KorQuAD 문제의 정답은 이번처럼 단답형만 있는 것은 아니기 때문입니다."
   ]
  },
  {
   "cell_type": "code",
   "execution_count": 27,
   "id": "innocent-health",
   "metadata": {},
   "outputs": [
    {
     "name": "stdout",
     "output_type": "stream",
     "text": [
      "X >> (19, 20) ▁교향곡 을\n",
      "O >> (19, 19) ▁교향곡\n",
      "X >> (20, 20) 을\n"
     ]
    }
   ],
   "source": [
    "# 정답이 될수 있는 new_start와 new_end의 경우를 순회탐색합니다. \n",
    "for new_start in range(token_start, token_end + 1):\n",
    "    for new_end in range(token_end, new_start - 1, -1):\n",
    "        text_span = \" \".join(context_tokens[new_start : (new_end + 1)])\n",
    "        if text_span == token_answer:   # 정답과 일치하는 경우\n",
    "            print(\"O >>\", (new_start, new_end), text_span)\n",
    "        else:\n",
    "            print(\"X >>\", (new_start, new_end), text_span)"
   ]
  },
  {
   "cell_type": "markdown",
   "id": "accepted-scratch",
   "metadata": {},
   "source": [
    "이제 context에서 answer의 위치를 토큰화된 상태에서 찾는 함수를 아래와 같이 정리할 수 있게 되었습니다."
   ]
  },
  {
   "cell_type": "code",
   "execution_count": 28,
   "id": "hybrid-persian",
   "metadata": {},
   "outputs": [],
   "source": [
    "# context_tokens에서 char_answer의 위치를 찾아 리턴하는 함수\n",
    "def _improve_span(vocab, context_tokens, token_start, token_end, char_answer):\n",
    "    token_answer = \" \".join(vocab.encode_as_pieces(char_answer))\n",
    "    for new_start in range(token_start, token_end + 1):\n",
    "        for new_end in range(token_end, new_start - 1, -1):\n",
    "            text_span = \" \".join(context_tokens[new_start : (new_end + 1)])\n",
    "            if text_span == token_answer:\n",
    "                return (new_start, new_end)\n",
    "    return (token_start, token_end)"
   ]
  },
  {
   "cell_type": "markdown",
   "id": "textile-paradise",
   "metadata": {},
   "source": [
    "잘 작동하는지 확인해 봅시다."
   ]
  },
  {
   "cell_type": "code",
   "execution_count": 29,
   "id": "floating-concrete",
   "metadata": {},
   "outputs": [
    {
     "name": "stdout",
     "output_type": "stream",
     "text": [
      "token_start: 19  token_end: 19\n"
     ]
    },
    {
     "data": {
      "text/plain": [
       "['▁교향곡']"
      ]
     },
     "execution_count": 29,
     "metadata": {},
     "output_type": "execute_result"
    }
   ],
   "source": [
    "token_start, token_end = _improve_span(vocab, context_tokens, token_start, token_end, answer_text)\n",
    "print('token_start:', token_start, ' token_end:', token_end)\n",
    "context_tokens[token_start:token_end + 1]"
   ]
  },
  {
   "cell_type": "markdown",
   "id": "vital-money",
   "metadata": {},
   "source": [
    "# KorQuAD 데이터셋 전처리 (4) 데이터셋 분리\n",
    "---"
   ]
  },
  {
   "cell_type": "markdown",
   "id": "connected-disorder",
   "metadata": {},
   "source": [
    "## train 데이터셋, dev 데이터셋을 분리하여, 위에서 작성한 _improve_span() 함수를 이용해 전처리 후 파일로 저장합니다."
   ]
  },
  {
   "cell_type": "code",
   "execution_count": 30,
   "id": "early-guarantee",
   "metadata": {},
   "outputs": [],
   "source": [
    "def dump_korquad(vocab, json_data, out_file):\n",
    "    with open(out_file, \"w\") as f:\n",
    "        for data in tqdm(json_data[\"data\"]):\n",
    "            title = data[\"title\"]\n",
    "            for paragraph in data[\"paragraphs\"]:\n",
    "                context = paragraph[\"context\"]\n",
    "                context_words, char_to_word = _tokenize_whitespace(context)\n",
    "\n",
    "                for qa in paragraph[\"qas\"]:\n",
    "                    assert len(qa[\"answers\"]) == 1\n",
    "                    qa_id = qa[\"id\"]\n",
    "                    question = qa[\"question\"]\n",
    "                    answer_text = qa[\"answers\"][0][\"text\"]\n",
    "                    answer_start = qa[\"answers\"][0][\"answer_start\"]\n",
    "                    answer_end = answer_start + len(answer_text) - 1\n",
    "\n",
    "                    assert answer_text == context[answer_start:answer_end + 1]\n",
    "\n",
    "                    word_start = char_to_word[answer_start]\n",
    "                    word_end = char_to_word[answer_end]\n",
    "\n",
    "                    word_answer = \" \".join(context_words[word_start:word_end + 1])\n",
    "                    char_answer = \" \".join(answer_text.strip().split())\n",
    "                    assert char_answer in word_answer\n",
    "\n",
    "                    context_tokens, word_to_token = _tokenize_vocab(vocab, context_words)\n",
    "\n",
    "                    token_start = word_to_token[word_start]\n",
    "                    if word_end < len(word_to_token) - 1:\n",
    "                        token_end = word_to_token[word_end + 1] - 1\n",
    "                    else:\n",
    "                        token_end = len(context_tokens) - 1\n",
    "\n",
    "                    token_start, token_end = _improve_span(vocab, context_tokens, token_start, token_end, char_answer)\n",
    "\n",
    "                    data = {\"qa_id\": qa_id, \"title\": title, \"question\": vocab.encode_as_pieces(question), \"context\": context_tokens, \"answer\": char_answer, \"token_start\": token_start, \"token_end\":token_end}\n",
    "                    f.write(json.dumps(data, ensure_ascii=False))\n",
    "                    f.write(\"\\n\")"
   ]
  },
  {
   "cell_type": "code",
   "execution_count": 31,
   "id": "coordinate-confidentiality",
   "metadata": {},
   "outputs": [
    {
     "data": {
      "application/vnd.jupyter.widget-view+json": {
       "model_id": "57d2a943ab9e470bba30eadebf0bea17",
       "version_major": 2,
       "version_minor": 0
      },
      "text/plain": [
       "  0%|          | 0/1420 [00:00<?, ?it/s]"
      ]
     },
     "metadata": {},
     "output_type": "display_data"
    },
    {
     "data": {
      "application/vnd.jupyter.widget-view+json": {
       "model_id": "0e200d06ff5b410b9f462babfb977939",
       "version_major": 2,
       "version_minor": 0
      },
      "text/plain": [
       "  0%|          | 0/140 [00:00<?, ?it/s]"
      ]
     },
     "metadata": {},
     "output_type": "display_data"
    }
   ],
   "source": [
    "# 전처리를 수행하여 파일로 생성합니다. \n",
    "dump_korquad(vocab, train_json, f\"{data_dir}/korquad_train.json\")\n",
    "dump_korquad(vocab, dev_json, f\"{data_dir}/korquad_dev.json\")"
   ]
  },
  {
   "cell_type": "code",
   "execution_count": 32,
   "id": "chronic-enemy",
   "metadata": {},
   "outputs": [
    {
     "name": "stdout",
     "output_type": "stream",
     "text": [
      "{\"qa_id\": \"6566495-0-0\", \"title\": \"파우스트_서곡\", \"question\": [\"▁바그너\", \"는\", \"▁괴테\", \"의\", \"▁\", \"파우스트\", \"를\", \"▁읽고\", \"▁무엇을\", \"▁쓰고\", \"자\", \"▁\", \"했\", \"는\", \"가\", \"?\"], \"context\": [\"▁1839\", \"년\", \"▁바그너\", \"는\", \"▁괴테\", \"의\", \"▁\", \"파우스트\", \"을\", \"▁처음\", \"▁읽고\", \"▁그\", \"▁내용에\", \"▁마음이\", \"▁끌려\", \"▁이를\", \"▁소재로\", \"▁해서\", \"▁하나의\", \"▁교향곡\", \"을\", \"▁쓰\", \"려는\", \"▁뜻을\", \"▁갖는다\", \".\", \"▁이\", \"▁시기\", \"▁바그너\", \"는\", \"▁1838\", \"년에\", \"▁빛\", \"▁독\", \"촉\", \"으로\", \"▁산\", \"전\", \"수\", \"전을\", \"▁다\", \"▁\", \"걲\", \"은\", \"▁상황이\", \"라\", \"▁좌절\", \"과\", \"▁실망\", \"에\", \"▁가득\", \"했으며\", \"▁메\", \"피스\", \"토\", \"펠\", \"레스\", \"를\", \"▁만나는\", \"▁\", \"파우스트\", \"의\", \"▁심\", \"경에\", \"▁공감\", \"했다고\", \"▁한다\", \".\", \"▁또한\", \"▁파리에서\", \"▁아브\", \"네\", \"크의\", \"▁지휘\", \"로\", \"▁파리\", \"▁음악원\", \"▁관현악단\", \"이\", \"▁연주하는\", \"▁베토벤\", \"의\", \"▁교향곡\", \"▁9\", \"번을\", \"▁듣고\", \"▁깊은\", \"▁감\", \"명을\", \"▁받았는데\", \",\", \"▁이것이\", \"▁이듬해\", \"▁1\", \"월에\", \"▁\", \"파우스트\", \"의\", \"▁서\", \"곡으로\", \"▁쓰여진\", \"▁이\", \"▁작품에\", \"▁조금\", \"이라도\", \"▁영향을\", \"▁끼\", \"쳤\", \"으리라\", \"는\", \"▁것은\", \"▁의심\", \"할\", \"▁여지가\", \"▁없다\", \".\", \"▁여기\", \"의\", \"▁라\", \"단\", \"조\", \"▁조성\", \"의\", \"▁경우에도\", \"▁그의\", \"▁전기\", \"에\", \"▁적혀\", \"▁있는\", \"▁것처럼\", \"▁단순한\", \"▁정신적\", \"▁피로\", \"나\", \"▁실\", \"의\", \"가\", \"▁반영\", \"된\", \"▁것이\", \"▁아니라\", \"▁베토벤\", \"의\", \"▁합창\", \"교\", \"향\", \"곡\", \"▁조성\", \"의\", \"▁영향을\", \"▁받은\", \"▁것을\", \"▁볼\", \"▁수\", \"▁있다\", \".\", \"▁그렇게\", \"▁교향곡\", \"▁작곡\", \"을\", \"▁1839\", \"년부터\", \"▁40\", \"년에\", \"▁걸쳐\", \"▁파리에서\", \"▁착수\", \"했으나\", \"▁1\", \"악장\", \"을\", \"▁쓴\", \"▁뒤에\", \"▁중단\", \"했다\", \".\", \"▁또한\", \"▁작품의\", \"▁완성\", \"과\", \"▁동시에\", \"▁그는\", \"▁이\", \"▁서\", \"곡\", \"(1\", \"악장\", \")\", \"을\", \"▁파리\", \"▁음악원\", \"의\", \"▁연주회\", \"에서\", \"▁연주\", \"할\", \"▁파트\", \"보\", \"까지\", \"▁준비\", \"하였으나\", \",\", \"▁실제로는\", \"▁이루어지지\", \"는\", \"▁않았다\", \".\", \"▁결국\", \"▁초연\", \"은\", \"▁4\", \"년\", \"▁반\", \"이\", \"▁지난\", \"▁후에\", \"▁드레스덴\", \"에서\", \"▁연주\", \"되었고\", \"▁재\", \"연\", \"도\", \"▁이루어졌\", \"지만\", \",\", \"▁이후에\", \"▁그대로\", \"▁방치\", \"되고\", \"▁말았다\", \".\", \"▁그\", \"▁사이에\", \"▁그는\", \"▁리\", \"엔\", \"치\", \"와\", \"▁방\", \"황\", \"하는\", \"▁네덜란드\", \"인\", \"을\", \"▁완성\", \"하고\", \"▁탄\", \"호\", \"이\", \"저\", \"에도\", \"▁착수\", \"하는\", \"▁등\", \"▁분\", \"주\", \"한\", \"▁시간을\", \"▁보\", \"냈는데\", \",\", \"▁그런\", \"▁바쁜\", \"▁생활\", \"이\", \"▁이\", \"▁곡을\", \"▁잊\", \"게\", \"▁한\", \"▁것이\", \"▁아닌\", \"가\", \"▁하는\", \"▁의견도\", \"▁있다\", \".\"], \"answer\": \"교향곡\", \"token_start\": 19, \"token_end\": 19}\n",
      "{\"qa_id\": \"6566495-0-1\", \"title\": \"파우스트_서곡\", \"question\": [\"▁바그너\", \"는\", \"▁교향곡\", \"▁작곡\", \"을\", \"▁어디\", \"까지\", \"▁쓴\", \"▁뒤에\", \"▁중단\", \"했\", \"는\", \"가\", \"?\"], \"context\": [\"▁1839\", \"년\", \"▁바그너\", \"는\", \"▁괴테\", \"의\", \"▁\", \"파우스트\", \"을\", \"▁처음\", \"▁읽고\", \"▁그\", \"▁내용에\", \"▁마음이\", \"▁끌려\", \"▁이를\", \"▁소재로\", \"▁해서\", \"▁하나의\", \"▁교향곡\", \"을\", \"▁쓰\", \"려는\", \"▁뜻을\", \"▁갖는다\", \".\", \"▁이\", \"▁시기\", \"▁바그너\", \"는\", \"▁1838\", \"년에\", \"▁빛\", \"▁독\", \"촉\", \"으로\", \"▁산\", \"전\", \"수\", \"전을\", \"▁다\", \"▁\", \"걲\", \"은\", \"▁상황이\", \"라\", \"▁좌절\", \"과\", \"▁실망\", \"에\", \"▁가득\", \"했으며\", \"▁메\", \"피스\", \"토\", \"펠\", \"레스\", \"를\", \"▁만나는\", \"▁\", \"파우스트\", \"의\", \"▁심\", \"경에\", \"▁공감\", \"했다고\", \"▁한다\", \".\", \"▁또한\", \"▁파리에서\", \"▁아브\", \"네\", \"크의\", \"▁지휘\", \"로\", \"▁파리\", \"▁음악원\", \"▁관현악단\", \"이\", \"▁연주하는\", \"▁베토벤\", \"의\", \"▁교향곡\", \"▁9\", \"번을\", \"▁듣고\", \"▁깊은\", \"▁감\", \"명을\", \"▁받았는데\", \",\", \"▁이것이\", \"▁이듬해\", \"▁1\", \"월에\", \"▁\", \"파우스트\", \"의\", \"▁서\", \"곡으로\", \"▁쓰여진\", \"▁이\", \"▁작품에\", \"▁조금\", \"이라도\", \"▁영향을\", \"▁끼\", \"쳤\", \"으리라\", \"는\", \"▁것은\", \"▁의심\", \"할\", \"▁여지가\", \"▁없다\", \".\", \"▁여기\", \"의\", \"▁라\", \"단\", \"조\", \"▁조성\", \"의\", \"▁경우에도\", \"▁그의\", \"▁전기\", \"에\", \"▁적혀\", \"▁있는\", \"▁것처럼\", \"▁단순한\", \"▁정신적\", \"▁피로\", \"나\", \"▁실\", \"의\", \"가\", \"▁반영\", \"된\", \"▁것이\", \"▁아니라\", \"▁베토벤\", \"의\", \"▁합창\", \"교\", \"향\", \"곡\", \"▁조성\", \"의\", \"▁영향을\", \"▁받은\", \"▁것을\", \"▁볼\", \"▁수\", \"▁있다\", \".\", \"▁그렇게\", \"▁교향곡\", \"▁작곡\", \"을\", \"▁1839\", \"년부터\", \"▁40\", \"년에\", \"▁걸쳐\", \"▁파리에서\", \"▁착수\", \"했으나\", \"▁1\", \"악장\", \"을\", \"▁쓴\", \"▁뒤에\", \"▁중단\", \"했다\", \".\", \"▁또한\", \"▁작품의\", \"▁완성\", \"과\", \"▁동시에\", \"▁그는\", \"▁이\", \"▁서\", \"곡\", \"(1\", \"악장\", \")\", \"을\", \"▁파리\", \"▁음악원\", \"의\", \"▁연주회\", \"에서\", \"▁연주\", \"할\", \"▁파트\", \"보\", \"까지\", \"▁준비\", \"하였으나\", \",\", \"▁실제로는\", \"▁이루어지지\", \"는\", \"▁않았다\", \".\", \"▁결국\", \"▁초연\", \"은\", \"▁4\", \"년\", \"▁반\", \"이\", \"▁지난\", \"▁후에\", \"▁드레스덴\", \"에서\", \"▁연주\", \"되었고\", \"▁재\", \"연\", \"도\", \"▁이루어졌\", \"지만\", \",\", \"▁이후에\", \"▁그대로\", \"▁방치\", \"되고\", \"▁말았다\", \".\", \"▁그\", \"▁사이에\", \"▁그는\", \"▁리\", \"엔\", \"치\", \"와\", \"▁방\", \"황\", \"하는\", \"▁네덜란드\", \"인\", \"을\", \"▁완성\", \"하고\", \"▁탄\", \"호\", \"이\", \"저\", \"에도\", \"▁착수\", \"하는\", \"▁등\", \"▁분\", \"주\", \"한\", \"▁시간을\", \"▁보\", \"냈는데\", \",\", \"▁그런\", \"▁바쁜\", \"▁생활\", \"이\", \"▁이\", \"▁곡을\", \"▁잊\", \"게\", \"▁한\", \"▁것이\", \"▁아닌\", \"가\", \"▁하는\", \"▁의견도\", \"▁있다\", \".\"], \"answer\": \"1악장\", \"token_start\": 168, \"token_end\": 169}\n",
      "{\"qa_id\": \"6566495-0-2\", \"title\": \"파우스트_서곡\", \"question\": [\"▁바그너\", \"가\", \"▁\", \"파우스트\", \"▁서\", \"곡을\", \"▁쓸\", \"▁때\", \"▁어떤\", \"▁곡\", \"의\", \"▁영향을\", \"▁받았\", \"는\", \"가\", \"?\"], \"context\": [\"▁1839\", \"년\", \"▁바그너\", \"는\", \"▁괴테\", \"의\", \"▁\", \"파우스트\", \"을\", \"▁처음\", \"▁읽고\", \"▁그\", \"▁내용에\", \"▁마음이\", \"▁끌려\", \"▁이를\", \"▁소재로\", \"▁해서\", \"▁하나의\", \"▁교향곡\", \"을\", \"▁쓰\", \"려는\", \"▁뜻을\", \"▁갖는다\", \".\", \"▁이\", \"▁시기\", \"▁바그너\", \"는\", \"▁1838\", \"년에\", \"▁빛\", \"▁독\", \"촉\", \"으로\", \"▁산\", \"전\", \"수\", \"전을\", \"▁다\", \"▁\", \"걲\", \"은\", \"▁상황이\", \"라\", \"▁좌절\", \"과\", \"▁실망\", \"에\", \"▁가득\", \"했으며\", \"▁메\", \"피스\", \"토\", \"펠\", \"레스\", \"를\", \"▁만나는\", \"▁\", \"파우스트\", \"의\", \"▁심\", \"경에\", \"▁공감\", \"했다고\", \"▁한다\", \".\", \"▁또한\", \"▁파리에서\", \"▁아브\", \"네\", \"크의\", \"▁지휘\", \"로\", \"▁파리\", \"▁음악원\", \"▁관현악단\", \"이\", \"▁연주하는\", \"▁베토벤\", \"의\", \"▁교향곡\", \"▁9\", \"번을\", \"▁듣고\", \"▁깊은\", \"▁감\", \"명을\", \"▁받았는데\", \",\", \"▁이것이\", \"▁이듬해\", \"▁1\", \"월에\", \"▁\", \"파우스트\", \"의\", \"▁서\", \"곡으로\", \"▁쓰여진\", \"▁이\", \"▁작품에\", \"▁조금\", \"이라도\", \"▁영향을\", \"▁끼\", \"쳤\", \"으리라\", \"는\", \"▁것은\", \"▁의심\", \"할\", \"▁여지가\", \"▁없다\", \".\", \"▁여기\", \"의\", \"▁라\", \"단\", \"조\", \"▁조성\", \"의\", \"▁경우에도\", \"▁그의\", \"▁전기\", \"에\", \"▁적혀\", \"▁있는\", \"▁것처럼\", \"▁단순한\", \"▁정신적\", \"▁피로\", \"나\", \"▁실\", \"의\", \"가\", \"▁반영\", \"된\", \"▁것이\", \"▁아니라\", \"▁베토벤\", \"의\", \"▁합창\", \"교\", \"향\", \"곡\", \"▁조성\", \"의\", \"▁영향을\", \"▁받은\", \"▁것을\", \"▁볼\", \"▁수\", \"▁있다\", \".\", \"▁그렇게\", \"▁교향곡\", \"▁작곡\", \"을\", \"▁1839\", \"년부터\", \"▁40\", \"년에\", \"▁걸쳐\", \"▁파리에서\", \"▁착수\", \"했으나\", \"▁1\", \"악장\", \"을\", \"▁쓴\", \"▁뒤에\", \"▁중단\", \"했다\", \".\", \"▁또한\", \"▁작품의\", \"▁완성\", \"과\", \"▁동시에\", \"▁그는\", \"▁이\", \"▁서\", \"곡\", \"(1\", \"악장\", \")\", \"을\", \"▁파리\", \"▁음악원\", \"의\", \"▁연주회\", \"에서\", \"▁연주\", \"할\", \"▁파트\", \"보\", \"까지\", \"▁준비\", \"하였으나\", \",\", \"▁실제로는\", \"▁이루어지지\", \"는\", \"▁않았다\", \".\", \"▁결국\", \"▁초연\", \"은\", \"▁4\", \"년\", \"▁반\", \"이\", \"▁지난\", \"▁후에\", \"▁드레스덴\", \"에서\", \"▁연주\", \"되었고\", \"▁재\", \"연\", \"도\", \"▁이루어졌\", \"지만\", \",\", \"▁이후에\", \"▁그대로\", \"▁방치\", \"되고\", \"▁말았다\", \".\", \"▁그\", \"▁사이에\", \"▁그는\", \"▁리\", \"엔\", \"치\", \"와\", \"▁방\", \"황\", \"하는\", \"▁네덜란드\", \"인\", \"을\", \"▁완성\", \"하고\", \"▁탄\", \"호\", \"이\", \"저\", \"에도\", \"▁착수\", \"하는\", \"▁등\", \"▁분\", \"주\", \"한\", \"▁시간을\", \"▁보\", \"냈는데\", \",\", \"▁그런\", \"▁바쁜\", \"▁생활\", \"이\", \"▁이\", \"▁곡을\", \"▁잊\", \"게\", \"▁한\", \"▁것이\", \"▁아닌\", \"가\", \"▁하는\", \"▁의견도\", \"▁있다\", \".\"], \"answer\": \"베토벤의 교향곡 9번\", \"token_start\": 80, \"token_end\": 84}\n",
      "{\"qa_id\": \"6566518-0-0\", \"title\": \"파우스트_서곡\", \"question\": [\"▁1839\", \"년\", \"▁바그너\", \"가\", \"▁교향곡\", \"의\", \"▁소재로\", \"▁쓰\", \"려고\", \"▁했던\", \"▁책은\", \"?\"], \"context\": [\"▁1839\", \"년\", \"▁바그너\", \"는\", \"▁괴테\", \"의\", \"▁\", \"파우스트\", \"을\", \"▁처음\", \"▁읽고\", \"▁그\", \"▁내용에\", \"▁마음이\", \"▁끌려\", \"▁이를\", \"▁소재로\", \"▁해서\", \"▁하나의\", \"▁교향곡\", \"을\", \"▁쓰\", \"려는\", \"▁뜻을\", \"▁갖는다\", \".\", \"▁이\", \"▁시기\", \"▁바그너\", \"는\", \"▁1838\", \"년에\", \"▁빛\", \"▁독\", \"촉\", \"으로\", \"▁산\", \"전\", \"수\", \"전을\", \"▁다\", \"▁\", \"걲\", \"은\", \"▁상황이\", \"라\", \"▁좌절\", \"과\", \"▁실망\", \"에\", \"▁가득\", \"했으며\", \"▁메\", \"피스\", \"토\", \"펠\", \"레스\", \"를\", \"▁만나는\", \"▁\", \"파우스트\", \"의\", \"▁심\", \"경에\", \"▁공감\", \"했다고\", \"▁한다\", \".\", \"▁또한\", \"▁파리에서\", \"▁아브\", \"네\", \"크의\", \"▁지휘\", \"로\", \"▁파리\", \"▁음악원\", \"▁관현악단\", \"이\", \"▁연주하는\", \"▁베토벤\", \"의\", \"▁교향곡\", \"▁9\", \"번을\", \"▁듣고\", \"▁깊은\", \"▁감\", \"명을\", \"▁받았는데\", \",\", \"▁이것이\", \"▁이듬해\", \"▁1\", \"월에\", \"▁\", \"파우스트\", \"의\", \"▁서\", \"곡으로\", \"▁쓰여진\", \"▁이\", \"▁작품에\", \"▁조금\", \"이라도\", \"▁영향을\", \"▁끼\", \"쳤\", \"으리라\", \"는\", \"▁것은\", \"▁의심\", \"할\", \"▁여지가\", \"▁없다\", \".\", \"▁여기\", \"의\", \"▁라\", \"단\", \"조\", \"▁조성\", \"의\", \"▁경우에도\", \"▁그의\", \"▁전기\", \"에\", \"▁적혀\", \"▁있는\", \"▁것처럼\", \"▁단순한\", \"▁정신적\", \"▁피로\", \"나\", \"▁실\", \"의\", \"가\", \"▁반영\", \"된\", \"▁것이\", \"▁아니라\", \"▁베토벤\", \"의\", \"▁합창\", \"교\", \"향\", \"곡\", \"▁조성\", \"의\", \"▁영향을\", \"▁받은\", \"▁것을\", \"▁볼\", \"▁수\", \"▁있다\", \".\", \"▁그렇게\", \"▁교향곡\", \"▁작곡\", \"을\", \"▁1839\", \"년부터\", \"▁40\", \"년에\", \"▁걸쳐\", \"▁파리에서\", \"▁착수\", \"했으나\", \"▁1\", \"악장\", \"을\", \"▁쓴\", \"▁뒤에\", \"▁중단\", \"했다\", \".\", \"▁또한\", \"▁작품의\", \"▁완성\", \"과\", \"▁동시에\", \"▁그는\", \"▁이\", \"▁서\", \"곡\", \"(1\", \"악장\", \")\", \"을\", \"▁파리\", \"▁음악원\", \"의\", \"▁연주회\", \"에서\", \"▁연주\", \"할\", \"▁파트\", \"보\", \"까지\", \"▁준비\", \"하였으나\", \",\", \"▁실제로는\", \"▁이루어지지\", \"는\", \"▁않았다\", \".\", \"▁결국\", \"▁초연\", \"은\", \"▁4\", \"년\", \"▁반\", \"이\", \"▁지난\", \"▁후에\", \"▁드레스덴\", \"에서\", \"▁연주\", \"되었고\", \"▁재\", \"연\", \"도\", \"▁이루어졌\", \"지만\", \",\", \"▁이후에\", \"▁그대로\", \"▁방치\", \"되고\", \"▁말았다\", \".\", \"▁그\", \"▁사이에\", \"▁그는\", \"▁리\", \"엔\", \"치\", \"와\", \"▁방\", \"황\", \"하는\", \"▁네덜란드\", \"인\", \"을\", \"▁완성\", \"하고\", \"▁탄\", \"호\", \"이\", \"저\", \"에도\", \"▁착수\", \"하는\", \"▁등\", \"▁분\", \"주\", \"한\", \"▁시간을\", \"▁보\", \"냈는데\", \",\", \"▁그런\", \"▁바쁜\", \"▁생활\", \"이\", \"▁이\", \"▁곡을\", \"▁잊\", \"게\", \"▁한\", \"▁것이\", \"▁아닌\", \"가\", \"▁하는\", \"▁의견도\", \"▁있다\", \".\"], \"answer\": \"파우스트\", \"token_start\": 6, \"token_end\": 7}\n",
      "{\"qa_id\": \"6566518-0-1\", \"title\": \"파우스트_서곡\", \"question\": [\"▁\", \"파우스트\", \"▁서\", \"곡\", \"의\", \"▁라\", \"단\", \"조\", \"▁조성\", \"이\", \"▁영향을\", \"▁받은\", \"▁베토벤\", \"의\", \"▁곡은\", \"?\"], \"context\": [\"▁1839\", \"년\", \"▁바그너\", \"는\", \"▁괴테\", \"의\", \"▁\", \"파우스트\", \"을\", \"▁처음\", \"▁읽고\", \"▁그\", \"▁내용에\", \"▁마음이\", \"▁끌려\", \"▁이를\", \"▁소재로\", \"▁해서\", \"▁하나의\", \"▁교향곡\", \"을\", \"▁쓰\", \"려는\", \"▁뜻을\", \"▁갖는다\", \".\", \"▁이\", \"▁시기\", \"▁바그너\", \"는\", \"▁1838\", \"년에\", \"▁빛\", \"▁독\", \"촉\", \"으로\", \"▁산\", \"전\", \"수\", \"전을\", \"▁다\", \"▁\", \"걲\", \"은\", \"▁상황이\", \"라\", \"▁좌절\", \"과\", \"▁실망\", \"에\", \"▁가득\", \"했으며\", \"▁메\", \"피스\", \"토\", \"펠\", \"레스\", \"를\", \"▁만나는\", \"▁\", \"파우스트\", \"의\", \"▁심\", \"경에\", \"▁공감\", \"했다고\", \"▁한다\", \".\", \"▁또한\", \"▁파리에서\", \"▁아브\", \"네\", \"크의\", \"▁지휘\", \"로\", \"▁파리\", \"▁음악원\", \"▁관현악단\", \"이\", \"▁연주하는\", \"▁베토벤\", \"의\", \"▁교향곡\", \"▁9\", \"번을\", \"▁듣고\", \"▁깊은\", \"▁감\", \"명을\", \"▁받았는데\", \",\", \"▁이것이\", \"▁이듬해\", \"▁1\", \"월에\", \"▁\", \"파우스트\", \"의\", \"▁서\", \"곡으로\", \"▁쓰여진\", \"▁이\", \"▁작품에\", \"▁조금\", \"이라도\", \"▁영향을\", \"▁끼\", \"쳤\", \"으리라\", \"는\", \"▁것은\", \"▁의심\", \"할\", \"▁여지가\", \"▁없다\", \".\", \"▁여기\", \"의\", \"▁라\", \"단\", \"조\", \"▁조성\", \"의\", \"▁경우에도\", \"▁그의\", \"▁전기\", \"에\", \"▁적혀\", \"▁있는\", \"▁것처럼\", \"▁단순한\", \"▁정신적\", \"▁피로\", \"나\", \"▁실\", \"의\", \"가\", \"▁반영\", \"된\", \"▁것이\", \"▁아니라\", \"▁베토벤\", \"의\", \"▁합창\", \"교\", \"향\", \"곡\", \"▁조성\", \"의\", \"▁영향을\", \"▁받은\", \"▁것을\", \"▁볼\", \"▁수\", \"▁있다\", \".\", \"▁그렇게\", \"▁교향곡\", \"▁작곡\", \"을\", \"▁1839\", \"년부터\", \"▁40\", \"년에\", \"▁걸쳐\", \"▁파리에서\", \"▁착수\", \"했으나\", \"▁1\", \"악장\", \"을\", \"▁쓴\", \"▁뒤에\", \"▁중단\", \"했다\", \".\", \"▁또한\", \"▁작품의\", \"▁완성\", \"과\", \"▁동시에\", \"▁그는\", \"▁이\", \"▁서\", \"곡\", \"(1\", \"악장\", \")\", \"을\", \"▁파리\", \"▁음악원\", \"의\", \"▁연주회\", \"에서\", \"▁연주\", \"할\", \"▁파트\", \"보\", \"까지\", \"▁준비\", \"하였으나\", \",\", \"▁실제로는\", \"▁이루어지지\", \"는\", \"▁않았다\", \".\", \"▁결국\", \"▁초연\", \"은\", \"▁4\", \"년\", \"▁반\", \"이\", \"▁지난\", \"▁후에\", \"▁드레스덴\", \"에서\", \"▁연주\", \"되었고\", \"▁재\", \"연\", \"도\", \"▁이루어졌\", \"지만\", \",\", \"▁이후에\", \"▁그대로\", \"▁방치\", \"되고\", \"▁말았다\", \".\", \"▁그\", \"▁사이에\", \"▁그는\", \"▁리\", \"엔\", \"치\", \"와\", \"▁방\", \"황\", \"하는\", \"▁네덜란드\", \"인\", \"을\", \"▁완성\", \"하고\", \"▁탄\", \"호\", \"이\", \"저\", \"에도\", \"▁착수\", \"하는\", \"▁등\", \"▁분\", \"주\", \"한\", \"▁시간을\", \"▁보\", \"냈는데\", \",\", \"▁그런\", \"▁바쁜\", \"▁생활\", \"이\", \"▁이\", \"▁곡을\", \"▁잊\", \"게\", \"▁한\", \"▁것이\", \"▁아닌\", \"가\", \"▁하는\", \"▁의견도\", \"▁있다\", \".\"], \"answer\": \"합창교향곡\", \"token_start\": 143, \"token_end\": 146}\n",
      "{\"qa_id\": \"5917067-0-0\", \"title\": \"파우스트_서곡\", \"question\": [\"▁바그너\", \"가\", \"▁\", \"파우스트\", \"를\", \"▁처음으로\", \"▁읽\", \"은\", \"▁\", \"년\", \"도\", \"는\", \"?\"], \"context\": [\"▁1839\", \"년\", \"▁바그너\", \"는\", \"▁괴테\", \"의\", \"▁\", \"파우스트\", \"을\", \"▁처음\", \"▁읽고\", \"▁그\", \"▁내용에\", \"▁마음이\", \"▁끌려\", \"▁이를\", \"▁소재로\", \"▁해서\", \"▁하나의\", \"▁교향곡\", \"을\", \"▁쓰\", \"려는\", \"▁뜻을\", \"▁갖는다\", \".\", \"▁이\", \"▁시기\", \"▁바그너\", \"는\", \"▁1838\", \"년에\", \"▁빛\", \"▁독\", \"촉\", \"으로\", \"▁산\", \"전\", \"수\", \"전을\", \"▁다\", \"▁\", \"걲\", \"은\", \"▁상황이\", \"라\", \"▁좌절\", \"과\", \"▁실망\", \"에\", \"▁가득\", \"했으며\", \"▁메\", \"피스\", \"토\", \"펠\", \"레스\", \"를\", \"▁만나는\", \"▁\", \"파우스트\", \"의\", \"▁심\", \"경에\", \"▁공감\", \"했다고\", \"▁한다\", \".\", \"▁또한\", \"▁파리에서\", \"▁아브\", \"네\", \"크의\", \"▁지휘\", \"로\", \"▁파리\", \"▁음악원\", \"▁관현악단\", \"이\", \"▁연주하는\", \"▁베토벤\", \"의\", \"▁교향곡\", \"▁9\", \"번을\", \"▁듣고\", \"▁깊은\", \"▁감\", \"명을\", \"▁받았는데\", \",\", \"▁이것이\", \"▁이듬해\", \"▁1\", \"월에\", \"▁\", \"파우스트\", \"의\", \"▁서\", \"곡으로\", \"▁쓰여진\", \"▁이\", \"▁작품에\", \"▁조금\", \"이라도\", \"▁영향을\", \"▁끼\", \"쳤\", \"으리라\", \"는\", \"▁것은\", \"▁의심\", \"할\", \"▁여지가\", \"▁없다\", \".\", \"▁여기\", \"의\", \"▁라\", \"단\", \"조\", \"▁조성\", \"의\", \"▁경우에도\", \"▁그의\", \"▁전기\", \"에\", \"▁적혀\", \"▁있는\", \"▁것처럼\", \"▁단순한\", \"▁정신적\", \"▁피로\", \"나\", \"▁실\", \"의\", \"가\", \"▁반영\", \"된\", \"▁것이\", \"▁아니라\", \"▁베토벤\", \"의\", \"▁합창\", \"교\", \"향\", \"곡\", \"▁조성\", \"의\", \"▁영향을\", \"▁받은\", \"▁것을\", \"▁볼\", \"▁수\", \"▁있다\", \".\", \"▁그렇게\", \"▁교향곡\", \"▁작곡\", \"을\", \"▁1839\", \"년부터\", \"▁40\", \"년에\", \"▁걸쳐\", \"▁파리에서\", \"▁착수\", \"했으나\", \"▁1\", \"악장\", \"을\", \"▁쓴\", \"▁뒤에\", \"▁중단\", \"했다\", \".\", \"▁또한\", \"▁작품의\", \"▁완성\", \"과\", \"▁동시에\", \"▁그는\", \"▁이\", \"▁서\", \"곡\", \"(1\", \"악장\", \")\", \"을\", \"▁파리\", \"▁음악원\", \"의\", \"▁연주회\", \"에서\", \"▁연주\", \"할\", \"▁파트\", \"보\", \"까지\", \"▁준비\", \"하였으나\", \",\", \"▁실제로는\", \"▁이루어지지\", \"는\", \"▁않았다\", \".\", \"▁결국\", \"▁초연\", \"은\", \"▁4\", \"년\", \"▁반\", \"이\", \"▁지난\", \"▁후에\", \"▁드레스덴\", \"에서\", \"▁연주\", \"되었고\", \"▁재\", \"연\", \"도\", \"▁이루어졌\", \"지만\", \",\", \"▁이후에\", \"▁그대로\", \"▁방치\", \"되고\", \"▁말았다\", \".\", \"▁그\", \"▁사이에\", \"▁그는\", \"▁리\", \"엔\", \"치\", \"와\", \"▁방\", \"황\", \"하는\", \"▁네덜란드\", \"인\", \"을\", \"▁완성\", \"하고\", \"▁탄\", \"호\", \"이\", \"저\", \"에도\", \"▁착수\", \"하는\", \"▁등\", \"▁분\", \"주\", \"한\", \"▁시간을\", \"▁보\", \"냈는데\", \",\", \"▁그런\", \"▁바쁜\", \"▁생활\", \"이\", \"▁이\", \"▁곡을\", \"▁잊\", \"게\", \"▁한\", \"▁것이\", \"▁아닌\", \"가\", \"▁하는\", \"▁의견도\", \"▁있다\", \".\"], \"answer\": \"1839\", \"token_start\": 0, \"token_end\": 0}\n",
      "{\"qa_id\": \"5917067-0-1\", \"title\": \"파우스트_서곡\", \"question\": [\"▁바그너\", \"가\", \"▁처음\", \"▁교향곡\", \"▁작곡\", \"을\", \"▁한\", \"▁장소\", \"는\", \"?\"], \"context\": [\"▁1839\", \"년\", \"▁바그너\", \"는\", \"▁괴테\", \"의\", \"▁\", \"파우스트\", \"을\", \"▁처음\", \"▁읽고\", \"▁그\", \"▁내용에\", \"▁마음이\", \"▁끌려\", \"▁이를\", \"▁소재로\", \"▁해서\", \"▁하나의\", \"▁교향곡\", \"을\", \"▁쓰\", \"려는\", \"▁뜻을\", \"▁갖는다\", \".\", \"▁이\", \"▁시기\", \"▁바그너\", \"는\", \"▁1838\", \"년에\", \"▁빛\", \"▁독\", \"촉\", \"으로\", \"▁산\", \"전\", \"수\", \"전을\", \"▁다\", \"▁\", \"걲\", \"은\", \"▁상황이\", \"라\", \"▁좌절\", \"과\", \"▁실망\", \"에\", \"▁가득\", \"했으며\", \"▁메\", \"피스\", \"토\", \"펠\", \"레스\", \"를\", \"▁만나는\", \"▁\", \"파우스트\", \"의\", \"▁심\", \"경에\", \"▁공감\", \"했다고\", \"▁한다\", \".\", \"▁또한\", \"▁파리에서\", \"▁아브\", \"네\", \"크의\", \"▁지휘\", \"로\", \"▁파리\", \"▁음악원\", \"▁관현악단\", \"이\", \"▁연주하는\", \"▁베토벤\", \"의\", \"▁교향곡\", \"▁9\", \"번을\", \"▁듣고\", \"▁깊은\", \"▁감\", \"명을\", \"▁받았는데\", \",\", \"▁이것이\", \"▁이듬해\", \"▁1\", \"월에\", \"▁\", \"파우스트\", \"의\", \"▁서\", \"곡으로\", \"▁쓰여진\", \"▁이\", \"▁작품에\", \"▁조금\", \"이라도\", \"▁영향을\", \"▁끼\", \"쳤\", \"으리라\", \"는\", \"▁것은\", \"▁의심\", \"할\", \"▁여지가\", \"▁없다\", \".\", \"▁여기\", \"의\", \"▁라\", \"단\", \"조\", \"▁조성\", \"의\", \"▁경우에도\", \"▁그의\", \"▁전기\", \"에\", \"▁적혀\", \"▁있는\", \"▁것처럼\", \"▁단순한\", \"▁정신적\", \"▁피로\", \"나\", \"▁실\", \"의\", \"가\", \"▁반영\", \"된\", \"▁것이\", \"▁아니라\", \"▁베토벤\", \"의\", \"▁합창\", \"교\", \"향\", \"곡\", \"▁조성\", \"의\", \"▁영향을\", \"▁받은\", \"▁것을\", \"▁볼\", \"▁수\", \"▁있다\", \".\", \"▁그렇게\", \"▁교향곡\", \"▁작곡\", \"을\", \"▁1839\", \"년부터\", \"▁40\", \"년에\", \"▁걸쳐\", \"▁파리에서\", \"▁착수\", \"했으나\", \"▁1\", \"악장\", \"을\", \"▁쓴\", \"▁뒤에\", \"▁중단\", \"했다\", \".\", \"▁또한\", \"▁작품의\", \"▁완성\", \"과\", \"▁동시에\", \"▁그는\", \"▁이\", \"▁서\", \"곡\", \"(1\", \"악장\", \")\", \"을\", \"▁파리\", \"▁음악원\", \"의\", \"▁연주회\", \"에서\", \"▁연주\", \"할\", \"▁파트\", \"보\", \"까지\", \"▁준비\", \"하였으나\", \",\", \"▁실제로는\", \"▁이루어지지\", \"는\", \"▁않았다\", \".\", \"▁결국\", \"▁초연\", \"은\", \"▁4\", \"년\", \"▁반\", \"이\", \"▁지난\", \"▁후에\", \"▁드레스덴\", \"에서\", \"▁연주\", \"되었고\", \"▁재\", \"연\", \"도\", \"▁이루어졌\", \"지만\", \",\", \"▁이후에\", \"▁그대로\", \"▁방치\", \"되고\", \"▁말았다\", \".\", \"▁그\", \"▁사이에\", \"▁그는\", \"▁리\", \"엔\", \"치\", \"와\", \"▁방\", \"황\", \"하는\", \"▁네덜란드\", \"인\", \"을\", \"▁완성\", \"하고\", \"▁탄\", \"호\", \"이\", \"저\", \"에도\", \"▁착수\", \"하는\", \"▁등\", \"▁분\", \"주\", \"한\", \"▁시간을\", \"▁보\", \"냈는데\", \",\", \"▁그런\", \"▁바쁜\", \"▁생활\", \"이\", \"▁이\", \"▁곡을\", \"▁잊\", \"게\", \"▁한\", \"▁것이\", \"▁아닌\", \"가\", \"▁하는\", \"▁의견도\", \"▁있다\", \".\"], \"answer\": \"파리\", \"token_start\": 165, \"token_end\": 165}\n",
      "{\"qa_id\": \"5917067-0-2\", \"title\": \"파우스트_서곡\", \"question\": [\"▁바그너\", \"의\", \"▁1\", \"악장\", \"의\", \"▁초연\", \"은\", \"▁어디서\", \"▁연주\", \"되었\", \"는\", \"가\", \"?\"], \"context\": [\"▁1839\", \"년\", \"▁바그너\", \"는\", \"▁괴테\", \"의\", \"▁\", \"파우스트\", \"을\", \"▁처음\", \"▁읽고\", \"▁그\", \"▁내용에\", \"▁마음이\", \"▁끌려\", \"▁이를\", \"▁소재로\", \"▁해서\", \"▁하나의\", \"▁교향곡\", \"을\", \"▁쓰\", \"려는\", \"▁뜻을\", \"▁갖는다\", \".\", \"▁이\", \"▁시기\", \"▁바그너\", \"는\", \"▁1838\", \"년에\", \"▁빛\", \"▁독\", \"촉\", \"으로\", \"▁산\", \"전\", \"수\", \"전을\", \"▁다\", \"▁\", \"걲\", \"은\", \"▁상황이\", \"라\", \"▁좌절\", \"과\", \"▁실망\", \"에\", \"▁가득\", \"했으며\", \"▁메\", \"피스\", \"토\", \"펠\", \"레스\", \"를\", \"▁만나는\", \"▁\", \"파우스트\", \"의\", \"▁심\", \"경에\", \"▁공감\", \"했다고\", \"▁한다\", \".\", \"▁또한\", \"▁파리에서\", \"▁아브\", \"네\", \"크의\", \"▁지휘\", \"로\", \"▁파리\", \"▁음악원\", \"▁관현악단\", \"이\", \"▁연주하는\", \"▁베토벤\", \"의\", \"▁교향곡\", \"▁9\", \"번을\", \"▁듣고\", \"▁깊은\", \"▁감\", \"명을\", \"▁받았는데\", \",\", \"▁이것이\", \"▁이듬해\", \"▁1\", \"월에\", \"▁\", \"파우스트\", \"의\", \"▁서\", \"곡으로\", \"▁쓰여진\", \"▁이\", \"▁작품에\", \"▁조금\", \"이라도\", \"▁영향을\", \"▁끼\", \"쳤\", \"으리라\", \"는\", \"▁것은\", \"▁의심\", \"할\", \"▁여지가\", \"▁없다\", \".\", \"▁여기\", \"의\", \"▁라\", \"단\", \"조\", \"▁조성\", \"의\", \"▁경우에도\", \"▁그의\", \"▁전기\", \"에\", \"▁적혀\", \"▁있는\", \"▁것처럼\", \"▁단순한\", \"▁정신적\", \"▁피로\", \"나\", \"▁실\", \"의\", \"가\", \"▁반영\", \"된\", \"▁것이\", \"▁아니라\", \"▁베토벤\", \"의\", \"▁합창\", \"교\", \"향\", \"곡\", \"▁조성\", \"의\", \"▁영향을\", \"▁받은\", \"▁것을\", \"▁볼\", \"▁수\", \"▁있다\", \".\", \"▁그렇게\", \"▁교향곡\", \"▁작곡\", \"을\", \"▁1839\", \"년부터\", \"▁40\", \"년에\", \"▁걸쳐\", \"▁파리에서\", \"▁착수\", \"했으나\", \"▁1\", \"악장\", \"을\", \"▁쓴\", \"▁뒤에\", \"▁중단\", \"했다\", \".\", \"▁또한\", \"▁작품의\", \"▁완성\", \"과\", \"▁동시에\", \"▁그는\", \"▁이\", \"▁서\", \"곡\", \"(1\", \"악장\", \")\", \"을\", \"▁파리\", \"▁음악원\", \"의\", \"▁연주회\", \"에서\", \"▁연주\", \"할\", \"▁파트\", \"보\", \"까지\", \"▁준비\", \"하였으나\", \",\", \"▁실제로는\", \"▁이루어지지\", \"는\", \"▁않았다\", \".\", \"▁결국\", \"▁초연\", \"은\", \"▁4\", \"년\", \"▁반\", \"이\", \"▁지난\", \"▁후에\", \"▁드레스덴\", \"에서\", \"▁연주\", \"되었고\", \"▁재\", \"연\", \"도\", \"▁이루어졌\", \"지만\", \",\", \"▁이후에\", \"▁그대로\", \"▁방치\", \"되고\", \"▁말았다\", \".\", \"▁그\", \"▁사이에\", \"▁그는\", \"▁리\", \"엔\", \"치\", \"와\", \"▁방\", \"황\", \"하는\", \"▁네덜란드\", \"인\", \"을\", \"▁완성\", \"하고\", \"▁탄\", \"호\", \"이\", \"저\", \"에도\", \"▁착수\", \"하는\", \"▁등\", \"▁분\", \"주\", \"한\", \"▁시간을\", \"▁보\", \"냈는데\", \",\", \"▁그런\", \"▁바쁜\", \"▁생활\", \"이\", \"▁이\", \"▁곡을\", \"▁잊\", \"게\", \"▁한\", \"▁것이\", \"▁아닌\", \"가\", \"▁하는\", \"▁의견도\", \"▁있다\", \".\"], \"answer\": \"드레스덴\", \"token_start\": 216, \"token_end\": 216}\n",
      "{\"qa_id\": \"6566495-1-0\", \"title\": \"파우스트_서곡\", \"question\": [\"▁바그너\", \"의\", \"▁작품을\", \"▁시인\", \"의\", \"▁피로\", \"▁쓰여\", \"졌다\", \"고\", \"▁극찬\", \"한\", \"▁것은\", \"▁누구\", \"인\", \"가\", \"?\"], \"context\": [\"▁한편\", \"▁1840\", \"년부터\", \"▁바그너\", \"와\", \"▁알고\", \"▁지내던\", \"▁리스트\", \"가\", \"▁잊\", \"혀\", \"져\", \"▁있던\", \"▁1\", \"악장\", \"을\", \"▁부활\", \"시켜\", \"▁1852\", \"년에\", \"▁바이마르\", \"에서\", \"▁연주\", \"했다\", \".\", \"▁이것을\", \"▁계기로\", \"▁바그너\", \"도\", \"▁이\", \"▁작품에\", \"▁다시\", \"▁관심을\", \"▁갖게\", \"▁되었고\", \",\", \"▁그\", \"▁해\", \"▁9\", \"월에는\", \"▁총\", \"보\", \"의\", \"▁반환\", \"을\", \"▁요구\", \"하여\", \"▁이를\", \"▁서\", \"곡으로\", \"▁간\", \"추\", \"린\", \"▁다음\", \"▁수정\", \"을\", \"▁했고\", \"▁브\", \"라이트\", \"코프\", \"흐\", \"▁&\", \"▁헤르\", \"텔\", \"▁출판사\", \"에서\", \"▁출판\", \"할\", \"▁개정\", \"판\", \"도\", \"▁준비\", \"했다\", \".\", \"▁1853\", \"년\", \"▁5\", \"월에는\", \"▁리스트\", \"가\", \"▁이\", \"▁작품이\", \"▁수정\", \"되었다\", \"는\", \"▁것을\", \"▁인정\", \"했지만\", \",\", \"▁끝내\", \"▁바그너\", \"의\", \"▁출판\", \"▁계획은\", \"▁무산\", \"되고\", \"▁말았다\", \".\", \"▁이후\", \"▁1855\", \"년에\", \"▁리스트\", \"가\", \"▁자신의\", \"▁작품\", \"▁\", \"파우스트\", \"▁교향곡\", \"을\", \"▁거의\", \"▁완성\", \"하여\", \"▁그\", \"▁사실을\", \"▁바그너\", \"에게\", \"▁알\", \"렸고\", \",\", \"▁바그너\", \"는\", \"▁다시\", \"▁개정된\", \"▁총\", \"보를\", \"▁리스트\", \"에게\", \"▁보내고\", \"▁브\", \"라이트\", \"코프\", \"흐\", \"▁&\", \"▁헤르\", \"텔\", \"▁출판사\", \"에는\", \"▁20\", \"루이\", \"의\", \"▁금\", \"을\", \"▁받고\", \"▁팔았다\", \".\", \"▁또한\", \"▁그의\", \"▁작품을\", \"▁“\", \"하나\", \"하나\", \"의\", \"▁음\", \"표\", \"가\", \"▁시인\", \"의\", \"▁피로\", \"▁쓰여\", \"졌다\", \"”\", \"며\", \"▁극찬\", \"했던\", \"▁한스\", \"▁폰\", \"▁\", \"뷜\", \"로\", \"가\", \"▁그것을\", \"▁피아노\", \"▁독주\", \"용으로\", \"▁편곡\", \"했는데\", \",\", \"▁리스트\", \"는\", \"▁그것을\", \"▁약간\", \"▁변형\", \"되었을\", \"▁뿐\", \"이라고\", \"▁지적했다\", \".\", \"▁이\", \"▁서\", \"곡\", \"의\", \"▁총\", \"보\", \"▁첫\", \"머리\", \"에는\", \"▁\", \"파우스트\", \"▁1\", \"부의\", \"▁내용\", \"▁중\", \"▁한\", \"▁구절\", \"을\", \"▁인용\", \"하고\", \"▁있다\", \".\"], \"answer\": \"한스 폰 뷜로\", \"token_start\": 164, \"token_end\": 168}\n",
      "{\"qa_id\": \"6566495-1-1\", \"title\": \"파우스트_서곡\", \"question\": [\"▁잊\", \"혀\", \"져\", \"▁있는\", \"▁\", \"파우스트\", \"▁서\", \"곡\", \"▁1\", \"악장\", \"을\", \"▁부활\", \"시킨\", \"▁것은\", \"▁누구\", \"인\", \"가\", \"?\"], \"context\": [\"▁한편\", \"▁1840\", \"년부터\", \"▁바그너\", \"와\", \"▁알고\", \"▁지내던\", \"▁리스트\", \"가\", \"▁잊\", \"혀\", \"져\", \"▁있던\", \"▁1\", \"악장\", \"을\", \"▁부활\", \"시켜\", \"▁1852\", \"년에\", \"▁바이마르\", \"에서\", \"▁연주\", \"했다\", \".\", \"▁이것을\", \"▁계기로\", \"▁바그너\", \"도\", \"▁이\", \"▁작품에\", \"▁다시\", \"▁관심을\", \"▁갖게\", \"▁되었고\", \",\", \"▁그\", \"▁해\", \"▁9\", \"월에는\", \"▁총\", \"보\", \"의\", \"▁반환\", \"을\", \"▁요구\", \"하여\", \"▁이를\", \"▁서\", \"곡으로\", \"▁간\", \"추\", \"린\", \"▁다음\", \"▁수정\", \"을\", \"▁했고\", \"▁브\", \"라이트\", \"코프\", \"흐\", \"▁&\", \"▁헤르\", \"텔\", \"▁출판사\", \"에서\", \"▁출판\", \"할\", \"▁개정\", \"판\", \"도\", \"▁준비\", \"했다\", \".\", \"▁1853\", \"년\", \"▁5\", \"월에는\", \"▁리스트\", \"가\", \"▁이\", \"▁작품이\", \"▁수정\", \"되었다\", \"는\", \"▁것을\", \"▁인정\", \"했지만\", \",\", \"▁끝내\", \"▁바그너\", \"의\", \"▁출판\", \"▁계획은\", \"▁무산\", \"되고\", \"▁말았다\", \".\", \"▁이후\", \"▁1855\", \"년에\", \"▁리스트\", \"가\", \"▁자신의\", \"▁작품\", \"▁\", \"파우스트\", \"▁교향곡\", \"을\", \"▁거의\", \"▁완성\", \"하여\", \"▁그\", \"▁사실을\", \"▁바그너\", \"에게\", \"▁알\", \"렸고\", \",\", \"▁바그너\", \"는\", \"▁다시\", \"▁개정된\", \"▁총\", \"보를\", \"▁리스트\", \"에게\", \"▁보내고\", \"▁브\", \"라이트\", \"코프\", \"흐\", \"▁&\", \"▁헤르\", \"텔\", \"▁출판사\", \"에는\", \"▁20\", \"루이\", \"의\", \"▁금\", \"을\", \"▁받고\", \"▁팔았다\", \".\", \"▁또한\", \"▁그의\", \"▁작품을\", \"▁“\", \"하나\", \"하나\", \"의\", \"▁음\", \"표\", \"가\", \"▁시인\", \"의\", \"▁피로\", \"▁쓰여\", \"졌다\", \"”\", \"며\", \"▁극찬\", \"했던\", \"▁한스\", \"▁폰\", \"▁\", \"뷜\", \"로\", \"가\", \"▁그것을\", \"▁피아노\", \"▁독주\", \"용으로\", \"▁편곡\", \"했는데\", \",\", \"▁리스트\", \"는\", \"▁그것을\", \"▁약간\", \"▁변형\", \"되었을\", \"▁뿐\", \"이라고\", \"▁지적했다\", \".\", \"▁이\", \"▁서\", \"곡\", \"의\", \"▁총\", \"보\", \"▁첫\", \"머리\", \"에는\", \"▁\", \"파우스트\", \"▁1\", \"부의\", \"▁내용\", \"▁중\", \"▁한\", \"▁구절\", \"을\", \"▁인용\", \"하고\", \"▁있다\", \".\"], \"answer\": \"리스트\", \"token_start\": 7, \"token_end\": 7}\n"
     ]
    }
   ],
   "source": [
    "def print_file(filename, count=10):\n",
    "    \"\"\"\n",
    "    파일 내용 출력\n",
    "    :param filename: 파일 이름\n",
    "    :param count: 출력 라인 수\n",
    "    \"\"\"\n",
    "    with open(filename) as f:\n",
    "        for i, line in enumerate(f):\n",
    "            if count <= i:\n",
    "                break\n",
    "            print(line.strip())\n",
    "\n",
    "print_file(f\"{data_dir}/korquad_train.json\")"
   ]
  },
  {
   "cell_type": "markdown",
   "id": "personal-requirement",
   "metadata": {},
   "source": [
    "KorQuAD 데이터셋 전처리 (5) 데이터 분석 : Question\n",
    "---\n",
    "\n",
    "원본 데이터셋을 전처리하여 우리의 모델이 다루게 될 데이터셋으로 가공하는 과정을 진행하였습니다.\n",
    "그러나 이 데이터셋을 그대로 사용할 수 있을지, 혹은 이상(abnormal) 데이터가 존재하지는 않는지 분석하는 과정이 필요합니다.\n",
    "\n",
    "우선 전체 데이터에서 question 항목의 길이 분포를 조사해 보겠습니다."
   ]
  },
  {
   "cell_type": "code",
   "execution_count": 33,
   "id": "separated-anchor",
   "metadata": {},
   "outputs": [
    {
     "name": "stdout",
     "output_type": "stream",
     "text": [
      "19 ['▁바그너', '는', '▁괴테', '의', '▁', '파우스트', '를', '▁읽고', '▁무엇을', '▁쓰고', '자', '▁', '했', '는', '가', '?']\n",
      "168 ['▁바그너', '는', '▁교향곡', '▁작곡', '을', '▁어디', '까지', '▁쓴', '▁뒤에', '▁중단', '했', '는', '가', '?']\n",
      "80 ['▁바그너', '가', '▁', '파우스트', '▁서', '곡을', '▁쓸', '▁때', '▁어떤', '▁곡', '의', '▁영향을', '▁받았', '는', '가', '?']\n",
      "6 ['▁1839', '년', '▁바그너', '가', '▁교향곡', '의', '▁소재로', '▁쓰', '려고', '▁했던', '▁책은', '?']\n",
      "143 ['▁', '파우스트', '▁서', '곡', '의', '▁라', '단', '조', '▁조성', '이', '▁영향을', '▁받은', '▁베토벤', '의', '▁곡은', '?']\n",
      "0 ['▁바그너', '가', '▁', '파우스트', '를', '▁처음으로', '▁읽', '은', '▁', '년', '도', '는', '?']\n",
      "165 ['▁바그너', '가', '▁처음', '▁교향곡', '▁작곡', '을', '▁한', '▁장소', '는', '?']\n",
      "216 ['▁바그너', '의', '▁1', '악장', '의', '▁초연', '은', '▁어디서', '▁연주', '되었', '는', '가', '?']\n",
      "164 ['▁바그너', '의', '▁작품을', '▁시인', '의', '▁피로', '▁쓰여', '졌다', '고', '▁극찬', '한', '▁것은', '▁누구', '인', '가', '?']\n",
      "7 ['▁잊', '혀', '져', '▁있는', '▁', '파우스트', '▁서', '곡', '▁1', '악장', '을', '▁부활', '시킨', '▁것은', '▁누구', '인', '가', '?']\n"
     ]
    }
   ],
   "source": [
    "questions = []\n",
    "contexts = []\n",
    "token_starts = []\n",
    "with open(f\"{data_dir}/korquad_train.json\") as f:\n",
    "    for i, line in enumerate(f):\n",
    "        data = json.loads(line)\n",
    "        questions.append(data[\"question\"])\n",
    "        contexts.append(data[\"context\"])\n",
    "        token_starts.append(data[\"token_start\"])\n",
    "        if i < 10:\n",
    "            print(data[\"token_start\"], data[\"question\"])"
   ]
  },
  {
   "cell_type": "code",
   "execution_count": 34,
   "id": "cloudy-nevada",
   "metadata": {},
   "outputs": [
    {
     "data": {
      "text/plain": [
       "[16, 14, 16, 12, 16, 13, 10, 13, 16, 18]"
      ]
     },
     "execution_count": 34,
     "metadata": {},
     "output_type": "execute_result"
    }
   ],
   "source": [
    "# token count\n",
    "train_question_counts = [len(question) for question in questions]\n",
    "train_question_counts[:10]"
   ]
  },
  {
   "cell_type": "code",
   "execution_count": 35,
   "id": "qualified-contemporary",
   "metadata": {},
   "outputs": [
    {
     "data": {
      "image/png": "[encoded data removed]",
      "text/plain": [
       "<Figure size 576x288 with 1 Axes>"
      ]
     },
     "metadata": {
      "needs_background": "light"
     },
     "output_type": "display_data"
    }
   ],
   "source": [
    "# 그래프에 대한 이미지 사이즈 선언\n",
    "# figsize: (가로, 세로) 형태의 튜플로 입력\n",
    "plt.figure(figsize=(8, 4))\n",
    "# histogram 선언\n",
    "# bins: 히스토그램 값들에 대한 버켓 범위, \n",
    "# range: x축 값의 범위\n",
    "# facecolor: 그래프 색상\n",
    "# label: 그래프에 대한 라벨\n",
    "plt.hist(train_question_counts, bins=100, range=[0, 100], facecolor='b', label='train')\n",
    "# 그래프 제목\n",
    "plt.title('Count of question')\n",
    "# 그래프 x 축 라벨\n",
    "plt.xlabel('Number of question')\n",
    "# 그래프 y 축 라벨\n",
    "plt.ylabel('Count of question')\n",
    "plt.show()"
   ]
  },
  {
   "cell_type": "code",
   "execution_count": 36,
   "id": "dressed-birth",
   "metadata": {},
   "outputs": [
    {
     "name": "stdout",
     "output_type": "stream",
     "text": [
      "question 길이 최대:      58\n",
      "question 길이 최소:       3\n",
      "question 길이 평균:      15.25\n",
      "question 길이 표준편차:    5.50\n",
      "question 25/100분위:    11.00\n",
      "question 50/100분위:    14.00\n",
      "question 75/100분위:    18.00\n",
      "question IQR:           7.00\n",
      "question MAX/100분위:   28.50\n"
     ]
    }
   ],
   "source": [
    "# 데이터 길이\n",
    "print(f\"question 길이 최대:    {np.max(train_question_counts):4d}\")\n",
    "print(f\"question 길이 최소:    {np.min(train_question_counts):4d}\")\n",
    "print(f\"question 길이 평균:    {np.mean(train_question_counts):7.2f}\")\n",
    "print(f\"question 길이 표준편차: {np.std(train_question_counts):7.2f}\")\n",
    "# https://ko.wikipedia.org/wiki/%EB%B0%B1%EB%B6%84%EC%9C%84%EC%88%98\n",
    "# 백분위수(Percentile)는 크기가 있는 값들로 이뤄진 자료를 순서대로 나열했을 때 백분율로 나타낸 특정 위치의 값을 이르는 용어이다.\n",
    "# 일반적으로 크기가 작은 것부터 나열하여 가장 작은 것을 0, 가장 큰 것을 100으로 한다.\n",
    "# 100개의 값을 가진 어떤 자료의 20 백분위수는 그 자료의 값들 중 20번째로 작은 값을 뜻한다. 50 백분위수는 중앙값과 같다.\n",
    "percentile25 = np.percentile(train_question_counts, 25)\n",
    "percentile50 = np.percentile(train_question_counts, 50)\n",
    "percentile75 = np.percentile(train_question_counts, 75)\n",
    "percentileIQR = percentile75 - percentile25\n",
    "percentileMAX = percentile75 + percentileIQR * 1.5\n",
    "print(f\"question 25/100분위:  {percentile25:7.2f}\")\n",
    "print(f\"question 50/100분위:  {percentile50:7.2f}\")\n",
    "print(f\"question 75/100분위:  {percentile75:7.2f}\")\n",
    "print(f\"question IQR:        {percentileIQR:7.2f}\")\n",
    "print(f\"question MAX/100분위: {percentileMAX:7.2f}\")"
   ]
  },
  {
   "cell_type": "code",
   "execution_count": 37,
   "id": "hindu-allen",
   "metadata": {},
   "outputs": [
    {
     "data": {
      "image/png": "[encoded data removed]",
      "text/plain": [
       "<Figure size 288x432 with 1 Axes>"
      ]
     },
     "metadata": {
      "needs_background": "light"
     },
     "output_type": "display_data"
    }
   ],
   "source": [
    "plt.figure(figsize=(4, 6))\n",
    "# 박스플롯 생성\n",
    "# 첫번째 파라메터: 여러 분포에 대한 데이터 리스트를\n",
    "# labels: 입력한 데이터에 대한 라벨\n",
    "# showmeans: 평균값을 표현\n",
    "# 참고: https://leebaro.tistory.com/entry/%EB%B0%95%EC%8A%A4-%ED%94%8C%EB%A1%AFbox-plot-%EC%84%A4%EB%AA%85\n",
    "plt.boxplot(train_question_counts, labels=['token counts'], showmeans=True)\n",
    "plt.show()"
   ]
  },
  {
   "cell_type": "markdown",
   "id": "rural-ridge",
   "metadata": {},
   "source": [
    "KorQuAD 데이터셋 전처리 (6) 데이터 분석 : Context\n",
    "---\n",
    "위와 동일한 방법으로 context 항목에 대해서도 분석해 봅니다."
   ]
  },
  {
   "cell_type": "code",
   "execution_count": 38,
   "id": "abstract-bulgaria",
   "metadata": {},
   "outputs": [
    {
     "data": {
      "text/plain": [
       "[278, 278, 278, 278, 278, 278, 278, 278, 209, 209]"
      ]
     },
     "execution_count": 38,
     "metadata": {},
     "output_type": "execute_result"
    }
   ],
   "source": [
    "# token count\n",
    "train_context_counts = [len(context) for context in contexts]\n",
    "train_context_counts[:10]"
   ]
  },
  {
   "cell_type": "code",
   "execution_count": 39,
   "id": "going-butterfly",
   "metadata": {},
   "outputs": [
    {
     "data": {
      "image/png": "[encoded data removed]",
      "text/plain": [
       "<Figure size 576x288 with 1 Axes>"
      ]
     },
     "metadata": {
      "needs_background": "light"
     },
     "output_type": "display_data"
    }
   ],
   "source": [
    "# 그래프에 대한 이미지 사이즈 선언\n",
    "# figsize: (가로, 세로) 형태의 튜플로 입력\n",
    "plt.figure(figsize=(8, 4))\n",
    "# histogram 선언\n",
    "# bins: 히스토그램 값들에 대한 버켓 범위, \n",
    "# range: x축 값의 범위\n",
    "# facecolor: 그래프 색상\n",
    "# label: 그래프에 대한 라벨\n",
    "plt.hist(train_context_counts, bins=900, range=[100, 1000], facecolor='r', label='train')\n",
    "# 그래프 제목\n",
    "plt.title('Count of context')\n",
    "# 그래프 x 축 라벨\n",
    "plt.xlabel('Number of context')\n",
    "# 그래프 y 축 라벨\n",
    "plt.ylabel('Count of context')\n",
    "plt.show()"
   ]
  },
  {
   "cell_type": "code",
   "execution_count": 40,
   "id": "abstract-sheep",
   "metadata": {},
   "outputs": [
    {
     "name": "stdout",
     "output_type": "stream",
     "text": [
      "context 길이 최대:    4816\n",
      "context 길이 최소:     108\n",
      "context 길이 평균:     222.84\n",
      "context 길이 표준편차:   97.68\n",
      "context 25/100분위:   169.00\n",
      "context 50/100분위:   199.00\n",
      "context 75/100분위:   248.00\n",
      "context IQR:          79.00\n",
      "context MAX/100분위:  366.50\n"
     ]
    }
   ],
   "source": [
    "# 데이터 길이\n",
    "print(f\"context 길이 최대:    {np.max(train_context_counts):4d}\")\n",
    "print(f\"context 길이 최소:    {np.min(train_context_counts):4d}\")\n",
    "print(f\"context 길이 평균:    {np.mean(train_context_counts):7.2f}\")\n",
    "print(f\"context 길이 표준편차: {np.std(train_context_counts):7.2f}\")\n",
    "# https://ko.wikipedia.org/wiki/%EB%B0%B1%EB%B6%84%EC%9C%84%EC%88%98\n",
    "# 백분위수(Percentile)는 크기가 있는 값들로 이뤄진 자료를 순서대로 나열했을 때 백분율로 나타낸 특정 위치의 값을 이르는 용어이다.\n",
    "# 일반적으로 크기가 작은 것부터 나열하여 가장 작은 것을 0, 가장 큰 것을 100으로 한다.\n",
    "# 100개의 값을 가진 어떤 자료의 20 백분위수는 그 자료의 값들 중 20번째로 작은 값을 뜻한다. 50 백분위수는 중앙값과 같다.\n",
    "percentile25 = np.percentile(train_context_counts, 25)\n",
    "percentile50 = np.percentile(train_context_counts, 50)\n",
    "percentile75 = np.percentile(train_context_counts, 75)\n",
    "percentileIQR = percentile75 - percentile25\n",
    "percentileMAX = percentile75 + percentileIQR * 1.5\n",
    "print(f\"context 25/100분위:  {percentile25:7.2f}\")\n",
    "print(f\"context 50/100분위:  {percentile50:7.2f}\")\n",
    "print(f\"context 75/100분위:  {percentile75:7.2f}\")\n",
    "print(f\"context IQR:        {percentileIQR:7.2f}\")\n",
    "print(f\"context MAX/100분위: {percentileMAX:7.2f}\")"
   ]
  },
  {
   "cell_type": "code",
   "execution_count": 41,
   "id": "foster-blind",
   "metadata": {},
   "outputs": [
    {
     "data": {
      "image/png": "[encoded data removed]",
      "text/plain": [
       "<Figure size 288x432 with 1 Axes>"
      ]
     },
     "metadata": {
      "needs_background": "light"
     },
     "output_type": "display_data"
    }
   ],
   "source": [
    "plt.figure(figsize=(4, 6))\n",
    "# 박스플롯 생성\n",
    "# 첫번째 파라메터: 여러 분포에 대한 데이터 리스트를\n",
    "# labels: 입력한 데이터에 대한 라벨\n",
    "# showmeans: 평균값을 표현\n",
    "# 참고: https://leebaro.tistory.com/entry/%EB%B0%95%EC%8A%A4-%ED%94%8C%EB%A1%AFbox-plot-%EC%84%A4%EB%AA%85\n",
    "plt.boxplot(train_context_counts, labels=['token counts'], showmeans=True)\n",
    "plt.show()"
   ]
  },
  {
   "cell_type": "markdown",
   "id": "necessary-belarus",
   "metadata": {},
   "source": [
    "KorQuAD 데이터셋 전처리 (7) 데이터 분석 : Answer\n",
    "---\n",
    "위와 동일한 방법으로 answer 항목에 대해서도 분석해 봅니다."
   ]
  },
  {
   "cell_type": "code",
   "execution_count": 42,
   "id": "novel-divide",
   "metadata": {},
   "outputs": [
    {
     "data": {
      "text/plain": [
       "[19, 168, 80, 6, 143, 0, 165, 216, 164, 7]"
      ]
     },
     "execution_count": 42,
     "metadata": {},
     "output_type": "execute_result"
    }
   ],
   "source": [
    "# token count\n",
    "train_answer_starts = token_starts\n",
    "train_answer_starts[:10]"
   ]
  },
  {
   "cell_type": "code",
   "execution_count": 43,
   "id": "inclusive-progressive",
   "metadata": {},
   "outputs": [
    {
     "data": {
      "image/png": "[encoded data removed]",
      "text/plain": [
       "<Figure size 576x288 with 1 Axes>"
      ]
     },
     "metadata": {
      "needs_background": "light"
     },
     "output_type": "display_data"
    }
   ],
   "source": [
    "# 그래프에 대한 이미지 사이즈 선언\n",
    "# figsize: (가로, 세로) 형태의 튜플로 입력\n",
    "plt.figure(figsize=(8, 4))\n",
    "# histogram 선언\n",
    "# bins: 히스토그램 값들에 대한 버켓 범위, \n",
    "# range: x축 값의 범위\n",
    "# facecolor: 그래프 색상\n",
    "# label: 그래프에 대한 라벨\n",
    "plt.hist(train_answer_starts, bins=500, range=[0, 500], facecolor='g', label='train')\n",
    "# 그래프 제목\n",
    "plt.title('Count of answer')\n",
    "# 그래프 x 축 라벨\n",
    "plt.xlabel('Number of answer')\n",
    "# 그래프 y 축 라벨\n",
    "plt.ylabel('Count of answer')\n",
    "plt.show()"
   ]
  },
  {
   "cell_type": "code",
   "execution_count": 44,
   "id": "arbitrary-opera",
   "metadata": {},
   "outputs": [
    {
     "name": "stdout",
     "output_type": "stream",
     "text": [
      "answer 위치 최대:    1124\n",
      "answer 위치 최소:       0\n",
      "answer 위치 평균:      89.01\n",
      "answer 위치 표준편차:   78.21\n",
      "answer 25/100분위:    25.00\n",
      "answer 50/100분위:    74.00\n",
      "answer 75/100분위:   134.00\n",
      "answer IQR:         109.00\n",
      "answer MAX/100분위:  297.50\n"
     ]
    }
   ],
   "source": [
    "# 데이터 길이\n",
    "print(f\"answer 위치 최대:    {np.max(train_answer_starts):4d}\")\n",
    "print(f\"answer 위치 최소:    {np.min(train_answer_starts):4d}\")\n",
    "print(f\"answer 위치 평균:    {np.mean(train_answer_starts):7.2f}\")\n",
    "print(f\"answer 위치 표준편차: {np.std(train_answer_starts):7.2f}\")\n",
    "# https://ko.wikipedia.org/wiki/%EB%B0%B1%EB%B6%84%EC%9C%84%EC%88%98\n",
    "# 백분위수(Percentile)는 크기가 있는 값들로 이뤄진 자료를 순서대로 나열했을 때 백분율로 나타낸 특정 위치의 값을 이르는 용어이다.\n",
    "# 일반적으로 크기가 작은 것부터 나열하여 가장 작은 것을 0, 가장 큰 것을 100으로 한다.\n",
    "# 100개의 값을 가진 어떤 자료의 20 백분위수는 그 자료의 값들 중 20번째로 작은 값을 뜻한다. 50 백분위수는 중앙값과 같다.\n",
    "percentile25 = np.percentile(train_answer_starts, 25)\n",
    "percentile50 = np.percentile(train_answer_starts, 50)\n",
    "percentile75 = np.percentile(train_answer_starts, 75)\n",
    "percentileIQR = percentile75 - percentile25\n",
    "percentileMAX = percentile75 + percentileIQR * 1.5\n",
    "print(f\"answer 25/100분위:  {percentile25:7.2f}\")\n",
    "print(f\"answer 50/100분위:  {percentile50:7.2f}\")\n",
    "print(f\"answer 75/100분위:  {percentile75:7.2f}\")\n",
    "print(f\"answer IQR:        {percentileIQR:7.2f}\")\n",
    "print(f\"answer MAX/100분위: {percentileMAX:7.2f}\")"
   ]
  },
  {
   "cell_type": "code",
   "execution_count": 45,
   "id": "forward-drunk",
   "metadata": {},
   "outputs": [
    {
     "data": {
      "image/png": "[encoded data removed]",
      "text/plain": [
       "<Figure size 288x432 with 1 Axes>"
      ]
     },
     "metadata": {
      "needs_background": "light"
     },
     "output_type": "display_data"
    }
   ],
   "source": [
    "plt.figure(figsize=(4, 6))\n",
    "# 박스플롯 생성\n",
    "# 첫번째 파라메터: 여러 분포에 대한 데이터 리스트를\n",
    "# labels: 입력한 데이터에 대한 라벨\n",
    "# showmeans: 평균값을 표현\n",
    "# 참고: https://leebaro.tistory.com/entry/%EB%B0%95%EC%8A%A4-%ED%94%8C%EB%A1%AFbox-plot-%EC%84%A4%EB%AA%85\n",
    "plt.boxplot(train_answer_starts, labels=['token counts'], showmeans=True)\n",
    "plt.show()"
   ]
  },
  {
   "cell_type": "markdown",
   "id": "double-pocket",
   "metadata": {},
   "source": [
    "KorQuAD 데이터셋 전처리 (8) 데이터 분석 : Word Cloud\n",
    "---\n",
    "워드 클라우드(Word Cloud)란 자료의 빈도수를 시각화해서 나타내는 방법입니다. 문서의 핵심 단어를 한눈에 파악할 수 있고, 빅데이터를 분석할 때 데이터의 특징을 도출하기 위해서 활용됩니다. 빈도수가 높은 단어일수록 글씨 크기가 큰 특징이 있습니다. 아래 코드를 실행 시켜 워드 클라우드를 확인해봅시다."
   ]
  },
  {
   "cell_type": "code",
   "execution_count": 46,
   "id": "wrapped-malawi",
   "metadata": {},
   "outputs": [
    {
     "data": {
      "application/vnd.jupyter.widget-view+json": {
       "model_id": "a0699b18885746328682a8b9bf3a689e",
       "version_major": 2,
       "version_minor": 0
      },
      "text/plain": [
       "  0%|          | 0/1420 [00:00<?, ?it/s]"
      ]
     },
     "metadata": {},
     "output_type": "display_data"
    },
    {
     "data": {
      "text/plain": [
       "['파우스트_서곡',\n",
       " '1839년 바그너는 괴테의 파우스트을 처음 읽고 그 내용에 마음이 끌려 이를 소재로 해서 하나의 교향곡을 쓰려는 뜻을 갖는다. 이 시기 바그너는 1838년에 빛 독촉으로 산전수전을 다 걲은 상황이라 좌절과 실망에 가득했으며 메피스토펠레스를 만나는 파우스트의 심경에 공감했다고 한다. 또한 파리에서 아브네크의 지휘로 파리 음악원 관현악단이 연주하는 베토벤의 교향곡 9번을 듣고 깊은 감명을 받았는데, 이것이 이듬해 1월에 파우스트의 서곡으로 쓰여진 이 작품에 조금이라도 영향을 끼쳤으리라는 것은 의심할 여지가 없다. 여기의 라단조 조성의 경우에도 그의 전기에 적혀 있는 것처럼 단순한 정신적 피로나 실의가 반영된 것이 아니라 베토벤의 합창교향곡 조성의 영향을 받은 것을 볼 수 있다. 그렇게 교향곡 작곡을 1839년부터 40년에 걸쳐 파리에서 착수했으나 1악장을 쓴 뒤에 중단했다. 또한 작품의 완성과 동시에 그는 이 서곡(1악장)을 파리 음악원의 연주회에서 연주할 파트보까지 준비하였으나, 실제로는 이루어지지는 않았다. 결국 초연은 4년 반이 지난 후에 드레스덴에서 연주되었고 재연도 이루어졌지만, 이후에 그대로 방치되고 말았다. 그 사이에 그는 리엔치와 방황하는 네덜란드인을 완성하고 탄호이저에도 착수하는 등 분주한 시간을 보냈는데, 그런 바쁜 생활이 이 곡을 잊게 한 것이 아닌가 하는 의견도 있다.',\n",
       " '바그너는 괴테의 파우스트를 읽고 무엇을 쓰고자 했는가?',\n",
       " '바그너는 교향곡 작곡을 어디까지 쓴 뒤에 중단했는가?',\n",
       " '바그너가 파우스트 서곡을 쓸 때 어떤 곡의 영향을 받았는가?',\n",
       " '1839년 바그너가 교향곡의 소재로 쓰려고 했던 책은?',\n",
       " '파우스트 서곡의 라단조 조성이 영향을 받은 베토벤의 곡은?',\n",
       " '바그너가 파우스트를 처음으로 읽은 년도는?',\n",
       " '바그너가 처음 교향곡 작곡을 한 장소는?',\n",
       " '바그너의 1악장의 초연은 어디서 연주되었는가?']"
      ]
     },
     "execution_count": 46,
     "metadata": {},
     "output_type": "execute_result"
    }
   ],
   "source": [
    "# train documents\n",
    "documents = []\n",
    "\n",
    "# 전체 데이터에서 title, context, question 문장을 모두 추출합니다. \n",
    "for data in tqdm(train_json[\"data\"]):\n",
    "    title = data[\"title\"]\n",
    "    documents.append(title)\n",
    "    for paragraph in data[\"paragraphs\"]:\n",
    "        context = paragraph[\"context\"]\n",
    "        documents.append(context)\n",
    "\n",
    "        for qa in paragraph[\"qas\"]:\n",
    "            assert len(qa[\"answers\"]) == 1\n",
    "            question = qa[\"question\"]\n",
    "            documents.append(question)\n",
    "\n",
    "documents[:10]   # 그중 맨 앞 10개만 확인해 봅니다."
   ]
  },
  {
   "cell_type": "code",
   "execution_count": 47,
   "id": "greek-kidney",
   "metadata": {},
   "outputs": [
    {
     "data": {
      "text/plain": [
       "'파우스트_서곡 1839년 바그너는 괴테의 파우스트을 처음 읽고 그 내용에 마음이 끌려 이를 소재로 해서 하나의 교향곡을 쓰려는 뜻을 갖는다. 이 시기 바그너는 1838년에 빛 독촉으로 산전수전을 다 걲은 상황이라 좌절과 실망에 가득했으며 메피스토펠레스를 만나는 파우스트의 심경에 공감했다고 한다. 또한 파리에서 아브네크의 지휘로 파리 음악원 관현악단이 연주하는 베토벤의 교향곡 9번을 듣고 깊은 감명을 받았는데, 이것이 이듬해 1월에 파우스트의 서곡으로 쓰여진 이 작품에 조금이라도 영향을 끼쳤으리라는 것은 의심할 여지가 없다. 여기의 라단조 조성의 경우에도 그의 전기에 적혀 있는 것처럼 단순한 정신적 피로나 실의가 반영된 것이 아니라 베토벤의 합창교향곡 조성의 영향을 받은 것을 볼 수 있다. 그렇게 교향곡 작곡을 1839년부터 40년에 걸쳐 파리에서 착수했으나 1악장을 쓴 뒤에 중단했다. 또한 작품의 완성과 동시에 그는 이 서곡(1악장)을 파리 음악원의 연주회에서 연주할 파트보까지 준비하였으나, 실제로는 이루어지지는 않았다. 결국 초연은 4년 반이 지난 후에 드레스덴에서 연주되었고 재연도 이루어졌지만, 이후에 그대로 방치되고 말았다. 그 사이에 그는 리엔치와 방황하는 네덜란드인을 완성하고 탄호이저에도 착수하는 등 분주한 시간을 보냈는데, 그런 바쁜 생활이 이 곡을 잊게 한 것이 아닌가 하는 의견도 있다. 바그너는 괴테의 파우스트를 읽고 무엇을 쓰고자 했는가? 바그너는 교향곡 작곡을 어디까지 쓴 뒤에 중단했는가? 바그너가 파우스트 서곡을 쓸 때 어떤 곡의 영향을 받았는가? 1839년 바그너가 교향곡의 소재로 쓰려고 했던 책은? 파우스트 서곡의 라단조 조성이 영향을 받은 베토벤의 곡은? 바그너가 파우스트를 처음으로 읽은 년도는? 바그너가 처음 교향곡 작곡을 한 장소는? 바그너의 1악장의 초연은 어디서 연주되었는가?'"
      ]
     },
     "execution_count": 47,
     "metadata": {},
     "output_type": "execute_result"
    }
   ],
   "source": [
    "# documents를 전부 이어 하나의 문장으로 만들면 이렇게 보입니다. \n",
    "\" \".join(documents[:10])"
   ]
  },
  {
   "cell_type": "code",
   "execution_count": 48,
   "id": "bizarre-windows",
   "metadata": {},
   "outputs": [
    {
     "data": {
      "image/png": "[encoded data removed]",
      "text/plain": [
       "<Figure size 720x720 with 1 Axes>"
      ]
     },
     "metadata": {
      "needs_background": "light"
     },
     "output_type": "display_data"
    }
   ],
   "source": [
    "# WordCloud로 \" \".join(documents)를 처리해 봅니다. \n",
    "wordcloud = WordCloud(width=800, height=800, font_path='/usr/share/fonts/truetype/nanum/NanumBarunGothic.ttf').generate(\" \".join(documents))\n",
    "plt.figure(figsize=(10, 10))\n",
    "# image 출력, interpolation 이미지 시각화 옵션\n",
    "plt.imshow(wordcloud, interpolation='bilinear')\n",
    "plt.axis('off')\n",
    "plt.show()"
   ]
  },
  {
   "cell_type": "markdown",
   "id": "productive-exclusive",
   "metadata": {},
   "source": [
    "KorQuAD 데이터셋 전처리 (9) 데이터 로드\n",
    "---\n",
    "지금까지 만든 데이터셋을 메모리에 로드합니다."
   ]
  },
  {
   "cell_type": "code",
   "execution_count": 49,
   "id": "overhead-december",
   "metadata": {},
   "outputs": [],
   "source": [
    "train_json = os.path.join(data_dir, \"korquad_train.json\")\n",
    "dev_json = os.path.join(data_dir, \"korquad_dev.json\")"
   ]
  },
  {
   "cell_type": "code",
   "execution_count": 50,
   "id": "manufactured-nightlife",
   "metadata": {},
   "outputs": [
    {
     "data": {
      "text/plain": [
       "{'max_seq_length': 384, 'max_query_length': 64}"
      ]
     },
     "execution_count": 50,
     "metadata": {},
     "output_type": "execute_result"
    }
   ],
   "source": [
    "class Config(dict):\n",
    "    \"\"\"\n",
    "    json을 config 형태로 사용하기 위한 Class\n",
    "    :param dict: config dictionary\n",
    "    \"\"\"\n",
    "    __getattr__ = dict.__getitem__\n",
    "    __setattr__ = dict.__setitem__\n",
    "\n",
    "\n",
    "args = Config({\n",
    "    'max_seq_length': 384,\n",
    "    'max_query_length': 64,\n",
    "})\n",
    "args"
   ]
  },
  {
   "cell_type": "code",
   "execution_count": 51,
   "id": "behavioral-calcium",
   "metadata": {},
   "outputs": [],
   "source": [
    "# 생성한 데이터셋 파일을 메모리에 로딩하는 함수\n",
    "def load_data(args, filename):\n",
    "    inputs, segments, labels_start, labels_end = [], [], [], []\n",
    "\n",
    "    n_discard = 0\n",
    "    with open(filename, \"r\") as f:\n",
    "        for i, line in enumerate(tqdm(f, desc=f\"Loading ...\")):\n",
    "            data = json.loads(line)\n",
    "            token_start = data.get(\"token_start\")\n",
    "            token_end = data.get(\"token_end\")\n",
    "            question = data[\"question\"][:args.max_query_length]\n",
    "            context = data[\"context\"]\n",
    "            answer_tokens = \" \".join(context[token_start:token_end + 1])\n",
    "            context_len = args.max_seq_length - len(question) - 3\n",
    "\n",
    "            if token_end >= context_len:\n",
    "                # 최대 길이내에 token이 들어가지 않은 경우 처리하지 않음\n",
    "                n_discard += 1\n",
    "                continue\n",
    "            context = context[:context_len]\n",
    "            assert len(question) + len(context) <= args.max_seq_length - 3\n",
    "\n",
    "            tokens = ['[CLS]'] + question + ['[SEP]'] + context + ['[SEP]']\n",
    "            ids = [vocab.piece_to_id(token) for token in tokens]\n",
    "            ids += [0] * (args.max_seq_length - len(ids))\n",
    "            inputs.append(ids)\n",
    "            segs = [0] * (len(question) + 2) + [1] * (len(context) + 1)\n",
    "            segs += [0] * (args.max_seq_length - len(segs))\n",
    "            segments.append(segs)\n",
    "            token_start += (len(question) + 2)\n",
    "            labels_start.append(token_start)\n",
    "            token_end += (len(question) + 2)\n",
    "            labels_end.append(token_end)\n",
    "    print(f'n_discard: {n_discard}')\n",
    "\n",
    "    return (np.array(inputs), np.array(segments)), (np.array(labels_start), np.array(labels_end))"
   ]
  },
  {
   "cell_type": "code",
   "execution_count": 52,
   "id": "sacred-david",
   "metadata": {},
   "outputs": [
    {
     "data": {
      "application/vnd.jupyter.widget-view+json": {
       "model_id": "a111226fa1664bf8852f060f261e5359",
       "version_major": 2,
       "version_minor": 0
      },
      "text/plain": [
       "Loading ...: 0it [00:00, ?it/s]"
      ]
     },
     "metadata": {},
     "output_type": "display_data"
    },
    {
     "name": "stdout",
     "output_type": "stream",
     "text": [
      "n_discard: 430\n",
      "train_inputs: (59977, 384)\n",
      "train_inputs: (59977, 384)\n",
      "train_labels: (59977,)\n",
      "train_labels: (59977,)\n"
     ]
    },
    {
     "data": {
      "application/vnd.jupyter.widget-view+json": {
       "model_id": "42adfdb189de43d48d34746189b2c5d3",
       "version_major": 2,
       "version_minor": 0
      },
      "text/plain": [
       "Loading ...: 0it [00:00, ?it/s]"
      ]
     },
     "metadata": {},
     "output_type": "display_data"
    },
    {
     "name": "stdout",
     "output_type": "stream",
     "text": [
      "n_discard: 78\n",
      "dev_inputs: (5696, 384)\n",
      "dev_inputs: (5696, 384)\n",
      "dev_labels: (5696,)\n",
      "dev_labels: (5696,)\n"
     ]
    },
    {
     "data": {
      "text/plain": [
       "((array([[    5, 15798,    10, ...,     0,     0,     0],\n",
       "         [    5, 15798,    10, ...,     0,     0,     0],\n",
       "         [    5, 15798,    19, ...,     0,     0,     0],\n",
       "         ...,\n",
       "         [    5, 21666,    19, ...,     0,     0,     0],\n",
       "         [    5,   964, 16865, ...,     0,     0,     0],\n",
       "         [    5,   365,    15, ...,     0,     0,     0]]),\n",
       "  array([[0, 0, 0, ..., 0, 0, 0],\n",
       "         [0, 0, 0, ..., 0, 0, 0],\n",
       "         [0, 0, 0, ..., 0, 0, 0],\n",
       "         ...,\n",
       "         [0, 0, 0, ..., 0, 0, 0],\n",
       "         [0, 0, 0, ..., 0, 0, 0],\n",
       "         [0, 0, 0, ..., 0, 0, 0]])),\n",
       " (array([ 37, 184,  98, ...,  74, 190,  35]),\n",
       "  array([ 37, 185, 102, ...,  75, 191,  44])))"
      ]
     },
     "execution_count": 52,
     "metadata": {},
     "output_type": "execute_result"
    }
   ],
   "source": [
    "# train data load\n",
    "train_inputs, train_labels = load_data(args, train_json)\n",
    "print(f\"train_inputs: {train_inputs[0].shape}\")\n",
    "print(f\"train_inputs: {train_inputs[1].shape}\")\n",
    "print(f\"train_labels: {train_labels[0].shape}\")\n",
    "print(f\"train_labels: {train_labels[1].shape}\")\n",
    "\n",
    "# dev data load\n",
    "dev_inputs, dev_labels = load_data(args, dev_json)\n",
    "print(f\"dev_inputs: {dev_inputs[0].shape}\")\n",
    "print(f\"dev_inputs: {dev_inputs[1].shape}\")\n",
    "print(f\"dev_labels: {dev_labels[0].shape}\")\n",
    "print(f\"dev_labels: {dev_labels[1].shape}\")\n",
    "\n",
    "train_inputs[:10], train_labels[:10]"
   ]
  },
  {
   "cell_type": "code",
   "execution_count": 53,
   "id": "solar-beginning",
   "metadata": {},
   "outputs": [
    {
     "data": {
      "text/plain": [
       "array([    5, 15798,    10, 28935,     9,    11, 29566,    20, 14604,\n",
       "       20424,  3904,    70,    11,  4648,    10,    19,  1910,     4,\n",
       "       22070,    15, 15798,    10, 28935,     9,    11, 29566,    16,\n",
       "         626, 14604,    38, 14028, 11773, 13829,   384,  8376,  3021,\n",
       "        1239,  6874,    16,  1687,  5958,  2694,  5061,     7,    30,\n",
       "        1613, 15798,    10, 28065,    75,  4415,  1816,  4978,    27,\n",
       "         347,   145,   107,  2703,   263,    11,     1,    18,  5853,\n",
       "          99,  9677,    24, 11969,    13,  7595,   437,  1019,  5907,\n",
       "         257,  3794,  1972,    20, 11278,    11, 29566,     9,   612,\n",
       "       12631, 13214,  1732,    76,     7,   110,  8802, 17581,   354,\n",
       "        9648,  2060,    21,  1682, 22110, 18164,    17, 21076, 14980,\n",
       "           9,  6874,    81, 11325,  4239,  3597,  1010,  1035, 17670,\n",
       "           8,  2447,  1306,    35,   443,    11, 29566,     9,   315,\n",
       "       12729, 14457,    30,  7938,  3742, 10766,   634,  9971, 17590,\n",
       "       19424,    10,   285,  4080,    61, 17573,   483,     7,  7588,\n",
       "           9,   473,   338,   147,  1924,     9, 11016,   136,  1034,\n",
       "          13, 11672,    40,  3436,  5217,  7898, 11684,    57,   830,\n",
       "           9,    19,  3319,    86,   220,   464, 14980,     9, 20515,\n",
       "         412,   991,   684,  1924,     9,   634,   920,   144,   430,\n",
       "          34,    25,     7,  4210,  6874,  2150,    16, 22070,   298,\n",
       "        1159,    75,  1098,  8802,  7490,   805,    35, 18678,    16,\n",
       "        1657,  1970,  2272,    53,     7,   110,  6559,  2178,    24,\n",
       "         756,    82,    30,   315,   684,  3772, 18678,    12,    16,\n",
       "        1682, 22110,     9, 22469,    22,  1757,    61,  8817,   194,\n",
       "         164,  1693,   749,     8,  6739, 12202,    10,   494,     7,\n",
       "         502, 12181,    18,    46,    15,   374,    17,  1680,   708,\n",
       "       26344,    22,  1757,   432,   465,   351,    32, 18563,   710,\n",
       "           8,  2585,  1384, 16071,   265,  3360,     7,    38,   747,\n",
       "          82,   383,   678,   200,    26,   590,  1281,    41,  1172,\n",
       "          31,    16,  2178,    43,  3044,   156,    17,   647,   468,\n",
       "        7490,    41,    84,   758,    92,    33,  3401,   369, 18319,\n",
       "           8,  2582, 29798,  1102,    17,    30,  4573, 11170,   139,\n",
       "          58,   220,   773,    19,   211, 23824,    25,     7,     4,\n",
       "           0,     0,     0,     0,     0,     0,     0,     0,     0,\n",
       "           0,     0,     0,     0,     0,     0,     0,     0,     0,\n",
       "           0,     0,     0,     0,     0,     0,     0,     0,     0,\n",
       "           0,     0,     0,     0,     0,     0,     0,     0,     0,\n",
       "           0,     0,     0,     0,     0,     0,     0,     0,     0,\n",
       "           0,     0,     0,     0,     0,     0,     0,     0,     0,\n",
       "           0,     0,     0,     0,     0,     0,     0,     0,     0,\n",
       "           0,     0,     0,     0,     0,     0,     0,     0,     0,\n",
       "           0,     0,     0,     0,     0,     0,     0,     0,     0,\n",
       "           0,     0,     0,     0,     0,     0])"
      ]
     },
     "execution_count": 53,
     "metadata": {},
     "output_type": "execute_result"
    }
   ],
   "source": [
    "# Question과 Context가 포함된 입력데이터 1번째\n",
    "train_inputs[0][0]"
   ]
  },
  {
   "cell_type": "code",
   "execution_count": 54,
   "id": "minor-softball",
   "metadata": {},
   "outputs": [
    {
     "data": {
      "text/plain": [
       "array([0, 0, 0, 0, 0, 0, 0, 0, 0, 0, 0, 0, 0, 0, 0, 0, 0, 0, 1, 1, 1, 1,\n",
       "       1, 1, 1, 1, 1, 1, 1, 1, 1, 1, 1, 1, 1, 1, 1, 1, 1, 1, 1, 1, 1, 1,\n",
       "       1, 1, 1, 1, 1, 1, 1, 1, 1, 1, 1, 1, 1, 1, 1, 1, 1, 1, 1, 1, 1, 1,\n",
       "       1, 1, 1, 1, 1, 1, 1, 1, 1, 1, 1, 1, 1, 1, 1, 1, 1, 1, 1, 1, 1, 1,\n",
       "       1, 1, 1, 1, 1, 1, 1, 1, 1, 1, 1, 1, 1, 1, 1, 1, 1, 1, 1, 1, 1, 1,\n",
       "       1, 1, 1, 1, 1, 1, 1, 1, 1, 1, 1, 1, 1, 1, 1, 1, 1, 1, 1, 1, 1, 1,\n",
       "       1, 1, 1, 1, 1, 1, 1, 1, 1, 1, 1, 1, 1, 1, 1, 1, 1, 1, 1, 1, 1, 1,\n",
       "       1, 1, 1, 1, 1, 1, 1, 1, 1, 1, 1, 1, 1, 1, 1, 1, 1, 1, 1, 1, 1, 1,\n",
       "       1, 1, 1, 1, 1, 1, 1, 1, 1, 1, 1, 1, 1, 1, 1, 1, 1, 1, 1, 1, 1, 1,\n",
       "       1, 1, 1, 1, 1, 1, 1, 1, 1, 1, 1, 1, 1, 1, 1, 1, 1, 1, 1, 1, 1, 1,\n",
       "       1, 1, 1, 1, 1, 1, 1, 1, 1, 1, 1, 1, 1, 1, 1, 1, 1, 1, 1, 1, 1, 1,\n",
       "       1, 1, 1, 1, 1, 1, 1, 1, 1, 1, 1, 1, 1, 1, 1, 1, 1, 1, 1, 1, 1, 1,\n",
       "       1, 1, 1, 1, 1, 1, 1, 1, 1, 1, 1, 1, 1, 1, 1, 1, 1, 1, 1, 1, 1, 1,\n",
       "       1, 1, 1, 1, 1, 1, 1, 1, 1, 1, 1, 0, 0, 0, 0, 0, 0, 0, 0, 0, 0, 0,\n",
       "       0, 0, 0, 0, 0, 0, 0, 0, 0, 0, 0, 0, 0, 0, 0, 0, 0, 0, 0, 0, 0, 0,\n",
       "       0, 0, 0, 0, 0, 0, 0, 0, 0, 0, 0, 0, 0, 0, 0, 0, 0, 0, 0, 0, 0, 0,\n",
       "       0, 0, 0, 0, 0, 0, 0, 0, 0, 0, 0, 0, 0, 0, 0, 0, 0, 0, 0, 0, 0, 0,\n",
       "       0, 0, 0, 0, 0, 0, 0, 0, 0, 0])"
      ]
     },
     "execution_count": 54,
     "metadata": {},
     "output_type": "execute_result"
    }
   ],
   "source": [
    "# Question을 0으로, Context를 1로 구분해 준 Segment 데이터 1번째\n",
    "train_inputs[1][0]"
   ]
  },
  {
   "cell_type": "code",
   "execution_count": 55,
   "id": "worth-summary",
   "metadata": {},
   "outputs": [
    {
     "data": {
      "text/plain": [
       "(37, 37)"
      ]
     },
     "execution_count": 55,
     "metadata": {},
     "output_type": "execute_result"
    }
   ],
   "source": [
    "# Answer위치의 시작점과 끝점 라벨 1번째\n",
    "train_labels[0][0], train_labels[1][0]"
   ]
  },
  {
   "cell_type": "code",
   "execution_count": null,
   "id": "painted-robin",
   "metadata": {},
   "outputs": [],
   "source": []
  }
 ],
 "metadata": {
  "kernelspec": {
   "display_name": "aiffel",
   "language": "python",
   "name": "aiffel"
  },
  "language_info": {
   "codemirror_mode": {
    "name": "ipython",
    "version": 3
   },
   "file_extension": ".py",
   "mimetype": "text/x-python",
   "name": "python",
   "nbconvert_exporter": "python",
   "pygments_lexer": "ipython3",
   "version": "3.7.9"
  }
 },
 "nbformat": 4,
 "nbformat_minor": 5
}
